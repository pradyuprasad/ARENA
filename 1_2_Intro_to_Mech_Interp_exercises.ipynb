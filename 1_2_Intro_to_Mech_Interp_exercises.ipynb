{
  "cells": [
    {
      "cell_type": "markdown",
      "metadata": {
        "id": "view-in-github",
        "colab_type": "text"
      },
      "source": [
        "<a href=\"https://colab.research.google.com/github/pradyuprasad/ARENA/blob/main/1_2_Intro_to_Mech_Interp_exercises.ipynb\" target=\"_parent\"><img src=\"https://colab.research.google.com/assets/colab-badge.svg\" alt=\"Open In Colab\"/></a>"
      ]
    },
    {
      "cell_type": "markdown",
      "metadata": {
        "id": "4CrBuQz4Rp6V"
      },
      "source": [
        "# [1.2] Intro to Mechanistic Interpretability: TransformerLens & induction circuits (exercises)\n",
        "\n",
        "> **ARENA [Streamlit Page](https://arena-chapter1-transformer-interp.streamlit.app/02_[1.2]_Intro_to_Mech_Interp)**\n",
        ">\n",
        "> **Colab: [exercises](https://colab.research.google.com/github/callummcdougall/ARENA_3.0/blob/main/chapter1_transformer_interp/exercises/part2_intro_to_mech_interp/1.2_Intro_to_Mech_Interp_exercises.ipynb?t=20250127) | [solutions](https://colab.research.google.com/github/callummcdougall/ARENA_3.0/blob/main/chapter1_transformer_interp/exercises/part2_intro_to_mech_interp/1.2_Intro_to_Mech_Interp_solutions.ipynb?t=20250127)**\n",
        "\n",
        "Please send any problems / bugs on the `#errata` channel in the [Slack group](https://join.slack.com/t/arena-uk/shared_invite/zt-2noug8mpy-TRYbCnc3pzj7ITNrZIjKww), and ask any questions on the dedicated channels for this chapter of material.\n",
        "\n",
        "You can collapse each section so only the headers are visible, by clicking the arrow symbol on the left hand side of the markdown header cells.\n",
        "\n",
        "Links to all other chapters: [(0) Fundamentals](https://arena-chapter0-fundamentals.streamlit.app/), [(1) Transformer Interpretability](https://arena-chapter1-transformer-interp.streamlit.app/), [(2) RL](https://arena-chapter2-rl.streamlit.app/)."
      ]
    },
    {
      "cell_type": "markdown",
      "metadata": {
        "id": "lU-hS3VRRp6a"
      },
      "source": [
        "<img src=\"https://raw.githubusercontent.com/info-arena/ARENA_img/main/misc/headers/header-12.png\" width=\"350\">"
      ]
    },
    {
      "cell_type": "markdown",
      "metadata": {
        "id": "RYAc88XXRp6b"
      },
      "source": [
        "# Introduction"
      ]
    },
    {
      "cell_type": "markdown",
      "metadata": {
        "id": "MRZ2pc1JRp6e"
      },
      "source": [
        "These pages are designed to get you introduced to the core concepts of mechanistic interpretability, via Neel Nanda's **TransformerLens** library.\n",
        "\n",
        "Most of the sections are constructed in the following way:\n",
        "\n",
        "1. A particular feature of TransformerLens is introduced.\n",
        "2. You are given an exercise, in which you have to apply the feature.\n",
        "\n",
        "The running theme of the exercises is **induction circuits**. Induction circuits are a particular type of circuit in a transformer, which can perform basic in-context learning. You should read the [corresponding section of Neel's glossary](https://dynalist.io/d/n2ZWtnoYHrU1s4vnFSAQ519J#z=_Jzi6YHRHKP1JziwdE02qdYZ), before continuing. This [LessWrong post](https://www.lesswrong.com/posts/TvrfY4c9eaGLeyDkE/induction-heads-illustrated) might also help; it contains some diagrams (like the one below) which walk through the induction mechanism step by step.\n",
        "\n",
        "Each exercise will have a difficulty and importance rating out of 5, as well as an estimated maximum time you should spend on these exercises and sometimes a short annotation. You should interpret the ratings & time estimates relatively (e.g. if you find yourself spending about 50% longer on the exercises than the time estimates, adjust accordingly). Please do skip exercises / look at solutions if you don't feel like they're important enough to be worth doing, and you'd rather get to the good stuff!"
      ]
    },
    {
      "cell_type": "markdown",
      "metadata": {
        "id": "Caj-PLO7Rp6e"
      },
      "source": [
        "<img src=\"https://raw.githubusercontent.com/info-arena/ARENA_img/main/misc/kcomp_diagram.png\" width=\"1000\">"
      ]
    },
    {
      "cell_type": "markdown",
      "metadata": {
        "id": "KYqhUpsqRp6e"
      },
      "source": [
        "## Content & Learning Objectives\n",
        "\n",
        "### 1️⃣ TransformerLens: Introduction\n",
        "\n",
        "This section is designed to get you up to speed with the TransformerLens library. You'll learn how to load and run models, and learn about the shared architecture template for all of these models (the latter of which should be familiar to you if you've already done the exercises that come before these, since many of the same design principles are followed).\n",
        "\n",
        "> ##### Learning Objectives\n",
        ">\n",
        "> - Load and run a `HookedTransformer` model\n",
        "> - Understand the basic architecture of these models\n",
        "> - Use the model's tokenizer to convert text to tokens, and vice versa\n",
        "> - Know how to cache activations, and to access activations from the cache\n",
        "> - Use `circuitsvis` to visualise attention heads\n",
        "\n",
        "### 2️⃣ Finding induction heads\n",
        "\n",
        "Here, you'll learn about induction heads, how they work and why they are important. You'll also learn how to identify them from the characteristic induction head stripe in their attention patterns when the model input is a repeating sequence.\n",
        "\n",
        "> ##### Learning Objectives\n",
        ">\n",
        "> - Understand what induction heads are, and the algorithm they are implementing\n",
        "> - Inspect activation patterns to identify basic attention head patterns, and write your own functions to detect attention heads for you\n",
        "> - Identify induction heads by looking at the attention patterns produced from a repeating random sequence\n",
        "\n",
        "### 3️⃣ TransformerLens: Hooks\n",
        "\n",
        "Next, you'll learn about hooks, which are a great feature of TransformerLens allowing you to access and intervene on activations within the model. We will mainly focus on the basics of hooks and using them to access activations (we'll mainly save the causal interventions for the later IOI exercises). You will also build some tools to perform logit attribution within your model, so you can identify which components are responsible for your model's performance on certain tasks.\n",
        "\n",
        "> ##### Learning Objectives\n",
        ">\n",
        "> - Understand what hooks are, and how they are used in TransformerLens\n",
        "> - Use hooks to access activations, process the results, and write them to an external tensor\n",
        "> - Build tools to perform attribution, i.e. detecting which components of your model are responsible for performance on a given task\n",
        "> - Understand how hooks can be used to perform basic interventions like **ablation**\n",
        "\n",
        "### 4️⃣ Reverse-engineering induction circuits\n",
        "\n",
        "Lastly, these exercises show you how you can reverse-engineer a circuit by looking directly at a transformer's weights (which can be considered a \"gold standard\" of interpretability; something not possible in every situation). You'll examine QK and OV circuits by multiplying through matrices (and learn how the FactoredMatrix class makes matrices like these much easier to analyse). You'll also look for evidence of composition between two induction heads, and once you've found it then you'll investigate the functionality of the full circuit formed from this composition.\n",
        "\n",
        "> ##### Learning Objectives\n",
        ">\n",
        "> - Understand the difference between investigating a circuit by looking at activtion patterns, and reverse-engineering a circuit by looking directly at the weights\n",
        "> - Use the factored matrix class to inspect the QK and OV circuits within an induction circuit\n",
        "> - Perform further exploration of induction circuits: composition scores, and targeted ablations"
      ]
    },
    {
      "cell_type": "markdown",
      "metadata": {
        "id": "Catz_Jl3Rp6f"
      },
      "source": [
        "## Setup code"
      ]
    },
    {
      "cell_type": "code",
      "execution_count": 52,
      "metadata": {
        "id": "FwP8in1fRp6g"
      },
      "outputs": [],
      "source": [
        "import os\n",
        "import sys\n",
        "from pathlib import Path\n",
        "\n",
        "import pkg_resources\n",
        "\n",
        "IN_COLAB = \"google.colab\" in sys.modules\n",
        "\n",
        "chapter = \"chapter1_transformer_interp\"\n",
        "repo = \"ARENA_3.0\"\n",
        "branch = \"main\"\n",
        "\n",
        "# Install dependencies\n",
        "installed_packages = [pkg.key for pkg in pkg_resources.working_set]\n",
        "if \"transformer-lens\" not in installed_packages:\n",
        "    %pip install transformer_lens einops eindex-callum jaxtyping git+https://github.com/callummcdougall/CircuitsVis.git#subdirectory=python\n",
        "\n",
        "# Get root directory, handling 3 different cases: (1) Colab, (2) notebook not in ARENA repo, (3) notebook in ARENA repo\n",
        "root = (\n",
        "    \"/content\"\n",
        "    if IN_COLAB\n",
        "    else \"/root\"\n",
        "    if repo not in os.getcwd()\n",
        "    else str(next(p for p in Path.cwd().parents if p.name == repo))\n",
        ")\n",
        "\n",
        "if Path(root).exists() and not Path(f\"{root}/{chapter}\").exists():\n",
        "    if not IN_COLAB:\n",
        "        !sudo apt-get install unzip\n",
        "        %pip install jupyter ipython --upgrade\n",
        "\n",
        "    if not os.path.exists(f\"{root}/{chapter}\"):\n",
        "        !wget -P {root} https://github.com/callummcdougall/ARENA_3.0/archive/refs/heads/{branch}.zip\n",
        "        !unzip {root}/{branch}.zip '{repo}-{branch}/{chapter}/exercises/*' -d {root}\n",
        "        !mv {root}/{repo}-{branch}/{chapter} {root}/{chapter}\n",
        "        !rm {root}/{branch}.zip\n",
        "        !rmdir {root}/ARENA_3.0-{branch}\n",
        "\n",
        "\n",
        "if f\"{root}/{chapter}/exercises\" not in sys.path:\n",
        "    sys.path.append(f\"{root}/{chapter}/exercises\")\n",
        "\n",
        "os.chdir(f\"{root}/{chapter}/exercises\")"
      ]
    },
    {
      "cell_type": "code",
      "execution_count": 53,
      "metadata": {
        "id": "WchW3TelRp6h"
      },
      "outputs": [],
      "source": [
        "import functools\n",
        "import sys\n",
        "from pathlib import Path\n",
        "from typing import Callable\n",
        "\n",
        "import circuitsvis as cv\n",
        "import einops\n",
        "import numpy as np\n",
        "import torch as t\n",
        "import torch.nn as nn\n",
        "import torch.nn.functional as F\n",
        "from eindex import eindex\n",
        "from IPython.display import display\n",
        "from jaxtyping import Float, Int\n",
        "from torch import Tensor\n",
        "from tqdm import tqdm\n",
        "from transformer_lens import (\n",
        "    ActivationCache,\n",
        "    FactoredMatrix,\n",
        "    HookedTransformer,\n",
        "    HookedTransformerConfig,\n",
        "    utils,\n",
        ")\n",
        "from transformer_lens.hook_points import HookPoint\n",
        "\n",
        "device = t.device(\"mps\" if t.backends.mps.is_available() else \"cuda\" if t.cuda.is_available() else \"cpu\")\n",
        "\n",
        "# Make sure exercises are in the path\n",
        "chapter = \"chapter1_transformer_interp\"\n",
        "section = \"part2_intro_to_mech_interp\"\n",
        "root_dir = next(p for p in Path.cwd().parents if (p / chapter).exists())\n",
        "exercises_dir = root_dir / chapter / \"exercises\"\n",
        "section_dir = exercises_dir / section\n",
        "\n",
        "import part2_intro_to_mech_interp.tests as tests\n",
        "from plotly_utils import hist, imshow, plot_comp_scores, plot_logit_attribution, plot_loss_difference\n",
        "\n",
        "# Saves computation time, since we don't need it for the contents of this notebook\n",
        "t.set_grad_enabled(False)\n",
        "\n",
        "MAIN = __name__ == \"__main__\""
      ]
    },
    {
      "cell_type": "markdown",
      "metadata": {
        "id": "xwFc9R2SRp6i"
      },
      "source": [
        "# 1️⃣ TransformerLens: Introduction\n",
        "\n",
        "> ##### Learning Objectives\n",
        ">\n",
        "> - Load and run a `HookedTransformer` model\n",
        "> - Understand the basic architecture of these models\n",
        "> - Use the model's tokenizer to convert text to tokens, and vice versa\n",
        "> - Know how to cache activations, and to access activations from the cache\n",
        "> - Use `circuitsvis` to visualise attention heads"
      ]
    },
    {
      "cell_type": "markdown",
      "metadata": {
        "id": "m1Y8nRpDRp6i"
      },
      "source": [
        "## Introduction\n",
        "\n",
        "*Note - most of this is written from the POV of Neel Nanda.*\n",
        "\n",
        "This is a demo notebook for [TransformerLens](https://github.com/neelnanda-io/TransformerLens), **a library I ([Neel Nanda](neelnanda.io)) wrote for doing [mechanistic interpretability](https://distill.pub/2020/circuits/zoom-in/) of GPT-2 Style language models.** The goal of mechanistic interpretability is to take a trained model and reverse engineer the algorithms the model learned during training from its weights. It is a fact about the world today that we have computer programs that can essentially speak English at a human level (GPT-3, PaLM, etc), yet we have no idea how they work nor how to write one ourselves. This offends me greatly, and I would like to solve this! Mechanistic interpretability is a very young and small field, and there are a *lot* of open problems - if you would like to help, please try working on one! **Check out my [list of concrete open problems](https://docs.google.com/document/d/1WONBzNqfKIxERejrrPlQMyKqg7jSFW92x5UMXNrMdPo/edit#) to figure out where to start.**\n",
        "\n",
        "I wrote this library because after I left the Anthropic interpretability team and started doing independent research, I got extremely frustrated by the state of open source tooling. There's a lot of excellent infrastructure like HuggingFace and DeepSpeed to *use* or *train* models, but very little to dig into their internals and reverse engineer how they work. **This library tries to solve that**, and to make it easy to get into the field even if you don't work at an industry org with real infrastructure! The core features were heavily inspired by [Anthropic's excellent Garcon tool](https://transformer-circuits.pub/2021/garcon/index.html). Credit to Nelson Elhage and Chris Olah for building Garcon and showing me the value of good infrastructure for accelerating exploratory research!\n",
        "\n",
        "The core design principle I've followed is to enable exploratory analysis - one of the most fun parts of mechanistic interpretability compared to normal ML is the extremely short feedback loops! The point of this library is to keep the gap between having an experiment idea and seeing the results as small as possible, to make it easy for **research to feel like play** and to enter a flow state. This notebook demonstrates how the library works and how to use it, but if you want to see how well it works for exploratory research, check out [my notebook analysing Indirect Objection Identification](https://github.com/neelnanda-io/TransformerLens/blob/main/Exploratory_Analysis_Demo.ipynb) or [my recording of myself doing research](https://www.youtube.com/watch?v=yo4QvDn-vsU)!"
      ]
    },
    {
      "cell_type": "markdown",
      "metadata": {
        "id": "BXSLO68JRp6j"
      },
      "source": [
        "## Loading and Running Models\n",
        "\n",
        "TransformerLens comes loaded with >40 open source GPT-style models. You can load any of them in with `HookedTransformer.from_pretrained(MODEL_NAME)`. For this demo notebook we'll look at GPT-2 Small, an 80M parameter model, see the Available Models section for info on the rest."
      ]
    },
    {
      "cell_type": "code",
      "execution_count": 54,
      "metadata": {
        "id": "neer_0OnRp6j",
        "outputId": "edff763e-a105-4bcd-f5fe-a679d402eabd",
        "colab": {
          "base_uri": "https://localhost:8080/"
        }
      },
      "outputs": [
        {
          "output_type": "stream",
          "name": "stdout",
          "text": [
            "Loaded pretrained model gpt2-small into HookedTransformer\n"
          ]
        }
      ],
      "source": [
        "gpt2_small: HookedTransformer = HookedTransformer.from_pretrained(\"gpt2-small\")"
      ]
    },
    {
      "cell_type": "markdown",
      "metadata": {
        "id": "rHkV2oCBRp6j"
      },
      "source": [
        "### HookedTransformerConfig\n",
        "\n",
        "Alternatively, you can define a config object, then call `HookedTransformer.from_config(cfg)` to define your model. This is particularly useful when you want to have finer control over the architecture of your model. We'll see an example of this in the next section, when we define an attention-only model to study induction heads.\n",
        "\n",
        "Even if you don't define your model in this way, you can still access the config object through the `cfg` attribute of the model."
      ]
    },
    {
      "cell_type": "markdown",
      "metadata": {
        "id": "CvXwIwv4Rp6j"
      },
      "source": [
        "### Exercise - inspect your model\n",
        "\n",
        "> ```yaml\n",
        "> Difficulty: 🔴⚪⚪⚪⚪\n",
        "> Importance: 🔵🔵🔵⚪⚪\n",
        "> ```\n",
        "\n",
        "Use `gpt2_small.cfg` to find the following, for your GPT-2 Small model:\n",
        "\n",
        "* Number of layers\n",
        "* Number of heads per layer\n",
        "* Maximum context window\n",
        "\n",
        "You might have to check out the documentation page for some of these. If you're in VSCode then you can reach it by right-clicking on `HookedTransformerConfig` and choosing \"Go to definition\". If you're in Colab, then you can read the [GitHub page](https://github.com/neelnanda-io/TransformerLens).\n",
        "\n",
        "<details>\n",
        "<summary>Answer</summary>\n",
        "\n",
        "The following parameters in the config object give you the answers:\n",
        "\n",
        "```\n",
        "cfg.n_layers == 12\n",
        "cfg.n_heads == 12\n",
        "cfg.n_ctx == 1024\n",
        "```\n",
        "\n",
        "</details>"
      ]
    },
    {
      "cell_type": "code",
      "source": [
        "print(gpt2_small.cfg)"
      ],
      "metadata": {
        "id": "SkZUbL5ETAR5",
        "outputId": "b7457d7b-dd33-4fb2-8574-ccfef5d2ffaf",
        "colab": {
          "base_uri": "https://localhost:8080/"
        }
      },
      "execution_count": 55,
      "outputs": [
        {
          "output_type": "stream",
          "name": "stdout",
          "text": [
            "HookedTransformerConfig:\n",
            "{'NTK_by_parts_factor': 8.0,\n",
            " 'NTK_by_parts_high_freq_factor': 4.0,\n",
            " 'NTK_by_parts_low_freq_factor': 1.0,\n",
            " 'act_fn': 'gelu_new',\n",
            " 'attention_dir': 'causal',\n",
            " 'attn_only': False,\n",
            " 'attn_scale': 8.0,\n",
            " 'attn_scores_soft_cap': -1.0,\n",
            " 'attn_types': None,\n",
            " 'checkpoint_index': None,\n",
            " 'checkpoint_label_type': None,\n",
            " 'checkpoint_value': None,\n",
            " 'd_head': 64,\n",
            " 'd_mlp': 3072,\n",
            " 'd_model': 768,\n",
            " 'd_vocab': 50257,\n",
            " 'd_vocab_out': 50257,\n",
            " 'decoder_start_token_id': None,\n",
            " 'default_prepend_bos': True,\n",
            " 'device': device(type='cpu'),\n",
            " 'dtype': torch.float32,\n",
            " 'eps': 1e-05,\n",
            " 'experts_per_token': None,\n",
            " 'final_rms': False,\n",
            " 'from_checkpoint': False,\n",
            " 'gated_mlp': False,\n",
            " 'init_mode': 'gpt2',\n",
            " 'init_weights': False,\n",
            " 'initializer_range': 0.02886751345948129,\n",
            " 'load_in_4bit': False,\n",
            " 'model_name': 'gpt2',\n",
            " 'n_ctx': 1024,\n",
            " 'n_devices': 1,\n",
            " 'n_heads': 12,\n",
            " 'n_key_value_heads': None,\n",
            " 'n_layers': 12,\n",
            " 'n_params': 84934656,\n",
            " 'normalization_type': 'LNPre',\n",
            " 'num_experts': None,\n",
            " 'original_architecture': 'GPT2LMHeadModel',\n",
            " 'output_logits_soft_cap': -1.0,\n",
            " 'parallel_attn_mlp': False,\n",
            " 'positional_embedding_type': 'standard',\n",
            " 'post_embedding_ln': False,\n",
            " 'relative_attention_max_distance': None,\n",
            " 'relative_attention_num_buckets': None,\n",
            " 'rotary_adjacent_pairs': False,\n",
            " 'rotary_base': 10000,\n",
            " 'rotary_dim': None,\n",
            " 'scale_attn_by_inverse_layer_idx': False,\n",
            " 'seed': None,\n",
            " 'tie_word_embeddings': False,\n",
            " 'tokenizer_name': 'gpt2',\n",
            " 'tokenizer_prepends_bos': False,\n",
            " 'trust_remote_code': False,\n",
            " 'ungroup_grouped_query_attention': False,\n",
            " 'use_NTK_by_parts_rope': False,\n",
            " 'use_attn_in': False,\n",
            " 'use_attn_result': False,\n",
            " 'use_attn_scale': True,\n",
            " 'use_hook_mlp_in': False,\n",
            " 'use_hook_tokens': False,\n",
            " 'use_local_attn': False,\n",
            " 'use_normalization_before_and_after': False,\n",
            " 'use_split_qkv_input': False,\n",
            " 'window_size': None}\n"
          ]
        }
      ]
    },
    {
      "cell_type": "markdown",
      "metadata": {
        "id": "vOls1UPLRp6j"
      },
      "source": [
        "### Running your model\n",
        "\n",
        "Models can be run on a single string or a tensor of tokens (shape: `[batch, position]`, all integers). The possible return types are:\n",
        "\n",
        "* `\"logits\"` (shape `[batch, position, d_vocab]`, floats),\n",
        "* `\"loss\"` (the cross-entropy loss when predicting the next token),\n",
        "* `\"both\"` (a tuple of `(logits, loss)`)\n",
        "* `None` (run the model, but don't calculate the logits - this is faster when we only want to use intermediate activations)"
      ]
    },
    {
      "cell_type": "code",
      "execution_count": null,
      "metadata": {
        "id": "7Ntw6UfHRp6j",
        "outputId": "6a61d1ac-1445-497c-8be5-336aba1f75b8",
        "colab": {
          "base_uri": "https://localhost:8080/"
        }
      },
      "outputs": [
        {
          "output_type": "stream",
          "name": "stdout",
          "text": [
            "Model loss: tensor(4.3443)\n"
          ]
        }
      ],
      "source": [
        "model_description_text = \"\"\"## Loading Models\n",
        "\n",
        "HookedTransformer comes loaded with >40 open source GPT-style models. You can load any of them in with `HookedTransformer.from_pretrained(MODEL_NAME)`. Each model is loaded into the consistent HookedTransformer architecture, designed to be clean, consistent and interpretability-friendly.\n",
        "\n",
        "For this demo notebook we'll look at GPT-2 Small, an 80M parameter model. To try the model the model out, let's find the loss on this paragraph!\"\"\"\n",
        "\n",
        "loss = gpt2_small(model_description_text, return_type=\"loss\")\n",
        "print(\"Model loss:\", loss)"
      ]
    },
    {
      "cell_type": "markdown",
      "metadata": {
        "id": "PUUGcwvmRp6k"
      },
      "source": [
        "<pre style=\"white-space:pre;overflow-x:auto;line-height:normal;font-family:Menlo,'DejaVu Sans Mono',consolas,'Courier New',monospace\">Model loss: tensor(4.3443, device='cuda:0')</pre>"
      ]
    },
    {
      "cell_type": "markdown",
      "metadata": {
        "id": "G8gQ1HcoRp6k"
      },
      "source": [
        "## Transformer architecture\n",
        "\n",
        "HookedTransformer is a somewhat adapted GPT-2 architecture, but is computationally identical. The most significant changes are to the internal structure of the attention heads:\n",
        "\n",
        "* The weights `W_K`, `W_Q`, `W_V` mapping the residual stream to queries, keys and values are 3 separate matrices, rather than big concatenated one.\n",
        "* The weight matrices `W_K`, `W_Q`, `W_V`, `W_O` and activations have separate `head_index` and `d_head` axes, rather than flattening them into one big axis.\n",
        "    * The activations all have shape `[batch, position, head_index, d_head]`.\n",
        "    * `W_K`, `W_Q`, `W_V` have shape `[head_index, d_model, d_head]` and `W_O` has shape `[head_index, d_head, d_model]`\n",
        "* **Important - we generally follow the convention that weight matrices multiply on the right rather than the left.** In other words, they have shape `[input, output]`, and we have `new_activation = old_activation @ weights + bias`.\n",
        "    * Click the dropdown below for examples of this, if it seems unintuitive.\n",
        "\n",
        "<details>\n",
        "<summary>Examples of matrix multiplication in our model</summary>\n",
        "\n",
        "* **Query matrices**\n",
        "    * Each query matrix `W_Q` for a particular layer and head has shape `[d_model, d_head]`.\n",
        "    * So if a vector `x` in the residual stream has length `d_model`, then the corresponding query vector is `x @ W_Q`, which has length `d_head`.\n",
        "* **Embedding matrix**\n",
        "    * The embedding matrix `W_E` has shape `[d_vocab, d_model]`.\n",
        "    * So if `A` is a one-hot-encoded vector of length `d_vocab` corresponding to a particular token, then the embedding vector for this token is `A @ W_E`, which has length `d_model`.\n",
        "\n",
        "</details>\n",
        "\n",
        "The actual code is a bit of a mess, as there's a variety of Boolean flags to make it consistent with the various different model families in TransformerLens - to understand it and the internal structure, I instead recommend reading the code in [CleanTransformerDemo](https://colab.research.google.com/github/neelnanda-io/TransformerLens/blob/clean-transformer-demo/Clean_Transformer_Demo.ipynb)."
      ]
    },
    {
      "cell_type": "markdown",
      "metadata": {
        "id": "349Hf8WjRp6k"
      },
      "source": [
        "### Parameters and Activations\n",
        "\n",
        "It's important to distinguish between parameters and activations in the model.\n",
        "\n",
        "* **Parameters** are the weights and biases that are learned during training.\n",
        "    * These don't change when the model input changes.\n",
        "    * They can be accessed direction from the model, e.g. `model.W_E` for the embedding matrix.\n",
        "* **Activations** are temporary numbers calculated during a forward pass, that are functions of the input.\n",
        "    * We can think of these values as only existing for the duration of a single forward pass, and disappearing afterwards.\n",
        "    * We can use hooks to access these values during a forward pass (more on hooks later), but it doesn't make sense to talk about a model's activations outside the context of some particular input.\n",
        "    * Attention scores and patterns are activations (this is slightly non-intuitve because they're used in a matrix multiplication with another activation).\n",
        "\n",
        "The link below shows a diagram of a single layer (called a `TransformerBlock`) for an attention-only model with no biases. Each box corresponds to an **activation** (and also tells you the name of the corresponding hook point, which we will eventually use to access those activations). The red text below each box tells you the shape of the activation (ignoring the batch dimension). Each arrow corresponds to an operation on an activation; where there are **parameters** involved these are labelled on the arrows.\n",
        "\n",
        "[Link to diagram](https://raw.githubusercontent.com/info-arena/ARENA_img/main/misc/small-merm.svg)\n",
        "\n",
        "The next link is to a diagram of a `TransformerBlock` with full features (including biases, layernorms, and MLPs). Don't worry if not all of this makes sense at first - we'll return to some of the details later. As we work with these transformers, we'll get more comfortable with their architecture.\n",
        "\n",
        "[Link to diagram](https://raw.githubusercontent.com/info-arena/ARENA_img/main/misc/full-merm.svg)"
      ]
    },
    {
      "cell_type": "markdown",
      "metadata": {
        "id": "R8h2GuTrRp6k"
      },
      "source": [
        "A few shortctus to make your lives easier when using these models:\n",
        "\n",
        "* You can index weights like `W_Q` directly from the model via e.g. `model.blocks[0].attn.W_Q` (which gives you the `[nheads, d_model, d_head]` query weights for all heads in layer 0).\n",
        "    * But an easier way is just to index with `model.W_Q`, which gives you the `[nlayers, nheads, d_model, d_head]` tensor containing **every** query weight in the model.\n",
        "* Similarly, there exist shortcuts `model.W_E`, `model.W_U` and `model.W_pos` for the embeddings, unembeddings and positional embeddings respectively.\n",
        "* With models containing MLP layers, you also have `model.W_in` and `model.W_out` for the linear layers.\n",
        "* The same is true for all biases (e.g. `model.b_Q` for all query biases)."
      ]
    },
    {
      "cell_type": "markdown",
      "metadata": {
        "id": "LOsgcrl5Rp6k"
      },
      "source": [
        "## Tokenization\n",
        "\n",
        "The tokenizer is stored inside the model, and you can access it using `model.tokenizer`. There are also a few helper methods that call the tokenizer under the hood, for instance:\n",
        "\n",
        "* `model.to_str_tokens(text)` converts a string into a list of tokens-as-strings (or a list of strings into a list of lists of tokens-as-strings).\n",
        "* `model.to_tokens(text)` converts a string into a tensor of tokens.\n",
        "* `model.to_string(tokens)` converts a tensor of tokens into a string.\n",
        "\n",
        "Examples of use:"
      ]
    },
    {
      "cell_type": "code",
      "execution_count": null,
      "metadata": {
        "id": "2zaCYmS6Rp6k",
        "outputId": "2a2ba762-f74c-4d10-9ed0-973dfc91aa0f",
        "colab": {
          "base_uri": "https://localhost:8080/"
        }
      },
      "outputs": [
        {
          "output_type": "stream",
          "name": "stdout",
          "text": [
            "['<|endoftext|>', 'g', 'pt', '2']\n",
            "[['<|endoftext|>', 'g', 'pt', '2'], ['<|endoftext|>', 'g', 'pt', '2']]\n",
            "tensor([[50256,    70,   457,    17]])\n",
            "<|endoftext|>gpt2\n"
          ]
        }
      ],
      "source": [
        "print(gpt2_small.to_str_tokens(\"gpt2\"))\n",
        "print(gpt2_small.to_str_tokens([\"gpt2\", \"gpt2\"]))\n",
        "print(gpt2_small.to_tokens(\"gpt2\"))\n",
        "print(gpt2_small.to_string([50256, 70, 457, 17]))"
      ]
    },
    {
      "cell_type": "markdown",
      "metadata": {
        "id": "Srt7_qlaRp6k"
      },
      "source": [
        "<pre style=\"white-space:pre;overflow-x:auto;line-height:normal;font-family:Menlo,'DejaVu Sans Mono',consolas,'Courier New',monospace\">['<|endoftext|>', 'g', 'pt', '2']\n",
        "[['<|endoftext|>', 'g', 'pt', '2'], ['<|endoftext|>', 'g', 'pt', '2']]\n",
        "tensor([[50256,    70,   457,    17]], device='cuda:0')\n",
        "<|endoftext|>gpt2</pre>"
      ]
    },
    {
      "cell_type": "markdown",
      "metadata": {
        "id": "1UU1-524Rp6k"
      },
      "source": [
        "<details>\n",
        "<summary>Aside - <code><|endoftext|></code></summary>\n",
        "\n",
        "A weirdness you may have noticed in the above is that `to_tokens` and `to_str_tokens` added a weird `<|endoftext|>` to the start of each prompt. We encountered this in the previous set of exercises, and noted that this was the **Beginning of Sequence (BOS)** token (which for GPT-2 is also the same as the EOS and PAD tokens - index `50256`.\n",
        "\n",
        "TransformerLens appends this token by default, and it can easily trip up new users. Notably, **this includes** `model.forward` (which is what's implicitly used when you do eg `model(\"Hello World\")`). You can disable this behaviour by setting the flag `prepend_bos=False` in `to_tokens`, `to_str_tokens`, `model.forward` and any other function that converts strings to multi-token tensors.\n",
        "\n",
        "`prepend_bos` is a bit of a hack, and I've gone back and forth on what the correct default here is. The reason I do this is that transformers tend to treat the first token weirdly - this doesn't really matter in training (where all inputs are >1000 tokens), but this can be a big issue when investigating short prompts! The reason for this is that attention patterns are a probability distribution and so need to add up to one, so to simulate being \"off\" they normally look at the first token. Giving them a BOS token lets the heads rest by looking at that, preserving the information in the first \"real\" token.\n",
        "\n",
        "Further, *some* models are trained to need a BOS token (OPT and my interpretability-friendly models are, GPT-2 and GPT-Neo are not). But despite GPT-2 not being trained with this, empirically it seems to make interpretability easier.\n",
        "\n",
        "</details>"
      ]
    },
    {
      "cell_type": "markdown",
      "metadata": {
        "id": "EjCvhnA_Rp6l"
      },
      "source": [
        "### Exercise - how many tokens does your model guess correctly?\n",
        "\n",
        "> ```yaml\n",
        "> Difficulty: 🔴🔴⚪⚪⚪\n",
        "> Importance: 🔵🔵🔵⚪⚪\n",
        ">\n",
        "> You should spend up to ~10 minutes on this exercise.\n",
        "> ```\n",
        "\n",
        "Consider the `model_description_text` you fed into your model above. How many tokens did your model guess correctly? Which tokens were correct?"
      ]
    },
    {
      "cell_type": "code",
      "execution_count": 56,
      "metadata": {
        "id": "KuCtzlV8Rp6l",
        "outputId": "26f0775a-abf3-443c-97d3-2f222865aee0",
        "colab": {
          "base_uri": "https://localhost:8080/"
        }
      },
      "outputs": [
        {
          "output_type": "stream",
          "name": "stdout",
          "text": [
            "torch.Size([1, 112, 50257])\n"
          ]
        }
      ],
      "source": [
        "logits: Tensor = gpt2_small(model_description_text, return_type=\"logits\")\n",
        "print(logits.shape)\n",
        "prediction = logits.argmax(dim=-1).squeeze()[:-1]\n",
        "\n",
        "# YOUR CODE HERE - get the model's prediction on the text"
      ]
    },
    {
      "cell_type": "code",
      "source": [
        "actual_tokens = list(map(lambda x: x.item(), gpt2_small.to_tokens(model_description_text)[0][1:]))\n",
        "int_predictions = list(map(lambda x: x.item(), prediction))\n"
      ],
      "metadata": {
        "id": "TJIZu1nZU9yD"
      },
      "execution_count": 57,
      "outputs": []
    },
    {
      "cell_type": "code",
      "source": [
        "count = 0\n",
        "for idx in range(len(actual_tokens)):\n",
        "  if actual_tokens[idx] == int_predictions[idx]:\n",
        "    count += 1\n",
        "\n",
        "print(actual_tokens ==  int_predictions)"
      ],
      "metadata": {
        "id": "g-W3qxRnUVIW",
        "outputId": "4acf79ed-9949-43b3-ed45-91685f92911c",
        "colab": {
          "base_uri": "https://localhost:8080/"
        }
      },
      "execution_count": 62,
      "outputs": [
        {
          "output_type": "stream",
          "name": "stdout",
          "text": [
            "False\n"
          ]
        }
      ]
    },
    {
      "cell_type": "markdown",
      "metadata": {
        "id": "9QMtGmoPRp6l"
      },
      "source": [
        "<details>\n",
        "<summary>Hint</summary>\n",
        "\n",
        "Use `return_type=\"logits\"` to get the model's predictions, then take argmax across the vocab dimension. Then, compare these predictions with the actual tokens, derived from the `model_description_text`.\n",
        "\n",
        "Remember, you should be comparing the `[:-1]`th elements of this tensor of predictions with the `[1:]`th elements of the input tokens (because your model's output represents a probability distribution over the *next* token, not the current one).\n",
        "\n",
        "Also, remember to handle the batch dimension (since `logits`, and the output of `to_tokens`, will both have batch dimensions by default).\n",
        "\n",
        "</details>\n",
        "\n",
        "<details>\n",
        "<summary>Answer - what you should see</summary>\n",
        "\n",
        "<pre style=\"white-space:pre;overflow-x:auto;line-height:normal;font-family:Menlo,'DejaVu Sans Mono',consolas,'Courier New',monospace\">Model accuracy: 33/111\n",
        "Correct tokens: ['\\n', '\\n', 'former', ' with', ' models', '.', ' can', ' of', 'ooked', 'Trans', 'former', '_', 'NAME', '`.', ' model', ' the', 'Trans', 'former', ' to', ' be', ' and', '-', '.', '\\n', '\\n', ' at', 'PT', '-', ',', ' model', ',', \"'s\", ' the']\n",
        "</pre>\n",
        "\n",
        "So the model got 33 out of 111 tokens correct. Not too bad!\n",
        "\n",
        "</details>\n",
        "\n",
        "\n",
        "<details><summary>Solution</summary>\n",
        "\n",
        "```python\n",
        "logits: Tensor = gpt2_small(model_description_text, return_type=\"logits\")\n",
        "prediction = logits.argmax(dim=-1).squeeze()[:-1]\n",
        "\n",
        "true_tokens = gpt2_small.to_tokens(model_description_text).squeeze()[1:]\n",
        "is_correct = prediction == true_tokens\n",
        "\n",
        "print(f\"Model accuracy: {is_correct.sum()}/{len(true_tokens)}\")\n",
        "print(f\"Correct tokens: {gpt2_small.to_str_tokens(prediction[is_correct])}\")\n",
        "```\n",
        "</details>"
      ]
    },
    {
      "cell_type": "markdown",
      "metadata": {
        "id": "oQtd16XCRp6l"
      },
      "source": [
        "**Induction heads** are a special kind of attention head which we'll examine a lot more in coming exercises. They allow a model to perform in-context learning of a specific form: generalising from one observation that token `B` follows token `A`, to predict that token `B` will follow `A` in future occurrences of `A`, even if these two tokens had never appeared together in the model's training data.\n",
        "\n",
        "**Can you see evidence of any induction heads at work, on this text?**\n",
        "\n",
        "<details>\n",
        "<summary>Evidence of induction heads</summary>\n",
        "\n",
        "The evidence for induction heads comes from the fact that the model successfully predicted `'ooked', 'Trans', 'former'` following the token `'H'`. This is because it's the second time that `HookedTransformer` had appeared in this text string, and the model predicted it the second time but not the first. (The model did predict `former` the first time, but we can reasonably assume that `Transformer` is a word this model had already been exposed to during training, so this prediction wouldn't require the induction capability, unlike `HookedTransformer`.)\n",
        "\n",
        "```python\n",
        "print(gpt2_small.to_str_tokens(\"HookedTransformer\", prepend_bos=False))     # --> ['H', 'ooked', 'Trans', 'former']\n",
        "```\n",
        "</details>"
      ]
    },
    {
      "cell_type": "markdown",
      "metadata": {
        "id": "qdmw4Y9cRp6l"
      },
      "source": [
        "## Caching all Activations\n",
        "\n",
        "The first basic operation when doing mechanistic interpretability is to break open the black box of the model and look at all of the internal activations of a model. This can be done with `logits, cache = model.run_with_cache(tokens)`. Let's try this out, on the first sentence from the GPT-2 paper.\n",
        "\n",
        "<details>\n",
        "<summary>Aside - a note on <code>remove_batch_dim</code></summary>\n",
        "\n",
        "Every activation inside the model begins with a batch dimension. Here, because we only entered a single batch dimension, that dimension is always length 1 and kinda annoying, so passing in the `remove_batch_dim=True` keyword removes it.\n",
        "\n",
        "`gpt2_cache_no_batch_dim = gpt2_cache.remove_batch_dim()` would have achieved the same effect.\n",
        "</details>"
      ]
    },
    {
      "cell_type": "code",
      "execution_count": 59,
      "metadata": {
        "id": "VwqTn9q9Rp6l",
        "outputId": "7a13e553-0a26-4231-90a0-ffe38d6f2ad9",
        "colab": {
          "base_uri": "https://localhost:8080/"
        }
      },
      "outputs": [
        {
          "output_type": "stream",
          "name": "stdout",
          "text": [
            "<class 'torch.Tensor'> <class 'transformer_lens.ActivationCache.ActivationCache'>\n"
          ]
        }
      ],
      "source": [
        "gpt2_text = \"Natural language processing tasks, such as question answering, machine translation, reading comprehension, and summarization, are typically approached with supervised learning on taskspecific datasets.\"\n",
        "gpt2_tokens = gpt2_small.to_tokens(gpt2_text)\n",
        "gpt2_logits, gpt2_cache = gpt2_small.run_with_cache(gpt2_tokens, remove_batch_dim=True)\n",
        "\n",
        "print(type(gpt2_logits), type(gpt2_cache))"
      ]
    },
    {
      "cell_type": "code",
      "source": [
        "for item in gpt2_cache.cache_dict.keys():\n",
        "  print(item)"
      ],
      "metadata": {
        "id": "XlkkIGurdMAd",
        "outputId": "db69f639-9bca-4367-e08c-8124d6e7f840",
        "colab": {
          "base_uri": "https://localhost:8080/"
        }
      },
      "execution_count": 61,
      "outputs": [
        {
          "output_type": "stream",
          "name": "stdout",
          "text": [
            "hook_embed\n",
            "hook_pos_embed\n",
            "blocks.0.hook_resid_pre\n",
            "blocks.0.ln1.hook_scale\n",
            "blocks.0.ln1.hook_normalized\n",
            "blocks.0.attn.hook_q\n",
            "blocks.0.attn.hook_k\n",
            "blocks.0.attn.hook_v\n",
            "blocks.0.attn.hook_attn_scores\n",
            "blocks.0.attn.hook_pattern\n",
            "blocks.0.attn.hook_z\n",
            "blocks.0.hook_attn_out\n",
            "blocks.0.hook_resid_mid\n",
            "blocks.0.ln2.hook_scale\n",
            "blocks.0.ln2.hook_normalized\n",
            "blocks.0.mlp.hook_pre\n",
            "blocks.0.mlp.hook_post\n",
            "blocks.0.hook_mlp_out\n",
            "blocks.0.hook_resid_post\n",
            "blocks.1.hook_resid_pre\n",
            "blocks.1.ln1.hook_scale\n",
            "blocks.1.ln1.hook_normalized\n",
            "blocks.1.attn.hook_q\n",
            "blocks.1.attn.hook_k\n",
            "blocks.1.attn.hook_v\n",
            "blocks.1.attn.hook_attn_scores\n",
            "blocks.1.attn.hook_pattern\n",
            "blocks.1.attn.hook_z\n",
            "blocks.1.hook_attn_out\n",
            "blocks.1.hook_resid_mid\n",
            "blocks.1.ln2.hook_scale\n",
            "blocks.1.ln2.hook_normalized\n",
            "blocks.1.mlp.hook_pre\n",
            "blocks.1.mlp.hook_post\n",
            "blocks.1.hook_mlp_out\n",
            "blocks.1.hook_resid_post\n",
            "blocks.2.hook_resid_pre\n",
            "blocks.2.ln1.hook_scale\n",
            "blocks.2.ln1.hook_normalized\n",
            "blocks.2.attn.hook_q\n",
            "blocks.2.attn.hook_k\n",
            "blocks.2.attn.hook_v\n",
            "blocks.2.attn.hook_attn_scores\n",
            "blocks.2.attn.hook_pattern\n",
            "blocks.2.attn.hook_z\n",
            "blocks.2.hook_attn_out\n",
            "blocks.2.hook_resid_mid\n",
            "blocks.2.ln2.hook_scale\n",
            "blocks.2.ln2.hook_normalized\n",
            "blocks.2.mlp.hook_pre\n",
            "blocks.2.mlp.hook_post\n",
            "blocks.2.hook_mlp_out\n",
            "blocks.2.hook_resid_post\n",
            "blocks.3.hook_resid_pre\n",
            "blocks.3.ln1.hook_scale\n",
            "blocks.3.ln1.hook_normalized\n",
            "blocks.3.attn.hook_q\n",
            "blocks.3.attn.hook_k\n",
            "blocks.3.attn.hook_v\n",
            "blocks.3.attn.hook_attn_scores\n",
            "blocks.3.attn.hook_pattern\n",
            "blocks.3.attn.hook_z\n",
            "blocks.3.hook_attn_out\n",
            "blocks.3.hook_resid_mid\n",
            "blocks.3.ln2.hook_scale\n",
            "blocks.3.ln2.hook_normalized\n",
            "blocks.3.mlp.hook_pre\n",
            "blocks.3.mlp.hook_post\n",
            "blocks.3.hook_mlp_out\n",
            "blocks.3.hook_resid_post\n",
            "blocks.4.hook_resid_pre\n",
            "blocks.4.ln1.hook_scale\n",
            "blocks.4.ln1.hook_normalized\n",
            "blocks.4.attn.hook_q\n",
            "blocks.4.attn.hook_k\n",
            "blocks.4.attn.hook_v\n",
            "blocks.4.attn.hook_attn_scores\n",
            "blocks.4.attn.hook_pattern\n",
            "blocks.4.attn.hook_z\n",
            "blocks.4.hook_attn_out\n",
            "blocks.4.hook_resid_mid\n",
            "blocks.4.ln2.hook_scale\n",
            "blocks.4.ln2.hook_normalized\n",
            "blocks.4.mlp.hook_pre\n",
            "blocks.4.mlp.hook_post\n",
            "blocks.4.hook_mlp_out\n",
            "blocks.4.hook_resid_post\n",
            "blocks.5.hook_resid_pre\n",
            "blocks.5.ln1.hook_scale\n",
            "blocks.5.ln1.hook_normalized\n",
            "blocks.5.attn.hook_q\n",
            "blocks.5.attn.hook_k\n",
            "blocks.5.attn.hook_v\n",
            "blocks.5.attn.hook_attn_scores\n",
            "blocks.5.attn.hook_pattern\n",
            "blocks.5.attn.hook_z\n",
            "blocks.5.hook_attn_out\n",
            "blocks.5.hook_resid_mid\n",
            "blocks.5.ln2.hook_scale\n",
            "blocks.5.ln2.hook_normalized\n",
            "blocks.5.mlp.hook_pre\n",
            "blocks.5.mlp.hook_post\n",
            "blocks.5.hook_mlp_out\n",
            "blocks.5.hook_resid_post\n",
            "blocks.6.hook_resid_pre\n",
            "blocks.6.ln1.hook_scale\n",
            "blocks.6.ln1.hook_normalized\n",
            "blocks.6.attn.hook_q\n",
            "blocks.6.attn.hook_k\n",
            "blocks.6.attn.hook_v\n",
            "blocks.6.attn.hook_attn_scores\n",
            "blocks.6.attn.hook_pattern\n",
            "blocks.6.attn.hook_z\n",
            "blocks.6.hook_attn_out\n",
            "blocks.6.hook_resid_mid\n",
            "blocks.6.ln2.hook_scale\n",
            "blocks.6.ln2.hook_normalized\n",
            "blocks.6.mlp.hook_pre\n",
            "blocks.6.mlp.hook_post\n",
            "blocks.6.hook_mlp_out\n",
            "blocks.6.hook_resid_post\n",
            "blocks.7.hook_resid_pre\n",
            "blocks.7.ln1.hook_scale\n",
            "blocks.7.ln1.hook_normalized\n",
            "blocks.7.attn.hook_q\n",
            "blocks.7.attn.hook_k\n",
            "blocks.7.attn.hook_v\n",
            "blocks.7.attn.hook_attn_scores\n",
            "blocks.7.attn.hook_pattern\n",
            "blocks.7.attn.hook_z\n",
            "blocks.7.hook_attn_out\n",
            "blocks.7.hook_resid_mid\n",
            "blocks.7.ln2.hook_scale\n",
            "blocks.7.ln2.hook_normalized\n",
            "blocks.7.mlp.hook_pre\n",
            "blocks.7.mlp.hook_post\n",
            "blocks.7.hook_mlp_out\n",
            "blocks.7.hook_resid_post\n",
            "blocks.8.hook_resid_pre\n",
            "blocks.8.ln1.hook_scale\n",
            "blocks.8.ln1.hook_normalized\n",
            "blocks.8.attn.hook_q\n",
            "blocks.8.attn.hook_k\n",
            "blocks.8.attn.hook_v\n",
            "blocks.8.attn.hook_attn_scores\n",
            "blocks.8.attn.hook_pattern\n",
            "blocks.8.attn.hook_z\n",
            "blocks.8.hook_attn_out\n",
            "blocks.8.hook_resid_mid\n",
            "blocks.8.ln2.hook_scale\n",
            "blocks.8.ln2.hook_normalized\n",
            "blocks.8.mlp.hook_pre\n",
            "blocks.8.mlp.hook_post\n",
            "blocks.8.hook_mlp_out\n",
            "blocks.8.hook_resid_post\n",
            "blocks.9.hook_resid_pre\n",
            "blocks.9.ln1.hook_scale\n",
            "blocks.9.ln1.hook_normalized\n",
            "blocks.9.attn.hook_q\n",
            "blocks.9.attn.hook_k\n",
            "blocks.9.attn.hook_v\n",
            "blocks.9.attn.hook_attn_scores\n",
            "blocks.9.attn.hook_pattern\n",
            "blocks.9.attn.hook_z\n",
            "blocks.9.hook_attn_out\n",
            "blocks.9.hook_resid_mid\n",
            "blocks.9.ln2.hook_scale\n",
            "blocks.9.ln2.hook_normalized\n",
            "blocks.9.mlp.hook_pre\n",
            "blocks.9.mlp.hook_post\n",
            "blocks.9.hook_mlp_out\n",
            "blocks.9.hook_resid_post\n",
            "blocks.10.hook_resid_pre\n",
            "blocks.10.ln1.hook_scale\n",
            "blocks.10.ln1.hook_normalized\n",
            "blocks.10.attn.hook_q\n",
            "blocks.10.attn.hook_k\n",
            "blocks.10.attn.hook_v\n",
            "blocks.10.attn.hook_attn_scores\n",
            "blocks.10.attn.hook_pattern\n",
            "blocks.10.attn.hook_z\n",
            "blocks.10.hook_attn_out\n",
            "blocks.10.hook_resid_mid\n",
            "blocks.10.ln2.hook_scale\n",
            "blocks.10.ln2.hook_normalized\n",
            "blocks.10.mlp.hook_pre\n",
            "blocks.10.mlp.hook_post\n",
            "blocks.10.hook_mlp_out\n",
            "blocks.10.hook_resid_post\n",
            "blocks.11.hook_resid_pre\n",
            "blocks.11.ln1.hook_scale\n",
            "blocks.11.ln1.hook_normalized\n",
            "blocks.11.attn.hook_q\n",
            "blocks.11.attn.hook_k\n",
            "blocks.11.attn.hook_v\n",
            "blocks.11.attn.hook_attn_scores\n",
            "blocks.11.attn.hook_pattern\n",
            "blocks.11.attn.hook_z\n",
            "blocks.11.hook_attn_out\n",
            "blocks.11.hook_resid_mid\n",
            "blocks.11.ln2.hook_scale\n",
            "blocks.11.ln2.hook_normalized\n",
            "blocks.11.mlp.hook_pre\n",
            "blocks.11.mlp.hook_post\n",
            "blocks.11.hook_mlp_out\n",
            "blocks.11.hook_resid_post\n",
            "ln_final.hook_scale\n",
            "ln_final.hook_normalized\n"
          ]
        }
      ]
    },
    {
      "cell_type": "markdown",
      "metadata": {
        "id": "In11AaDRRp6m"
      },
      "source": [
        "If you inspect the `gpt2_cache` object, you should see that it contains a very large number of keys, each one corresponding to a different activation in the model. You can access the keys by indexing the cache directly, or by a more convenient indexing shorthand. For instance, here are 2 ways to extract the attention patterns for layer 0:"
      ]
    },
    {
      "cell_type": "code",
      "source": [],
      "metadata": {
        "id": "xPrxWGKZfwrP"
      },
      "execution_count": null,
      "outputs": []
    },
    {
      "cell_type": "code",
      "execution_count": null,
      "metadata": {
        "id": "tSVGo_8fRp6m"
      },
      "outputs": [],
      "source": [
        "attn_patterns_from_shorthand = gpt2_cache[\"pattern\", 0]\n",
        "attn_patterns_from_full_name = gpt2_cache[\"blocks.0.attn.hook_pattern\"]\n",
        "\n",
        "t.testing.assert_close(attn_patterns_from_shorthand, attn_patterns_from_full_name)"
      ]
    },
    {
      "cell_type": "markdown",
      "metadata": {
        "id": "TWmyw_VZRp6m"
      },
      "source": [
        "<details>\n",
        "<summary>Aside: <code>utils.get_act_name</code></summary>\n",
        "\n",
        "The reason these are the same is that, under the hood, the first example actually indexes by `utils.get_act_name(\"pattern\", 0)`, which evaluates to `\"blocks.0.attn.hook_pattern\"`.\n",
        "\n",
        "In general, `utils.get_act_name` is a useful function for getting the full name of an activation, given its short name and layer number.\n",
        "\n",
        "You can use the diagram from the **Transformer Architecture** section to help you find activation names.\n",
        "</details>"
      ]
    },
    {
      "cell_type": "markdown",
      "metadata": {
        "id": "tFnbgmS0Rp6m"
      },
      "source": [
        "### Exercise - verify activations\n",
        "\n",
        "> ```yaml\n",
        "> Difficulty: 🔴🔴🔴⚪⚪\n",
        "> Importance: 🔵🔵🔵⚪⚪\n",
        ">\n",
        "> You should spend up to 10-15 minutes on this exercise.\n",
        ">\n",
        "> If you're already comfortable implementing things like attention calculations (e.g. having gone through Neel's transformer walkthrough) you can skip this exercise. However, it might serve as a useful refresher.\n",
        "> ```\n",
        "\n",
        "Verify that `hook_q`, `hook_k` and `hook_pattern` are related to each other in the way implied by the diagram. Do this by computing `layer0_pattern_from_cache` (the attention pattern taken directly from the cache, for layer 0) and `layer0_pattern_from_q_and_k` (the attention pattern calculated from `hook_q` and `hook_k`, for layer 0). Remember that attention pattern is the probabilities, so you'll need to scale and softmax appropriately."
      ]
    },
    {
      "cell_type": "code",
      "source": [
        "print(gpt2_cache['blocks.1.attn.hook_attn_scores'].shape)"
      ],
      "metadata": {
        "id": "8E0Nmk4Qihuf",
        "outputId": "f8f3e435-8c27-4cfa-c03e-2777d42c29e1",
        "colab": {
          "base_uri": "https://localhost:8080/"
        }
      },
      "execution_count": 68,
      "outputs": [
        {
          "output_type": "stream",
          "name": "stdout",
          "text": [
            "torch.Size([12, 33, 33])\n"
          ]
        }
      ]
    },
    {
      "cell_type": "code",
      "source": [],
      "metadata": {
        "id": "PqFKmcPYfyWT",
        "outputId": "b9e661bc-3733-4360-ff3a-783e68085c88",
        "colab": {
          "base_uri": "https://localhost:8080/"
        }
      },
      "execution_count": 73,
      "outputs": [
        {
          "output_type": "stream",
          "name": "stdout",
          "text": [
            "torch.Size([12, 33, 33])\n"
          ]
        }
      ]
    },
    {
      "cell_type": "code",
      "execution_count": 76,
      "metadata": {
        "id": "cjg8EaaCRp6m",
        "outputId": "3a76bd63-3571-42d0-84c4-c4212bb4fed5",
        "colab": {
          "base_uri": "https://localhost:8080/"
        }
      },
      "outputs": [
        {
          "output_type": "stream",
          "name": "stdout",
          "text": [
            "torch.Size([12, 33, 33]) torch.Size([12, 33, 33])\n",
            "Tests passed!\n"
          ]
        }
      ],
      "source": [
        "layer0_pattern_from_cache = gpt2_cache[\"pattern\", 0]\n",
        "\n",
        "q_cache = einops.rearrange(gpt2_cache['blocks.0.attn.hook_q'], 's h_i d_h -> h_i s d_h')\n",
        "k_cache = einops.rearrange(gpt2_cache['blocks.0.attn.hook_k'], 's h_i d_h -> h_i s d_h')\n",
        "k_cache_transpose = einops.rearrange(k_cache, 'h s d_h -> h d_h s')\n",
        "attn_unscaled = q_cache @ k_cache_transpose\n",
        "attn_scaled = attn_unscaled * (gpt2_small.cfg.d_head ** -0.5)\n",
        "mask = t.tril(t.ones(attn_scaled.shape[1], attn_scaled.shape[1])).to(attn_scaled.device)\n",
        "attn_masked = attn_scaled.masked_fill(mask == 0, float('-inf'))\n",
        "\n",
        "\n",
        "# YOUR CODE HERE - define `layer0_pattern_from_q_and_k` manually, by manually performing the steps of the attention calculation (dot product, masking, scaling, softmax)\n",
        "layer0_pattern_from_q_and_k =  F.softmax(attn_masked, dim=-1)\n",
        "print(layer0_pattern_from_cache.shape, layer0_pattern_from_q_and_k.shape)\n",
        "t.testing.assert_close(layer0_pattern_from_cache, layer0_pattern_from_q_and_k)\n",
        "print(\"Tests passed!\")"
      ]
    },
    {
      "cell_type": "markdown",
      "metadata": {
        "id": "4LjKdZByRp6m"
      },
      "source": [
        "<details>\n",
        "<summary>Hint</summary>\n",
        "\n",
        "You'll need to use three different cache indexes in all:\n",
        "\n",
        "* `gpt2_cache[\"pattern\", 0]` to get the attention patterns, which have shape `[nhead, seqQ, seqK]`\n",
        "* `gpt2_cache[\"q\", 0]` to get the query vectors, which have shape `[seqQ, nhead, headsize]`\n",
        "* `gpt2_cache[\"k\", 0]` to get the key vectors, which have shape `[seqK, nhead, headsize]`\n",
        "\n",
        "</details>\n",
        "\n",
        "\n",
        "<details><summary>Solution</summary>\n",
        "\n",
        "```python\n",
        "layer0_pattern_from_cache = gpt2_cache[\"pattern\", 0]\n",
        "\n",
        "q, k = gpt2_cache[\"q\", 0], gpt2_cache[\"k\", 0]\n",
        "seq, nhead, headsize = q.shape\n",
        "layer0_attn_scores = einops.einsum(q, k, \"seqQ n h, seqK n h -> n seqQ seqK\")\n",
        "mask = t.triu(t.ones((seq, seq), dtype=t.bool), diagonal=1).to(device)\n",
        "layer0_attn_scores.masked_fill_(mask, -1e9)\n",
        "layer0_pattern_from_q_and_k = (layer0_attn_scores / headsize**0.5).softmax(-1)\n",
        "```\n",
        "</details>"
      ]
    },
    {
      "cell_type": "markdown",
      "metadata": {
        "id": "00DSx49DRp6m"
      },
      "source": [
        "## Visualising Attention Heads\n",
        "\n",
        "A key insight from the Mathematical Frameworks paper is that we should focus on interpreting the parts of the model that are intrinsically interpretable - the input tokens, the output logits and the attention patterns. Everything else (the residual stream, keys, queries, values, etc) are compressed intermediate states when calculating meaningful things. So a natural place to start is classifying heads by their attention patterns on various texts.\n",
        "\n",
        "When doing interpretability, it's always good to begin by visualising your data, rather than taking summary statistics. Summary statistics can be super misleading! But now that we have visualised the attention patterns, we can create some basic summary statistics and use our visualisations to validate them! (Accordingly, being good at web dev/data visualisation is a surprisingly useful skillset! Neural networks are very high-dimensional object.)\n",
        "\n",
        "Let's visualize the attention pattern of all the heads in layer 0, using [Alan Cooney's CircuitsVis library](https://github.com/alan-cooney/CircuitsVis) (based on Anthropic's PySvelte library). If you did the previous set of exercises, you'll have seen this library before.\n",
        "\n",
        "We will use the function `cv.attention.attention_patterns`, which takes two important arguments:\n",
        "\n",
        "* `attention`: the attention head patterns, of shape `[n_heads, seq_len, seq_len]`. This consists of the stacked grid of attention probabilities for each head, i.e. `attention[head, d, s]` is the attention probability from destination position `d` to source position `s` in attention head `head`.\n",
        "* `tokens`: List of tokens, which should have the same length as the `seq_len` dimension of `attention`. Make sure you're not accidentally passing in a list with a dummy dimension, or that differs from `seq_len` because of the BOS token!\n",
        "\n",
        "This visualization is interactive! Try hovering over a token or head, and click to lock. The grid on the top left and for each head is the attention pattern as a destination position by source position grid. It's lower triangular because GPT-2 has **causal attention**, attention can only look backwards, so information can only move forwards in the network.\n",
        "\n",
        "> Note - you can also use the `cv.attention.attention_heads` function, which presents the data in a different way (the syntax is exactly the same as `attention_patterns`). Note, if you display this in VSCode then it may exhibit a bug where the main plot continually shrinks in size - if this happens, you should instead save the HTML (i.e. with `html = cv.attention.attention_heads(...); with open(\"attn_heads.html\", \"w\") as f: f.write(str(html))`) and open the plot in your browser."
      ]
    },
    {
      "cell_type": "code",
      "execution_count": 77,
      "metadata": {
        "id": "pikZpc5MRp6n",
        "outputId": "b6300b18-88da-4c35-97d1-d80ce73ee320",
        "colab": {
          "base_uri": "https://localhost:8080/",
          "height": 411
        }
      },
      "outputs": [
        {
          "output_type": "stream",
          "name": "stdout",
          "text": [
            "<class 'transformer_lens.ActivationCache.ActivationCache'>\n",
            "torch.Size([12, 33, 33])\n",
            "Layer 0 Head Attention Patterns:\n"
          ]
        },
        {
          "output_type": "display_data",
          "data": {
            "text/plain": [
              "<circuitsvis.utils.render.RenderedHTML at 0x78b76f154ed0>"
            ],
            "text/html": [
              "<div id=\"circuits-vis-e0735c23-8f0a\" style=\"margin: 15px 0;\"/>\n",
              "    <script crossorigin type=\"module\">\n",
              "    import { render, AttentionPatterns } from \"https://unpkg.com/circuitsvis@1.41.0/dist/cdn/esm.js\";\n",
              "    render(\n",
              "      \"circuits-vis-e0735c23-8f0a\",\n",
              "      AttentionPatterns,\n",
              "      {\"tokens\": [\"<|endoftext|>\", \"Natural\", \" language\", \" processing\", \" tasks\", \",\", \" such\", \" as\", \" question\", \" answering\", \",\", \" machine\", \" translation\", \",\", \" reading\", \" comprehension\", \",\", \" and\", \" summar\", \"ization\", \",\", \" are\", \" typically\", \" approached\", \" with\", \" supervised\", \" learning\", \" on\", \" tasks\", \"pe\", \"cific\", \" datasets\", \".\"], \"attention\": [[[1.0, 0.0, 0.0, 0.0, 0.0, 0.0, 0.0, 0.0, 0.0, 0.0, 0.0, 0.0, 0.0, 0.0, 0.0, 0.0, 0.0, 0.0, 0.0, 0.0, 0.0, 0.0, 0.0, 0.0, 0.0, 0.0, 0.0, 0.0, 0.0, 0.0, 0.0, 0.0, 0.0], [0.9639418721199036, 0.03605814278125763, 0.0, 0.0, 0.0, 0.0, 0.0, 0.0, 0.0, 0.0, 0.0, 0.0, 0.0, 0.0, 0.0, 0.0, 0.0, 0.0, 0.0, 0.0, 0.0, 0.0, 0.0, 0.0, 0.0, 0.0, 0.0, 0.0, 0.0, 0.0, 0.0, 0.0, 0.0], [0.8389372825622559, 0.11828784644603729, 0.042774830013513565, 0.0, 0.0, 0.0, 0.0, 0.0, 0.0, 0.0, 0.0, 0.0, 0.0, 0.0, 0.0, 0.0, 0.0, 0.0, 0.0, 0.0, 0.0, 0.0, 0.0, 0.0, 0.0, 0.0, 0.0, 0.0, 0.0, 0.0, 0.0, 0.0, 0.0], [0.4743613004684448, 0.13382022082805634, 0.27371740341186523, 0.1181010901927948, 0.0, 0.0, 0.0, 0.0, 0.0, 0.0, 0.0, 0.0, 0.0, 0.0, 0.0, 0.0, 0.0, 0.0, 0.0, 0.0, 0.0, 0.0, 0.0, 0.0, 0.0, 0.0, 0.0, 0.0, 0.0, 0.0, 0.0, 0.0, 0.0], [0.3560643494129181, 0.10184912383556366, 0.23054225742816925, 0.20397400856018066, 0.10757029801607132, 0.0, 0.0, 0.0, 0.0, 0.0, 0.0, 0.0, 0.0, 0.0, 0.0, 0.0, 0.0, 0.0, 0.0, 0.0, 0.0, 0.0, 0.0, 0.0, 0.0, 0.0, 0.0, 0.0, 0.0, 0.0, 0.0, 0.0, 0.0], [0.6660143136978149, 0.1686638593673706, 0.04535672813653946, 0.03885500505566597, 0.06775479763746262, 0.0133552560582757, 0.0, 0.0, 0.0, 0.0, 0.0, 0.0, 0.0, 0.0, 0.0, 0.0, 0.0, 0.0, 0.0, 0.0, 0.0, 0.0, 0.0, 0.0, 0.0, 0.0, 0.0, 0.0, 0.0, 0.0, 0.0, 0.0, 0.0], [0.38626962900161743, 0.2851092219352722, 0.07609009742736816, 0.05908381938934326, 0.07223352789878845, 0.039796341210603714, 0.08141744136810303, 0.0, 0.0, 0.0, 0.0, 0.0, 0.0, 0.0, 0.0, 0.0, 0.0, 0.0, 0.0, 0.0, 0.0, 0.0, 0.0, 0.0, 0.0, 0.0, 0.0, 0.0, 0.0, 0.0, 0.0, 0.0, 0.0], [0.3775394856929779, 0.1883881837129593, 0.11723991483449936, 0.0868559405207634, 0.0666918084025383, 0.03500015661120415, 0.09693009406328201, 0.03135443851351738, 0.0, 0.0, 0.0, 0.0, 0.0, 0.0, 0.0, 0.0, 0.0, 0.0, 0.0, 0.0, 0.0, 0.0, 0.0, 0.0, 0.0, 0.0, 0.0, 0.0, 0.0, 0.0, 0.0, 0.0, 0.0], [0.4869752824306488, 0.06781316548585892, 0.07952877879142761, 0.08480790257453918, 0.1590261608362198, 0.029577815905213356, 0.02568591758608818, 0.016474612057209015, 0.05011039599776268, 0.0, 0.0, 0.0, 0.0, 0.0, 0.0, 0.0, 0.0, 0.0, 0.0, 0.0, 0.0, 0.0, 0.0, 0.0, 0.0, 0.0, 0.0, 0.0, 0.0, 0.0, 0.0, 0.0, 0.0], [0.29065507650375366, 0.0401349775493145, 0.14614856243133545, 0.09940596669912338, 0.1538919061422348, 0.03900161758065224, 0.024988971650600433, 0.03184131532907486, 0.10222820937633514, 0.07170344144105911, 0.0, 0.0, 0.0, 0.0, 0.0, 0.0, 0.0, 0.0, 0.0, 0.0, 0.0, 0.0, 0.0, 0.0, 0.0, 0.0, 0.0, 0.0, 0.0, 0.0, 0.0, 0.0, 0.0], [0.39624103903770447, 0.09694176912307739, 0.027270672842860222, 0.02355135791003704, 0.03723450377583504, 0.006502409465610981, 0.08118758350610733, 0.013088470324873924, 0.06990595906972885, 0.24043095111846924, 0.007645336911082268, 0.0, 0.0, 0.0, 0.0, 0.0, 0.0, 0.0, 0.0, 0.0, 0.0, 0.0, 0.0, 0.0, 0.0, 0.0, 0.0, 0.0, 0.0, 0.0, 0.0, 0.0, 0.0], [0.24864788353443146, 0.1380205750465393, 0.0923532247543335, 0.0867612287402153, 0.1381969153881073, 0.05914194881916046, 0.03223859891295433, 0.03158240392804146, 0.030489441007375717, 0.038734838366508484, 0.06671839952468872, 0.037114497274160385, 0.0, 0.0, 0.0, 0.0, 0.0, 0.0, 0.0, 0.0, 0.0, 0.0, 0.0, 0.0, 0.0, 0.0, 0.0, 0.0, 0.0, 0.0, 0.0, 0.0, 0.0], [0.1914844512939453, 0.1617259532213211, 0.07445938140153885, 0.07740944623947144, 0.021961113438010216, 0.03392127901315689, 0.05125021934509277, 0.01951923966407776, 0.03132447972893715, 0.04020152986049652, 0.03874269127845764, 0.21578852832317352, 0.04221167042851448, 0.0, 0.0, 0.0, 0.0, 0.0, 0.0, 0.0, 0.0, 0.0, 0.0, 0.0, 0.0, 0.0, 0.0, 0.0, 0.0, 0.0, 0.0, 0.0, 0.0], [0.37043169140815735, 0.08681419491767883, 0.02458467148244381, 0.021616321057081223, 0.03238872066140175, 0.005422735586762428, 0.07275225222110748, 0.011272803880274296, 0.06329693645238876, 0.217268168926239, 0.006367161870002747, 0.02960382215678692, 0.050998471677303314, 0.007182058412581682, 0.0, 0.0, 0.0, 0.0, 0.0, 0.0, 0.0, 0.0, 0.0, 0.0, 0.0, 0.0, 0.0, 0.0, 0.0, 0.0, 0.0, 0.0, 0.0], [0.19737647473812103, 0.046039972454309464, 0.0439998134970665, 0.13373452425003052, 0.054248202592134476, 0.02547571435570717, 0.027563493698835373, 0.02157093770802021, 0.05171824246644974, 0.06458097696304321, 0.028064634650945663, 0.23551598191261292, 0.019129790365695953, 0.029963519424200058, 0.021017687395215034, 0.0, 0.0, 0.0, 0.0, 0.0, 0.0, 0.0, 0.0, 0.0, 0.0, 0.0, 0.0, 0.0, 0.0, 0.0, 0.0, 0.0, 0.0], [0.08907235413789749, 0.01928834617137909, 0.16653531789779663, 0.07281260192394257, 0.04738641902804375, 0.024487903341650963, 0.02898733876645565, 0.019370365887880325, 0.02667303942143917, 0.0731663927435875, 0.025704577565193176, 0.04242357611656189, 0.05869462341070175, 0.02893270179629326, 0.18119071424007416, 0.0952736958861351, 0.0, 0.0, 0.0, 0.0, 0.0, 0.0, 0.0, 0.0, 0.0, 0.0, 0.0, 0.0, 0.0, 0.0, 0.0, 0.0, 0.0], [0.281672865152359, 0.06441289186477661, 0.018008548766374588, 0.01616962067782879, 0.02318389154970646, 0.0037532944697886705, 0.05472246930003166, 0.00790976732969284, 0.046164702624082565, 0.1694725900888443, 0.004361644387245178, 0.021011359989643097, 0.03549070656299591, 0.004932567942887545, 0.09555221349000931, 0.1472633183002472, 0.005917447619140148, 0.0, 0.0, 0.0, 0.0, 0.0, 0.0, 0.0, 0.0, 0.0, 0.0, 0.0, 0.0, 0.0, 0.0, 0.0, 0.0], [0.2130548059940338, 0.0591236874461174, 0.03382088243961334, 0.027476875111460686, 0.028393540531396866, 0.008422899059951305, 0.040085308253765106, 0.011629271320998669, 0.05295189097523689, 0.1540464162826538, 0.00983181782066822, 0.036101944744586945, 0.04737287014722824, 0.011069186963140965, 0.09972471743822098, 0.13971354067325592, 0.013185334391891956, 0.013994951732456684, 0.0, 0.0, 0.0, 0.0, 0.0, 0.0, 0.0, 0.0, 0.0, 0.0, 0.0, 0.0, 0.0, 0.0, 0.0], [0.15871694684028625, 0.04387889429926872, 0.08712150156497955, 0.08998466283082962, 0.030738575384020805, 0.034148938953876495, 0.0249172393232584, 0.03139195218682289, 0.0248238705098629, 0.01979033090174198, 0.03625483810901642, 0.020694417878985405, 0.04284067824482918, 0.038208987563848495, 0.06234658509492874, 0.10919704288244247, 0.0413760170340538, 0.04916759952902794, 0.05440091714262962, 0.0, 0.0, 0.0, 0.0, 0.0, 0.0, 0.0, 0.0, 0.0, 0.0, 0.0, 0.0, 0.0, 0.0], [0.10485511273145676, 0.12122288346290588, 0.06487482041120529, 0.08768720179796219, 0.03434052690863609, 0.017483947798609734, 0.034151818603277206, 0.015289152041077614, 0.023312130942940712, 0.02830648608505726, 0.0187204722315073, 0.028111929073929787, 0.04190531745553017, 0.0209895521402359, 0.046785082668066025, 0.08659634739160538, 0.02363184094429016, 0.024273181334137917, 0.16702403128147125, 0.010438220575451851, 0.0, 0.0, 0.0, 0.0, 0.0, 0.0, 0.0, 0.0, 0.0, 0.0, 0.0, 0.0, 0.0], [0.22901973128318787, 0.05184381082653999, 0.013585193082690239, 0.012337246909737587, 0.01800544001162052, 0.0027703631203621626, 0.04238129034638405, 0.0058562601916491985, 0.036144886165857315, 0.13039223849773407, 0.0031534284353256226, 0.015672583132982254, 0.027800407260656357, 0.0035543241538107395, 0.07460814714431763, 0.11298281699419022, 0.00427227234467864, 0.006832204293459654, 0.18569739162921906, 0.018073637038469315, 0.005016355309635401, 0.0, 0.0, 0.0, 0.0, 0.0, 0.0, 0.0, 0.0, 0.0, 0.0, 0.0, 0.0], [0.18869920074939728, 0.03438711538910866, 0.022344758734107018, 0.019972747191786766, 0.016354041174054146, 0.006856544874608517, 0.020859047770500183, 0.005696007516235113, 0.034159161150455475, 0.07260986417531967, 0.00785721093416214, 0.0180402509868145, 0.026904471218585968, 0.009020394645631313, 0.06876447051763535, 0.1757873296737671, 0.01072007231414318, 0.009284541942179203, 0.1925639510154724, 0.025180324912071228, 0.01263907365500927, 0.021299351006746292, 0.0, 0.0, 0.0, 0.0, 0.0, 0.0, 0.0, 0.0, 0.0, 0.0, 0.0], [0.1195831149816513, 0.022259404882788658, 0.032947149127721786, 0.02017025649547577, 0.03565331548452377, 0.013459899462759495, 0.017516469582915306, 0.010057872161269188, 0.025856446474790573, 0.059559550136327744, 0.01508451346307993, 0.015008737333118916, 0.05317465960979462, 0.016597602516412735, 0.04155528545379639, 0.13129332661628723, 0.019296662881970406, 0.015855051577091217, 0.17925086617469788, 0.016183823347091675, 0.02229553461074829, 0.01546340249478817, 0.10187702625989914, 0.0, 0.0, 0.0, 0.0, 0.0, 0.0, 0.0, 0.0, 0.0, 0.0], [0.14615531265735626, 0.02672751434147358, 0.016624554991722107, 0.01898769475519657, 0.06278639286756516, 0.015317168086767197, 0.01979224570095539, 0.014227775856852531, 0.02545814774930477, 0.04530351981520653, 0.01636434532701969, 0.03749305382370949, 0.013288660906255245, 0.01749655045568943, 0.0399458110332489, 0.058817531913518906, 0.01926097832620144, 0.024616044014692307, 0.03821968287229538, 0.02157779224216938, 0.02094990201294422, 0.07973216474056244, 0.05017606168985367, 0.17068105936050415, 0.0, 0.0, 0.0, 0.0, 0.0, 0.0, 0.0, 0.0, 0.0], [0.11321669816970825, 0.03674635291099548, 0.01178658101707697, 0.010274861939251423, 0.020370660349726677, 0.005243885796517134, 0.015918835997581482, 0.005266787484288216, 0.024891739711165428, 0.06593260169029236, 0.005933654960244894, 0.018209027126431465, 0.021020209416747093, 0.006667498033493757, 0.034828800708055496, 0.13742125034332275, 0.007927052676677704, 0.008618668653070927, 0.11377192288637161, 0.013557428494095802, 0.009277831763029099, 0.026121370494365692, 0.08499343693256378, 0.19073913991451263, 0.011263744905591011, 0.0, 0.0, 0.0, 0.0, 0.0, 0.0, 0.0, 0.0], [0.13337713479995728, 0.02621660940349102, 0.038271527737379074, 0.0715256780385971, 0.053177691996097565, 0.013925840146839619, 0.007084188051521778, 0.013450142927467823, 0.009841453284025192, 0.011789786629378796, 0.013537588529288769, 0.03815499693155289, 0.04193305969238281, 0.013882278464734554, 0.03707147389650345, 0.13838453590869904, 0.014846325851976871, 0.03156952187418938, 0.05598176643252373, 0.015536676160991192, 0.01595636084675789, 0.045455560088157654, 0.016699673607945442, 0.025325771421194077, 0.0367189422249794, 0.08028544485569, 0.0, 0.0, 0.0, 0.0, 0.0, 0.0, 0.0], [0.10608974099159241, 0.019107727333903313, 0.024468647316098213, 0.027496375143527985, 0.016365813091397285, 0.0050114234909415245, 0.010413103736937046, 0.006081144325435162, 0.005301064345985651, 0.011143162846565247, 0.004565386101603508, 0.018969912081956863, 0.004321118351072073, 0.00481497822329402, 0.02940940298140049, 0.028682013973593712, 0.005097254645079374, 0.007234351709485054, 0.03412593528628349, 0.010370595380663872, 0.005643266253173351, 0.007283586077392101, 0.029389571398496628, 0.01003879401832819, 0.009134513325989246, 0.546663224697113, 0.012777911499142647, 0.0, 0.0, 0.0, 0.0, 0.0, 0.0], [0.10467307269573212, 0.03321940079331398, 0.015341237187385559, 0.009373540058732033, 0.026595454663038254, 0.005787800066173077, 0.013571344316005707, 0.00455488683655858, 0.028058892115950584, 0.02610723115503788, 0.006353443488478661, 0.013315824791789055, 0.02662823349237442, 0.006888873875141144, 0.062047477811574936, 0.05890703946352005, 0.008068048395216465, 0.007557098288089037, 0.08522788435220718, 0.01707574538886547, 0.009256887249648571, 0.019695738330483437, 0.12617804110050201, 0.13061514496803284, 0.011351024731993675, 0.0898437574505806, 0.04638151824474335, 0.007325290702283382, 0.0, 0.0, 0.0, 0.0, 0.0], [0.08561894297599792, 0.02143894135951996, 0.05641259625554085, 0.05706658959388733, 0.01980220153927803, 0.006727494299411774, 0.005809155758470297, 0.00451626256108284, 0.0031647509895265102, 0.01761520467698574, 0.006174600217491388, 0.08767974376678467, 0.012299856171011925, 0.006350455805659294, 0.017522133886814117, 0.14295217394828796, 0.006585482973605394, 0.00787569023668766, 0.030078914016485214, 0.013907486572861671, 0.007376696448773146, 0.007684790994971991, 0.022160828113555908, 0.01238502562046051, 0.011890066787600517, 0.08669780194759369, 0.19902536273002625, 0.013594485819339752, 0.029586223885416985, 0.0, 0.0, 0.0, 0.0], [0.1406458467245102, 0.013298697769641876, 0.01570296101272106, 0.017357872799038887, 0.02233150787651539, 0.02967226319015026, 0.04172082990407944, 0.018995430320501328, 0.038277123123407364, 0.04863560199737549, 0.03094690851867199, 0.016023898497223854, 0.02088090032339096, 0.032438237220048904, 0.030558133497834206, 0.022808346897363663, 0.035377588123083115, 0.031451594084501266, 0.034971147775650024, 0.018679115921258926, 0.03821910172700882, 0.022578874602913857, 0.06819558888673782, 0.04214096814393997, 0.028620852157473564, 0.037750035524368286, 0.0185780618339777, 0.03376871347427368, 0.03641697019338608, 0.012956843711435795, 0.0, 0.0, 0.0], [0.07168618589639664, 0.06924440711736679, 0.01930689997971058, 0.014161988161504269, 0.01682320423424244, 0.0193806029856205, 0.019257429987192154, 0.02200368233025074, 0.013706534169614315, 0.0357837900519371, 0.01846517249941826, 0.05207168683409691, 0.02008516900241375, 0.019862132146954536, 0.020662108436226845, 0.047251589596271515, 0.021076735109090805, 0.036787249147892, 0.024324078112840652, 0.003827548585832119, 0.02392066828906536, 0.00853323470801115, 0.026241622865200043, 0.027380075305700302, 0.034612007439136505, 0.022884182631969452, 0.10047898441553116, 0.06913501769304276, 0.025474585592746735, 0.06495603919029236, 0.030615346506237984, 0.0, 0.0], [0.0691077932715416, 0.03701226785778999, 0.03862114995718002, 0.05933321639895439, 0.015923552215099335, 0.007918553426861763, 0.010371049866080284, 0.006615662947297096, 0.0025200797244906425, 0.0260193832218647, 0.007905225269496441, 0.029652034863829613, 0.04000624269247055, 0.00845133513212204, 0.010741152800619602, 0.050275616347789764, 0.009428860619664192, 0.013601029291749, 0.05036922171711922, 0.03176712244749069, 0.010793033987283707, 0.0072168041951954365, 0.006478430237621069, 0.0148005997762084, 0.021585972979664803, 0.15769490599632263, 0.08884759247303009, 0.019016938284039497, 0.029729334637522697, 0.03316134959459305, 0.050883643329143524, 0.0341508574783802, 0.0], [0.14375509321689606, 0.016811035573482513, 0.009386667050421238, 0.006830308586359024, 0.01165685337036848, 0.0015672279987484217, 0.019711481407284737, 0.0023980382829904556, 0.02123589813709259, 0.04683678224682808, 0.0016905140364542603, 0.005827190354466438, 0.011979990638792515, 0.0018251386936753988, 0.042313333600759506, 0.054913729429244995, 0.002178653609007597, 0.002417013281956315, 0.09604069590568542, 0.0057528759352862835, 0.002557790372520685, 0.007121228612959385, 0.08889926970005035, 0.10852088779211044, 0.005179052706807852, 0.03657734394073486, 0.024719927459955215, 0.003734763478860259, 0.03107706643640995, 0.016887929290533066, 0.094508595764637, 0.07171524316072464, 0.0033723211381584406]], [[1.0, 0.0, 0.0, 0.0, 0.0, 0.0, 0.0, 0.0, 0.0, 0.0, 0.0, 0.0, 0.0, 0.0, 0.0, 0.0, 0.0, 0.0, 0.0, 0.0, 0.0, 0.0, 0.0, 0.0, 0.0, 0.0, 0.0, 0.0, 0.0, 0.0, 0.0, 0.0, 0.0], [0.0004246659518685192, 0.9995753169059753, 0.0, 0.0, 0.0, 0.0, 0.0, 0.0, 0.0, 0.0, 0.0, 0.0, 0.0, 0.0, 0.0, 0.0, 0.0, 0.0, 0.0, 0.0, 0.0, 0.0, 0.0, 0.0, 0.0, 0.0, 0.0, 0.0, 0.0, 0.0, 0.0, 0.0, 0.0], [0.0005621908348985016, 0.01640728861093521, 0.9830306172370911, 0.0, 0.0, 0.0, 0.0, 0.0, 0.0, 0.0, 0.0, 0.0, 0.0, 0.0, 0.0, 0.0, 0.0, 0.0, 0.0, 0.0, 0.0, 0.0, 0.0, 0.0, 0.0, 0.0, 0.0, 0.0, 0.0, 0.0, 0.0, 0.0, 0.0], [0.0011627586791291833, 0.0216820165514946, 0.003762046108022332, 0.9733933210372925, 0.0, 0.0, 0.0, 0.0, 0.0, 0.0, 0.0, 0.0, 0.0, 0.0, 0.0, 0.0, 0.0, 0.0, 0.0, 0.0, 0.0, 0.0, 0.0, 0.0, 0.0, 0.0, 0.0, 0.0, 0.0, 0.0, 0.0, 0.0, 0.0], [3.724443740793504e-05, 0.0001720233412925154, 0.0002814398321788758, 0.0027421461418271065, 0.9967671632766724, 0.0, 0.0, 0.0, 0.0, 0.0, 0.0, 0.0, 0.0, 0.0, 0.0, 0.0, 0.0, 0.0, 0.0, 0.0, 0.0, 0.0, 0.0, 0.0, 0.0, 0.0, 0.0, 0.0, 0.0, 0.0, 0.0, 0.0, 0.0], [0.00826844573020935, 0.00023985578445717692, 7.36189613235183e-05, 6.437728006858379e-05, 0.00017566324095241725, 0.9911779761314392, 0.0, 0.0, 0.0, 0.0, 0.0, 0.0, 0.0, 0.0, 0.0, 0.0, 0.0, 0.0, 0.0, 0.0, 0.0, 0.0, 0.0, 0.0, 0.0, 0.0, 0.0, 0.0, 0.0, 0.0, 0.0, 0.0, 0.0], [0.0012215046444907784, 0.00540045415982604, 0.0016716319369152188, 0.00040775653906166553, 0.0006163661018945277, 0.0010931191500276327, 0.9895892143249512, 0.0, 0.0, 0.0, 0.0, 0.0, 0.0, 0.0, 0.0, 0.0, 0.0, 0.0, 0.0, 0.0, 0.0, 0.0, 0.0, 0.0, 0.0, 0.0, 0.0, 0.0, 0.0, 0.0, 0.0, 0.0, 0.0], [0.001245975960046053, 0.0009121220791712403, 0.0005976713728159666, 0.00013656872033607215, 0.0003304101701360196, 0.0015722772805020213, 0.003880807664245367, 0.9913241863250732, 0.0, 0.0, 0.0, 0.0, 0.0, 0.0, 0.0, 0.0, 0.0, 0.0, 0.0, 0.0, 0.0, 0.0, 0.0, 0.0, 0.0, 0.0, 0.0, 0.0, 0.0, 0.0, 0.0, 0.0, 0.0], [0.00028217461658641696, 0.004068182315677404, 0.0026605194434523582, 0.0013093105517327785, 0.008030476048588753, 0.0002879090898204595, 0.00022922919015400112, 0.0003948427038267255, 0.9827372431755066, 0.0, 0.0, 0.0, 0.0, 0.0, 0.0, 0.0, 0.0, 0.0, 0.0, 0.0, 0.0, 0.0, 0.0, 0.0, 0.0, 0.0, 0.0, 0.0, 0.0, 0.0, 0.0, 0.0, 0.0], [3.47393324773293e-05, 0.00039538476266898215, 0.00013272723299451172, 0.00025852309772744775, 0.0010855591390281916, 9.198043699143454e-05, 0.00032670784275978804, 0.0005427454598248005, 0.006105933338403702, 0.9910256266593933, 0.0, 0.0, 0.0, 0.0, 0.0, 0.0, 0.0, 0.0, 0.0, 0.0, 0.0, 0.0, 0.0, 0.0, 0.0, 0.0, 0.0, 0.0, 0.0, 0.0, 0.0, 0.0, 0.0], [0.0033785076811909676, 5.090876584290527e-05, 1.6452078853035346e-05, 1.6926183889154345e-05, 4.181411713943817e-05, 0.49394041299819946, 0.0001298127754125744, 0.0008837342611514032, 3.221200677216984e-05, 2.7252099243924022e-05, 0.5014819502830505, 0.0, 0.0, 0.0, 0.0, 0.0, 0.0, 0.0, 0.0, 0.0, 0.0, 0.0, 0.0, 0.0, 0.0, 0.0, 0.0, 0.0, 0.0, 0.0, 0.0, 0.0, 0.0], [8.416055788984522e-05, 0.0013417234877124429, 0.0012613608269020915, 0.0021450743079185486, 0.004042360465973616, 0.0004830540856346488, 0.0001158266604761593, 0.00015203609655145556, 2.6925305064651184e-05, 0.00012675137259066105, 0.00031289938488043845, 0.9899077415466309, 0.0, 0.0, 0.0, 0.0, 0.0, 0.0, 0.0, 0.0, 0.0, 0.0, 0.0, 0.0, 0.0, 0.0, 0.0, 0.0, 0.0, 0.0, 0.0, 0.0, 0.0], [0.00037822307785972953, 0.000983756734058261, 0.03934124484658241, 0.0027322471141815186, 0.00366801954805851, 0.00011039181117666885, 0.00012931021046824753, 0.00021743500838056207, 0.00010623285197652876, 0.0007748190546408296, 6.647672853432596e-05, 0.0003148665127810091, 0.9511770009994507, 0.0, 0.0, 0.0, 0.0, 0.0, 0.0, 0.0, 0.0, 0.0, 0.0, 0.0, 0.0, 0.0, 0.0, 0.0, 0.0, 0.0, 0.0, 0.0, 0.0], [0.00210172007791698, 2.4436882085865363e-05, 7.788777111272793e-06, 8.651618372823577e-06, 2.0140030756010674e-05, 0.29971376061439514, 7.525253022322431e-05, 0.0004898309707641602, 1.8459460989106447e-05, 1.534453986096196e-05, 0.32833874225616455, 4.175802678219043e-05, 6.469185791502241e-06, 0.3691376745700836, 0.0, 0.0, 0.0, 0.0, 0.0, 0.0, 0.0, 0.0, 0.0, 0.0, 0.0, 0.0, 0.0, 0.0, 0.0, 0.0, 0.0, 0.0, 0.0], [0.00014968313917052, 0.00011296597222099081, 0.0003629484854172915, 0.00018591186380945146, 0.00016460877668578178, 4.1432256693951786e-05, 2.8764718081220053e-05, 7.786935748299584e-05, 0.0009200984495691955, 0.010340185835957527, 2.7572339604375884e-05, 1.7833221136243083e-05, 0.0003305449790786952, 2.4375704015255906e-05, 0.9872152805328369, 0.0, 0.0, 0.0, 0.0, 0.0, 0.0, 0.0, 0.0, 0.0, 0.0, 0.0, 0.0, 0.0, 0.0, 0.0, 0.0, 0.0, 0.0], [0.00010753796232165769, 0.002178182825446129, 0.002042605308815837, 0.004251915030181408, 0.006989872083067894, 2.5118699340964667e-05, 0.0007779006846249104, 0.0005783525411970913, 0.002937830751761794, 0.03322531282901764, 1.719921601761598e-05, 0.0008936444064602256, 0.0015238532796502113, 1.4656765415566042e-05, 0.006222618278115988, 0.9382133483886719, 0.0, 0.0, 0.0, 0.0, 0.0, 0.0, 0.0, 0.0, 0.0, 0.0, 0.0, 0.0, 0.0, 0.0, 0.0, 0.0, 0.0], [0.0013634879142045975, 1.3226036571722943e-05, 4.013935267721536e-06, 4.803057436220115e-06, 1.0257443136652e-05, 0.19665947556495667, 4.527255077846348e-05, 0.00027762597892433405, 1.1714434549503494e-05, 9.47331227507675e-06, 0.22919593751430511, 2.6430629077367485e-05, 4.1018447518581524e-06, 0.26576098799705505, 8.515356967109255e-06, 4.536017513601109e-06, 0.30660009384155273, 0.0, 0.0, 0.0, 0.0, 0.0, 0.0, 0.0, 0.0, 0.0, 0.0, 0.0, 0.0, 0.0, 0.0, 0.0, 0.0], [0.0008924750727601349, 0.00013490796845871955, 4.779836308443919e-05, 5.803714520880021e-05, 0.00010480164200998843, 0.012799101881682873, 0.0007168236770667136, 0.032579515129327774, 2.6449932192917913e-05, 0.00011185064067831263, 0.011884260922670364, 4.010270276921801e-05, 5.5553988204337656e-05, 0.01237786840647459, 0.00010783460311358795, 5.404365947470069e-05, 0.013122137635946274, 0.9148864150047302, 0.0, 0.0, 0.0, 0.0, 0.0, 0.0, 0.0, 0.0, 0.0, 0.0, 0.0, 0.0, 0.0, 0.0, 0.0], [5.075309672974981e-06, 4.396138319862075e-05, 3.398504850338213e-05, 7.940286013763398e-05, 5.4779007768956944e-05, 7.921543101474526e-07, 9.313333066529594e-06, 7.727078809693921e-06, 8.597262058174238e-05, 0.0001227404281962663, 5.141488941262651e-07, 1.702793611002562e-06, 3.834182643913664e-05, 4.450971005098836e-07, 0.00013928208500146866, 0.0003275803755968809, 3.994800863438286e-07, 3.948134235542966e-06, 0.999043881893158, 0.0, 0.0, 0.0, 0.0, 0.0, 0.0, 0.0, 0.0, 0.0, 0.0, 0.0, 0.0, 0.0, 0.0], [9.346216393169016e-05, 0.001839574659243226, 0.0025233160704374313, 0.01808728091418743, 0.0029363802168518305, 0.00027335836784914136, 4.872979116044007e-05, 0.00042127820779569447, 0.00015624375373590738, 0.0009748361771926284, 0.00020533644419629127, 0.0010228854371234775, 0.001954806037247181, 0.00019470401457510889, 0.0011294216383248568, 0.0016656133811920881, 0.0001873407600214705, 0.0009503461769782007, 0.0004455185553524643, 0.9648895859718323, 0.0, 0.0, 0.0, 0.0, 0.0, 0.0, 0.0, 0.0, 0.0, 0.0, 0.0, 0.0, 0.0], [0.0010859699686989188, 8.512331987731159e-06, 2.530730625949218e-06, 3.0625258204963757e-06, 5.9751278058683965e-06, 0.13292624056339264, 3.345325603731908e-05, 0.00018891270156018436, 8.477753908664454e-06, 6.540426056744764e-06, 0.16445893049240112, 1.8130069292965345e-05, 3.0627477372036083e-06, 0.19719161093235016, 6.429846507671755e-06, 3.444732328716782e-06, 0.2331714779138565, 0.0022796255070716143, 3.7134359445190057e-06, 3.528808520059101e-05, 0.268558531999588, 0.0, 0.0, 0.0, 0.0, 0.0, 0.0, 0.0, 0.0, 0.0, 0.0, 0.0, 0.0], [0.0004197950765956193, 0.00011805014219135046, 0.0001424048823537305, 3.796788223553449e-05, 0.00019043161591980606, 0.0017651217058300972, 0.0005709825200028718, 0.0005008853622712195, 8.840746158966795e-05, 0.0001420867774868384, 0.0016639818204566836, 3.3481079299235716e-05, 2.441395918140188e-05, 0.0017546487506479025, 6.520311580970883e-05, 2.414262417005375e-05, 0.0018299140501767397, 0.001569102518260479, 3.9748771087033674e-05, 0.00015712401363998652, 0.0018554466078057885, 0.9870065450668335, 0.0, 0.0, 0.0, 0.0, 0.0, 0.0, 0.0, 0.0, 0.0, 0.0, 0.0], [7.501784421037883e-05, 0.0014379840577021241, 6.345157453324646e-05, 0.00010864839714486152, 0.00015633183647878468, 3.2101231681735953e-06, 0.002203276613727212, 0.0002207657671533525, 5.2403069275896996e-05, 4.88158839289099e-05, 2.264461500089965e-06, 1.5327248547691852e-05, 4.157144758210052e-06, 2.0228408175171353e-06, 6.2968028942123055e-06, 4.8486737796338275e-05, 1.992900934055797e-06, 3.247004497097805e-05, 0.0012695139739662409, 1.96326454897644e-05, 1.8090934190695407e-06, 0.0005810291040688753, 0.9936450719833374, 0.0, 0.0, 0.0, 0.0, 0.0, 0.0, 0.0, 0.0, 0.0, 0.0], [7.450144039466977e-05, 0.0006139380275271833, 0.0009361191187053919, 0.0008487799786962569, 0.002850631484761834, 1.0365030902903527e-05, 0.00021614256547763944, 0.00017397513147443533, 0.002050836570560932, 0.0058052996173501015, 8.055229955061805e-06, 8.086584421107545e-05, 0.0007702436414547265, 7.288177130249096e-06, 0.001057614921592176, 0.002275596372783184, 6.663255135208601e-06, 0.0001162100670626387, 0.0005972448270767927, 8.736289601074532e-05, 6.332331849989714e-06, 6.0964473959757015e-05, 6.090577517170459e-05, 0.9812840819358826, 0.0, 0.0, 0.0, 0.0, 0.0, 0.0, 0.0, 0.0, 0.0], [0.0005848738364875317, 0.0001590918836882338, 1.0836472029041033e-05, 7.365470082731918e-05, 0.00011349524720571935, 0.0008256656583398581, 0.00031910985126160085, 0.01852995902299881, 1.0226591257378459e-05, 4.9587179091759026e-05, 0.0007716414402239025, 4.4548200094141066e-05, 9.86501618172042e-06, 0.0008067172020673752, 2.2673864805256017e-05, 1.246411648025969e-05, 0.0008449104498140514, 0.008790099062025547, 3.579234180506319e-05, 3.662859307951294e-05, 0.0008917524828575552, 0.001079176552593708, 0.000370846304576844, 0.00010837137961061671, 0.9654980301856995, 0.0, 0.0, 0.0, 0.0, 0.0, 0.0, 0.0, 0.0], [1.6459925973322242e-05, 0.00017152438522316515, 3.2083211408462375e-05, 0.00010234182263957337, 0.0026318759191781282, 9.886184670904186e-06, 3.2508516596863046e-05, 3.741757609532215e-05, 0.00012631528079509735, 4.9912112444872037e-05, 8.302548849314917e-06, 8.443414844805375e-05, 3.127968739136122e-05, 7.633363566128537e-06, 1.0101362931891344e-05, 5.6673809012863785e-05, 7.442136393365217e-06, 2.7689680791809224e-05, 1.841835728555452e-05, 2.8794345325877657e-06, 6.840427886345424e-06, 4.279879249224905e-06, 0.0004317661514505744, 0.00017617484263610095, 8.995590906124562e-05, 0.9958257675170898, 0.0, 0.0, 0.0, 0.0, 0.0, 0.0, 0.0], [2.6368023100076243e-05, 0.00018008674669545144, 0.00018082918541040272, 0.0003046466445084661, 0.0003939079470001161, 4.674831507145427e-05, 2.7231642889091745e-05, 4.8734815209172666e-05, 0.000291316129732877, 0.0004206165031064302, 3.804632797255181e-05, 0.0002524509036447853, 5.606727427220903e-05, 3.820361598627642e-05, 0.0015365086728706956, 0.0012537215370684862, 3.593418296077289e-05, 2.3036574930301867e-05, 0.0001803622581064701, 0.00012266065459698439, 3.517777076922357e-05, 6.924665649421513e-05, 0.00011267283844063058, 0.0008507365128025413, 0.0001436186139471829, 0.0002352791343582794, 0.9930958151817322, 0.0, 0.0, 0.0, 0.0, 0.0, 0.0], [0.0007048248080536723, 5.6753891840344295e-05, 3.3512924346723594e-06, 7.472657671314664e-06, 1.785946005838923e-05, 0.0008156524272635579, 4.952948074787855e-05, 0.0013530971482396126, 3.741763430298306e-05, 0.00014378006744664162, 0.0007639332907274365, 9.991685146815144e-06, 2.8844385724369204e-06, 0.0007552222232334316, 0.00010159601515624672, 3.120541123280418e-06, 0.0008060948457568884, 0.0011406756239011884, 1.4343104339786805e-05, 9.910167136695236e-06, 0.0008649178198538721, 8.663265907671303e-05, 3.4695473004831e-05, 0.00010265821038046852, 0.007663471158593893, 4.1878953197738156e-05, 3.4908730413008016e-06, 0.9844048619270325, 0.0, 0.0, 0.0, 0.0, 0.0], [2.0288294763304293e-05, 2.9542699849116616e-05, 5.0375034334138036e-05, 0.0009778320090845227, 0.3728252649307251, 6.66130017634714e-06, 1.573364352225326e-05, 3.981243571615778e-05, 0.00022353220265358686, 0.00012674322351813316, 5.118435637996299e-06, 0.00024116132408380508, 1.2973826414963696e-05, 4.800686838279944e-06, 2.3321617845795117e-05, 7.723527232883498e-05, 4.5934334593766835e-06, 1.9647124645416625e-05, 0.00021129944070708007, 1.1453501429059543e-05, 4.380481641419465e-06, 1.4442671272263397e-05, 3.676746564451605e-05, 0.000118453215691261, 3.7977195461280644e-05, 0.0007802759064361453, 0.0004048359696753323, 1.042955591401551e-05, 0.6236649751663208, 0.0, 0.0, 0.0, 0.0], [2.058288737316616e-05, 8.831225568428636e-05, 0.00020454842888284475, 0.00030188896926119924, 8.223879558499902e-05, 1.970437733689323e-05, 0.0001408507232554257, 2.8963118893443607e-05, 7.669370461371727e-06, 3.724609632627107e-05, 1.6736737961764447e-05, 6.404684245353565e-05, 0.0006910574156790972, 1.6027539459173568e-05, 0.0001560363598400727, 0.00014825885591562837, 1.5700039512012154e-05, 9.155373118119314e-05, 8.525074372300878e-05, 4.904507932224078e-06, 1.5784366041771136e-05, 5.293096910463646e-05, 0.0005298344185575843, 0.0005658384179696441, 6.167318497318774e-05, 6.729484448442236e-05, 0.000307743699522689, 1.0369129086029716e-05, 6.79933000355959e-05, 0.9960988759994507, 0.0, 0.0, 0.0], [1.3371331988309976e-05, 0.0009821540443226695, 0.0004154812777414918, 0.0001144233756349422, 0.0003873077221214771, 5.660860551870428e-06, 0.0012746269349008799, 0.0005708065000362694, 0.0006383624277077615, 0.0005776658072136343, 4.127733518544119e-06, 9.161743037111592e-06, 9.142841736320406e-05, 3.774864126171451e-06, 1.3575295270129573e-05, 0.0002916179655585438, 3.4474890071578557e-06, 7.899177580839023e-05, 0.003189122537150979, 4.885083853878314e-06, 3.165286670991918e-06, 1.4087455383560155e-05, 0.0001567144354339689, 0.00035448907874524593, 0.00017265455971937627, 0.0013050627894699574, 0.00021867647592443973, 2.6776719096233137e-05, 0.00026460207300260663, 1.3334529285202734e-05, 0.9888005256652832, 0.0, 0.0], [2.745508936641272e-05, 0.00016438262537121773, 7.996430940693244e-05, 0.001191497198306024, 0.0007883626385591924, 2.658417088241549e-06, 3.0057650292292237e-05, 7.457976153091295e-06, 0.00014940995606593788, 2.885718822653871e-05, 1.8738293192654965e-06, 0.0003328806778881699, 5.16086547577288e-05, 1.7577482367414632e-06, 0.00012656577746383846, 0.00014267012011259794, 1.6954487591647194e-06, 2.1952595488983206e-05, 0.00023040804080665112, 4.4293432438280433e-05, 1.6103322195704095e-06, 2.7008076358470134e-05, 0.0002388486755080521, 0.0001904603559523821, 9.49615514400648e-06, 0.00044664356391876936, 0.00022095811436884105, 5.379181402531685e-06, 0.0006956409779377282, 0.00015470781363546848, 0.0002548544143792242, 0.9943286776542664, 0.0], [0.006231046747416258, 9.722806862555444e-05, 6.871596269775182e-06, 2.1151136024855077e-05, 5.828053326695226e-05, 0.007238905411213636, 2.098789809679147e-05, 0.00025459096650592983, 6.243865209398791e-05, 2.09246627491666e-05, 0.007872136309742928, 5.5853244703030214e-05, 9.868757842923515e-06, 0.009169397875666618, 7.203003042377532e-05, 7.068680588417919e-06, 0.010345976799726486, 0.0013096530456095934, 3.803680374403484e-05, 8.022697147680447e-05, 0.012053255923092365, 4.071998773724772e-05, 3.6860749332845444e-06, 3.471342279226519e-05, 0.0005061830161139369, 8.918932871893048e-05, 2.9112088668625802e-05, 0.0012772815534844995, 8.489656465826556e-05, 0.00018447409092914313, 0.00013425741053652018, 6.813048094045371e-05, 0.9425214529037476]], [[1.0, 0.0, 0.0, 0.0, 0.0, 0.0, 0.0, 0.0, 0.0, 0.0, 0.0, 0.0, 0.0, 0.0, 0.0, 0.0, 0.0, 0.0, 0.0, 0.0, 0.0, 0.0, 0.0, 0.0, 0.0, 0.0, 0.0, 0.0, 0.0, 0.0, 0.0, 0.0, 0.0], [0.943029522895813, 0.05697045475244522, 0.0, 0.0, 0.0, 0.0, 0.0, 0.0, 0.0, 0.0, 0.0, 0.0, 0.0, 0.0, 0.0, 0.0, 0.0, 0.0, 0.0, 0.0, 0.0, 0.0, 0.0, 0.0, 0.0, 0.0, 0.0, 0.0, 0.0, 0.0, 0.0, 0.0, 0.0], [0.9185556173324585, 0.03280003368854523, 0.04864436388015747, 0.0, 0.0, 0.0, 0.0, 0.0, 0.0, 0.0, 0.0, 0.0, 0.0, 0.0, 0.0, 0.0, 0.0, 0.0, 0.0, 0.0, 0.0, 0.0, 0.0, 0.0, 0.0, 0.0, 0.0, 0.0, 0.0, 0.0, 0.0, 0.0, 0.0], [0.8779287934303284, 0.05643429234623909, 0.04271192103624344, 0.022925030440092087, 0.0, 0.0, 0.0, 0.0, 0.0, 0.0, 0.0, 0.0, 0.0, 0.0, 0.0, 0.0, 0.0, 0.0, 0.0, 0.0, 0.0, 0.0, 0.0, 0.0, 0.0, 0.0, 0.0, 0.0, 0.0, 0.0, 0.0, 0.0, 0.0], [0.804131805896759, 0.02909821644425392, 0.07556727528572083, 0.05643591657280922, 0.034766778349876404, 0.0, 0.0, 0.0, 0.0, 0.0, 0.0, 0.0, 0.0, 0.0, 0.0, 0.0, 0.0, 0.0, 0.0, 0.0, 0.0, 0.0, 0.0, 0.0, 0.0, 0.0, 0.0, 0.0, 0.0, 0.0, 0.0, 0.0, 0.0], [0.4943104684352875, 0.02018355205655098, 0.02796657383441925, 0.01831907592713833, 0.0314420685172081, 0.40777820348739624, 0.0, 0.0, 0.0, 0.0, 0.0, 0.0, 0.0, 0.0, 0.0, 0.0, 0.0, 0.0, 0.0, 0.0, 0.0, 0.0, 0.0, 0.0, 0.0, 0.0, 0.0, 0.0, 0.0, 0.0, 0.0, 0.0, 0.0], [0.6057478189468384, 0.029242414981126785, 0.09491509944200516, 0.07609348744153976, 0.06614662706851959, 0.08705782145261765, 0.04079665243625641, 0.0, 0.0, 0.0, 0.0, 0.0, 0.0, 0.0, 0.0, 0.0, 0.0, 0.0, 0.0, 0.0, 0.0, 0.0, 0.0, 0.0, 0.0, 0.0, 0.0, 0.0, 0.0, 0.0, 0.0, 0.0, 0.0], [0.44838201999664307, 0.04542431980371475, 0.07401479780673981, 0.06864849478006363, 0.09376626461744308, 0.0877426341176033, 0.06534271687269211, 0.11667871475219727, 0.0, 0.0, 0.0, 0.0, 0.0, 0.0, 0.0, 0.0, 0.0, 0.0, 0.0, 0.0, 0.0, 0.0, 0.0, 0.0, 0.0, 0.0, 0.0, 0.0, 0.0, 0.0, 0.0, 0.0, 0.0], [0.4916927218437195, 0.13782072067260742, 0.03955019265413284, 0.061533186584711075, 0.04539967328310013, 0.04073144495487213, 0.06228701025247574, 0.05861866474151611, 0.06236641854047775, 0.0, 0.0, 0.0, 0.0, 0.0, 0.0, 0.0, 0.0, 0.0, 0.0, 0.0, 0.0, 0.0, 0.0, 0.0, 0.0, 0.0, 0.0, 0.0, 0.0, 0.0, 0.0, 0.0, 0.0], [0.5404125452041626, 0.044426657259464264, 0.03957854583859444, 0.04188805818557739, 0.07529857754707336, 0.0466950349509716, 0.0484752394258976, 0.05500519275665283, 0.08293059468269348, 0.025289513170719147, 0.0, 0.0, 0.0, 0.0, 0.0, 0.0, 0.0, 0.0, 0.0, 0.0, 0.0, 0.0, 0.0, 0.0, 0.0, 0.0, 0.0, 0.0, 0.0, 0.0, 0.0, 0.0, 0.0], [0.28273555636405945, 0.014234174974262714, 0.017647748813033104, 0.011433064937591553, 0.021741721779108047, 0.266653835773468, 0.015403537079691887, 0.047349292784929276, 0.01776754856109619, 0.013926065526902676, 0.29110750555992126, 0.0, 0.0, 0.0, 0.0, 0.0, 0.0, 0.0, 0.0, 0.0, 0.0, 0.0, 0.0, 0.0, 0.0, 0.0, 0.0, 0.0, 0.0, 0.0, 0.0, 0.0, 0.0], [0.344966322183609, 0.046116799116134644, 0.05771547183394432, 0.11131860315799713, 0.11289367079734802, 0.027930330485105515, 0.038591887801885605, 0.05656527727842331, 0.05864057317376137, 0.0664859265089035, 0.026114365085959435, 0.05266084149479866, 0.0, 0.0, 0.0, 0.0, 0.0, 0.0, 0.0, 0.0, 0.0, 0.0, 0.0, 0.0, 0.0, 0.0, 0.0, 0.0, 0.0, 0.0, 0.0, 0.0, 0.0], [0.4699217975139618, 0.03201570361852646, 0.10772896558046341, 0.02700677700340748, 0.044658832252025604, 0.02277354709804058, 0.023117078468203545, 0.025491517037153244, 0.04950270056724548, 0.02657395601272583, 0.019708868116140366, 0.06337954849004745, 0.08812075853347778, 0.0, 0.0, 0.0, 0.0, 0.0, 0.0, 0.0, 0.0, 0.0, 0.0, 0.0, 0.0, 0.0, 0.0, 0.0, 0.0, 0.0, 0.0, 0.0, 0.0], [0.20661760866641998, 0.010379291139543056, 0.012261935509741306, 0.00831909291446209, 0.016007086262106895, 0.1952774077653885, 0.01145328488200903, 0.03475673869252205, 0.01307358592748642, 0.010938980616629124, 0.21602492034435272, 0.005866493564099073, 0.02364230342209339, 0.23538129031658173, 0.0, 0.0, 0.0, 0.0, 0.0, 0.0, 0.0, 0.0, 0.0, 0.0, 0.0, 0.0, 0.0, 0.0, 0.0, 0.0, 0.0, 0.0, 0.0], [0.3399347960948944, 0.029161639511585236, 0.09540718793869019, 0.03395186364650726, 0.08440461754798889, 0.012559536844491959, 0.02935863845050335, 0.024564174935221672, 0.10622431337833405, 0.04689214378595352, 0.011469585821032524, 0.006369189824908972, 0.11145279556512833, 0.011317994445562363, 0.056931477040052414, 0.0, 0.0, 0.0, 0.0, 0.0, 0.0, 0.0, 0.0, 0.0, 0.0, 0.0, 0.0, 0.0, 0.0, 0.0, 0.0, 0.0, 0.0], [0.4040881395339966, 0.024195684120059013, 0.03891001269221306, 0.014727428555488586, 0.024456579238176346, 0.038450006395578384, 0.039230331778526306, 0.037171389907598495, 0.06030002608895302, 0.041985440999269485, 0.037167154252529144, 0.016391245648264885, 0.03928966447710991, 0.03772980347275734, 0.13448576629161835, 0.01142128836363554, 0.0, 0.0, 0.0, 0.0, 0.0, 0.0, 0.0, 0.0, 0.0, 0.0, 0.0, 0.0, 0.0, 0.0, 0.0, 0.0, 0.0], [0.15876436233520508, 0.008203903213143349, 0.009295260533690453, 0.006221720017492771, 0.011793217621743679, 0.15069788694381714, 0.008851953782141209, 0.026313554495573044, 0.010186922736465931, 0.008433726616203785, 0.1676223874092102, 0.004420032259076834, 0.018211789429187775, 0.18350806832313538, 0.02092733606696129, 0.006447782274335623, 0.2001000940799713, 0.0, 0.0, 0.0, 0.0, 0.0, 0.0, 0.0, 0.0, 0.0, 0.0, 0.0, 0.0, 0.0, 0.0, 0.0, 0.0], [0.1753920167684555, 0.020569654181599617, 0.018291426822543144, 0.009298018179833889, 0.01737789437174797, 0.04253477230668068, 0.020701566711068153, 0.050443943589925766, 0.02543802745640278, 0.01721823401749134, 0.043115369975566864, 0.01334981806576252, 0.028528621420264244, 0.045972537249326706, 0.034088198095560074, 0.01983419992029667, 0.04992840066552162, 0.3679172992706299, 0.0, 0.0, 0.0, 0.0, 0.0, 0.0, 0.0, 0.0, 0.0, 0.0, 0.0, 0.0, 0.0, 0.0, 0.0], [0.26033326983451843, 0.017148379236459732, 0.03745277225971222, 0.07594801485538483, 0.04674705117940903, 0.018068520352244377, 0.03134645149111748, 0.037415143102407455, 0.07175806909799576, 0.05872539058327675, 0.017078710719943047, 0.040305912494659424, 0.05706358328461647, 0.0171135775744915, 0.10491336137056351, 0.04670536145567894, 0.017230205237865448, 0.024682141840457916, 0.01996397040784359, 0.0, 0.0, 0.0, 0.0, 0.0, 0.0, 0.0, 0.0, 0.0, 0.0, 0.0, 0.0, 0.0, 0.0], [0.30547067523002625, 0.05190495401620865, 0.043468963354825974, 0.021846864372491837, 0.02101719379425049, 0.03390473127365112, 0.04190473258495331, 0.03909287974238396, 0.028871947899460793, 0.023003434762358665, 0.0320579931139946, 0.023334499448537827, 0.07110598683357239, 0.03290087729692459, 0.06164192408323288, 0.03183261677622795, 0.033767662942409515, 0.04571490362286568, 0.03501521423459053, 0.022141896188259125, 0.0, 0.0, 0.0, 0.0, 0.0, 0.0, 0.0, 0.0, 0.0, 0.0, 0.0, 0.0, 0.0], [0.12242947518825531, 0.006105298176407814, 0.006670295726507902, 0.004581778310239315, 0.00933779589831829, 0.11381791532039642, 0.006783361081033945, 0.019719919189810753, 0.007580864708870649, 0.006613645236939192, 0.12765930593013763, 0.0035026560071855783, 0.014002328738570213, 0.14000985026359558, 0.015684885904192924, 0.005092608276754618, 0.1533621847629547, 0.03527417406439781, 0.022465622052550316, 0.006954459473490715, 0.1723516285419464, 0.0, 0.0, 0.0, 0.0, 0.0, 0.0, 0.0, 0.0, 0.0, 0.0, 0.0, 0.0], [0.20538491010665894, 0.034778520464897156, 0.014682922512292862, 0.03118332475423813, 0.030931271612644196, 0.021952766925096512, 0.032908644527196884, 0.05740534886717796, 0.05587517097592354, 0.04864276573061943, 0.023520752787590027, 0.01510855183005333, 0.027386317029595375, 0.024518456310033798, 0.060604527592659, 0.03477614372968674, 0.026137834414839745, 0.05168437957763672, 0.06281402707099915, 0.020291468128561974, 0.028601735830307007, 0.09081020206212997, 0.0, 0.0, 0.0, 0.0, 0.0, 0.0, 0.0, 0.0, 0.0, 0.0, 0.0], [0.23978590965270996, 0.03132351115345955, 0.05037754774093628, 0.01586943119764328, 0.03901459649205208, 0.022805538028478622, 0.04285356402397156, 0.02888232097029686, 0.04046262055635452, 0.034107256680727005, 0.022644517943263054, 0.03923071548342705, 0.07238573580980301, 0.022345516830682755, 0.049581050872802734, 0.03193335607647896, 0.023325590416789055, 0.04521363228559494, 0.03055436909198761, 0.022876493632793427, 0.024732299149036407, 0.05549483001232147, 0.014199567027390003, 0.0, 0.0, 0.0, 0.0, 0.0, 0.0, 0.0, 0.0, 0.0, 0.0], [0.2358168214559555, 0.020558306947350502, 0.04375005513429642, 0.0297048669308424, 0.03703878074884415, 0.014953462406992912, 0.040043093264102936, 0.027184367179870605, 0.04576181620359421, 0.03809260576963425, 0.014181884005665779, 0.03789154440164566, 0.06518244743347168, 0.014182931743562222, 0.054894935339689255, 0.023720962926745415, 0.014592780731618404, 0.025570042431354523, 0.07356180250644684, 0.039182357490062714, 0.014925516210496426, 0.046288661658763885, 0.02780105359852314, 0.015118876472115517, 0.0, 0.0, 0.0, 0.0, 0.0, 0.0, 0.0, 0.0, 0.0], [0.14254961907863617, 0.012010164558887482, 0.016881290823221207, 0.020742563530802727, 0.03245177119970322, 0.029626021161675453, 0.03029518760740757, 0.056208718568086624, 0.02960873395204544, 0.029481830075383186, 0.03263988345861435, 0.010038227774202824, 0.04078619182109833, 0.03462786599993706, 0.03391636908054352, 0.020155729725956917, 0.03684321045875549, 0.06064695864915848, 0.04744711145758629, 0.03252530097961426, 0.04040035605430603, 0.05947759747505188, 0.03129401057958603, 0.04792545735836029, 0.0714198648929596, 0.0, 0.0, 0.0, 0.0, 0.0, 0.0, 0.0, 0.0], [0.22229067981243134, 0.059111349284648895, 0.0370267890393734, 0.04059012234210968, 0.027254492044448853, 0.01917477883398533, 0.03171537071466446, 0.020462162792682648, 0.03811328113079071, 0.019927892833948135, 0.01853892207145691, 0.015436709858477116, 0.04536491632461548, 0.0193557720631361, 0.05035829171538353, 0.03328137844800949, 0.020179763436317444, 0.03679434582591057, 0.043313875794410706, 0.028476420789957047, 0.021317342296242714, 0.04771285504102707, 0.013107025995850563, 0.026336045935750008, 0.03021138906478882, 0.03454805910587311, 0.0, 0.0, 0.0, 0.0, 0.0, 0.0, 0.0], [0.28438133001327515, 0.023870114237070084, 0.04641878232359886, 0.010260084643959999, 0.033909864723682404, 0.018301473930478096, 0.02370886504650116, 0.02476685121655464, 0.0257677361369133, 0.022968832403421402, 0.016735466197133064, 0.013406947255134583, 0.045986615121364594, 0.016673246398568153, 0.08106391131877899, 0.05033260956406593, 0.01672617346048355, 0.019904818385839462, 0.03032534383237362, 0.01014631986618042, 0.017318226397037506, 0.01904095895588398, 0.011081119067966938, 0.052046407014131546, 0.033353518694639206, 0.038808856159448624, 0.012695521116256714, 0.0, 0.0, 0.0, 0.0, 0.0, 0.0], [0.11854352056980133, 0.013350939378142357, 0.013422021642327309, 0.0302731990814209, 0.026162942871451378, 0.020776191726326942, 0.021280208602547646, 0.037989355623722076, 0.03536440432071686, 0.03665180504322052, 0.022004010155797005, 0.015380024909973145, 0.030023114755749702, 0.02329968847334385, 0.03000754863023758, 0.014861365780234337, 0.0245219599455595, 0.03999800980091095, 0.03900158032774925, 0.03600766882300377, 0.026851218193769455, 0.06795872002840042, 0.03893132507801056, 0.05725807696580887, 0.06659837067127228, 0.03075684979557991, 0.023343218490481377, 0.059382691979408264, 0.0, 0.0, 0.0, 0.0, 0.0], [0.25091859698295593, 0.011351891793310642, 0.023033946752548218, 0.01884976029396057, 0.013208831660449505, 0.016430387273430824, 0.03763696178793907, 0.02151942066848278, 0.03823147714138031, 0.031223101541399956, 0.01608109287917614, 0.017179002985358238, 0.0823965072631836, 0.015775403007864952, 0.049693115055561066, 0.03397902101278305, 0.016469139605760574, 0.025656115263700485, 0.053269315510988235, 0.024380968883633614, 0.017032910138368607, 0.03106255829334259, 0.014834254048764706, 0.04310779646039009, 0.0278183463960886, 0.015127943828701973, 0.012749834917485714, 0.026852663606405258, 0.014129591174423695, 0.0, 0.0, 0.0, 0.0], [0.19256944954395294, 0.022833673283457756, 0.014495889656245708, 0.028055019676685333, 0.03290428966283798, 0.018577082082629204, 0.02377673052251339, 0.014988926239311695, 0.027755478397011757, 0.01995215192437172, 0.018426889553666115, 0.02680845372378826, 0.040261976420879364, 0.018957344815135002, 0.01998024247586727, 0.039050307124853134, 0.01949433796107769, 0.030714334920048714, 0.07932320982217789, 0.03619769960641861, 0.020379599183797836, 0.023319294676184654, 0.018723847344517708, 0.05692766606807709, 0.02392755076289177, 0.039243265986442566, 0.021783530712127686, 0.020374223589897156, 0.041788313537836075, 0.008409240283071995, 0.0, 0.0, 0.0], [0.18919387459754944, 0.014352075755596161, 0.0278293676674366, 0.018936043605208397, 0.054552335292100906, 0.024302400648593903, 0.020752547308802605, 0.03050178848206997, 0.016900410875678062, 0.029904045164585114, 0.02311178483068943, 0.021664844825863838, 0.0333598330616951, 0.023050503805279732, 0.027927033603191376, 0.026253478601574898, 0.024257969111204147, 0.02439497970044613, 0.017666680738329887, 0.022081071510910988, 0.02544151246547699, 0.023996727541089058, 0.015941409394145012, 0.021863479167222977, 0.048762742429971695, 0.010234068147838116, 0.025762980803847313, 0.061923276633024216, 0.06737106293439865, 0.018184129148721695, 0.00952551607042551, 0.0, 0.0], [0.27111953496932983, 0.05460578203201294, 0.03970597684383392, 0.03512894734740257, 0.020313767716288567, 0.008183852769434452, 0.022556617856025696, 0.014036444947123528, 0.026198463514447212, 0.03235536068677902, 0.007185027468949556, 0.01081349328160286, 0.05162609741091728, 0.007057543378323317, 0.04232776165008545, 0.018505984917283058, 0.006952994968742132, 0.012550849467515945, 0.037855181843042374, 0.014787377789616585, 0.007130765821784735, 0.018956730142235756, 0.010758972726762295, 0.02354053035378456, 0.01625620760023594, 0.007915407419204712, 0.03652311861515045, 0.014562279917299747, 0.019251449033617973, 0.010911819525063038, 0.0343967080116272, 0.06592902541160583, 0.0], [0.14836539328098297, 0.014506885781884193, 0.007646287325769663, 0.01103874109685421, 0.02630249410867691, 0.013194814324378967, 0.027184873819351196, 0.017392195761203766, 0.016122113913297653, 0.03288079425692558, 0.014050282537937164, 0.007167341653257608, 0.0161200612783432, 0.01464702095836401, 0.018450897186994553, 0.013102118857204914, 0.015283250249922276, 0.014542998746037483, 0.05961218848824501, 0.022383900359272957, 0.016796976327896118, 0.10928261280059814, 0.07263996452093124, 0.08393712341785431, 0.02524900995194912, 0.03774847835302353, 0.01622692681849003, 0.02495388500392437, 0.042165789753198624, 0.004525812342762947, 0.01449135784059763, 0.019145702943205833, 0.02284165285527706]], [[1.0, 0.0, 0.0, 0.0, 0.0, 0.0, 0.0, 0.0, 0.0, 0.0, 0.0, 0.0, 0.0, 0.0, 0.0, 0.0, 0.0, 0.0, 0.0, 0.0, 0.0, 0.0, 0.0, 0.0, 0.0, 0.0, 0.0, 0.0, 0.0, 0.0, 0.0, 0.0, 0.0], [0.09646999090909958, 0.903529942035675, 0.0, 0.0, 0.0, 0.0, 0.0, 0.0, 0.0, 0.0, 0.0, 0.0, 0.0, 0.0, 0.0, 0.0, 0.0, 0.0, 0.0, 0.0, 0.0, 0.0, 0.0, 0.0, 0.0, 0.0, 0.0, 0.0, 0.0, 0.0, 0.0, 0.0, 0.0], [0.043252408504486084, 0.08177754282951355, 0.8749701380729675, 0.0, 0.0, 0.0, 0.0, 0.0, 0.0, 0.0, 0.0, 0.0, 0.0, 0.0, 0.0, 0.0, 0.0, 0.0, 0.0, 0.0, 0.0, 0.0, 0.0, 0.0, 0.0, 0.0, 0.0, 0.0, 0.0, 0.0, 0.0, 0.0, 0.0], [0.09995390474796295, 0.025312701240181923, 0.020108036696910858, 0.854625403881073, 0.0, 0.0, 0.0, 0.0, 0.0, 0.0, 0.0, 0.0, 0.0, 0.0, 0.0, 0.0, 0.0, 0.0, 0.0, 0.0, 0.0, 0.0, 0.0, 0.0, 0.0, 0.0, 0.0, 0.0, 0.0, 0.0, 0.0, 0.0, 0.0], [0.024889355525374413, 0.00320735527202487, 0.0018421602435410023, 0.022361503913998604, 0.9476996660232544, 0.0, 0.0, 0.0, 0.0, 0.0, 0.0, 0.0, 0.0, 0.0, 0.0, 0.0, 0.0, 0.0, 0.0, 0.0, 0.0, 0.0, 0.0, 0.0, 0.0, 0.0, 0.0, 0.0, 0.0, 0.0, 0.0, 0.0, 0.0], [0.10732372850179672, 0.01784166693687439, 0.01955333724617958, 0.0433332584798336, 0.10211502760648727, 0.7098329663276672, 0.0, 0.0, 0.0, 0.0, 0.0, 0.0, 0.0, 0.0, 0.0, 0.0, 0.0, 0.0, 0.0, 0.0, 0.0, 0.0, 0.0, 0.0, 0.0, 0.0, 0.0, 0.0, 0.0, 0.0, 0.0, 0.0, 0.0], [0.006426361855119467, 0.0004479786439333111, 0.00014756617019884288, 0.00046936815488152206, 0.001441190019249916, 0.0038596985395997763, 0.98720782995224, 0.0, 0.0, 0.0, 0.0, 0.0, 0.0, 0.0, 0.0, 0.0, 0.0, 0.0, 0.0, 0.0, 0.0, 0.0, 0.0, 0.0, 0.0, 0.0, 0.0, 0.0, 0.0, 0.0, 0.0, 0.0, 0.0], [0.0010354582918807864, 0.0001990183664020151, 0.0001602039410499856, 6.937277794349939e-05, 0.000386741739930585, 0.005171590019017458, 0.8964056372642517, 0.09657198190689087, 0.0, 0.0, 0.0, 0.0, 0.0, 0.0, 0.0, 0.0, 0.0, 0.0, 0.0, 0.0, 0.0, 0.0, 0.0, 0.0, 0.0, 0.0, 0.0, 0.0, 0.0, 0.0, 0.0, 0.0, 0.0], [0.0012883353047072887, 0.0003233459428884089, 0.0002652723924256861, 0.00025490688858553767, 0.00020129882614128292, 0.00010049015691038221, 0.0005700902547687292, 0.00040913093835115433, 0.9965871572494507, 0.0, 0.0, 0.0, 0.0, 0.0, 0.0, 0.0, 0.0, 0.0, 0.0, 0.0, 0.0, 0.0, 0.0, 0.0, 0.0, 0.0, 0.0, 0.0, 0.0, 0.0, 0.0, 0.0, 0.0], [0.0001874162262538448, 1.619654540263582e-05, 4.2281080823158845e-06, 0.0002875888312701136, 1.1125715900561772e-05, 9.805656191019807e-06, 0.0001556719362270087, 7.632971392013133e-05, 0.0034869094379246235, 0.9957647323608398, 0.0, 0.0, 0.0, 0.0, 0.0, 0.0, 0.0, 0.0, 0.0, 0.0, 0.0, 0.0, 0.0, 0.0, 0.0, 0.0, 0.0, 0.0, 0.0, 0.0, 0.0, 0.0, 0.0], [0.015741519629955292, 0.0006393605144694448, 0.0004571522295009345, 0.0009912526002153754, 0.0021140349563211203, 0.018089747056365013, 0.0471203550696373, 0.07010902464389801, 0.061528366059064865, 0.27690407633781433, 0.5063050389289856, 0.0, 0.0, 0.0, 0.0, 0.0, 0.0, 0.0, 0.0, 0.0, 0.0, 0.0, 0.0, 0.0, 0.0, 0.0, 0.0, 0.0, 0.0, 0.0, 0.0, 0.0, 0.0], [0.000616659817751497, 0.0005207078065723181, 4.61151976196561e-05, 0.001461300882510841, 0.0005623759934678674, 4.4476037146523595e-05, 0.00036539699067361653, 0.0002860168751794845, 0.004506122786551714, 0.005816523917019367, 0.0007244537118822336, 0.9850499033927917, 0.0, 0.0, 0.0, 0.0, 0.0, 0.0, 0.0, 0.0, 0.0, 0.0, 0.0, 0.0, 0.0, 0.0, 0.0, 0.0, 0.0, 0.0, 0.0, 0.0, 0.0], [0.0010478587355464697, 3.062820542254485e-05, 0.00017345046217087656, 5.423139737104066e-05, 6.388442125171423e-05, 1.12611596705392e-05, 1.7169008060591295e-05, 1.3931321518612094e-05, 0.002076044213026762, 0.0002692685811780393, 0.00015268517017830163, 0.0036844443529844284, 0.992405116558075, 0.0, 0.0, 0.0, 0.0, 0.0, 0.0, 0.0, 0.0, 0.0, 0.0, 0.0, 0.0, 0.0, 0.0, 0.0, 0.0, 0.0, 0.0, 0.0, 0.0], [0.010746264830231667, 0.0002535430248826742, 0.00015322912076953799, 0.0002928699250333011, 0.0005376791814342141, 0.004423539154231548, 0.00988432765007019, 0.012843023985624313, 0.012738605961203575, 0.05966855585575104, 0.10772986710071564, 0.024745658040046692, 0.07808699458837509, 0.6778957843780518, 0.0, 0.0, 0.0, 0.0, 0.0, 0.0, 0.0, 0.0, 0.0, 0.0, 0.0, 0.0, 0.0, 0.0, 0.0, 0.0, 0.0, 0.0, 0.0], [0.00041218000114895403, 2.6218713173875585e-05, 1.77559231815394e-05, 0.00019181902462150902, 3.2979460229398683e-06, 3.912674856110243e-06, 1.043809788825456e-05, 4.906844878860284e-06, 0.000586855923756957, 0.0030381556134670973, 3.693124745041132e-05, 0.0007724311435595155, 0.009622619487345219, 0.00016094425518531352, 0.9851114153862, 0.0, 0.0, 0.0, 0.0, 0.0, 0.0, 0.0, 0.0, 0.0, 0.0, 0.0, 0.0, 0.0, 0.0, 0.0, 0.0, 0.0, 0.0], [0.00010886562085943297, 3.58454167326272e-06, 5.191652689973125e-06, 3.083834599237889e-05, 1.840872755565215e-05, 7.954750458338822e-07, 3.353204192535486e-06, 6.574371127499035e-06, 0.0007270933128893375, 0.0018232447328045964, 7.853259376133792e-06, 0.00030627453816123307, 0.006975044962018728, 3.4850869269575924e-05, 0.0282927043735981, 0.9616552591323853, 0.0, 0.0, 0.0, 0.0, 0.0, 0.0, 0.0, 0.0, 0.0, 0.0, 0.0, 0.0, 0.0, 0.0, 0.0, 0.0, 0.0], [0.006073995493352413, 8.815199544187635e-05, 4.583775080391206e-05, 8.250488463090733e-05, 0.00012720438826363534, 0.000931252259761095, 0.0016700000269338489, 0.0019381919410079718, 0.002101697726175189, 0.010131681337952614, 0.016047311946749687, 0.003835386596620083, 0.012242159806191921, 0.10037077963352203, 0.07853133976459503, 0.10997357219457626, 0.6558089256286621, 0.0, 0.0, 0.0, 0.0, 0.0, 0.0, 0.0, 0.0, 0.0, 0.0, 0.0, 0.0, 0.0, 0.0, 0.0, 0.0], [0.002186299068853259, 1.189292743219994e-05, 1.6735941244405694e-05, 2.081546699628234e-05, 2.1162548364372924e-05, 0.0007714926614426076, 0.0008652099058963358, 0.0005560303688980639, 0.00015655897732358426, 0.0019499945919960737, 0.010891207493841648, 0.00039543010643683374, 0.001514473813585937, 0.06916320323944092, 0.004308105446398258, 0.004035164602100849, 0.4939698576927185, 0.4091663956642151, 0.0, 0.0, 0.0, 0.0, 0.0, 0.0, 0.0, 0.0, 0.0, 0.0, 0.0, 0.0, 0.0, 0.0, 0.0], [1.9797989807557315e-05, 4.972393412572274e-07, 9.165694869750496e-09, 1.3230416584519844e-07, 5.601832597790235e-08, 1.1903876995233986e-08, 6.153105118755775e-07, 4.068542835966582e-08, 4.517441993812099e-06, 1.4017764442542102e-05, 1.6456900198136282e-07, 1.0863833495022845e-06, 7.444068614859134e-06, 1.00566455785156e-06, 2.7594995117397048e-05, 0.00031378038693219423, 6.20114269622718e-06, 8.213378350774292e-06, 0.9995948672294617, 0.0, 0.0, 0.0, 0.0, 0.0, 0.0, 0.0, 0.0, 0.0, 0.0, 0.0, 0.0, 0.0, 0.0], [6.497162758023478e-06, 8.692020401213085e-07, 1.405140778842906e-06, 3.770490479837463e-07, 3.3291667023149785e-07, 6.104973948595216e-08, 2.542995680698823e-08, 1.1067781713336444e-07, 3.6708741390611976e-05, 5.70481461181771e-07, 6.172353437250422e-07, 0.00015627966786269099, 0.0001473798620281741, 3.0103849439910846e-06, 6.130666588433087e-05, 0.00177699641790241, 1.8545975763117895e-05, 3.4263168345205486e-05, 0.9233516454696655, 0.07440308481454849, 0.0, 0.0, 0.0, 0.0, 0.0, 0.0, 0.0, 0.0, 0.0, 0.0, 0.0, 0.0, 0.0], [0.0036490089260041714, 3.749436655198224e-05, 1.7470789316575974e-05, 2.8449203455238603e-05, 3.312428088975139e-05, 0.00019569222058635205, 0.0002647594374138862, 0.00024690417922101915, 0.0002803316747304052, 0.0013949201675131917, 0.0017910292372107506, 0.00042467910679988563, 0.0014623713213950396, 0.009717762470245361, 0.008053941652178764, 0.013200568035244942, 0.06315956264734268, 0.07152795046567917, 0.0752311572432518, 0.024205081164836884, 0.7250778079032898, 0.0, 0.0, 0.0, 0.0, 0.0, 0.0, 0.0, 0.0, 0.0, 0.0, 0.0, 0.0], [0.0006410888745449483, 3.925701548723737e-06, 1.1607372698563267e-06, 1.5375495650005178e-06, 9.072633133655472e-07, 8.058204912231304e-06, 1.3223946552898269e-05, 4.619919764081715e-06, 3.678829671116546e-05, 4.5651795517187566e-05, 7.577831274829805e-05, 2.2741733118891716e-05, 5.6684690207475796e-05, 0.0004737513663712889, 0.0003640766954049468, 0.00042400186066515744, 0.003757331520318985, 0.00436313496902585, 0.007395221386104822, 0.005022627301514149, 0.05575621873140335, 0.9215314984321594, 0.0, 0.0, 0.0, 0.0, 0.0, 0.0, 0.0, 0.0, 0.0, 0.0, 0.0], [0.000537768064532429, 8.122559620460379e-07, 2.3018583306111395e-06, 1.47003993333783e-06, 1.8703644855122548e-06, 6.024494041412254e-07, 4.127825377508998e-06, 1.6705714642739622e-06, 2.0471920834097546e-06, 7.43004638934508e-05, 3.5942262002208736e-06, 7.171494871727191e-06, 3.052817555726506e-05, 1.892773616418708e-05, 0.0002543877635616809, 0.0001949636498466134, 0.00012626526586245745, 0.0001823053607949987, 0.0037352198269218206, 0.000672711234074086, 0.001579830888658762, 0.011177674867212772, 0.9813894629478455, 0.0, 0.0, 0.0, 0.0, 0.0, 0.0, 0.0, 0.0, 0.0, 0.0], [8.512824570061639e-05, 4.870875613960379e-07, 1.2458967830752954e-06, 2.0811336298720562e-07, 1.9242880000547302e-07, 3.70403121507934e-08, 4.5552522465186485e-07, 5.504545796952698e-08, 1.532037913420936e-06, 5.083314590592636e-06, 2.1401001504273154e-07, 1.4595307220588438e-06, 1.4768388609809335e-05, 1.063502395481919e-06, 2.9461507438099943e-05, 5.7288165407953784e-05, 6.615693564526737e-06, 7.84422445576638e-06, 0.00015063813771121204, 0.00022636937501374632, 7.97359534772113e-05, 0.00013040847261436284, 0.010868419893085957, 0.9883312582969666, 0.0, 0.0, 0.0, 0.0, 0.0, 0.0, 0.0, 0.0, 0.0], [0.00041663245065137744, 2.2503695618070196e-06, 5.270543169899611e-06, 2.7549147489480674e-05, 3.9630536775803193e-05, 7.51473589843954e-06, 8.100932973320596e-06, 1.1581341823330149e-05, 1.3205953109718394e-05, 6.750722968718037e-05, 2.5212764739990234e-05, 1.4860672308714129e-05, 7.52170235500671e-05, 0.00011457463551778346, 0.00025745289167389274, 0.00036668599932454526, 0.0006904734764248133, 0.0014518474927172065, 0.003246019361540675, 0.0006353409844450653, 0.008745579980313778, 0.015190845355391502, 0.01815016381442547, 0.13303308188915253, 0.8174033761024475, 0.0, 0.0, 0.0, 0.0, 0.0, 0.0, 0.0, 0.0], [1.6739300917834044e-05, 8.245334015555272e-08, 3.25739257789337e-08, 2.8737504820242066e-08, 1.621771161808283e-07, 1.5275413156601303e-09, 2.327868919849152e-08, 5.576728856482305e-09, 1.2825790918213897e-07, 1.342952486993454e-07, 6.160572496582972e-09, 2.5232574785150064e-07, 3.205760094715515e-06, 2.627727724302531e-08, 7.619977395734168e-07, 7.901960088929627e-06, 1.3940493204245286e-07, 1.9552594210381358e-07, 0.0003202258376404643, 8.173685728252167e-07, 1.5630005236744182e-06, 3.763166887438274e-06, 0.0007450513658113778, 0.003715230617672205, 3.9344242395600304e-05, 0.995144248008728, 0.0, 0.0, 0.0, 0.0, 0.0, 0.0, 0.0], [0.00023842263908591121, 5.040105861553457e-06, 1.320860292253201e-06, 8.599827197031118e-06, 5.166048595128814e-06, 1.347093672166011e-07, 6.710809543619689e-07, 2.6996977453563886e-07, 6.345730525936233e-06, 4.417830496095121e-05, 2.7445037176221376e-07, 2.0171210053376853e-05, 1.6526657418580726e-05, 8.122790404740954e-07, 0.00010771022061817348, 0.00012397441605571657, 3.5075884170510108e-06, 8.505847290507518e-06, 6.980274338275194e-05, 0.0002681366167962551, 2.8792892408091575e-05, 0.00011957916285609826, 0.0001296167611144483, 0.007425940595567226, 0.0007109721773304045, 0.005815021228045225, 0.984840452671051, 0.0, 0.0, 0.0, 0.0, 0.0, 0.0], [0.00040899476152844727, 6.095366416047909e-07, 1.9963897557317978e-06, 9.310323548561428e-06, 3.7690506360377185e-06, 1.9876508758898126e-06, 4.5765477807435673e-07, 1.06907145891455e-06, 3.0871688068145886e-06, 9.211416909238324e-06, 4.724366135633318e-06, 1.2070046295775683e-06, 5.095616870676167e-06, 1.8047086996375583e-05, 4.857865860685706e-05, 4.1693794628372416e-05, 0.00010537506022956222, 0.00022466850350610912, 0.00011528616596478969, 0.0002492897037882358, 0.0013673118082806468, 0.0016190301394090056, 0.00132751592900604, 0.0034917863085865974, 0.06305655837059021, 0.006469059269875288, 0.09512630850076675, 0.8262879252433777, 0.0, 0.0, 0.0, 0.0, 0.0], [0.0003180466592311859, 1.4181814549374394e-06, 3.1855009297032666e-07, 2.7823105028801365e-06, 5.388593490351923e-05, 4.300602540752152e-08, 5.38626068191661e-07, 8.497841008647811e-08, 5.999703489578678e-07, 4.110322151973378e-06, 7.099385612718834e-08, 8.454292128590168e-07, 2.526610387576511e-06, 2.1983822762194904e-07, 6.098234734963626e-06, 2.112996662617661e-05, 9.41176608648675e-07, 9.950366575139924e-07, 3.041357376787346e-05, 2.976983751068474e-06, 8.453844202449545e-06, 2.600699008326046e-05, 0.00023055807105265558, 0.001338335918262601, 0.00021758218645118177, 0.007014384958893061, 0.017923979088664055, 0.000530267134308815, 0.9722622632980347, 0.0, 0.0, 0.0, 0.0], [1.8505296850435116e-07, 5.565692351439111e-09, 7.262711543276623e-10, 7.745998509278706e-09, 1.507951097323712e-08, 8.228537295984495e-10, 1.7915484651354063e-09, 1.7345679337310571e-09, 1.096253487986587e-08, 5.0033129639359686e-08, 3.9228313930550485e-09, 1.001394380750753e-07, 2.333783655217303e-08, 1.6555286919128775e-08, 5.171339623188942e-08, 1.614605764643784e-07, 9.827901692460728e-08, 2.707459714201832e-07, 5.411987331171986e-06, 2.5083886612264905e-07, 1.1806023394456133e-06, 2.8004308205709094e-06, 4.61038098364952e-06, 0.00022679254470858723, 5.794259050162509e-05, 0.0004519563226494938, 0.00011976490350207314, 0.00023980853438843042, 0.001874009263701737, 0.9970145225524902, 0.0, 0.0, 0.0], [4.347461799625307e-05, 2.968866283481475e-06, 3.919368225524522e-07, 9.117064223573834e-07, 4.3644891434269084e-07, 4.686581345225704e-09, 9.240376641628245e-08, 1.241937130913584e-08, 7.188949524561394e-08, 6.304542807811231e-07, 6.1088996083924485e-09, 1.9987159305401292e-07, 1.4578700984202442e-06, 1.4727342012577083e-08, 1.7957290765480138e-07, 2.6422658265801147e-05, 5.112665846240816e-08, 4.710682333097793e-08, 0.001576117007061839, 2.1989408196532167e-06, 3.333985034714715e-07, 2.1814789761265274e-06, 0.0001624042197363451, 0.0017777644097805023, 1.174922817881452e-05, 0.00361609342508018, 6.199476774781942e-05, 3.516826109262183e-05, 0.001148871029727161, 0.016085602343082428, 0.975442111492157, 0.0, 0.0], [0.0011562933214008808, 6.199030394782312e-06, 6.137789227977919e-07, 3.1026631859276677e-06, 8.228416277233919e-07, 4.36601119702118e-08, 9.36323729661126e-08, 2.7735437058140633e-08, 5.109505423206429e-07, 1.2355309308986762e-06, 3.825297056891941e-08, 1.1272275060036918e-06, 1.9008989511348773e-06, 8.714057031511402e-08, 5.398172561399406e-06, 7.3934234023909084e-06, 3.1288666946238664e-07, 3.0146313179102435e-07, 0.0001359532616334036, 1.334382250206545e-05, 2.3996476556931157e-06, 3.871273293043487e-05, 0.0008219640585593879, 0.0006131274858489633, 2.151845910702832e-05, 0.004140730947256088, 0.0008760871132835746, 0.00011684626952046528, 0.0021590713877230883, 0.02752530761063099, 0.04434975981712341, 0.9179997444152832, 0.0], [0.003194286022335291, 4.6816610847599804e-05, 3.499119702610187e-05, 2.7043071895604953e-05, 1.400027576892171e-05, 1.708509080344811e-05, 8.051882105064578e-06, 3.9098295019357465e-06, 1.0716913493524771e-05, 1.793078990885988e-05, 1.4207491403794847e-05, 2.6911246095551178e-05, 2.6411986254970543e-05, 3.1100214982870966e-05, 1.1198586435057223e-05, 5.485487054102123e-05, 0.00011474463099148124, 0.00010493670561118051, 0.00028063016361556947, 0.00020839045464526862, 0.0009329259628430009, 0.0018989999080076814, 0.0011267592199146748, 0.0019257249077782035, 0.003917154390364885, 0.007499453146010637, 0.0106959268450737, 0.023199843242764473, 0.03039816953241825, 0.12729336321353912, 0.04325321689248085, 0.17668063938617706, 0.5669296383857727]], [[1.0, 0.0, 0.0, 0.0, 0.0, 0.0, 0.0, 0.0, 0.0, 0.0, 0.0, 0.0, 0.0, 0.0, 0.0, 0.0, 0.0, 0.0, 0.0, 0.0, 0.0, 0.0, 0.0, 0.0, 0.0, 0.0, 0.0, 0.0, 0.0, 0.0, 0.0, 0.0, 0.0], [0.25308626890182495, 0.7469137907028198, 0.0, 0.0, 0.0, 0.0, 0.0, 0.0, 0.0, 0.0, 0.0, 0.0, 0.0, 0.0, 0.0, 0.0, 0.0, 0.0, 0.0, 0.0, 0.0, 0.0, 0.0, 0.0, 0.0, 0.0, 0.0, 0.0, 0.0, 0.0, 0.0, 0.0, 0.0], [0.30671602487564087, 0.3290638327598572, 0.36422017216682434, 0.0, 0.0, 0.0, 0.0, 0.0, 0.0, 0.0, 0.0, 0.0, 0.0, 0.0, 0.0, 0.0, 0.0, 0.0, 0.0, 0.0, 0.0, 0.0, 0.0, 0.0, 0.0, 0.0, 0.0, 0.0, 0.0, 0.0, 0.0, 0.0, 0.0], [0.07416975498199463, 0.16189667582511902, 0.05432593822479248, 0.7096075415611267, 0.0, 0.0, 0.0, 0.0, 0.0, 0.0, 0.0, 0.0, 0.0, 0.0, 0.0, 0.0, 0.0, 0.0, 0.0, 0.0, 0.0, 0.0, 0.0, 0.0, 0.0, 0.0, 0.0, 0.0, 0.0, 0.0, 0.0, 0.0, 0.0], [0.16688226163387299, 0.03901785984635353, 0.03822459653019905, 0.21398362517356873, 0.5418916344642639, 0.0, 0.0, 0.0, 0.0, 0.0, 0.0, 0.0, 0.0, 0.0, 0.0, 0.0, 0.0, 0.0, 0.0, 0.0, 0.0, 0.0, 0.0, 0.0, 0.0, 0.0, 0.0, 0.0, 0.0, 0.0, 0.0, 0.0, 0.0], [0.1948363482952118, 0.21119245886802673, 0.05150560662150383, 0.08703835308551788, 0.229995459318161, 0.22543172538280487, 0.0, 0.0, 0.0, 0.0, 0.0, 0.0, 0.0, 0.0, 0.0, 0.0, 0.0, 0.0, 0.0, 0.0, 0.0, 0.0, 0.0, 0.0, 0.0, 0.0, 0.0, 0.0, 0.0, 0.0, 0.0, 0.0, 0.0], [0.13900133967399597, 0.02974863536655903, 0.038606978952884674, 0.051332734525203705, 0.19284239411354065, 0.08012380450963974, 0.46834418177604675, 0.0, 0.0, 0.0, 0.0, 0.0, 0.0, 0.0, 0.0, 0.0, 0.0, 0.0, 0.0, 0.0, 0.0, 0.0, 0.0, 0.0, 0.0, 0.0, 0.0, 0.0, 0.0, 0.0, 0.0, 0.0, 0.0], [0.08969774097204208, 0.04080598056316376, 0.034733086824417114, 0.08414526283740997, 0.09911048412322998, 0.07059450447559357, 0.13616575300693512, 0.4447471797466278, 0.0, 0.0, 0.0, 0.0, 0.0, 0.0, 0.0, 0.0, 0.0, 0.0, 0.0, 0.0, 0.0, 0.0, 0.0, 0.0, 0.0, 0.0, 0.0, 0.0, 0.0, 0.0, 0.0, 0.0, 0.0], [0.05986514315009117, 0.020190445706248283, 0.018785327672958374, 0.10584729164838791, 0.057948824018239975, 0.027517717331647873, 0.0566631518304348, 0.08226766437292099, 0.5709145069122314, 0.0, 0.0, 0.0, 0.0, 0.0, 0.0, 0.0, 0.0, 0.0, 0.0, 0.0, 0.0, 0.0, 0.0, 0.0, 0.0, 0.0, 0.0, 0.0, 0.0, 0.0, 0.0, 0.0, 0.0], [0.010379279963672161, 0.004698257893323898, 0.004143994301557541, 0.007291416637599468, 0.0062567018903791904, 0.003318049944937229, 0.00917502585798502, 0.018754417076706886, 0.03393152728676796, 0.9020513892173767, 0.0, 0.0, 0.0, 0.0, 0.0, 0.0, 0.0, 0.0, 0.0, 0.0, 0.0, 0.0, 0.0, 0.0, 0.0, 0.0, 0.0, 0.0, 0.0, 0.0, 0.0, 0.0, 0.0], [0.0727011114358902, 0.04776482656598091, 0.01050033699721098, 0.0161594208329916, 0.04617820680141449, 0.05249457061290741, 0.05184565857052803, 0.21189527213573456, 0.035158224403858185, 0.17267188429832458, 0.28263047337532043, 0.0, 0.0, 0.0, 0.0, 0.0, 0.0, 0.0, 0.0, 0.0, 0.0, 0.0, 0.0, 0.0, 0.0, 0.0, 0.0, 0.0, 0.0, 0.0, 0.0, 0.0, 0.0], [0.015126868151128292, 0.004731183405965567, 0.002322629326954484, 0.006575732491910458, 0.01836243085563183, 0.003339658956974745, 0.008784198202192783, 0.007409723941236734, 0.006289792712777853, 0.07638929039239883, 0.012003449723124504, 0.8386650681495667, 0.0, 0.0, 0.0, 0.0, 0.0, 0.0, 0.0, 0.0, 0.0, 0.0, 0.0, 0.0, 0.0, 0.0, 0.0, 0.0, 0.0, 0.0, 0.0, 0.0, 0.0], [0.032331958413124084, 0.010628974065184593, 0.0026151672936975956, 0.0011762939393520355, 0.0030932873487472534, 0.00150555360596627, 0.007079716771841049, 0.0028344711754471064, 0.005003888159990311, 0.01203258614987135, 0.003987773787230253, 0.05187242105603218, 0.8658378720283508, 0.0, 0.0, 0.0, 0.0, 0.0, 0.0, 0.0, 0.0, 0.0, 0.0, 0.0, 0.0, 0.0, 0.0, 0.0, 0.0, 0.0, 0.0, 0.0, 0.0], [0.050455864518880844, 0.026538824662566185, 0.005783269181847572, 0.00808729324489832, 0.021799379959702492, 0.025670353323221207, 0.022779015824198723, 0.09139913320541382, 0.015017377212643623, 0.07093919813632965, 0.12448625266551971, 0.12668342888355255, 0.061021383851766586, 0.34933918714523315, 0.0, 0.0, 0.0, 0.0, 0.0, 0.0, 0.0, 0.0, 0.0, 0.0, 0.0, 0.0, 0.0, 0.0, 0.0, 0.0, 0.0, 0.0, 0.0], [0.05474120005965233, 0.05296842381358147, 0.00398812722414732, 0.012351608835160732, 0.004415616393089294, 0.0035962751135230064, 0.011385679244995117, 0.00982806459069252, 0.01474972628057003, 0.07078820466995239, 0.011209171265363693, 0.051640551537275314, 0.19734397530555725, 0.027129260823130608, 0.4738641083240509, 0.0, 0.0, 0.0, 0.0, 0.0, 0.0, 0.0, 0.0, 0.0, 0.0, 0.0, 0.0, 0.0, 0.0, 0.0, 0.0, 0.0, 0.0], [0.007163074798882008, 0.0049638510681688786, 0.0027692264411598444, 0.0019424431957304478, 0.010544744320213795, 0.0014144869055598974, 0.0036636609584093094, 0.0031499466858804226, 0.005481296218931675, 0.021614039316773415, 0.003922193311154842, 0.07935071736574173, 0.2247791737318039, 0.009166942909359932, 0.027402691543102264, 0.5926714539527893, 0.0, 0.0, 0.0, 0.0, 0.0, 0.0, 0.0, 0.0, 0.0, 0.0, 0.0, 0.0, 0.0, 0.0, 0.0, 0.0, 0.0], [0.03461107611656189, 0.015296346507966518, 0.003095124149695039, 0.003899093484506011, 0.009989401325583458, 0.011446869932115078, 0.009189348667860031, 0.03356512635946274, 0.005761214066296816, 0.025581039488315582, 0.043846841901540756, 0.045213643461465836, 0.020553411915898323, 0.11962327361106873, 0.15673257410526276, 0.13173453509807587, 0.32986098527908325, 0.0, 0.0, 0.0, 0.0, 0.0, 0.0, 0.0, 0.0, 0.0, 0.0, 0.0, 0.0, 0.0, 0.0, 0.0, 0.0], [0.017253858968615532, 0.004397520795464516, 0.004968684632331133, 0.007064307574182749, 0.006634886842221022, 0.006910951808094978, 0.011386895552277565, 0.01617850922048092, 0.02031775750219822, 0.020396798849105835, 0.023422079160809517, 0.01890912838280201, 0.0402420274913311, 0.06200673431158066, 0.1164536327123642, 0.07975101470947266, 0.16864453256130219, 0.37506064772605896, 0.0, 0.0, 0.0, 0.0, 0.0, 0.0, 0.0, 0.0, 0.0, 0.0, 0.0, 0.0, 0.0, 0.0, 0.0], [0.002459116280078888, 0.00024919791030697525, 3.400469358894043e-05, 0.0002113294176524505, 0.00020066798606421798, 0.00012589257676154375, 0.00036506823380477726, 0.0003735981590580195, 0.00013798549480270594, 0.0004702214209828526, 0.00027151801623404026, 0.0034170830622315407, 0.0006049814983271062, 0.0005454604397527874, 0.0008937679813243449, 0.0015852140495553613, 0.0012150746770203114, 0.0028212708421051502, 0.9840186238288879, 0.0, 0.0, 0.0, 0.0, 0.0, 0.0, 0.0, 0.0, 0.0, 0.0, 0.0, 0.0, 0.0, 0.0], [0.00015282449021469802, 0.03892357647418976, 0.00047151927719824016, 0.0003731812466867268, 3.271793684689328e-05, 1.0635613762133289e-05, 3.82458756575943e-06, 1.324470758845564e-05, 6.418924022000283e-05, 2.7344371119397692e-05, 2.8319987904978916e-05, 0.0022295680828392506, 0.0013866389635950327, 7.163518603192642e-05, 0.00014025568088982254, 0.00824644137173891, 0.00019678636454045773, 0.00020546688756439835, 0.8976381421089172, 0.049783799797296524, 0.0, 0.0, 0.0, 0.0, 0.0, 0.0, 0.0, 0.0, 0.0, 0.0, 0.0, 0.0, 0.0], [0.02645810879766941, 0.010410881601274014, 0.0021332567557692528, 0.0024560168385505676, 0.005542594939470291, 0.005954573396593332, 0.004195827059447765, 0.01345154270529747, 0.002351952949538827, 0.009471964091062546, 0.015433412045240402, 0.014804958365857601, 0.006865768227726221, 0.03787313401699066, 0.04744938015937805, 0.04547279700636864, 0.10199157148599625, 0.08666396886110306, 0.06470183283090591, 0.1016075611114502, 0.3947088420391083, 0.0, 0.0, 0.0, 0.0, 0.0, 0.0, 0.0, 0.0, 0.0, 0.0, 0.0, 0.0], [0.021157877519726753, 0.00354843121021986, 0.001744113047607243, 0.0035093037877231836, 0.004201893694698811, 0.0025777805130928755, 0.004015853628516197, 0.004599003586918116, 0.003955155145376921, 0.0064558410085737705, 0.005907890386879444, 0.0037331627681851387, 0.009013410657644272, 0.013927983120083809, 0.029895808547735214, 0.020082315430045128, 0.03804437443614006, 0.06883098930120468, 0.0815289169549942, 0.038340236991643906, 0.1516025811433792, 0.4833270013332367, 0.0, 0.0, 0.0, 0.0, 0.0, 0.0, 0.0, 0.0, 0.0, 0.0, 0.0], [0.0014211690286174417, 0.0004069015849381685, 0.0002714423753786832, 0.0014869242440909147, 0.0006475155241787434, 0.0002567152841947973, 0.00027297638007439673, 0.0005059854011051357, 0.00017537508392706513, 0.0012059608707204461, 0.0005902891862206161, 0.0004307391936890781, 0.0003699962398968637, 0.0013322837185114622, 0.0007594277849420905, 0.002518308814615011, 0.003599978983402252, 0.0047567193396389484, 0.011892938055098057, 0.0034102171193808317, 0.013851102441549301, 0.05907326936721802, 0.8907637596130371, 0.0, 0.0, 0.0, 0.0, 0.0, 0.0, 0.0, 0.0, 0.0, 0.0], [0.005058860406279564, 0.000882354099303484, 0.0015358275268226862, 0.0016909866826608777, 0.0013438730966299772, 0.0004949701833538711, 0.0006572249112650752, 0.000552159093786031, 0.000581209606025368, 0.002054559765383601, 0.0008380856597796082, 0.0010067481780424714, 0.0011300848564133048, 0.001613991684280336, 0.00502287270501256, 0.014576866291463375, 0.0037143270019441843, 0.00468147499486804, 0.00791381485760212, 0.00677838921546936, 0.01229135412722826, 0.02773299440741539, 0.10214640945196152, 0.7957004904747009, 0.0, 0.0, 0.0, 0.0, 0.0, 0.0, 0.0, 0.0, 0.0], [0.004004694987088442, 0.00045769716962240636, 0.0015645220410078764, 0.003137202700600028, 0.001993744168430567, 0.0003789264301303774, 0.0004957786295562983, 0.0005698024178855121, 0.0010052063735201955, 0.0023432238958775997, 0.0005772150470875204, 0.0016756131080910563, 0.0030787368305027485, 0.0012285251868888736, 0.005278326105326414, 0.006328050512820482, 0.003151729004457593, 0.005319306161254644, 0.021383114159107208, 0.006147704552859068, 0.012332224287092686, 0.0740215927362442, 0.12114027142524719, 0.5611116290092468, 0.16127507388591766, 0.0, 0.0, 0.0, 0.0, 0.0, 0.0, 0.0, 0.0], [0.001128658070228994, 4.988930231775157e-05, 4.129138324060477e-05, 9.24963824218139e-05, 5.51363846170716e-05, 3.8617330574197695e-05, 5.59204381715972e-05, 0.0001489632559241727, 5.509230959432898e-06, 6.817452958784997e-05, 3.6204492062097415e-05, 4.623966015060432e-05, 0.0010655045043677092, 5.919886825722642e-05, 7.787275535520166e-05, 0.00038421317003667355, 0.00011692449334077537, 0.00022428261581808329, 0.0005083996220491827, 0.000156281515955925, 0.0003233152092434466, 0.0007086835685186088, 0.0009207437979057431, 0.000855972757562995, 0.004414450377225876, 0.9884170889854431, 0.0, 0.0, 0.0, 0.0, 0.0, 0.0, 0.0], [0.0024299686774611473, 0.0036596376448869705, 0.0006344975554384291, 0.0006202647928148508, 0.0029876769986003637, 0.0003476363781373948, 0.0005059159593656659, 0.0004114970506634563, 0.0002132159424945712, 0.0006509348750114441, 0.00039556872798129916, 0.16986438632011414, 0.00218889769166708, 0.0006812370265834033, 0.0008683771593496203, 0.008905136026442051, 0.001463850843720138, 0.0013394582783803344, 0.006495129782706499, 0.00763870682567358, 0.004619393032044172, 0.0031617912463843822, 0.01420089416205883, 0.04639661684632301, 0.022786036133766174, 0.21939244866371155, 0.477140873670578, 0.0, 0.0, 0.0, 0.0, 0.0, 0.0], [0.01561034843325615, 0.000964807637501508, 0.0010281838476657867, 0.007148519158363342, 0.005316654685884714, 0.0005432687466964126, 0.0007839889149181545, 0.00047083027311600745, 0.0022980389185249805, 0.005463102366775274, 0.000548307434655726, 0.0008661496685817838, 0.0009035562397912145, 0.000925196975003928, 0.008375940844416618, 0.0014478119555860758, 0.0020614906679838896, 0.0036933852825313807, 0.017008868977427483, 0.006138673983514309, 0.007041901350021362, 0.041287098079919815, 0.06922487914562225, 0.2661719024181366, 0.05024213343858719, 0.1144513264298439, 0.13764901459217072, 0.23233459889888763, 0.0, 0.0, 0.0, 0.0, 0.0], [0.02189529314637184, 0.0013514538295567036, 0.0013727964833378792, 0.005157722160220146, 0.010932797566056252, 0.0004452221328392625, 0.0016178287332877517, 0.0005713263526558876, 0.0007700271671637893, 0.0030935355462133884, 0.00036163386539556086, 0.000932903029024601, 0.0019032390555366874, 0.000525438750628382, 0.0007036192109808326, 0.0015780625399202108, 0.0010200463002547622, 0.0009346720762550831, 0.005167576018720865, 0.0007855418953113258, 0.0028796831611543894, 0.006337143015116453, 0.049514152109622955, 0.021886909380555153, 0.030046813189983368, 0.06941599398851395, 0.02995389513671398, 0.06111619994044304, 0.6677284836769104, 0.0, 0.0, 0.0, 0.0], [0.00029466592241078615, 8.085126319201663e-05, 0.00011992641520919278, 0.0001715401012916118, 0.00038990104803815484, 8.630267984699458e-05, 5.25372197444085e-05, 6.616386963287368e-05, 0.0001137840372393839, 6.200086500030011e-05, 0.00011238036677241325, 0.0005867322906851768, 9.78500975179486e-05, 0.00021334874327294528, 0.0004044429515488446, 0.00047262446605600417, 0.0004730731307063252, 0.0005199533188715577, 0.0008571154903620481, 0.00022720213746652007, 0.0015976789873093367, 0.0014780652709305286, 0.0016501445788890123, 0.009339648298919201, 0.012792675755918026, 0.012606960721313953, 0.0216596107929945, 0.028867468237876892, 0.0778479129076004, 0.826757550239563, 0.0, 0.0, 0.0], [0.0006396547541953623, 0.0001992026373045519, 0.0003378460824023932, 0.0003228614223189652, 0.00038839818444103, 2.2511421775561757e-05, 0.00011559668928384781, 1.968370816030074e-05, 8.749762491788715e-05, 0.00016675732331350446, 2.1353202100726776e-05, 0.0001825768267735839, 0.002879622858017683, 3.2708350772736594e-05, 6.355990626616403e-05, 0.0009078503935597837, 6.314194615697488e-05, 4.954513497068547e-05, 0.005010182503610849, 0.00021555769490078092, 0.00018923310562968254, 0.00023579836124554276, 0.0021191718988120556, 0.003475247649475932, 0.0004957503406330943, 0.012673018500208855, 0.0026274595875293016, 0.001192636787891388, 0.028011472895741463, 0.14214564859867096, 0.7951083779335022, 0.0, 0.0], [0.005492149852216244, 0.0014179619029164314, 6.310044409474358e-05, 0.0009282372775487602, 0.0004675877280533314, 9.701230737846345e-05, 5.678696106770076e-05, 6.82406680425629e-05, 4.054810415254906e-05, 0.00021011468197684735, 6.534693238791078e-05, 0.00011957802053075284, 9.082323231268674e-05, 9.077353024622425e-05, 0.00013827483053319156, 0.0004122828249819577, 0.00016900571063160896, 0.00013570708688348532, 0.002428323496133089, 0.00020654767286032438, 0.0004959602956660092, 0.00016561975644435734, 0.0018254045862704515, 0.0016808181535452604, 0.0010187349980697036, 0.015071484260261059, 0.003408379852771759, 0.003384194802492857, 0.018865535035729408, 0.010037437081336975, 0.008259563706815243, 0.923088550567627, 0.0], [0.009386110119521618, 0.0017380572389811277, 0.0018091698875650764, 0.0014350239653140306, 0.0016812816029414535, 0.0019791293889284134, 0.0014143430162221193, 0.0021127830259501934, 0.0012016951804980636, 0.0010467651300132275, 0.0012532471446320415, 0.0012125695357099175, 0.0006952418480068445, 0.0016850184183567762, 0.001290497137233615, 0.0014949421165511012, 0.0030524602625519037, 0.00617641257122159, 0.003993147984147072, 0.002994519891217351, 0.008827606216073036, 0.009542392566800117, 0.010477352887392044, 0.021451443433761597, 0.062213558703660965, 0.026861032471060753, 0.03390643745660782, 0.11987607926130295, 0.05027468875050545, 0.026796849444508553, 0.03116568736732006, 0.10728628933429718, 0.4436681270599365]], [[1.0, 0.0, 0.0, 0.0, 0.0, 0.0, 0.0, 0.0, 0.0, 0.0, 0.0, 0.0, 0.0, 0.0, 0.0, 0.0, 0.0, 0.0, 0.0, 0.0, 0.0, 0.0, 0.0, 0.0, 0.0, 0.0, 0.0, 0.0, 0.0, 0.0, 0.0, 0.0, 0.0], [0.10520488768815994, 0.8947951793670654, 0.0, 0.0, 0.0, 0.0, 0.0, 0.0, 0.0, 0.0, 0.0, 0.0, 0.0, 0.0, 0.0, 0.0, 0.0, 0.0, 0.0, 0.0, 0.0, 0.0, 0.0, 0.0, 0.0, 0.0, 0.0, 0.0, 0.0, 0.0, 0.0, 0.0, 0.0], [0.03907214477658272, 0.0020172251388430595, 0.9589105248451233, 0.0, 0.0, 0.0, 0.0, 0.0, 0.0, 0.0, 0.0, 0.0, 0.0, 0.0, 0.0, 0.0, 0.0, 0.0, 0.0, 0.0, 0.0, 0.0, 0.0, 0.0, 0.0, 0.0, 0.0, 0.0, 0.0, 0.0, 0.0, 0.0, 0.0], [0.015578627586364746, 0.000839252898003906, 0.0006979765021242201, 0.9828841090202332, 0.0, 0.0, 0.0, 0.0, 0.0, 0.0, 0.0, 0.0, 0.0, 0.0, 0.0, 0.0, 0.0, 0.0, 0.0, 0.0, 0.0, 0.0, 0.0, 0.0, 0.0, 0.0, 0.0, 0.0, 0.0, 0.0, 0.0, 0.0, 0.0], [0.008856466971337795, 9.934287845680956e-06, 1.1174843166372739e-05, 0.00030247055110521615, 0.9908198714256287, 0.0, 0.0, 0.0, 0.0, 0.0, 0.0, 0.0, 0.0, 0.0, 0.0, 0.0, 0.0, 0.0, 0.0, 0.0, 0.0, 0.0, 0.0, 0.0, 0.0, 0.0, 0.0, 0.0, 0.0, 0.0, 0.0, 0.0, 0.0], [0.3544497787952423, 0.0305892676115036, 0.05988960340619087, 0.022903529927134514, 0.047475915402173996, 0.48469194769859314, 0.0, 0.0, 0.0, 0.0, 0.0, 0.0, 0.0, 0.0, 0.0, 0.0, 0.0, 0.0, 0.0, 0.0, 0.0, 0.0, 0.0, 0.0, 0.0, 0.0, 0.0, 0.0, 0.0, 0.0, 0.0, 0.0, 0.0], [0.044769011437892914, 0.0015664660604670644, 0.0003773849457502365, 0.00025073293363675475, 0.00040889650699682534, 0.00026065585552714765, 0.952366828918457, 0.0, 0.0, 0.0, 0.0, 0.0, 0.0, 0.0, 0.0, 0.0, 0.0, 0.0, 0.0, 0.0, 0.0, 0.0, 0.0, 0.0, 0.0, 0.0, 0.0, 0.0, 0.0, 0.0, 0.0, 0.0, 0.0], [0.09058350324630737, 0.0011470741592347622, 0.0060273464769124985, 0.0005468479357659817, 0.001709422329440713, 0.0037850849330425262, 0.0026845429092645645, 0.8935161232948303, 0.0, 0.0, 0.0, 0.0, 0.0, 0.0, 0.0, 0.0, 0.0, 0.0, 0.0, 0.0, 0.0, 0.0, 0.0, 0.0, 0.0, 0.0, 0.0, 0.0, 0.0, 0.0, 0.0, 0.0, 0.0], [0.006010731682181358, 2.428904736007098e-05, 0.00031266716541722417, 1.868290019046981e-05, 0.0002979242999572307, 9.904515536618419e-06, 6.619554824283114e-06, 7.912206569926639e-07, 0.9933184385299683, 0.0, 0.0, 0.0, 0.0, 0.0, 0.0, 0.0, 0.0, 0.0, 0.0, 0.0, 0.0, 0.0, 0.0, 0.0, 0.0, 0.0, 0.0, 0.0, 0.0, 0.0, 0.0, 0.0, 0.0], [0.0045468187890946865, 0.00020019362273160368, 0.0002992024237755686, 0.001336391898803413, 0.0003267655265517533, 8.741358215047512e-07, 1.7415721231373027e-05, 2.7834167326545867e-07, 0.00029665298643521965, 0.9929754734039307, 0.0, 0.0, 0.0, 0.0, 0.0, 0.0, 0.0, 0.0, 0.0, 0.0, 0.0, 0.0, 0.0, 0.0, 0.0, 0.0, 0.0, 0.0, 0.0, 0.0, 0.0, 0.0, 0.0], [0.12262556701898575, 0.023926571011543274, 0.03827652707695961, 0.01617196388542652, 0.030366230756044388, 0.2937593460083008, 0.10661351680755615, 0.0705995187163353, 0.04190010204911232, 0.01783309504389763, 0.2379276007413864, 0.0, 0.0, 0.0, 0.0, 0.0, 0.0, 0.0, 0.0, 0.0, 0.0, 0.0, 0.0, 0.0, 0.0, 0.0, 0.0, 0.0, 0.0, 0.0, 0.0, 0.0, 0.0], [0.0008121061837300658, 0.00011546615860424936, 0.00013500892964657396, 5.539286939892918e-05, 0.00013174118066672236, 1.0027158623415744e-06, 1.3799076441500802e-06, 1.6001598623915925e-07, 1.8972953057527775e-06, 5.419655622063146e-07, 4.753091502607276e-07, 0.9987448453903198, 0.0, 0.0, 0.0, 0.0, 0.0, 0.0, 0.0, 0.0, 0.0, 0.0, 0.0, 0.0, 0.0, 0.0, 0.0, 0.0, 0.0, 0.0, 0.0, 0.0, 0.0], [0.0013333045644685626, 0.00010533037857385352, 0.0007669601473025978, 0.0009021877776831388, 3.570836042854353e-06, 8.120475740724942e-07, 1.403809051225835e-07, 9.56129397877703e-08, 1.6865070620042388e-06, 2.9789011023240164e-05, 4.381340659165289e-07, 1.1965798876190092e-06, 0.9968544840812683, 0.0, 0.0, 0.0, 0.0, 0.0, 0.0, 0.0, 0.0, 0.0, 0.0, 0.0, 0.0, 0.0, 0.0, 0.0, 0.0, 0.0, 0.0, 0.0, 0.0], [0.08159801363945007, 0.02138885296881199, 0.028877170756459236, 0.012675784528255463, 0.02493157796561718, 0.22996489703655243, 0.1040123701095581, 0.06472097337245941, 0.034600939601659775, 0.015198715031147003, 0.1856415718793869, 0.020528046414256096, 0.005003849510103464, 0.170857235789299, 0.0, 0.0, 0.0, 0.0, 0.0, 0.0, 0.0, 0.0, 0.0, 0.0, 0.0, 0.0, 0.0, 0.0, 0.0, 0.0, 0.0, 0.0, 0.0], [0.0013488875702023506, 8.921194239519536e-05, 0.000685996375977993, 0.0006963209598325193, 2.1248602934065275e-05, 3.7633867577824276e-07, 6.226732125469425e-07, 4.307212293497287e-07, 7.091874067555182e-06, 0.0013103681849315763, 1.6113720846533397e-07, 9.548743946652394e-07, 0.00016453607531730086, 1.1531915333762299e-07, 0.9956737160682678, 0.0, 0.0, 0.0, 0.0, 0.0, 0.0, 0.0, 0.0, 0.0, 0.0, 0.0, 0.0, 0.0, 0.0, 0.0, 0.0, 0.0, 0.0], [0.0010867511155083776, 0.00040724765858612955, 0.00010700341954361647, 0.000678271462675184, 0.00011028484004782513, 1.3184225622353551e-07, 2.660271150034532e-07, 4.6195683012228983e-07, 8.409730980929453e-06, 0.0007784883491694927, 5.109439982220465e-08, 8.792070502749993e-07, 4.9342852435074747e-05, 3.4893165690164096e-08, 0.000114411988761276, 0.9966580867767334, 0.0, 0.0, 0.0, 0.0, 0.0, 0.0, 0.0, 0.0, 0.0, 0.0, 0.0, 0.0, 0.0, 0.0, 0.0, 0.0, 0.0], [0.05868089199066162, 0.018785733729600906, 0.024067318066954613, 0.011013144627213478, 0.02145637758076191, 0.1911056935787201, 0.09902717173099518, 0.060658663511276245, 0.03016272373497486, 0.014801906421780586, 0.15370333194732666, 0.016615163534879684, 0.0043853819370269775, 0.14085334539413452, 0.01501499954611063, 0.005390208680182695, 0.13427796959877014, 0.0, 0.0, 0.0, 0.0, 0.0, 0.0, 0.0, 0.0, 0.0, 0.0, 0.0, 0.0, 0.0, 0.0, 0.0, 0.0], [0.07323038578033447, 0.028374578803777695, 0.021058257669210434, 0.007611887063831091, 0.010053583420813084, 0.06553954631090164, 0.1455976814031601, 0.08620846271514893, 0.01024126447737217, 0.0074257394298911095, 0.045262716710567474, 0.00662145996466279, 0.0011621782323345542, 0.03923855721950531, 0.008256876841187477, 0.003065689466893673, 0.036122649908065796, 0.4049285352230072, 0.0, 0.0, 0.0, 0.0, 0.0, 0.0, 0.0, 0.0, 0.0, 0.0, 0.0, 0.0, 0.0, 0.0, 0.0], [7.944500976009294e-05, 1.8382105508862878e-06, 3.7134324060161816e-08, 1.557527866680175e-05, 3.4723757380561437e-06, 1.3165046830465599e-09, 2.7038657535172206e-08, 1.718662012706318e-08, 9.2322629541286e-08, 1.350637921859743e-05, 4.4787801245504966e-10, 2.0416692780855783e-09, 5.542018044479846e-08, 3.063855003038185e-10, 4.2177114778496616e-07, 7.065867521305336e-06, 2.4244301011222547e-10, 1.4397331105087119e-09, 0.9998784065246582, 0.0, 0.0, 0.0, 0.0, 0.0, 0.0, 0.0, 0.0, 0.0, 0.0, 0.0, 0.0, 0.0, 0.0], [0.002934500575065613, 0.0005883863777853549, 0.004250314552336931, 0.004028473515063524, 0.00011592977534746751, 4.331634045229293e-06, 6.773919267288875e-06, 7.076480687828735e-05, 0.00024952771491371095, 0.0003159341576974839, 2.082445462292526e-06, 4.409225221024826e-05, 0.0003044698678422719, 1.4702602584293345e-06, 0.00019761378644034266, 0.0013599281664937735, 1.2478686812755768e-06, 6.875201052025659e-06, 0.00019261165289208293, 0.9853246808052063, 0.0, 0.0, 0.0, 0.0, 0.0, 0.0, 0.0, 0.0, 0.0, 0.0, 0.0, 0.0, 0.0], [0.0405653677880764, 0.017898330464959145, 0.020600976422429085, 0.009821103885769844, 0.01788281463086605, 0.15654000639915466, 0.09208228439092636, 0.05628824234008789, 0.02666134014725685, 0.014471275731921196, 0.12537623941898346, 0.013986770063638687, 0.003927926532924175, 0.11453618109226227, 0.013395378366112709, 0.004846667870879173, 0.10880251228809357, 0.04953394830226898, 0.005186409689486027, 0.004420872312039137, 0.10317535698413849, 0.0, 0.0, 0.0, 0.0, 0.0, 0.0, 0.0, 0.0, 0.0, 0.0, 0.0, 0.0], [0.024536319077014923, 0.0031243376433849335, 0.0009699301444925368, 4.6315424697240815e-05, 0.00013434777793008834, 0.0006453940295614302, 0.011668842285871506, 0.00032713435939513147, 0.0004573049955070019, 2.3976073862286285e-05, 0.00034454185515642166, 4.996423376724124e-05, 2.575737926235888e-05, 0.0002821774687618017, 6.525323442474473e-06, 4.981808615411865e-06, 0.00023554022482130677, 0.0002664511266630143, 2.5311152057838626e-05, 2.976109135488514e-05, 0.00018809246830642223, 0.9566068649291992, 0.0, 0.0, 0.0, 0.0, 0.0, 0.0, 0.0, 0.0, 0.0, 0.0, 0.0], [0.0020759969484061003, 0.00014591761282645166, 5.289893306326121e-05, 4.2180658056167886e-05, 4.7387107770191506e-05, 4.1423194829803833e-07, 0.00012964275083504617, 2.4250975911854766e-05, 1.8034011191048194e-06, 1.4839239383945824e-06, 1.4489953059637628e-07, 4.199924660497345e-06, 4.106825457483865e-08, 1.0260462346423083e-07, 8.285448984679533e-07, 5.7818925824904e-07, 7.695144432773304e-08, 6.669597496511415e-08, 6.472609675256535e-05, 1.5700858284617425e-06, 5.641820521873342e-08, 4.403023922350258e-06, 0.9974013566970825, 0.0, 0.0, 0.0, 0.0, 0.0, 0.0, 0.0, 0.0, 0.0, 0.0], [0.0005159099819138646, 0.00011814597382908687, 3.2705549529055133e-05, 0.00021188679966144264, 4.5635159040102735e-05, 2.9248755595290277e-07, 3.0579308258893434e-06, 7.607346219629108e-08, 0.000137536451802589, 0.0005283522768877447, 1.1575992431289706e-07, 4.028569492220413e-06, 2.0792908799194265e-06, 8.805391615851477e-08, 0.00010051658318843693, 4.4316107960185036e-05, 6.963698950812613e-08, 9.373004417057018e-08, 3.337762609589845e-05, 1.5888857888057828e-05, 5.610664643995733e-08, 7.05262834799214e-08, 9.389261322212406e-06, 0.9981963038444519, 0.0, 0.0, 0.0, 0.0, 0.0, 0.0, 0.0, 0.0, 0.0], [0.0691523477435112, 0.0140320910140872, 0.005599102005362511, 0.0012576858280226588, 0.0008468004525639117, 0.009601176716387272, 0.008965776301920414, 0.052476946264505386, 0.0002502838906366378, 0.0009063857141882181, 0.005419907625764608, 0.0007309210486710072, 0.0001918795460369438, 0.004396581556648016, 0.005964719224721193, 0.00035585390287451446, 0.0038770181126892567, 0.009727220050990582, 0.001102349371649325, 0.0003644291136879474, 0.003413958242163062, 0.003052355023100972, 0.005698255263268948, 0.0002955732343252748, 0.7923204302787781, 0.0, 0.0, 0.0, 0.0, 0.0, 0.0, 0.0, 0.0], [0.0010461597703397274, 1.955721563717816e-05, 1.7359042203679564e-06, 3.103058406850323e-05, 2.7308056814945303e-05, 1.0180717602281675e-08, 4.815781835532107e-07, 1.7494296855602443e-07, 7.3124517996348e-08, 7.983091450114443e-07, 3.464323272694969e-09, 4.906740741716931e-06, 1.0718952836441531e-07, 2.35255281921809e-09, 2.3834166995584383e-07, 1.3731373655900825e-06, 1.8288706105096253e-09, 6.247633965728028e-09, 9.208364645019174e-06, 1.6384317405027105e-06, 1.2523946324449753e-09, 8.27128976421676e-10, 8.456793693767395e-06, 3.1186914384306874e-06, 9.241437837204103e-09, 0.9988435506820679, 0.0, 0.0, 0.0, 0.0, 0.0, 0.0, 0.0], [0.0010544945253059268, 0.00021373217168729752, 0.0002815716725308448, 0.00113733671605587, 0.00014783968799747527, 2.0068493995495373e-06, 4.831355909118429e-06, 3.482335159787908e-06, 5.100349881104194e-06, 0.000124204860185273, 9.301510885961761e-07, 1.058263296727091e-05, 1.1688275662891101e-05, 7.077505301822384e-07, 0.0034115940798074007, 0.00019905276712961495, 5.995612468723266e-07, 4.6430378120021487e-07, 1.9585138943511993e-05, 0.00011087791790487245, 4.7500583377768635e-07, 3.2808816285978537e-07, 4.535354491963517e-06, 5.161709486856125e-05, 3.2474736144649796e-07, 1.3071360626781825e-05, 0.9931889772415161, 0.0, 0.0, 0.0, 0.0, 0.0, 0.0], [0.02420077472925186, 0.0028201299719512463, 0.004319300409406424, 0.0009108305675908923, 0.0017753951251506805, 0.003809915855526924, 0.002953325165435672, 0.0167147908359766, 0.0013931754510849714, 0.005003185477107763, 0.002276089508086443, 0.000587641610763967, 0.0009901636512950063, 0.0018066938500851393, 0.003131241537630558, 0.00023389386478811502, 0.0016082727815955877, 0.009910304099321365, 0.002853953745216131, 0.00020495163334999233, 0.001371265621855855, 0.006919005420058966, 0.0010336586274206638, 0.00014528397878166288, 0.01748979091644287, 0.00046553160063922405, 0.00030240879277698696, 0.884769082069397, 0.0, 0.0, 0.0, 0.0, 0.0], [0.0005256084259599447, 3.528643219397054e-06, 1.703766429272946e-06, 9.408168261870742e-05, 0.6647974252700806, 1.6531473079339776e-07, 9.51110109781439e-07, 8.886889304449141e-07, 1.701670953480061e-05, 3.742182161659002e-05, 6.832264176637182e-08, 9.81090579443844e-06, 7.548720759587013e-08, 4.963250432865607e-08, 2.0393883914948674e-06, 7.686544449825305e-06, 4.0668499678986336e-08, 2.6744308101456227e-08, 3.3431806514272466e-05, 4.3410815919742163e-07, 3.007987459113792e-08, 3.2060558652347027e-08, 4.900573458144208e-06, 3.0609417080995627e-06, 1.4603192433071399e-08, 2.214551204815507e-05, 9.21116861718474e-06, 3.1642709785728584e-08, 0.33442816138267517, 0.0, 0.0, 0.0, 0.0], [0.004677004646509886, 0.0002802134840749204, 8.346102549694479e-05, 3.1570123155688634e-06, 4.065346672632586e-07, 1.3343500882001536e-07, 2.6423611416248605e-05, 1.1439977498639564e-07, 2.787237463053316e-07, 3.7496099594136467e-06, 4.652897445112103e-08, 1.721399939924595e-06, 1.8165600579322927e-07, 3.148475968828279e-08, 1.8334230844629928e-07, 5.2147463236451586e-08, 2.5215808108214333e-08, 3.078440968806717e-08, 7.142029545548212e-08, 1.6640171907056356e-08, 1.7768222448921733e-08, 8.634525272555038e-08, 2.80096719507128e-06, 8.454143767266942e-07, 3.098357126418705e-08, 2.927866091795295e-07, 5.67622805647261e-07, 5.055421414823513e-09, 2.9141034474378102e-08, 0.9949179887771606, 0.0, 0.0, 0.0], [5.636792411678471e-05, 0.0002002374967560172, 1.6319110045515117e-06, 1.5089327689565835e-06, 1.7779768313630484e-05, 5.95644145118257e-10, 6.94038226356497e-06, 5.034010541749012e-09, 2.1682893702745787e-07, 1.7164256860269234e-06, 1.9326265587871205e-10, 1.8911425314627195e-08, 9.538840117784275e-08, 1.2946883842790413e-10, 8.07715050399338e-09, 4.386615546536632e-05, 9.768665043541347e-11, 5.256080015669795e-10, 6.93216934450902e-05, 7.505880716962565e-08, 7.069290985928234e-11, 3.988046870517792e-08, 1.0610266144794878e-05, 2.2120727862784406e-06, 8.688617048058234e-10, 9.928487088473048e-06, 5.390094592883088e-09, 1.1354458345769203e-10, 3.0600433547078865e-06, 3.8945626101849484e-07, 0.9995738863945007, 0.0, 0.0], [0.0003556974115781486, 1.9489458281896077e-05, 9.160975423583295e-06, 1.3085226783005055e-05, 2.3808830519556068e-05, 2.9718961513935938e-08, 4.1605944716138765e-05, 1.7756491388354334e-07, 6.896235049680399e-07, 1.050622017828573e-06, 1.2230765733534099e-08, 4.290539891371736e-06, 3.2958240581137943e-07, 9.211071905212975e-09, 1.7466379631514428e-06, 4.682780854636803e-06, 7.44272554698e-09, 9.673800427378865e-09, 3.9665097574470565e-05, 7.324884450099489e-07, 5.5436903956262995e-09, 1.0396686178637538e-07, 1.4401590306079015e-05, 8.873331353242975e-06, 5.9894045278952035e-09, 1.5627783795935102e-05, 2.981124680445646e-06, 6.874342872720263e-09, 4.854650796914939e-06, 7.0722649070376065e-06, 6.210680112417322e-06, 0.999423623085022, 0.0], [0.05455268174409866, 0.016429055482149124, 0.01600833609700203, 0.006986877880990505, 0.024884145706892014, 0.07376931607723236, 0.07933785766363144, 0.05594551935791969, 0.02726820856332779, 0.013368774205446243, 0.055903077125549316, 0.007223024964332581, 0.005426575895398855, 0.05012328177690506, 0.008279063738882542, 0.0030609651003032923, 0.04682298004627228, 0.047518469393253326, 0.00284494343213737, 0.007037975825369358, 0.04282715171575546, 0.051381900906562805, 0.02728237584233284, 0.026375344023108482, 0.02615921013057232, 0.011997979134321213, 0.006220123264938593, 0.03648780658841133, 0.01112469844520092, 0.005218563135713339, 0.0025592001620680094, 0.002604028908535838, 0.14697043597698212]], [[1.0, 0.0, 0.0, 0.0, 0.0, 0.0, 0.0, 0.0, 0.0, 0.0, 0.0, 0.0, 0.0, 0.0, 0.0, 0.0, 0.0, 0.0, 0.0, 0.0, 0.0, 0.0, 0.0, 0.0, 0.0, 0.0, 0.0, 0.0, 0.0, 0.0, 0.0, 0.0, 0.0], [0.9192657470703125, 0.08073429018259048, 0.0, 0.0, 0.0, 0.0, 0.0, 0.0, 0.0, 0.0, 0.0, 0.0, 0.0, 0.0, 0.0, 0.0, 0.0, 0.0, 0.0, 0.0, 0.0, 0.0, 0.0, 0.0, 0.0, 0.0, 0.0, 0.0, 0.0, 0.0, 0.0, 0.0, 0.0], [0.4543737471103668, 0.42650437355041504, 0.11912190169095993, 0.0, 0.0, 0.0, 0.0, 0.0, 0.0, 0.0, 0.0, 0.0, 0.0, 0.0, 0.0, 0.0, 0.0, 0.0, 0.0, 0.0, 0.0, 0.0, 0.0, 0.0, 0.0, 0.0, 0.0, 0.0, 0.0, 0.0, 0.0, 0.0, 0.0], [0.5267522931098938, 0.2232162356376648, 0.12420623749494553, 0.12582524120807648, 0.0, 0.0, 0.0, 0.0, 0.0, 0.0, 0.0, 0.0, 0.0, 0.0, 0.0, 0.0, 0.0, 0.0, 0.0, 0.0, 0.0, 0.0, 0.0, 0.0, 0.0, 0.0, 0.0, 0.0, 0.0, 0.0, 0.0, 0.0, 0.0], [0.39034879207611084, 0.1709941178560257, 0.06872710585594177, 0.18371818959712982, 0.1862117350101471, 0.0, 0.0, 0.0, 0.0, 0.0, 0.0, 0.0, 0.0, 0.0, 0.0, 0.0, 0.0, 0.0, 0.0, 0.0, 0.0, 0.0, 0.0, 0.0, 0.0, 0.0, 0.0, 0.0, 0.0, 0.0, 0.0, 0.0, 0.0], [0.1974421739578247, 0.2543684244155884, 0.1448846310377121, 0.18925857543945312, 0.20821942389011383, 0.0058267852291464806, 0.0, 0.0, 0.0, 0.0, 0.0, 0.0, 0.0, 0.0, 0.0, 0.0, 0.0, 0.0, 0.0, 0.0, 0.0, 0.0, 0.0, 0.0, 0.0, 0.0, 0.0, 0.0, 0.0, 0.0, 0.0, 0.0, 0.0], [0.19473567605018616, 0.13241828978061676, 0.14391931891441345, 0.1512073427438736, 0.30024465918540955, 0.020584644749760628, 0.05688999220728874, 0.0, 0.0, 0.0, 0.0, 0.0, 0.0, 0.0, 0.0, 0.0, 0.0, 0.0, 0.0, 0.0, 0.0, 0.0, 0.0, 0.0, 0.0, 0.0, 0.0, 0.0, 0.0, 0.0, 0.0, 0.0, 0.0], [0.126966655254364, 0.21597377955913544, 0.1608932763338089, 0.1969882994890213, 0.1884462684392929, 0.013544926419854164, 0.07520709931850433, 0.021979715675115585, 0.0, 0.0, 0.0, 0.0, 0.0, 0.0, 0.0, 0.0, 0.0, 0.0, 0.0, 0.0, 0.0, 0.0, 0.0, 0.0, 0.0, 0.0, 0.0, 0.0, 0.0, 0.0, 0.0, 0.0, 0.0], [0.291212260723114, 0.059542279690504074, 0.11079410463571548, 0.09717857092618942, 0.22345605492591858, 0.016262579709291458, 0.08719442039728165, 0.024762261658906937, 0.08959741145372391, 0.0, 0.0, 0.0, 0.0, 0.0, 0.0, 0.0, 0.0, 0.0, 0.0, 0.0, 0.0, 0.0, 0.0, 0.0, 0.0, 0.0, 0.0, 0.0, 0.0, 0.0, 0.0, 0.0, 0.0], [0.22981958091259003, 0.038026776164770126, 0.160138338804245, 0.11780403554439545, 0.1618119180202484, 0.03552818298339844, 0.07561115175485611, 0.020756017416715622, 0.10670632123947144, 0.053797684609889984, 0.0, 0.0, 0.0, 0.0, 0.0, 0.0, 0.0, 0.0, 0.0, 0.0, 0.0, 0.0, 0.0, 0.0, 0.0, 0.0, 0.0, 0.0, 0.0, 0.0, 0.0, 0.0, 0.0], [0.1331443041563034, 0.1885865330696106, 0.10808101296424866, 0.15994970500469208, 0.17739209532737732, 0.003598014358431101, 0.02506207674741745, 0.012862928211688995, 0.07453099638223648, 0.11275240778923035, 0.004039985593408346, 0.0, 0.0, 0.0, 0.0, 0.0, 0.0, 0.0, 0.0, 0.0, 0.0, 0.0, 0.0, 0.0, 0.0, 0.0, 0.0, 0.0, 0.0, 0.0, 0.0, 0.0, 0.0], [0.167464017868042, 0.1435522735118866, 0.061185725033283234, 0.17358075082302094, 0.10113829374313354, 0.01755346730351448, 0.03239528089761734, 0.007995491847395897, 0.05453447997570038, 0.07883201539516449, 0.01725820265710354, 0.1445099264383316, 0.0, 0.0, 0.0, 0.0, 0.0, 0.0, 0.0, 0.0, 0.0, 0.0, 0.0, 0.0, 0.0, 0.0, 0.0, 0.0, 0.0, 0.0, 0.0, 0.0, 0.0], [0.2699681520462036, 0.13029073178768158, 0.06605684757232666, 0.06156139820814133, 0.08437128365039825, 0.019846616312861443, 0.016312789171934128, 0.012965921312570572, 0.03231465443968773, 0.05254793539643288, 0.019868606701493263, 0.1369563788175583, 0.09693866968154907, 0.0, 0.0, 0.0, 0.0, 0.0, 0.0, 0.0, 0.0, 0.0, 0.0, 0.0, 0.0, 0.0, 0.0, 0.0, 0.0, 0.0, 0.0, 0.0, 0.0], [0.09820347279310226, 0.1361863911151886, 0.08005785197019577, 0.12152862548828125, 0.1357938051223755, 0.0024323563557118177, 0.017789501696825027, 0.009086486883461475, 0.05637528374791145, 0.08521634340286255, 0.002753336215391755, 0.1520378738641739, 0.09946723282337189, 0.003071403130888939, 0.0, 0.0, 0.0, 0.0, 0.0, 0.0, 0.0, 0.0, 0.0, 0.0, 0.0, 0.0, 0.0, 0.0, 0.0, 0.0, 0.0, 0.0, 0.0], [0.1701289266347885, 0.08885715156793594, 0.09089689701795578, 0.08085784316062927, 0.11427336931228638, 0.01090148277580738, 0.014788416214287281, 0.0054973699152469635, 0.05151257663965225, 0.05330682918429375, 0.010595808736979961, 0.0944228246808052, 0.1309812068939209, 0.01115368027240038, 0.07182563096284866, 0.0, 0.0, 0.0, 0.0, 0.0, 0.0, 0.0, 0.0, 0.0, 0.0, 0.0, 0.0, 0.0, 0.0, 0.0, 0.0, 0.0, 0.0], [0.103658527135849, 0.03588540107011795, 0.08803563565015793, 0.060879360884428024, 0.08348328620195389, 0.03080574981868267, 0.029615940526127815, 0.010918696410953999, 0.04049994423985481, 0.04288605973124504, 0.03219295293092728, 0.1500813364982605, 0.12658780813217163, 0.034902188926935196, 0.05825437605381012, 0.0713128000497818, 0.0, 0.0, 0.0, 0.0, 0.0, 0.0, 0.0, 0.0, 0.0, 0.0, 0.0, 0.0, 0.0, 0.0, 0.0, 0.0, 0.0], [0.0704709142446518, 0.09600996226072311, 0.05621582269668579, 0.0869988352060318, 0.09934128820896149, 0.0016298776026815176, 0.01240861788392067, 0.006380435544997454, 0.041014041751623154, 0.06348711997270584, 0.0018482193117961287, 0.11387643218040466, 0.07328981161117554, 0.002071293769404292, 0.07246166467666626, 0.20012786984443665, 0.002367777982726693, 0.0, 0.0, 0.0, 0.0, 0.0, 0.0, 0.0, 0.0, 0.0, 0.0, 0.0, 0.0, 0.0, 0.0, 0.0, 0.0], [0.056594423949718475, 0.08906204998493195, 0.047032430768013, 0.09457871317863464, 0.08793891221284866, 0.001972164260223508, 0.017767684534192085, 0.005990440491586924, 0.06014855206012726, 0.08834963291883469, 0.002263767411932349, 0.10461527109146118, 0.06079372763633728, 0.002556623425334692, 0.07818624377250671, 0.19496025145053864, 0.002929993672296405, 0.004259060136973858, 0.0, 0.0, 0.0, 0.0, 0.0, 0.0, 0.0, 0.0, 0.0, 0.0, 0.0, 0.0, 0.0, 0.0, 0.0], [0.159706249833107, 0.026096459478139877, 0.04515179246664047, 0.03497577831149101, 0.08030678331851959, 0.05469036474823952, 0.04078544303774834, 0.026513004675507545, 0.027251940220594406, 0.039198171347379684, 0.053514327853918076, 0.0484292097389698, 0.0626426711678505, 0.05558210611343384, 0.05559666082262993, 0.04792959615588188, 0.05676325038075447, 0.048923008143901825, 0.03594321012496948, 0.0, 0.0, 0.0, 0.0, 0.0, 0.0, 0.0, 0.0, 0.0, 0.0, 0.0, 0.0, 0.0, 0.0], [0.08663120865821838, 0.09557435661554337, 0.03673810139298439, 0.06946706026792526, 0.056814610958099365, 0.008190208114683628, 0.022195827215909958, 0.007642820477485657, 0.031468283385038376, 0.0755520835518837, 0.008965260349214077, 0.05263481289148331, 0.044911064207553864, 0.00993504747748375, 0.04481375962495804, 0.15198466181755066, 0.010933397337794304, 0.007993672043085098, 0.16402560472488403, 0.013528089970350266, 0.0, 0.0, 0.0, 0.0, 0.0, 0.0, 0.0, 0.0, 0.0, 0.0, 0.0, 0.0, 0.0], [0.04783450439572334, 0.06669352948665619, 0.03798922151327133, 0.06040368974208832, 0.06899043917655945, 0.0010267274919897318, 0.008172677829861641, 0.004158171825110912, 0.028268275782465935, 0.044072382152080536, 0.001158646191470325, 0.07832911610603333, 0.050829000771045685, 0.0013004970969632268, 0.04904298111796379, 0.14145003259181976, 0.0014934330247342587, 0.0025566823314875364, 0.17534081637859344, 0.12910202145576477, 0.0017870542360469699, 0.0, 0.0, 0.0, 0.0, 0.0, 0.0, 0.0, 0.0, 0.0, 0.0, 0.0, 0.0], [0.04114088416099548, 0.04766073450446129, 0.03586999699473381, 0.06666101515293121, 0.07969272881746292, 0.0023650778457522392, 0.020340194925665855, 0.004854496102780104, 0.06436203420162201, 0.06737150996923447, 0.0027073684614151716, 0.055960532277822495, 0.056486647576093674, 0.003076723776757717, 0.053543880581855774, 0.15165933966636658, 0.0035397191531956196, 0.004673931282013655, 0.1640271693468094, 0.05968153104186058, 0.004154942464083433, 0.010169513523578644, 0.0, 0.0, 0.0, 0.0, 0.0, 0.0, 0.0, 0.0, 0.0, 0.0, 0.0], [0.0662880539894104, 0.04092540591955185, 0.02732267789542675, 0.045053672045469284, 0.06575216352939606, 0.01565755158662796, 0.027881883084774017, 0.013711248524487019, 0.03174295276403427, 0.05280745029449463, 0.015447767451405525, 0.032181113958358765, 0.032901059836149216, 0.016298862174153328, 0.02663664147257805, 0.09772850573062897, 0.017114197835326195, 0.0169194545596838, 0.09847064316272736, 0.047879092395305634, 0.018412547186017036, 0.015331598930060863, 0.17753542959690094, 0.0, 0.0, 0.0, 0.0, 0.0, 0.0, 0.0, 0.0, 0.0, 0.0], [0.09801428020000458, 0.026328807696700096, 0.035868145525455475, 0.05713058263063431, 0.06943872570991516, 0.01212895568460226, 0.02090909518301487, 0.008747953921556473, 0.02699965052306652, 0.03726676478981972, 0.01171633880585432, 0.08499540388584137, 0.055013373494148254, 0.012196715921163559, 0.035639114677906036, 0.08789661526679993, 0.012970106676220894, 0.01085102278739214, 0.06408385187387466, 0.059639208018779755, 0.014492185786366463, 0.006093737669289112, 0.09761442244052887, 0.05396495759487152, 0.0, 0.0, 0.0, 0.0, 0.0, 0.0, 0.0, 0.0, 0.0], [0.027693239971995354, 0.040737707167863846, 0.03122355230152607, 0.05879037827253342, 0.05601825937628746, 0.0015714785549789667, 0.011908049695193768, 0.0033397923689335585, 0.05176554620265961, 0.052912432700395584, 0.0018259822390973568, 0.060300346463918686, 0.02835717797279358, 0.0020878107752650976, 0.050864774733781815, 0.07898838073015213, 0.002398707205429673, 0.002904823748394847, 0.11135736107826233, 0.0458601638674736, 0.002884918823838234, 0.011431250721216202, 0.1234055906534195, 0.13488471508026123, 0.006487554870545864, 0.0, 0.0, 0.0, 0.0, 0.0, 0.0, 0.0, 0.0], [0.1539076715707779, 0.023786786943674088, 0.05320247262716293, 0.039638858288526535, 0.05711062625050545, 0.015628939494490623, 0.020206080749630928, 0.009252365678548813, 0.021311869844794273, 0.029029950499534607, 0.014741908758878708, 0.06123840808868408, 0.10112593322992325, 0.01515782717615366, 0.04335403069853783, 0.040907204151153564, 0.015732651576399803, 0.02007342129945755, 0.053749311715364456, 0.03468617424368858, 0.016989391297101974, 0.006368501577526331, 0.040420182049274445, 0.031060412526130676, 0.01393716037273407, 0.06738190352916718, 0.0, 0.0, 0.0, 0.0, 0.0, 0.0, 0.0], [0.08555091917514801, 0.03505741432309151, 0.05885257199406624, 0.03497910127043724, 0.05178741738200188, 0.002511990023776889, 0.0041512236930429935, 0.0020859187934547663, 0.014081122353672981, 0.024491356685757637, 0.00237600551918149, 0.09535115957260132, 0.07766137272119522, 0.0024908825289458036, 0.04572679474949837, 0.05774116516113281, 0.0026603781152516603, 0.003347759833559394, 0.04799826443195343, 0.026788828894495964, 0.002958715660497546, 0.0046557895839214325, 0.036070987582206726, 0.021599190309643745, 0.004788636229932308, 0.2205219864845276, 0.03371305391192436, 0.0, 0.0, 0.0, 0.0, 0.0, 0.0], [0.02070671133697033, 0.03719405084848404, 0.019723715260624886, 0.03894224017858505, 0.03182699903845787, 0.0012253670720383525, 0.008815755136311054, 0.00240529328584671, 0.03457954525947571, 0.047298040241003036, 0.0013953752350062132, 0.05148204788565636, 0.020486745983362198, 0.0015608381945639849, 0.03826119378209114, 0.04863754287362099, 0.0017825315007939935, 0.0025446058716624975, 0.06541351228952408, 0.0418856218457222, 0.002096060197800398, 0.00940138939768076, 0.08460032194852829, 0.09019994735717773, 0.005403279792517424, 0.22932566702365875, 0.05692273750901222, 0.0058829220943152905, 0.0, 0.0, 0.0, 0.0, 0.0], [0.08582809567451477, 0.03967175632715225, 0.014841830357909203, 0.056536201387643814, 0.05960613861680031, 0.0069875153712928295, 0.010110095143318176, 0.002887723734602332, 0.015322854742407799, 0.025928769260644913, 0.0068304408341646194, 0.03354894369840622, 0.021093543618917465, 0.007213155273348093, 0.019323399290442467, 0.05298228561878204, 0.007658611051738262, 0.00515784602612257, 0.0652317926287651, 0.018170015886425972, 0.00853470154106617, 0.004368166904896498, 0.026912439614534378, 0.04962793365120888, 0.004404325969517231, 0.1938866674900055, 0.03933224827051163, 0.005363550502806902, 0.11263899505138397, 0.0, 0.0, 0.0, 0.0], [0.07040347903966904, 0.059261616319417953, 0.015334845520555973, 0.024139033630490303, 0.01572885550558567, 0.01949208974838257, 0.017311519011855125, 0.017303064465522766, 0.020563246682286263, 0.0451558493077755, 0.021815843880176544, 0.07079728692770004, 0.030063945800065994, 0.02354060672223568, 0.0206844974309206, 0.02116367034614086, 0.02644512988626957, 0.023540055379271507, 0.0566372349858284, 0.033694811165332794, 0.03070726804435253, 0.015993354842066765, 0.015474077314138412, 0.0308036208152771, 0.03180556744337082, 0.07969610393047333, 0.034374870359897614, 0.03453714773058891, 0.030624380335211754, 0.06290692090988159, 0.0, 0.0, 0.0], [0.05338500440120697, 0.029621530324220657, 0.021030081436038017, 0.02369570918381214, 0.03343641385436058, 0.018393803387880325, 0.024060698226094246, 0.022810012102127075, 0.013972371816635132, 0.028813567012548447, 0.01905973069369793, 0.015371969901025295, 0.02533531002700329, 0.019971946254372597, 0.014075735583901405, 0.038844525814056396, 0.02134619653224945, 0.01932143047451973, 0.05632656440138817, 0.021360019221901894, 0.023394571617245674, 0.023136626929044724, 0.06416381895542145, 0.06724690645933151, 0.0346950925886631, 0.0434902124106884, 0.030327260494232178, 0.03285713121294975, 0.053275082260370255, 0.0659981369972229, 0.0411824993789196, 0.0, 0.0], [0.1817709058523178, 0.01953316666185856, 0.028002936393022537, 0.029110195115208626, 0.04134833812713623, 0.018019482493400574, 0.01047173049300909, 0.008382907137274742, 0.015335801988840103, 0.02183944173157215, 0.016893355175852776, 0.03806138038635254, 0.03643865883350372, 0.017464272677898407, 0.026129066944122314, 0.040115050971508026, 0.0183172095566988, 0.012488226406276226, 0.05136965215206146, 0.019443852826952934, 0.019889751449227333, 0.0035764507483690977, 0.026232965290546417, 0.018429184332489967, 0.011723744682967663, 0.0327298529446125, 0.034808218479156494, 0.012035044841468334, 0.060302965342998505, 0.007873311638832092, 0.04227292165160179, 0.07958997040987015, 0.0], [0.01500339712947607, 0.020334864035248756, 0.00781344249844551, 0.016553569585084915, 0.016466114670038223, 0.0002380963123869151, 0.001959895482286811, 0.0006898263236507773, 0.006483224220573902, 0.01073406357318163, 0.0002443528501316905, 0.014634675346314907, 0.009247622452676296, 0.0002605919726192951, 0.009339914657175541, 0.04272659495472908, 0.00028863942134194076, 0.00038116759969852865, 0.05474936217069626, 0.09452767670154572, 0.0003421130240894854, 0.0017270189709961414, 0.04745934158563614, 0.026613805443048477, 0.0010238662362098694, 0.1653798222541809, 0.014187117107212543, 0.0013092365115880966, 0.04770656302571297, 0.011198500171303749, 0.22050751745700836, 0.1394260972738266, 0.00044186264858581126]], [[1.0, 0.0, 0.0, 0.0, 0.0, 0.0, 0.0, 0.0, 0.0, 0.0, 0.0, 0.0, 0.0, 0.0, 0.0, 0.0, 0.0, 0.0, 0.0, 0.0, 0.0, 0.0, 0.0, 0.0, 0.0, 0.0, 0.0, 0.0, 0.0, 0.0, 0.0, 0.0, 0.0], [0.9333657622337341, 0.06663419306278229, 0.0, 0.0, 0.0, 0.0, 0.0, 0.0, 0.0, 0.0, 0.0, 0.0, 0.0, 0.0, 0.0, 0.0, 0.0, 0.0, 0.0, 0.0, 0.0, 0.0, 0.0, 0.0, 0.0, 0.0, 0.0, 0.0, 0.0, 0.0, 0.0, 0.0, 0.0], [0.32452353835105896, 0.5923717617988586, 0.083104707300663, 0.0, 0.0, 0.0, 0.0, 0.0, 0.0, 0.0, 0.0, 0.0, 0.0, 0.0, 0.0, 0.0, 0.0, 0.0, 0.0, 0.0, 0.0, 0.0, 0.0, 0.0, 0.0, 0.0, 0.0, 0.0, 0.0, 0.0, 0.0, 0.0, 0.0], [0.14159759879112244, 0.514380931854248, 0.28144127130508423, 0.0625801831483841, 0.0, 0.0, 0.0, 0.0, 0.0, 0.0, 0.0, 0.0, 0.0, 0.0, 0.0, 0.0, 0.0, 0.0, 0.0, 0.0, 0.0, 0.0, 0.0, 0.0, 0.0, 0.0, 0.0, 0.0, 0.0, 0.0, 0.0, 0.0, 0.0], [0.2526226341724396, 0.058340635150671005, 0.1045888215303421, 0.4411159157752991, 0.14333190023899078, 0.0, 0.0, 0.0, 0.0, 0.0, 0.0, 0.0, 0.0, 0.0, 0.0, 0.0, 0.0, 0.0, 0.0, 0.0, 0.0, 0.0, 0.0, 0.0, 0.0, 0.0, 0.0, 0.0, 0.0, 0.0, 0.0, 0.0, 0.0], [0.1805155873298645, 0.09828896820545197, 0.1087396889925003, 0.12262703478336334, 0.0999554991722107, 0.3898732364177704, 0.0, 0.0, 0.0, 0.0, 0.0, 0.0, 0.0, 0.0, 0.0, 0.0, 0.0, 0.0, 0.0, 0.0, 0.0, 0.0, 0.0, 0.0, 0.0, 0.0, 0.0, 0.0, 0.0, 0.0, 0.0, 0.0, 0.0], [0.17192280292510986, 0.023320937529206276, 0.12332724034786224, 0.060765013098716736, 0.05971726030111313, 0.34759166836738586, 0.21335498988628387, 0.0, 0.0, 0.0, 0.0, 0.0, 0.0, 0.0, 0.0, 0.0, 0.0, 0.0, 0.0, 0.0, 0.0, 0.0, 0.0, 0.0, 0.0, 0.0, 0.0, 0.0, 0.0, 0.0, 0.0, 0.0, 0.0], [0.0962703675031662, 0.04683612659573555, 0.028257345780730247, 0.03239244595170021, 0.05865050107240677, 0.1582932472229004, 0.30996495485305786, 0.26933497190475464, 0.0, 0.0, 0.0, 0.0, 0.0, 0.0, 0.0, 0.0, 0.0, 0.0, 0.0, 0.0, 0.0, 0.0, 0.0, 0.0, 0.0, 0.0, 0.0, 0.0, 0.0, 0.0, 0.0, 0.0, 0.0], [0.09948237985372543, 0.06464175879955292, 0.02867184951901436, 0.07305674999952316, 0.029787175357341766, 0.1396002322435379, 0.20754709839820862, 0.26580220460891724, 0.09141051769256592, 0.0, 0.0, 0.0, 0.0, 0.0, 0.0, 0.0, 0.0, 0.0, 0.0, 0.0, 0.0, 0.0, 0.0, 0.0, 0.0, 0.0, 0.0, 0.0, 0.0, 0.0, 0.0, 0.0, 0.0], [0.0563204400241375, 0.029885875061154366, 0.013419931754469872, 0.002407551510259509, 0.013245484791696072, 0.04564542695879936, 0.05522558465600014, 0.1002708226442337, 0.65799880027771, 0.025580082088708878, 0.0, 0.0, 0.0, 0.0, 0.0, 0.0, 0.0, 0.0, 0.0, 0.0, 0.0, 0.0, 0.0, 0.0, 0.0, 0.0, 0.0, 0.0, 0.0, 0.0, 0.0, 0.0, 0.0], [0.04266996681690216, 0.010426468215882778, 0.010652237571775913, 0.01344663929194212, 0.009353145025670528, 0.04015975818037987, 0.0710517019033432, 0.1373765766620636, 0.10423267632722855, 0.2173662781715393, 0.34326452016830444, 0.0, 0.0, 0.0, 0.0, 0.0, 0.0, 0.0, 0.0, 0.0, 0.0, 0.0, 0.0, 0.0, 0.0, 0.0, 0.0, 0.0, 0.0, 0.0, 0.0, 0.0, 0.0], [0.029683886095881462, 0.0025616372004151344, 0.0044074878096580505, 0.034248724579811096, 0.014238736592233181, 0.02800186164677143, 0.022288046777248383, 0.0710596814751625, 0.04026233032345772, 0.5543041825294495, 0.17333056032657623, 0.025612974539399147, 0.0, 0.0, 0.0, 0.0, 0.0, 0.0, 0.0, 0.0, 0.0, 0.0, 0.0, 0.0, 0.0, 0.0, 0.0, 0.0, 0.0, 0.0, 0.0, 0.0, 0.0], [0.04039591923356056, 0.008631567470729351, 0.005494223907589912, 0.003864137688651681, 0.023363124579191208, 0.02720697410404682, 0.02567731775343418, 0.05048515647649765, 0.0510561540722847, 0.050417810678482056, 0.14164334535598755, 0.5115286111831665, 0.060235679149627686, 0.0, 0.0, 0.0, 0.0, 0.0, 0.0, 0.0, 0.0, 0.0, 0.0, 0.0, 0.0, 0.0, 0.0, 0.0, 0.0, 0.0, 0.0, 0.0, 0.0], [0.028706416487693787, 0.004808458499610424, 0.004723657388240099, 0.005382596980780363, 0.0034560468047857285, 0.01447016280144453, 0.02403738722205162, 0.04162624478340149, 0.03567296266555786, 0.07060734182596207, 0.10830997675657272, 0.058116115629673004, 0.20621225237846375, 0.39387041330337524, 0.0, 0.0, 0.0, 0.0, 0.0, 0.0, 0.0, 0.0, 0.0, 0.0, 0.0, 0.0, 0.0, 0.0, 0.0, 0.0, 0.0, 0.0, 0.0], [0.05342649295926094, 0.011923289857804775, 0.015572250820696354, 0.002112323185428977, 0.0058510382659733295, 0.022170910611748695, 0.038184668868780136, 0.02741154097020626, 0.05464289337396622, 0.04910832643508911, 0.123283751308918, 0.05287175625562668, 0.07545655965805054, 0.3701530396938324, 0.09783122688531876, 0.0, 0.0, 0.0, 0.0, 0.0, 0.0, 0.0, 0.0, 0.0, 0.0, 0.0, 0.0, 0.0, 0.0, 0.0, 0.0, 0.0, 0.0], [0.008346715942025185, 0.00027852662606164813, 0.0011786009417846799, 0.0021395485382527113, 0.002476171124726534, 0.002918292535468936, 0.004576900042593479, 0.003965593408793211, 0.0049730269238352776, 0.011347766034305096, 0.013014056719839573, 0.005545963998883963, 0.0208955816924572, 0.03838542103767395, 0.8750316500663757, 0.004926194902509451, 0.0, 0.0, 0.0, 0.0, 0.0, 0.0, 0.0, 0.0, 0.0, 0.0, 0.0, 0.0, 0.0, 0.0, 0.0, 0.0, 0.0], [0.021700305864214897, 0.002678663469851017, 0.002383927581831813, 0.002815626095980406, 0.0015562345506623387, 0.006139403209090233, 0.00903981551527977, 0.013740858063101768, 0.012412196956574917, 0.024686496704816818, 0.0340690053999424, 0.017561456188559532, 0.060829490423202515, 0.12004058808088303, 0.11516808718442917, 0.1266368329524994, 0.42854100465774536, 0.0, 0.0, 0.0, 0.0, 0.0, 0.0, 0.0, 0.0, 0.0, 0.0, 0.0, 0.0, 0.0, 0.0, 0.0, 0.0], [0.019681409001350403, 0.0028661920223385096, 0.0027528645005077124, 0.0023642026353627443, 0.0022205752320587635, 0.00477696442976594, 0.005015392787754536, 0.007020771503448486, 0.0066029978916049, 0.01582488790154457, 0.021779092028737068, 0.02237590402364731, 0.03905550763010979, 0.07342642545700073, 0.07227571308612823, 0.08103621006011963, 0.25563231110572815, 0.36529263854026794, 0.0, 0.0, 0.0, 0.0, 0.0, 0.0, 0.0, 0.0, 0.0, 0.0, 0.0, 0.0, 0.0, 0.0, 0.0], [0.034438684582710266, 0.0024295076727867126, 0.0027038753032684326, 0.0010108916321769357, 0.0028212442994117737, 0.009310654364526272, 0.007474057842046022, 0.010526394471526146, 0.019342610612511635, 0.006583379115909338, 0.03052523173391819, 0.008166540414094925, 0.023945633322000504, 0.08047981560230255, 0.04428933188319206, 0.04886505752801895, 0.23266322910785675, 0.38709738850593567, 0.04732643440365791, 0.0, 0.0, 0.0, 0.0, 0.0, 0.0, 0.0, 0.0, 0.0, 0.0, 0.0, 0.0, 0.0, 0.0], [0.0036976796109229326, 0.0064509655348956585, 0.0004921727231703699, 0.00030695926398038864, 0.00012400785635691136, 0.0010727376211434603, 0.0008858796209096909, 0.0013806353090330958, 0.0008200184092856944, 0.00027311863959766924, 0.002783061470836401, 0.03529426082968712, 0.003561372635886073, 0.007148307748138905, 0.001647408353164792, 0.016731644049286842, 0.019172830507159233, 0.022339239716529846, 0.8733668327331543, 0.0024509585928171873, 0.0, 0.0, 0.0, 0.0, 0.0, 0.0, 0.0, 0.0, 0.0, 0.0, 0.0, 0.0, 0.0], [0.013628782704472542, 0.0014384430833160877, 0.0012188631808385253, 0.001291585387662053, 0.00061180250486359, 0.00214003655128181, 0.002746960148215294, 0.0033360449597239494, 0.0030918733682483435, 0.0059889135882258415, 0.00723721319809556, 0.003547741798684001, 0.012891959398984909, 0.022229162976145744, 0.02082422375679016, 0.026295319199562073, 0.07648168504238129, 0.1626145839691162, 0.1263865828514099, 0.10034429281949997, 0.4056539535522461, 0.0, 0.0, 0.0, 0.0, 0.0, 0.0, 0.0, 0.0, 0.0, 0.0, 0.0, 0.0], [0.02143297716975212, 0.0007291641086339951, 0.0010889690602198243, 0.0008559610578231514, 0.0010556622873991728, 0.002354246564209461, 0.001863330602645874, 0.002486985642462969, 0.004011374898254871, 0.0036456298548728228, 0.00663661677390337, 0.0024591649416834116, 0.008106634020805359, 0.019501395523548126, 0.01394551433622837, 0.016831588000059128, 0.06727852672338486, 0.10203754156827927, 0.07506174594163895, 0.03785502165555954, 0.34741589426994324, 0.2633460462093353, 0.0, 0.0, 0.0, 0.0, 0.0, 0.0, 0.0, 0.0, 0.0, 0.0, 0.0], [0.018374430015683174, 0.0016340144211426377, 0.0002648663939908147, 0.0006277090287767351, 0.0007212907075881958, 0.0022947133984416723, 0.0014375776518136263, 0.0024335694033652544, 0.001022504991851747, 0.002173098735511303, 0.005665965843945742, 0.0005857065552845597, 0.004730310756713152, 0.015789609402418137, 0.009121064096689224, 0.006447882391512394, 0.04965192824602127, 0.07221108675003052, 0.04530428349971771, 0.022536247968673706, 0.23380516469478607, 0.2810094356536865, 0.2221575230360031, 0.0, 0.0, 0.0, 0.0, 0.0, 0.0, 0.0, 0.0, 0.0, 0.0], [0.016010282561182976, 0.00041907670674845576, 0.0016793166287243366, 0.0020331651903688908, 0.001112604746595025, 0.002304120920598507, 0.0016414872370660305, 0.002045227447524667, 0.0008826442644931376, 0.003531813155859709, 0.004660748410969973, 0.0011461268877610564, 0.0040252795442938805, 0.011729458346962929, 0.006906011141836643, 0.005978971719741821, 0.03413613513112068, 0.05391993746161461, 0.07536923885345459, 0.015544150955975056, 0.15307289361953735, 0.21672506630420685, 0.23267336189746857, 0.15245288610458374, 0.0, 0.0, 0.0, 0.0, 0.0, 0.0, 0.0, 0.0, 0.0], [0.016415491700172424, 0.0010880987392738461, 0.0013027036329731345, 0.001233563176356256, 0.0010325232287868857, 0.0013605270069092512, 0.0011352720903232694, 0.0009713192121125758, 0.001758021884597838, 0.0023549937177449465, 0.0022677970118820667, 0.0026170003693550825, 0.0032849623821675777, 0.005564447958022356, 0.007287738379091024, 0.006582648493349552, 0.01691109873354435, 0.023348167538642883, 0.033363789319992065, 0.0120608601719141, 0.08410528302192688, 0.10776980221271515, 0.12741322815418243, 0.2500956058502197, 0.2886750400066376, 0.0, 0.0, 0.0, 0.0, 0.0, 0.0, 0.0, 0.0], [0.031117744743824005, 0.0015063051832839847, 0.001083932351320982, 0.002421521581709385, 0.0013826879439875484, 0.0037937189918011427, 0.0016339285066351295, 0.003119518281891942, 0.0012812626082450151, 0.0020685228519141674, 0.004760123323649168, 0.0008757315226830542, 0.008592117577791214, 0.009353641420602798, 0.011993247084319592, 0.005962998140603304, 0.02202821709215641, 0.03411329910159111, 0.009586771950125694, 0.013681817799806595, 0.08417052775621414, 0.08917819708585739, 0.10806845873594284, 0.1556077003479004, 0.37236857414245605, 0.02024947851896286, 0.0, 0.0, 0.0, 0.0, 0.0, 0.0, 0.0], [0.014838477596640587, 0.000575731392018497, 0.0047436547465622425, 0.00045677294838242233, 0.0007412272389046848, 0.0014999984996393323, 0.0008866075659170747, 0.0008452081237919629, 0.00010359247244196013, 0.0009065139456652105, 0.0018096774583682418, 0.060291070491075516, 0.0015377565287053585, 0.0033079434651881456, 0.0013713666703552008, 0.0020826756954193115, 0.00864399690181017, 0.00908886268734932, 0.007760948967188597, 0.005808332469314337, 0.03386512026190758, 0.03987189754843712, 0.053745534271001816, 0.03694772720336914, 0.12259428948163986, 0.5718705654144287, 0.013804461807012558, 0.0, 0.0, 0.0, 0.0, 0.0, 0.0], [0.018570004031062126, 0.001214314834214747, 0.0012880462454631925, 0.0010612563928589225, 0.0007490042480640113, 0.0010485613020136952, 0.0008687864174135029, 0.0005973855149932206, 0.0012938276631757617, 0.0014042491093277931, 0.0011055080685764551, 0.0005003443802706897, 0.0020262575708329678, 0.0021463108714669943, 0.002873790916055441, 0.002641367493197322, 0.005802980158478022, 0.00819135271012783, 0.00833907164633274, 0.005543302278965712, 0.02655869536101818, 0.03308916091918945, 0.03250738978385925, 0.09199853241443634, 0.10410477966070175, 0.16861769556999207, 0.20895430445671082, 0.26690366864204407, 0.0, 0.0, 0.0, 0.0, 0.0], [0.01665443368256092, 0.00072486512362957, 0.0008980674901977181, 0.003161684377118945, 0.0005522819701582193, 0.0016607240540906787, 0.0007486115791834891, 0.0009652787121012807, 0.0003842800797428936, 0.002257774816825986, 0.0015545623609796166, 0.0007036992465145886, 0.0014688160736113787, 0.0027998806908726692, 0.0030139745213091373, 0.005369033198803663, 0.006552340462803841, 0.0087015675380826, 0.007138855289667845, 0.006516315974295139, 0.026185564696788788, 0.03929200395941734, 0.031550053507089615, 0.024343017488718033, 0.10670771449804306, 0.15159796178340912, 0.13674210011959076, 0.32013967633247375, 0.09161487221717834, 0.0, 0.0, 0.0, 0.0], [0.03722681477665901, 0.000744272954761982, 0.001918031251989305, 0.001429059891961515, 0.00255973101593554, 0.0032928287982940674, 0.0009007241460494697, 0.0015445075696334243, 0.00035572113119997084, 0.0004492724547162652, 0.00266881356947124, 0.001404664828442037, 0.0017281001200899482, 0.0045427302829921246, 0.0012941044988110662, 0.004677655175328255, 0.009138202294707298, 0.008992942050099373, 0.005343649536371231, 0.0020318408496677876, 0.030930889770388603, 0.021215278655290604, 0.036399755626916885, 0.056794602423906326, 0.11195952445268631, 0.011458119377493858, 0.03353290632367134, 0.2658853828907013, 0.24695426225662231, 0.09262567013502121, 0.0, 0.0, 0.0], [0.04408876225352287, 0.001108294352889061, 0.0033875873778015375, 0.0048531824722886086, 0.0028643254190683365, 0.004500851966440678, 0.0014518089592456818, 0.002192496554926038, 0.0007902360521256924, 0.0006717371288686991, 0.0035771559923887253, 0.0005131770740263164, 0.012861708179116249, 0.005116846412420273, 0.0030142529867589474, 0.005887457635253668, 0.010453438386321068, 0.013818331062793732, 0.008691059425473213, 0.011229281313717365, 0.0314008928835392, 0.023181650787591934, 0.03044440597295761, 0.035206787288188934, 0.09999871999025345, 0.006090168841183186, 0.14714208245277405, 0.16393038630485535, 0.12749525904655457, 0.19357767701148987, 0.0004599914245773107, 0.0, 0.0], [0.0371740460395813, 0.005006891209632158, 0.001611231011338532, 0.0028301456477493048, 0.0005118506960570812, 0.0027071244549006224, 0.0020970292389392853, 0.00123287970200181, 0.0006310886819846928, 0.0017632452072575688, 0.0017868784489110112, 0.0002528328914195299, 0.0010720744030550122, 0.0026448301505297422, 0.001566156861372292, 0.0038084066472947598, 0.005276741925626993, 0.00693025765940547, 0.013310822658240795, 0.0035816472955048084, 0.01830451190471649, 0.026684748008847237, 0.01997152902185917, 0.032155733555555344, 0.07432045787572861, 0.02392224408686161, 0.08761470019817352, 0.1800754964351654, 0.027492599561810493, 0.059722479432821274, 0.19122706353664398, 0.16271227598190308, 0.0], [0.008116928860545158, 0.0008723047212697566, 0.0003707280848175287, 0.000473485590191558, 0.00017832992307376117, 0.0003994707658421248, 0.00029511755565181375, 0.00018311967141926289, 0.00016714565572328866, 0.00023702485486865044, 0.00025333566009067, 0.00012855020759161562, 0.00020213171956129372, 0.00039944867603480816, 0.00016511800640728325, 0.00046228672727011144, 0.0008780235075391829, 0.0011140466667711735, 0.0020708779338747263, 0.001963674323633313, 0.0035278580617159605, 0.004475219640880823, 0.004463491961359978, 0.007312541361898184, 0.014446226879954338, 0.03503049165010452, 0.020014144480228424, 0.043885815888643265, 0.0194367878139019, 0.11325745284557343, 0.07277626544237137, 0.16196811199188232, 0.4804743826389313]], [[1.0, 0.0, 0.0, 0.0, 0.0, 0.0, 0.0, 0.0, 0.0, 0.0, 0.0, 0.0, 0.0, 0.0, 0.0, 0.0, 0.0, 0.0, 0.0, 0.0, 0.0, 0.0, 0.0, 0.0, 0.0, 0.0, 0.0, 0.0, 0.0, 0.0, 0.0, 0.0, 0.0], [0.9473748207092285, 0.05262519419193268, 0.0, 0.0, 0.0, 0.0, 0.0, 0.0, 0.0, 0.0, 0.0, 0.0, 0.0, 0.0, 0.0, 0.0, 0.0, 0.0, 0.0, 0.0, 0.0, 0.0, 0.0, 0.0, 0.0, 0.0, 0.0, 0.0, 0.0, 0.0, 0.0, 0.0, 0.0], [0.8785884380340576, 0.055394649505615234, 0.06601689755916595, 0.0, 0.0, 0.0, 0.0, 0.0, 0.0, 0.0, 0.0, 0.0, 0.0, 0.0, 0.0, 0.0, 0.0, 0.0, 0.0, 0.0, 0.0, 0.0, 0.0, 0.0, 0.0, 0.0, 0.0, 0.0, 0.0, 0.0, 0.0, 0.0, 0.0], [0.7270771265029907, 0.1370987445116043, 0.04866088926792145, 0.08716321736574173, 0.0, 0.0, 0.0, 0.0, 0.0, 0.0, 0.0, 0.0, 0.0, 0.0, 0.0, 0.0, 0.0, 0.0, 0.0, 0.0, 0.0, 0.0, 0.0, 0.0, 0.0, 0.0, 0.0, 0.0, 0.0, 0.0, 0.0, 0.0, 0.0], [0.4651746451854706, 0.1342930644750595, 0.1535816788673401, 0.1747254878282547, 0.0722251608967781, 0.0, 0.0, 0.0, 0.0, 0.0, 0.0, 0.0, 0.0, 0.0, 0.0, 0.0, 0.0, 0.0, 0.0, 0.0, 0.0, 0.0, 0.0, 0.0, 0.0, 0.0, 0.0, 0.0, 0.0, 0.0, 0.0, 0.0, 0.0], [0.17035967111587524, 0.01184193603694439, 0.023650838062167168, 0.021745804697275162, 0.025856323540210724, 0.7465453743934631, 0.0, 0.0, 0.0, 0.0, 0.0, 0.0, 0.0, 0.0, 0.0, 0.0, 0.0, 0.0, 0.0, 0.0, 0.0, 0.0, 0.0, 0.0, 0.0, 0.0, 0.0, 0.0, 0.0, 0.0, 0.0, 0.0, 0.0], [0.14214570820331573, 0.04383270442485809, 0.05021180957555771, 0.045165035873651505, 0.05872130021452904, 0.511153519153595, 0.14876997470855713, 0.0, 0.0, 0.0, 0.0, 0.0, 0.0, 0.0, 0.0, 0.0, 0.0, 0.0, 0.0, 0.0, 0.0, 0.0, 0.0, 0.0, 0.0, 0.0, 0.0, 0.0, 0.0, 0.0, 0.0, 0.0, 0.0], [0.08473348617553711, 0.020369818434119225, 0.037461623549461365, 0.03195910155773163, 0.03419601544737816, 0.4350069463253021, 0.1189405769109726, 0.23733240365982056, 0.0, 0.0, 0.0, 0.0, 0.0, 0.0, 0.0, 0.0, 0.0, 0.0, 0.0, 0.0, 0.0, 0.0, 0.0, 0.0, 0.0, 0.0, 0.0, 0.0, 0.0, 0.0, 0.0, 0.0, 0.0], [0.3423079550266266, 0.03593634441494942, 0.07259216159582138, 0.10352766513824463, 0.08196531236171722, 0.07694562524557114, 0.14196321368217468, 0.09896712005138397, 0.045794617384672165, 0.0, 0.0, 0.0, 0.0, 0.0, 0.0, 0.0, 0.0, 0.0, 0.0, 0.0, 0.0, 0.0, 0.0, 0.0, 0.0, 0.0, 0.0, 0.0, 0.0, 0.0, 0.0, 0.0, 0.0], [0.37114864587783813, 0.06278744339942932, 0.05806949734687805, 0.055662766098976135, 0.13124842941761017, 0.07535628229379654, 0.10726623982191086, 0.07924024015665054, 0.030107339844107628, 0.029113223776221275, 0.0, 0.0, 0.0, 0.0, 0.0, 0.0, 0.0, 0.0, 0.0, 0.0, 0.0, 0.0, 0.0, 0.0, 0.0, 0.0, 0.0, 0.0, 0.0, 0.0, 0.0, 0.0, 0.0], [0.06430105119943619, 0.005169104319065809, 0.01101298164576292, 0.009054876863956451, 0.011748064309358597, 0.31885024905204773, 0.03684945032000542, 0.08319542557001114, 0.012068144045770168, 0.01467620488256216, 0.4330744445323944, 0.0, 0.0, 0.0, 0.0, 0.0, 0.0, 0.0, 0.0, 0.0, 0.0, 0.0, 0.0, 0.0, 0.0, 0.0, 0.0, 0.0, 0.0, 0.0, 0.0, 0.0, 0.0], [0.23777922987937927, 0.03812997788190842, 0.019743354991078377, 0.0750802680850029, 0.14420796930789948, 0.062449246644973755, 0.07018381357192993, 0.06523611396551132, 0.04883222281932831, 0.034600336104631424, 0.06439773738384247, 0.13935981690883636, 0.0, 0.0, 0.0, 0.0, 0.0, 0.0, 0.0, 0.0, 0.0, 0.0, 0.0, 0.0, 0.0, 0.0, 0.0, 0.0, 0.0, 0.0, 0.0, 0.0, 0.0], [0.2901448607444763, 0.04085763916373253, 0.06965623050928116, 0.06467736512422562, 0.11515604704618454, 0.07279440015554428, 0.05406035855412483, 0.04095995053648949, 0.03646121919155121, 0.03709696605801582, 0.08112155646085739, 0.06249445304274559, 0.034518949687480927, 0.0, 0.0, 0.0, 0.0, 0.0, 0.0, 0.0, 0.0, 0.0, 0.0, 0.0, 0.0, 0.0, 0.0, 0.0, 0.0, 0.0, 0.0, 0.0, 0.0], [0.04191604629158974, 0.00338806607760489, 0.00708235427737236, 0.005899201612919569, 0.007586190477013588, 0.20389807224273682, 0.023296764120459557, 0.05173070728778839, 0.00781681202352047, 0.009731385856866837, 0.27760201692581177, 0.008386759087443352, 0.016172701492905617, 0.33549293875694275, 0.0, 0.0, 0.0, 0.0, 0.0, 0.0, 0.0, 0.0, 0.0, 0.0, 0.0, 0.0, 0.0, 0.0, 0.0, 0.0, 0.0, 0.0, 0.0], [0.1512935310602188, 0.04240790382027626, 0.04383379966020584, 0.09706762433052063, 0.14943550527095795, 0.04439878091216087, 0.06174500659108162, 0.041995152831077576, 0.018608782440423965, 0.031412459909915924, 0.05092645809054375, 0.06660285592079163, 0.094162218272686, 0.05761292949318886, 0.04849696904420853, 0.0, 0.0, 0.0, 0.0, 0.0, 0.0, 0.0, 0.0, 0.0, 0.0, 0.0, 0.0, 0.0, 0.0, 0.0, 0.0, 0.0, 0.0], [0.29958033561706543, 0.07432074099779129, 0.030061950907111168, 0.016736464574933052, 0.03856483846902847, 0.051068708300590515, 0.09408655017614365, 0.05606793239712715, 0.05458230897784233, 0.04522043839097023, 0.05638071149587631, 0.015378035604953766, 0.04082852602005005, 0.06084693595767021, 0.03081105835735798, 0.035464461892843246, 0.0, 0.0, 0.0, 0.0, 0.0, 0.0, 0.0, 0.0, 0.0, 0.0, 0.0, 0.0, 0.0, 0.0, 0.0, 0.0, 0.0], [0.030439969152212143, 0.0024933929089456797, 0.005298203323036432, 0.004223390016704798, 0.005517448764294386, 0.14508461952209473, 0.016034148633480072, 0.03598649054765701, 0.0057580494321882725, 0.007398172281682491, 0.1961347907781601, 0.0060908859595656395, 0.011465121060609818, 0.23737995326519012, 0.008031773380935192, 0.005861478857696056, 0.2768021523952484, 0.0, 0.0, 0.0, 0.0, 0.0, 0.0, 0.0, 0.0, 0.0, 0.0, 0.0, 0.0, 0.0, 0.0, 0.0, 0.0], [0.015668924897909164, 0.0019133499590680003, 0.0067479307763278484, 0.005610877647995949, 0.006710363551974297, 0.10858529061079025, 0.013436978682875633, 0.030674783512949944, 0.008698036894202232, 0.005958769004791975, 0.15696421265602112, 0.006401257123798132, 0.014357196167111397, 0.19220459461212158, 0.009938814677298069, 0.008154558017849922, 0.22861388325691223, 0.17936018109321594, 0.0, 0.0, 0.0, 0.0, 0.0, 0.0, 0.0, 0.0, 0.0, 0.0, 0.0, 0.0, 0.0, 0.0, 0.0], [0.2751207649707794, 0.046356093138456345, 0.025782734155654907, 0.02037108689546585, 0.045191291719675064, 0.04741504415869713, 0.05800829827785492, 0.05449458584189415, 0.021855849772691727, 0.0286741741001606, 0.05054798722267151, 0.035789452493190765, 0.01434398628771305, 0.05505193769931793, 0.019970901310443878, 0.025070643052458763, 0.0598367415368557, 0.10591267794370651, 0.01020571868866682, 0.0, 0.0, 0.0, 0.0, 0.0, 0.0, 0.0, 0.0, 0.0, 0.0, 0.0, 0.0, 0.0, 0.0], [0.12210459262132645, 0.02900637313723564, 0.027926085516810417, 0.030763661488890648, 0.06431961804628372, 0.05075862631201744, 0.05746714025735855, 0.03854452073574066, 0.02881442941725254, 0.03641034662723541, 0.055306993424892426, 0.02755570225417614, 0.05062384530901909, 0.06039684638381004, 0.03790903463959694, 0.03416256979107857, 0.06550320982933044, 0.08224613219499588, 0.08903142064809799, 0.011148831807076931, 0.0, 0.0, 0.0, 0.0, 0.0, 0.0, 0.0, 0.0, 0.0, 0.0, 0.0, 0.0, 0.0], [0.019922718405723572, 0.0015991267282515764, 0.0035362686030566692, 0.002760607050731778, 0.003674750216305256, 0.091985784471035, 0.009868190623819828, 0.021762728691101074, 0.0036746240220963955, 0.004800301045179367, 0.1232718899846077, 0.003948225639760494, 0.0077277058735489845, 0.14901939034461975, 0.0050945039838552475, 0.0038495443295687437, 0.17433799803256989, 0.14503765106201172, 0.0031391752418130636, 0.0039015652146190405, 0.21708731353282928, 0.0, 0.0, 0.0, 0.0, 0.0, 0.0, 0.0, 0.0, 0.0, 0.0, 0.0, 0.0], [0.025169124826788902, 0.0025891440454870462, 0.0079044783487916, 0.002818176057189703, 0.008317497558891773, 0.06284768134355545, 0.016097379848361015, 0.02483357861638069, 0.007658040151000023, 0.011317078024148941, 0.08451008051633835, 0.012135403230786324, 0.022048382088541985, 0.10017251968383789, 0.015103279612958431, 0.0201522596180439, 0.11906807124614716, 0.14148969948291779, 0.006576648913323879, 0.0070740580558776855, 0.14850659668445587, 0.15361084043979645, 0.0, 0.0, 0.0, 0.0, 0.0, 0.0, 0.0, 0.0, 0.0, 0.0, 0.0], [0.08679645508527756, 0.015818683430552483, 0.009913158603012562, 0.005941123701632023, 0.011749119497835636, 0.04402250796556473, 0.049411579966545105, 0.047211624681949615, 0.02244851179420948, 0.028144177049398422, 0.05249372124671936, 0.013664904050529003, 0.038044534623622894, 0.05856489762663841, 0.016008734703063965, 0.028531746938824654, 0.06752396374940872, 0.10004056990146637, 0.026074495166540146, 0.01816527172923088, 0.08061446994543076, 0.14588378369808197, 0.03293200582265854, 0.0, 0.0, 0.0, 0.0, 0.0, 0.0, 0.0, 0.0, 0.0, 0.0], [0.1220332682132721, 0.026796920225024223, 0.034712765365839005, 0.01660085655748844, 0.05098601058125496, 0.03362342715263367, 0.03376288339495659, 0.03289439156651497, 0.022763608023524284, 0.034695446491241455, 0.03710823133587837, 0.027503039687871933, 0.03050803393125534, 0.040704939514398575, 0.019409824162721634, 0.03338808938860893, 0.046037912368774414, 0.0814194306731224, 0.025792930275201797, 0.017713351175189018, 0.05326376482844353, 0.06955212354660034, 0.07340098917484283, 0.03532777354121208, 0.0, 0.0, 0.0, 0.0, 0.0, 0.0, 0.0, 0.0, 0.0], [0.012632702477276325, 0.0031967288814485073, 0.008999628014862537, 0.0037871047388762236, 0.005590218584984541, 0.06018747389316559, 0.01017302367836237, 0.026063406839966774, 0.008280324749648571, 0.0059984405525028706, 0.08480246365070343, 0.007755734492093325, 0.014807665720582008, 0.10079343616962433, 0.011636026203632355, 0.007885102182626724, 0.12061367183923721, 0.1281987428665161, 0.006487110164016485, 0.0032305715139955282, 0.15047506988048553, 0.10557684302330017, 0.01548060867935419, 0.01902632601559162, 0.07832161337137222, 0.0, 0.0, 0.0, 0.0, 0.0, 0.0, 0.0, 0.0], [0.11176051944494247, 0.01863556168973446, 0.056223705410957336, 0.04677280783653259, 0.03736496344208717, 0.022993413731455803, 0.03136527165770531, 0.026408882811665535, 0.043359220027923584, 0.05663556605577469, 0.021786415949463844, 0.02382213994860649, 0.03064166195690632, 0.023289259523153305, 0.054304927587509155, 0.068811796605587, 0.024489402770996094, 0.047770895063877106, 0.036271773278713226, 0.022222528234124184, 0.026998937129974365, 0.021766120567917824, 0.03442491590976715, 0.028240270912647247, 0.05891920626163483, 0.024719825014472008, 0.0, 0.0, 0.0, 0.0, 0.0, 0.0, 0.0], [0.10639798641204834, 0.03710790351033211, 0.08273960649967194, 0.01785685494542122, 0.020950015634298325, 0.018305247649550438, 0.02262009307742119, 0.018192268908023834, 0.02185117080807686, 0.012518538162112236, 0.019214095547795296, 0.030340095981955528, 0.07187619060277939, 0.02078801579773426, 0.03963521122932434, 0.06151585280895233, 0.023179292678833008, 0.04398040100932121, 0.0461922287940979, 0.020667990669608116, 0.027080878615379333, 0.043865546584129333, 0.03276738151907921, 0.04369065538048744, 0.05080845206975937, 0.04029493033885956, 0.025563016533851624, 0.0, 0.0, 0.0, 0.0, 0.0, 0.0], [0.015084543265402317, 0.0038223823066800833, 0.005877262447029352, 0.0049718511290848255, 0.005370152648538351, 0.05223647877573967, 0.016127679497003555, 0.03182991221547127, 0.008211130276322365, 0.01147382240742445, 0.0670468807220459, 0.010528383776545525, 0.010598228313028812, 0.07938900589942932, 0.007211721036583185, 0.006271459627896547, 0.09142372012138367, 0.10866517573595047, 0.003973816521465778, 0.005621667951345444, 0.10983319580554962, 0.09237749129533768, 0.022960500791668892, 0.019314918667078018, 0.08864136040210724, 0.018464699387550354, 0.01102225948125124, 0.09165028482675552, 0.0, 0.0, 0.0, 0.0, 0.0], [0.09854122251272202, 0.03967056795954704, 0.05052143335342407, 0.047943927347660065, 0.019531873986124992, 0.015683405101299286, 0.02507474087178707, 0.01499791070818901, 0.02772342413663864, 0.016418181359767914, 0.016389025375247, 0.026316560804843903, 0.034359268844127655, 0.01775798387825489, 0.02336267940700054, 0.03763512149453163, 0.019405601546168327, 0.034421682357788086, 0.04902299866080284, 0.030190542340278625, 0.022159069776535034, 0.03754066675901413, 0.038793161511421204, 0.04032415151596069, 0.042312659323215485, 0.06829201430082321, 0.02531413920223713, 0.04330072179436684, 0.03699522837996483, 0.0, 0.0, 0.0, 0.0], [0.10688817501068115, 0.036595746874809265, 0.005083095747977495, 0.010160424746572971, 0.013297361321747303, 0.041752055287361145, 0.026246795430779457, 0.030128560960292816, 0.013482403010129929, 0.01822318695485592, 0.0458262637257576, 0.025558775290846825, 0.01561881322413683, 0.05039897561073303, 0.011657019145786762, 0.01165912114083767, 0.05515517294406891, 0.05091661214828491, 0.019206790253520012, 0.013998426496982574, 0.06383472681045532, 0.029088884592056274, 0.016710449010133743, 0.026095259934663773, 0.05484984815120697, 0.03806673362851143, 0.03896070644259453, 0.05375230684876442, 0.02367916889488697, 0.05310814082622528, 0.0, 0.0, 0.0], [0.10871608555316925, 0.06286413967609406, 0.023045092821121216, 0.012493222020566463, 0.009688261896371841, 0.0237207543104887, 0.025617308914661407, 0.02828286960721016, 0.01952311582863331, 0.015187139622867107, 0.02461576834321022, 0.01885579340159893, 0.013071908615529537, 0.025697486475110054, 0.010639778338372707, 0.007336428388953209, 0.028488246724009514, 0.04087510332465172, 0.023693950846791267, 0.028460804373025894, 0.03178119286894798, 0.03399212285876274, 0.01690451055765152, 0.04699757322669029, 0.054809171706438065, 0.060481660068035126, 0.02113782800734043, 0.05147767812013626, 0.01530434750020504, 0.07868863642215729, 0.037551965564489365, 0.0, 0.0], [0.16510625183582306, 0.013307341374456882, 0.02282034605741501, 0.03222496435046196, 0.028327805921435356, 0.011912108398973942, 0.021759113296866417, 0.012591330334544182, 0.025371313095092773, 0.015923485159873962, 0.01174505427479744, 0.021340148523449898, 0.02265850454568863, 0.012097017839550972, 0.05877393111586571, 0.04114292189478874, 0.012866122648119926, 0.021896688267588615, 0.027385754510760307, 0.01541272085160017, 0.014822260476648808, 0.013198774307966232, 0.029060134664177895, 0.04031304642558098, 0.02303694374859333, 0.05035790055990219, 0.04650072380900383, 0.03221072629094124, 0.045741382986307144, 0.011448167264461517, 0.051484815776348114, 0.047162190079689026, 0.0], [0.019862733781337738, 0.0006941378815099597, 0.0017670636298134923, 0.0019038196187466383, 0.002311579417437315, 0.05924392119050026, 0.0051649510860443115, 0.008714542724192142, 0.002490669023245573, 0.003057960420846939, 0.07585161924362183, 0.0023905509151518345, 0.003177350852638483, 0.08945119380950928, 0.003065295284613967, 0.00162091467063874, 0.10312026739120483, 0.06259164214134216, 0.0020582969300448895, 0.00223221885971725, 0.12742048501968384, 0.024703852832317352, 0.0035101929679512978, 0.0049941763281822205, 0.028317108750343323, 0.005874201655387878, 0.006215331610292196, 0.03686559572815895, 0.005438114050775766, 0.004061863292008638, 0.004735518712550402, 0.004534383304417133, 0.292558491230011]], [[1.0, 0.0, 0.0, 0.0, 0.0, 0.0, 0.0, 0.0, 0.0, 0.0, 0.0, 0.0, 0.0, 0.0, 0.0, 0.0, 0.0, 0.0, 0.0, 0.0, 0.0, 0.0, 0.0, 0.0, 0.0, 0.0, 0.0, 0.0, 0.0, 0.0, 0.0, 0.0, 0.0], [0.9726406335830688, 0.02735934779047966, 0.0, 0.0, 0.0, 0.0, 0.0, 0.0, 0.0, 0.0, 0.0, 0.0, 0.0, 0.0, 0.0, 0.0, 0.0, 0.0, 0.0, 0.0, 0.0, 0.0, 0.0, 0.0, 0.0, 0.0, 0.0, 0.0, 0.0, 0.0, 0.0, 0.0, 0.0], [0.8850566744804382, 0.08160645514726639, 0.03333684802055359, 0.0, 0.0, 0.0, 0.0, 0.0, 0.0, 0.0, 0.0, 0.0, 0.0, 0.0, 0.0, 0.0, 0.0, 0.0, 0.0, 0.0, 0.0, 0.0, 0.0, 0.0, 0.0, 0.0, 0.0, 0.0, 0.0, 0.0, 0.0, 0.0, 0.0], [0.784497857093811, 0.09046003222465515, 0.1072097048163414, 0.017832357436418533, 0.0, 0.0, 0.0, 0.0, 0.0, 0.0, 0.0, 0.0, 0.0, 0.0, 0.0, 0.0, 0.0, 0.0, 0.0, 0.0, 0.0, 0.0, 0.0, 0.0, 0.0, 0.0, 0.0, 0.0, 0.0, 0.0, 0.0, 0.0, 0.0], [0.6679065227508545, 0.10135099291801453, 0.10997921228408813, 0.06990877538919449, 0.05085451155900955, 0.0, 0.0, 0.0, 0.0, 0.0, 0.0, 0.0, 0.0, 0.0, 0.0, 0.0, 0.0, 0.0, 0.0, 0.0, 0.0, 0.0, 0.0, 0.0, 0.0, 0.0, 0.0, 0.0, 0.0, 0.0, 0.0, 0.0, 0.0], [0.586279034614563, 0.06960930675268173, 0.06798024475574493, 0.06058965623378754, 0.08339769393205643, 0.13214407861232758, 0.0, 0.0, 0.0, 0.0, 0.0, 0.0, 0.0, 0.0, 0.0, 0.0, 0.0, 0.0, 0.0, 0.0, 0.0, 0.0, 0.0, 0.0, 0.0, 0.0, 0.0, 0.0, 0.0, 0.0, 0.0, 0.0, 0.0], [0.5015710592269897, 0.06227878853678703, 0.07209987938404083, 0.0559091791510582, 0.0814688503742218, 0.12033160775899887, 0.10634062439203262, 0.0, 0.0, 0.0, 0.0, 0.0, 0.0, 0.0, 0.0, 0.0, 0.0, 0.0, 0.0, 0.0, 0.0, 0.0, 0.0, 0.0, 0.0, 0.0, 0.0, 0.0, 0.0, 0.0, 0.0, 0.0, 0.0], [0.4001609981060028, 0.05525399371981621, 0.06347677856683731, 0.05413787066936493, 0.07119624316692352, 0.11230526119470596, 0.12489721924066544, 0.11857160180807114, 0.0, 0.0, 0.0, 0.0, 0.0, 0.0, 0.0, 0.0, 0.0, 0.0, 0.0, 0.0, 0.0, 0.0, 0.0, 0.0, 0.0, 0.0, 0.0, 0.0, 0.0, 0.0, 0.0, 0.0, 0.0], [0.4018532335758209, 0.08579415082931519, 0.05644883215427399, 0.07181122153997421, 0.08318918943405151, 0.07845646888017654, 0.09191887080669403, 0.0776887759566307, 0.05283930152654648, 0.0, 0.0, 0.0, 0.0, 0.0, 0.0, 0.0, 0.0, 0.0, 0.0, 0.0, 0.0, 0.0, 0.0, 0.0, 0.0, 0.0, 0.0, 0.0, 0.0, 0.0, 0.0, 0.0, 0.0], [0.3827159106731415, 0.07976950705051422, 0.06207751855254173, 0.06360233575105667, 0.08211030066013336, 0.07804949581623077, 0.08597435802221298, 0.07506491243839264, 0.06327842175960541, 0.027357222512364388, 0.0, 0.0, 0.0, 0.0, 0.0, 0.0, 0.0, 0.0, 0.0, 0.0, 0.0, 0.0, 0.0, 0.0, 0.0, 0.0, 0.0, 0.0, 0.0, 0.0, 0.0, 0.0, 0.0], [0.34041672945022583, 0.045351944863796234, 0.04658911004662514, 0.0403917171061039, 0.0548904649913311, 0.08179008215665817, 0.08906515687704086, 0.09645894169807434, 0.055649708956480026, 0.06398672610521317, 0.08540944010019302, 0.0, 0.0, 0.0, 0.0, 0.0, 0.0, 0.0, 0.0, 0.0, 0.0, 0.0, 0.0, 0.0, 0.0, 0.0, 0.0, 0.0, 0.0, 0.0, 0.0, 0.0, 0.0], [0.31186193227767944, 0.09540000557899475, 0.07292015105485916, 0.0697687417268753, 0.07777833193540573, 0.0673503577709198, 0.061614058911800385, 0.05481072515249252, 0.052520133554935455, 0.05022517964243889, 0.07299350202083588, 0.012756953947246075, 0.0, 0.0, 0.0, 0.0, 0.0, 0.0, 0.0, 0.0, 0.0, 0.0, 0.0, 0.0, 0.0, 0.0, 0.0, 0.0, 0.0, 0.0, 0.0, 0.0, 0.0], [0.3665284216403961, 0.06308671832084656, 0.03947843238711357, 0.04609527066349983, 0.05740760639309883, 0.063483327627182, 0.0523846372961998, 0.055016204714775085, 0.04584016650915146, 0.06228690966963768, 0.06589912623167038, 0.05806362256407738, 0.024429524317383766, 0.0, 0.0, 0.0, 0.0, 0.0, 0.0, 0.0, 0.0, 0.0, 0.0, 0.0, 0.0, 0.0, 0.0, 0.0, 0.0, 0.0, 0.0, 0.0, 0.0], [0.2856442928314209, 0.03804025799036026, 0.03942389041185379, 0.03423863276839256, 0.046394024044275284, 0.06771665066480637, 0.07328073680400848, 0.07855431735515594, 0.04789663851261139, 0.0559365451335907, 0.07124951481819153, 0.03568926453590393, 0.049560461193323135, 0.07637481391429901, 0.0, 0.0, 0.0, 0.0, 0.0, 0.0, 0.0, 0.0, 0.0, 0.0, 0.0, 0.0, 0.0, 0.0, 0.0, 0.0, 0.0, 0.0, 0.0], [0.2977541983127594, 0.05259548872709274, 0.04347937926650047, 0.058458633720874786, 0.04568732529878616, 0.052594032138586044, 0.0445619635283947, 0.0459747239947319, 0.06316150724887848, 0.07768755406141281, 0.05499148741364479, 0.034664712846279144, 0.05020102858543396, 0.05886140838265419, 0.01932654157280922, 0.0, 0.0, 0.0, 0.0, 0.0, 0.0, 0.0, 0.0, 0.0, 0.0, 0.0, 0.0, 0.0, 0.0, 0.0, 0.0, 0.0, 0.0], [0.28853151202201843, 0.046169109642505646, 0.02823304384946823, 0.03824242576956749, 0.04330622777342796, 0.05174916237592697, 0.04318273440003395, 0.04393119364976883, 0.056163422763347626, 0.0677381381392479, 0.05490180850028992, 0.08139312267303467, 0.04325693100690842, 0.059048131108284, 0.03989902883768082, 0.014254054985940456, 0.0, 0.0, 0.0, 0.0, 0.0, 0.0, 0.0, 0.0, 0.0, 0.0, 0.0, 0.0, 0.0, 0.0, 0.0, 0.0, 0.0], [0.23721367120742798, 0.03161582350730896, 0.03324564918875694, 0.02923194319009781, 0.038618169724941254, 0.05549165979027748, 0.05966496095061302, 0.06321780383586884, 0.04073698818683624, 0.04752673953771591, 0.058378253132104874, 0.030399682000279427, 0.042871586978435516, 0.06284616887569427, 0.05321290343999863, 0.047368962317705154, 0.06835903227329254, 0.0, 0.0, 0.0, 0.0, 0.0, 0.0, 0.0, 0.0, 0.0, 0.0, 0.0, 0.0, 0.0, 0.0, 0.0, 0.0], [0.2098696082830429, 0.02729126065969467, 0.03115660697221756, 0.026614999398589134, 0.03165116906166077, 0.05273225158452988, 0.0527450330555439, 0.05635902285575867, 0.04076547920703888, 0.04278235137462616, 0.056191280484199524, 0.030678270384669304, 0.0439896285533905, 0.060914747416973114, 0.050137005746364594, 0.041573163121938705, 0.06652862578630447, 0.07801952958106995, 0.0, 0.0, 0.0, 0.0, 0.0, 0.0, 0.0, 0.0, 0.0, 0.0, 0.0, 0.0, 0.0, 0.0, 0.0], [0.2385382503271103, 0.044145818799734116, 0.046435050666332245, 0.0345127172768116, 0.03572181984782219, 0.04369327798485756, 0.043049730360507965, 0.034988246858119965, 0.04371805489063263, 0.0395219624042511, 0.04457855224609375, 0.02459944598376751, 0.0625118762254715, 0.04753483459353447, 0.04375608637928963, 0.04995928332209587, 0.050908081233501434, 0.05266242474317551, 0.019164476543664932, 0.0, 0.0, 0.0, 0.0, 0.0, 0.0, 0.0, 0.0, 0.0, 0.0, 0.0, 0.0, 0.0, 0.0], [0.17729146778583527, 0.042214617133140564, 0.030818702653050423, 0.030886109918355942, 0.033868517726659775, 0.045211855322122574, 0.042901020497083664, 0.03221559524536133, 0.04018864035606384, 0.04926897957921028, 0.048016250133514404, 0.03814244642853737, 0.0512651763856411, 0.05206843465566635, 0.04744115099310875, 0.03924531862139702, 0.05630476027727127, 0.05462939664721489, 0.05991863086819649, 0.02810296230018139, 0.0, 0.0, 0.0, 0.0, 0.0, 0.0, 0.0, 0.0, 0.0, 0.0, 0.0, 0.0, 0.0], [0.19048276543617249, 0.025203490629792213, 0.02678745612502098, 0.023672688752412796, 0.0311040710657835, 0.04345342889428139, 0.04649331048130989, 0.04820645600557327, 0.03323280066251755, 0.038927506655454636, 0.04549151286482811, 0.024442730471491814, 0.03570159897208214, 0.049077682197093964, 0.043035659939050674, 0.03905563801527023, 0.0537174753844738, 0.06658954918384552, 0.04320827126502991, 0.03176472336053848, 0.06035127118229866, 0.0, 0.0, 0.0, 0.0, 0.0, 0.0, 0.0, 0.0, 0.0, 0.0, 0.0, 0.0], [0.1497536599636078, 0.02347457781434059, 0.02550838701426983, 0.02894243411719799, 0.03517160564661026, 0.0388018935918808, 0.04594280570745468, 0.03962727263569832, 0.03708778694272041, 0.03872300684452057, 0.041907213628292084, 0.021688053384423256, 0.04328259453177452, 0.04592539742588997, 0.03893951699137688, 0.040076084434986115, 0.050600238144397736, 0.0608304925262928, 0.04372159764170647, 0.03023523837327957, 0.05728614702820778, 0.062474045902490616, 0.0, 0.0, 0.0, 0.0, 0.0, 0.0, 0.0, 0.0, 0.0, 0.0, 0.0], [0.1751340627670288, 0.027519280090928078, 0.029514005407691002, 0.020715326070785522, 0.026873530820012093, 0.03454612195491791, 0.038530781865119934, 0.033037807792425156, 0.041815564036369324, 0.040100302547216415, 0.03696897253394127, 0.030468925833702087, 0.03995397686958313, 0.04023701697587967, 0.0448262058198452, 0.03708262741565704, 0.04420146346092224, 0.04931037500500679, 0.04125743359327316, 0.02861069329082966, 0.04997343569993973, 0.05269286409020424, 0.036629170179367065, 0.0, 0.0, 0.0, 0.0, 0.0, 0.0, 0.0, 0.0, 0.0, 0.0], [0.13285988569259644, 0.04070804640650749, 0.041116777807474136, 0.03484427556395531, 0.04087607562541962, 0.027567220851778984, 0.028293684124946594, 0.022520430386066437, 0.03875420615077019, 0.04037803038954735, 0.0290894266217947, 0.02960921637713909, 0.056701187044382095, 0.031181856989860535, 0.03766117990016937, 0.05688636004924774, 0.03396708518266678, 0.03781304135918617, 0.049514103680849075, 0.03194558247923851, 0.03759903833270073, 0.043266378343105316, 0.04305671527981758, 0.03379024937748909, 0.0, 0.0, 0.0, 0.0, 0.0, 0.0, 0.0, 0.0, 0.0], [0.14709363877773285, 0.018218711018562317, 0.022143611684441566, 0.021621398627758026, 0.027072913944721222, 0.03385418280959129, 0.03787612169981003, 0.038019631057977676, 0.02793252095580101, 0.03090183436870575, 0.03606925904750824, 0.01902313157916069, 0.034658029675483704, 0.039169859141111374, 0.0337555892765522, 0.026136614382267, 0.042978327721357346, 0.05313740670681, 0.03463507443666458, 0.02014029584825039, 0.04878360405564308, 0.04990803450345993, 0.04624393582344055, 0.047156691551208496, 0.06346960365772247, 0.0, 0.0, 0.0, 0.0, 0.0, 0.0, 0.0, 0.0], [0.17602786421775818, 0.014882151037454605, 0.026751166209578514, 0.024088067933917046, 0.035667534917593, 0.027094289660453796, 0.024984240531921387, 0.021471867337822914, 0.02635936439037323, 0.02384510263800621, 0.027567004784941673, 0.01686953753232956, 0.07777431607246399, 0.029109209775924683, 0.047996968030929565, 0.02900249883532524, 0.031323354691267014, 0.036155980080366135, 0.039595600217580795, 0.017008021473884583, 0.03483906760811806, 0.03443719819188118, 0.041492193937301636, 0.09124377369880676, 0.04052295908331871, 0.0038906047120690346, 0.0, 0.0, 0.0, 0.0, 0.0, 0.0, 0.0], [0.18501748144626617, 0.027786999940872192, 0.02509763464331627, 0.027019010856747627, 0.02919921837747097, 0.0303370151668787, 0.03222178295254707, 0.023015083745121956, 0.026792865246534348, 0.022793833166360855, 0.030674872919917107, 0.02122085727751255, 0.05388808622956276, 0.032593000680208206, 0.03073764219880104, 0.025725232437253, 0.034866053611040115, 0.03793580085039139, 0.028672028332948685, 0.026148967444896698, 0.03875335305929184, 0.04179505631327629, 0.038631584495306015, 0.05337152257561684, 0.03982068598270416, 0.02571161277592182, 0.010172730311751366, 0.0, 0.0, 0.0, 0.0, 0.0, 0.0], [0.1244632825255394, 0.01676890254020691, 0.02010509744286537, 0.01926703006029129, 0.024457845836877823, 0.03020336665213108, 0.03127393126487732, 0.032546062022447586, 0.023186009377241135, 0.02350839413702488, 0.03173321858048439, 0.01708051562309265, 0.029082056134939194, 0.03428216278553009, 0.035791296511888504, 0.02582055889070034, 0.03753117844462395, 0.04618246853351593, 0.029500015079975128, 0.017913812771439552, 0.04274730384349823, 0.0424346998333931, 0.039002399891614914, 0.04141839221119881, 0.059494998306035995, 0.035957347601652145, 0.030984869226813316, 0.05726282671093941, 0.0, 0.0, 0.0, 0.0, 0.0], [0.14491020143032074, 0.025843987241387367, 0.03117695264518261, 0.019462747499346733, 0.012575741857290268, 0.025274593383073807, 0.02202068828046322, 0.02126728929579258, 0.03165539354085922, 0.02766416035592556, 0.026251591742038727, 0.022091040387749672, 0.03851797431707382, 0.02826686017215252, 0.028877614066004753, 0.03686533495783806, 0.030699966475367546, 0.03204502910375595, 0.034116294234991074, 0.020355412736535072, 0.03446315973997116, 0.03542865812778473, 0.03072841465473175, 0.04441896826028824, 0.03793594241142273, 0.057348690927028656, 0.03889699652791023, 0.04111206904053688, 0.01972820796072483, 0.0, 0.0, 0.0, 0.0], [0.1316843181848526, 0.02546011097729206, 0.027962401509284973, 0.024109849706292152, 0.016868827864527702, 0.03140677139163017, 0.02324734814465046, 0.02207169681787491, 0.027362488210201263, 0.026370452716946602, 0.03204537183046341, 0.02877582609653473, 0.04614204913377762, 0.03455977886915207, 0.031321071088314056, 0.029437724500894547, 0.037490688264369965, 0.035974208265542984, 0.03067101538181305, 0.026778321713209152, 0.041662365198135376, 0.03274399787187576, 0.030348774045705795, 0.032651983201503754, 0.038056500256061554, 0.034575626254081726, 0.022936126217246056, 0.036903269588947296, 0.025966186076402664, 0.014414903707802296, 0.0, 0.0, 0.0], [0.16563695669174194, 0.022809254005551338, 0.029107755050063133, 0.024944668635725975, 0.024352887645363808, 0.025031816214323044, 0.01848665066063404, 0.018573684617877007, 0.028443647548556328, 0.029199903830885887, 0.025318238884210587, 0.0322050005197525, 0.025753289461135864, 0.026890495792031288, 0.03127396106719971, 0.0330515019595623, 0.028835482895374298, 0.029910417273640633, 0.027558812871575356, 0.02462468110024929, 0.0320536270737648, 0.02649376541376114, 0.021709619089961052, 0.03164015710353851, 0.037074748426675797, 0.047994695603847504, 0.027932148426771164, 0.034756120294332504, 0.03804945573210716, 0.021535690873861313, 0.00875084102153778, 0.0, 0.0], [0.1679421365261078, 0.02598348818719387, 0.03222334757447243, 0.019469384104013443, 0.023735303431749344, 0.023115726187825203, 0.019973624497652054, 0.016550229862332344, 0.029796777293086052, 0.028494669124484062, 0.02310885861515999, 0.022087080404162407, 0.042165569961071014, 0.024390170350670815, 0.020749147981405258, 0.038735855370759964, 0.026269836351275444, 0.027289096266031265, 0.01961737684905529, 0.02024286612868309, 0.02920321188867092, 0.030413372442126274, 0.02576262690126896, 0.040849801152944565, 0.033326636999845505, 0.021795310080051422, 0.02631053514778614, 0.031013479456305504, 0.036892615258693695, 0.01937718316912651, 0.043556053191423416, 0.009558654390275478, 0.0], [0.11396825313568115, 0.0177528727799654, 0.016061948612332344, 0.015585058368742466, 0.01839613914489746, 0.0243670791387558, 0.026053884997963905, 0.023999108001589775, 0.021919477730989456, 0.02625109814107418, 0.024730542674660683, 0.01532302051782608, 0.02561456710100174, 0.026337873190641403, 0.024982869625091553, 0.024642597883939743, 0.028590325266122818, 0.03295150026679039, 0.027568642050027847, 0.01848755031824112, 0.03220851719379425, 0.031914710998535156, 0.03630727529525757, 0.034154027700424194, 0.03678560256958008, 0.03297771140933037, 0.02627890184521675, 0.03809887915849686, 0.029801957309246063, 0.018183251842856407, 0.03632066771388054, 0.03568094223737717, 0.057703107595443726]], [[1.0, 0.0, 0.0, 0.0, 0.0, 0.0, 0.0, 0.0, 0.0, 0.0, 0.0, 0.0, 0.0, 0.0, 0.0, 0.0, 0.0, 0.0, 0.0, 0.0, 0.0, 0.0, 0.0, 0.0, 0.0, 0.0, 0.0, 0.0, 0.0, 0.0, 0.0, 0.0, 0.0], [0.8058415055274963, 0.19415844976902008, 0.0, 0.0, 0.0, 0.0, 0.0, 0.0, 0.0, 0.0, 0.0, 0.0, 0.0, 0.0, 0.0, 0.0, 0.0, 0.0, 0.0, 0.0, 0.0, 0.0, 0.0, 0.0, 0.0, 0.0, 0.0, 0.0, 0.0, 0.0, 0.0, 0.0, 0.0], [0.6373866200447083, 0.09672049432992935, 0.265892893075943, 0.0, 0.0, 0.0, 0.0, 0.0, 0.0, 0.0, 0.0, 0.0, 0.0, 0.0, 0.0, 0.0, 0.0, 0.0, 0.0, 0.0, 0.0, 0.0, 0.0, 0.0, 0.0, 0.0, 0.0, 0.0, 0.0, 0.0, 0.0, 0.0, 0.0], [0.5870267152786255, 0.09922724962234497, 0.07913826406002045, 0.23460783064365387, 0.0, 0.0, 0.0, 0.0, 0.0, 0.0, 0.0, 0.0, 0.0, 0.0, 0.0, 0.0, 0.0, 0.0, 0.0, 0.0, 0.0, 0.0, 0.0, 0.0, 0.0, 0.0, 0.0, 0.0, 0.0, 0.0, 0.0, 0.0, 0.0], [0.4194740355014801, 0.06312595307826996, 0.08123063296079636, 0.08381497859954834, 0.352354496717453, 0.0, 0.0, 0.0, 0.0, 0.0, 0.0, 0.0, 0.0, 0.0, 0.0, 0.0, 0.0, 0.0, 0.0, 0.0, 0.0, 0.0, 0.0, 0.0, 0.0, 0.0, 0.0, 0.0, 0.0, 0.0, 0.0, 0.0, 0.0], [0.530853271484375, 0.0959073081612587, 0.07779335975646973, 0.06661548465490341, 0.07293293625116348, 0.15589763224124908, 0.0, 0.0, 0.0, 0.0, 0.0, 0.0, 0.0, 0.0, 0.0, 0.0, 0.0, 0.0, 0.0, 0.0, 0.0, 0.0, 0.0, 0.0, 0.0, 0.0, 0.0, 0.0, 0.0, 0.0, 0.0, 0.0, 0.0], [0.3850307762622833, 0.0747809186577797, 0.06978143751621246, 0.047606535255908966, 0.05144914612174034, 0.08776704221963882, 0.2835841178894043, 0.0, 0.0, 0.0, 0.0, 0.0, 0.0, 0.0, 0.0, 0.0, 0.0, 0.0, 0.0, 0.0, 0.0, 0.0, 0.0, 0.0, 0.0, 0.0, 0.0, 0.0, 0.0, 0.0, 0.0, 0.0, 0.0], [0.2962956726551056, 0.05328270420432091, 0.06944748014211655, 0.040975481271743774, 0.06660832464694977, 0.1021856963634491, 0.10869501531124115, 0.26250967383384705, 0.0, 0.0, 0.0, 0.0, 0.0, 0.0, 0.0, 0.0, 0.0, 0.0, 0.0, 0.0, 0.0, 0.0, 0.0, 0.0, 0.0, 0.0, 0.0, 0.0, 0.0, 0.0, 0.0, 0.0, 0.0], [0.30475011467933655, 0.06337985396385193, 0.05753422528505325, 0.04057719558477402, 0.07300138473510742, 0.07375828176736832, 0.07239887863397598, 0.056936051696538925, 0.2576640844345093, 0.0, 0.0, 0.0, 0.0, 0.0, 0.0, 0.0, 0.0, 0.0, 0.0, 0.0, 0.0, 0.0, 0.0, 0.0, 0.0, 0.0, 0.0, 0.0, 0.0, 0.0, 0.0, 0.0, 0.0], [0.29880765080451965, 0.055528245866298676, 0.05443596467375755, 0.052853018045425415, 0.06568748503923416, 0.07554223388433456, 0.06968104094266891, 0.05411387234926224, 0.09120786190032959, 0.18214257061481476, 0.0, 0.0, 0.0, 0.0, 0.0, 0.0, 0.0, 0.0, 0.0, 0.0, 0.0, 0.0, 0.0, 0.0, 0.0, 0.0, 0.0, 0.0, 0.0, 0.0, 0.0, 0.0, 0.0], [0.2693301737308502, 0.06352430582046509, 0.059521205723285675, 0.05242469906806946, 0.06052158400416374, 0.12185832113027573, 0.07608653604984283, 0.09753072261810303, 0.042326074093580246, 0.050583261996507645, 0.10629310458898544, 0.0, 0.0, 0.0, 0.0, 0.0, 0.0, 0.0, 0.0, 0.0, 0.0, 0.0, 0.0, 0.0, 0.0, 0.0, 0.0, 0.0, 0.0, 0.0, 0.0, 0.0, 0.0], [0.22074298560619354, 0.06960075348615646, 0.04872344434261322, 0.06675713509321213, 0.06954210251569748, 0.06483785808086395, 0.04652373120188713, 0.039300836622714996, 0.018016086891293526, 0.035806313157081604, 0.053022850304841995, 0.2671259045600891, 0.0, 0.0, 0.0, 0.0, 0.0, 0.0, 0.0, 0.0, 0.0, 0.0, 0.0, 0.0, 0.0, 0.0, 0.0, 0.0, 0.0, 0.0, 0.0, 0.0, 0.0], [0.15080073475837708, 0.04732475057244301, 0.12551113963127136, 0.062400832772254944, 0.053546320647001266, 0.0557839535176754, 0.04542611539363861, 0.03888600692152977, 0.0301998108625412, 0.03337055444717407, 0.04645954445004463, 0.023437924683094025, 0.2868523597717285, 0.0, 0.0, 0.0, 0.0, 0.0, 0.0, 0.0, 0.0, 0.0, 0.0, 0.0, 0.0, 0.0, 0.0, 0.0, 0.0, 0.0, 0.0, 0.0, 0.0], [0.2044883370399475, 0.049720507115125656, 0.04838545247912407, 0.04385359212756157, 0.05115719884634018, 0.1007489413022995, 0.06420682370662689, 0.08302561938762665, 0.03880453109741211, 0.047957733273506165, 0.09582382440567017, 0.03239700570702553, 0.044411029666662216, 0.09501936286687851, 0.0, 0.0, 0.0, 0.0, 0.0, 0.0, 0.0, 0.0, 0.0, 0.0, 0.0, 0.0, 0.0, 0.0, 0.0, 0.0, 0.0, 0.0, 0.0], [0.16236740350723267, 0.028519179672002792, 0.047843087464571, 0.041354816406965256, 0.040284883230924606, 0.052005354315042496, 0.04226505383849144, 0.03821168839931488, 0.05986882373690605, 0.06849396973848343, 0.04734281450510025, 0.019715163856744766, 0.06202229857444763, 0.04572192206978798, 0.24398353695869446, 0.0, 0.0, 0.0, 0.0, 0.0, 0.0, 0.0, 0.0, 0.0, 0.0, 0.0, 0.0, 0.0, 0.0, 0.0, 0.0, 0.0, 0.0], [0.1312893033027649, 0.03962808847427368, 0.059519387781620026, 0.039663221687078476, 0.04406356438994408, 0.04348495230078697, 0.03726546838879585, 0.03240035101771355, 0.037205733358860016, 0.06481602042913437, 0.0404745377600193, 0.025914236903190613, 0.06507600098848343, 0.03922510892152786, 0.0774419754743576, 0.22253204882144928, 0.0, 0.0, 0.0, 0.0, 0.0, 0.0, 0.0, 0.0, 0.0, 0.0, 0.0, 0.0, 0.0, 0.0, 0.0, 0.0, 0.0], [0.1581333875656128, 0.03911251947283745, 0.03856494650244713, 0.03587969392538071, 0.04187794402241707, 0.08161000907421112, 0.05245805159211159, 0.0681268572807312, 0.03444807231426239, 0.04342750832438469, 0.08275996893644333, 0.029333394020795822, 0.04157378897070885, 0.08478686213493347, 0.048816002905368805, 0.032352838665246964, 0.08673812448978424, 0.0, 0.0, 0.0, 0.0, 0.0, 0.0, 0.0, 0.0, 0.0, 0.0, 0.0, 0.0, 0.0, 0.0, 0.0, 0.0], [0.13890595734119415, 0.03169632703065872, 0.03251554071903229, 0.03538898378610611, 0.038000334054231644, 0.06974425911903381, 0.05942453071475029, 0.06768239289522171, 0.027843806892633438, 0.039054665714502335, 0.07273104041814804, 0.030109873041510582, 0.04163093492388725, 0.07565010339021683, 0.04018832743167877, 0.027483616024255753, 0.0779590755701065, 0.09399020671844482, 0.0, 0.0, 0.0, 0.0, 0.0, 0.0, 0.0, 0.0, 0.0, 0.0, 0.0, 0.0, 0.0, 0.0, 0.0], [0.09691290557384491, 0.03068731166422367, 0.030817952007055283, 0.044734325259923935, 0.04171941801905632, 0.036036767065525055, 0.04101702570915222, 0.03210476040840149, 0.04344063997268677, 0.04885551705956459, 0.03457902371883392, 0.016025099903345108, 0.04994165524840355, 0.0346352718770504, 0.06065686047077179, 0.034977883100509644, 0.03454343602061272, 0.03782794997096062, 0.25048619508743286, 0.0, 0.0, 0.0, 0.0, 0.0, 0.0, 0.0, 0.0, 0.0, 0.0, 0.0, 0.0, 0.0, 0.0], [0.1205921471118927, 0.04121064394712448, 0.05098516866564751, 0.05289150029420853, 0.02886130101978779, 0.047061987221241, 0.029212836176156998, 0.038170017302036285, 0.021046487614512444, 0.02978781796991825, 0.04406721517443657, 0.02650335431098938, 0.04127003252506256, 0.044307366013526917, 0.03080156072974205, 0.04064901918172836, 0.044745106250047684, 0.042122457176446915, 0.028442280367016792, 0.1972716897726059, 0.0, 0.0, 0.0, 0.0, 0.0, 0.0, 0.0, 0.0, 0.0, 0.0, 0.0, 0.0, 0.0], [0.11388306319713593, 0.02825540117919445, 0.028351284563541412, 0.02695867046713829, 0.03131086379289627, 0.05977547913789749, 0.0391821451485157, 0.05072040110826492, 0.02768402174115181, 0.035564225167036057, 0.06452133506536484, 0.024267084896564484, 0.03616494685411453, 0.06838169693946838, 0.041393011808395386, 0.0290946364402771, 0.0723005011677742, 0.07349381595849991, 0.03700020909309387, 0.0352863147854805, 0.07641096413135529, 0.0, 0.0, 0.0, 0.0, 0.0, 0.0, 0.0, 0.0, 0.0, 0.0, 0.0, 0.0], [0.08453851193189621, 0.017416611313819885, 0.018949132412672043, 0.016560642048716545, 0.022296126931905746, 0.041740596294403076, 0.05894863232970238, 0.038933612406253815, 0.030214648693799973, 0.03464233875274658, 0.048319004476070404, 0.01635843701660633, 0.02567455731332302, 0.053096748888492584, 0.020546521991491318, 0.02046983130276203, 0.05704640597105026, 0.06604909896850586, 0.03774646297097206, 0.02141387201845646, 0.06129930168390274, 0.20773889124393463, 0.0, 0.0, 0.0, 0.0, 0.0, 0.0, 0.0, 0.0, 0.0, 0.0, 0.0], [0.11248443275690079, 0.024394843727350235, 0.024523135274648666, 0.02748955972492695, 0.026104673743247986, 0.037315063178539276, 0.06748529523611069, 0.03890375792980194, 0.01798143796622753, 0.028454391285777092, 0.037565309554338455, 0.018326064571738243, 0.020088661462068558, 0.038651712238788605, 0.023285649716854095, 0.02422661893069744, 0.03960611671209335, 0.04833188280463219, 0.04500092566013336, 0.017362141981720924, 0.04009140282869339, 0.05208283290266991, 0.19024406373500824, 0.0, 0.0, 0.0, 0.0, 0.0, 0.0, 0.0, 0.0, 0.0, 0.0], [0.08183359354734421, 0.019828449934720993, 0.0268733948469162, 0.029252558946609497, 0.02518443949520588, 0.031927723437547684, 0.029049787670373917, 0.024972515180706978, 0.03350626304745674, 0.040074292570352554, 0.033517323434352875, 0.01603599824011326, 0.03204454109072685, 0.03448064252734184, 0.02851710096001625, 0.03532731905579567, 0.03583228588104248, 0.040583960711956024, 0.029941115528345108, 0.02109791710972786, 0.03671329468488693, 0.03921257704496384, 0.03543240949511528, 0.23876051604747772, 0.0, 0.0, 0.0, 0.0, 0.0, 0.0, 0.0, 0.0, 0.0], [0.1014569103717804, 0.014237052761018276, 0.01698417402803898, 0.018636560067534447, 0.028536250814795494, 0.036538016051054, 0.029570508748292923, 0.04198319464921951, 0.014166050590574741, 0.030081404373049736, 0.04016640782356262, 0.020075039938092232, 0.03037012554705143, 0.04353441670536995, 0.03039301559329033, 0.02071734517812729, 0.04677112400531769, 0.054951030761003494, 0.028809187933802605, 0.020043691620230675, 0.05092542991042137, 0.040844667702913284, 0.04185802862048149, 0.03848978877067566, 0.15986062586307526, 0.0, 0.0, 0.0, 0.0, 0.0, 0.0, 0.0, 0.0], [0.07937928289175034, 0.02067432925105095, 0.020799750462174416, 0.027988238260149956, 0.0456547737121582, 0.02656259760260582, 0.02539670467376709, 0.021243248134851456, 0.01776380091905594, 0.025200635194778442, 0.02757645957171917, 0.03060709498822689, 0.0343799963593483, 0.028568318113684654, 0.022726938128471375, 0.016051946207880974, 0.02971273846924305, 0.03276180475950241, 0.025702396407723427, 0.012878886424005032, 0.03062613122165203, 0.020369645208120346, 0.037413887679576874, 0.02785036899149418, 0.035718511790037155, 0.27639150619506836, 0.0, 0.0, 0.0, 0.0, 0.0, 0.0, 0.0], [0.09605437517166138, 0.023092901334166527, 0.024199649691581726, 0.02497413381934166, 0.036829665303230286, 0.030014390125870705, 0.02106921561062336, 0.018117520958185196, 0.022569265216588974, 0.02834322489798069, 0.03050513006746769, 0.021707683801651, 0.02821178361773491, 0.031639423221349716, 0.03916611522436142, 0.03627365455031395, 0.03311571106314659, 0.03514396771788597, 0.025745240971446037, 0.01588900201022625, 0.034675467759370804, 0.026770086959004402, 0.02714345045387745, 0.040450796484947205, 0.037603843957185745, 0.03232336416840553, 0.17837102711200714, 0.0, 0.0, 0.0, 0.0, 0.0, 0.0], [0.07476936280727386, 0.011021515354514122, 0.010706553235650063, 0.015325449407100677, 0.01990356482565403, 0.03285866603255272, 0.02193606272339821, 0.029454153031110764, 0.01642150804400444, 0.022476568818092346, 0.037223439663648605, 0.017580240964889526, 0.021954137831926346, 0.040462128818035126, 0.0314154177904129, 0.010417778976261616, 0.044297389686107635, 0.05118127539753914, 0.02956555038690567, 0.015394327230751514, 0.0490642711520195, 0.032021936029195786, 0.030905112624168396, 0.04132053256034851, 0.06578275561332703, 0.039784036576747894, 0.020499693229794502, 0.1662566363811493, 0.0, 0.0, 0.0, 0.0, 0.0], [0.05124204233288765, 0.011390029452741146, 0.020265797153115273, 0.02452964335680008, 0.1273244321346283, 0.02008390985429287, 0.01769273355603218, 0.020381979644298553, 0.01854861155152321, 0.023206062614917755, 0.02102605439722538, 0.020521238446235657, 0.025210730731487274, 0.021994249895215034, 0.017190469428896904, 0.020805906504392624, 0.023035310208797455, 0.026458051055669785, 0.031086131930351257, 0.011454473249614239, 0.024357983842492104, 0.022524939849972725, 0.02460077404975891, 0.024588003754615784, 0.028380829840898514, 0.046606115996837616, 0.0436270646750927, 0.020300474017858505, 0.2115660160779953, 0.0, 0.0, 0.0, 0.0], [0.07929296046495438, 0.023537393659353256, 0.022847279906272888, 0.01993604004383087, 0.015462889336049557, 0.025110291317105293, 0.021429041400551796, 0.015073486603796482, 0.009924097917973995, 0.015724750235676765, 0.027188710868358612, 0.020747274160385132, 0.034976352006196976, 0.029102327302098274, 0.021219026297330856, 0.01814761385321617, 0.031058205291628838, 0.033809494227170944, 0.020137561485171318, 0.01232312060892582, 0.0336926206946373, 0.024336127564311028, 0.031084518879652023, 0.03377700224518776, 0.04355441778898239, 0.032963529229164124, 0.03314928337931633, 0.02536490373313427, 0.02216367982327938, 0.22286593914031982, 0.0, 0.0, 0.0], [0.10059653967618942, 0.03096376173198223, 0.025578506290912628, 0.02022406831383705, 0.02713298238813877, 0.029490763321518898, 0.04074482247233391, 0.021403620019555092, 0.01639261096715927, 0.022520696744322777, 0.027555173262953758, 0.013599208556115627, 0.027306705713272095, 0.02780657820403576, 0.011214186437427998, 0.023586537688970566, 0.028399186208844185, 0.03066891059279442, 0.021664202213287354, 0.0170323196798563, 0.02905159257352352, 0.02654992789030075, 0.03297554329037666, 0.026790326461195946, 0.032060641795396805, 0.027298329398036003, 0.017307188361883163, 0.01876882277429104, 0.028226526454091072, 0.017085116356611252, 0.18000461161136627, 0.0, 0.0], [0.08361605554819107, 0.01658189296722412, 0.015823297202587128, 0.022005168721079826, 0.024062560871243477, 0.021028300747275352, 0.022811293601989746, 0.01441238820552826, 0.01557209063321352, 0.015104832127690315, 0.020917730405926704, 0.02179816924035549, 0.02598598599433899, 0.022013207897543907, 0.022025061771273613, 0.018091216683387756, 0.02311510220170021, 0.025451797991991043, 0.02594352513551712, 0.011241882108151913, 0.024466171860694885, 0.022869886830449104, 0.031613435596227646, 0.029542667791247368, 0.02381790429353714, 0.029349012300372124, 0.025922641158103943, 0.017268184572458267, 0.031844593584537506, 0.012037739157676697, 0.02752492018043995, 0.25614133477211, 0.0], [0.05258439853787422, 0.012508384883403778, 0.012737673707306385, 0.012144193984568119, 0.014467821456491947, 0.024812445044517517, 0.017109140753746033, 0.02516257017850876, 0.016298970207571983, 0.015160082839429379, 0.029820039868354797, 0.014290271326899529, 0.02409479022026062, 0.03374277800321579, 0.02163226343691349, 0.018924102187156677, 0.03819216787815094, 0.04115181788802147, 0.024165775626897812, 0.02063564397394657, 0.0441853329539299, 0.037937089800834656, 0.02963634952902794, 0.03152840584516525, 0.04542307183146477, 0.03596360608935356, 0.030482541769742966, 0.04609917104244232, 0.03206765279173851, 0.01766294613480568, 0.03169601783156395, 0.044629115611314774, 0.10305344313383102]], [[1.0, 0.0, 0.0, 0.0, 0.0, 0.0, 0.0, 0.0, 0.0, 0.0, 0.0, 0.0, 0.0, 0.0, 0.0, 0.0, 0.0, 0.0, 0.0, 0.0, 0.0, 0.0, 0.0, 0.0, 0.0, 0.0, 0.0, 0.0, 0.0, 0.0, 0.0, 0.0, 0.0], [0.7707713842391968, 0.22922860085964203, 0.0, 0.0, 0.0, 0.0, 0.0, 0.0, 0.0, 0.0, 0.0, 0.0, 0.0, 0.0, 0.0, 0.0, 0.0, 0.0, 0.0, 0.0, 0.0, 0.0, 0.0, 0.0, 0.0, 0.0, 0.0, 0.0, 0.0, 0.0, 0.0, 0.0, 0.0], [0.7813623547554016, 0.10978527367115021, 0.1088523343205452, 0.0, 0.0, 0.0, 0.0, 0.0, 0.0, 0.0, 0.0, 0.0, 0.0, 0.0, 0.0, 0.0, 0.0, 0.0, 0.0, 0.0, 0.0, 0.0, 0.0, 0.0, 0.0, 0.0, 0.0, 0.0, 0.0, 0.0, 0.0, 0.0, 0.0], [0.5350388884544373, 0.11194944381713867, 0.15013688802719116, 0.2028747797012329, 0.0, 0.0, 0.0, 0.0, 0.0, 0.0, 0.0, 0.0, 0.0, 0.0, 0.0, 0.0, 0.0, 0.0, 0.0, 0.0, 0.0, 0.0, 0.0, 0.0, 0.0, 0.0, 0.0, 0.0, 0.0, 0.0, 0.0, 0.0, 0.0], [0.4180358350276947, 0.16036385297775269, 0.10740306973457336, 0.10625777393579483, 0.2079394906759262, 0.0, 0.0, 0.0, 0.0, 0.0, 0.0, 0.0, 0.0, 0.0, 0.0, 0.0, 0.0, 0.0, 0.0, 0.0, 0.0, 0.0, 0.0, 0.0, 0.0, 0.0, 0.0, 0.0, 0.0, 0.0, 0.0, 0.0, 0.0], [0.4349866509437561, 0.0957985520362854, 0.08251801878213882, 0.10028502345085144, 0.15332910418510437, 0.13308261334896088, 0.0, 0.0, 0.0, 0.0, 0.0, 0.0, 0.0, 0.0, 0.0, 0.0, 0.0, 0.0, 0.0, 0.0, 0.0, 0.0, 0.0, 0.0, 0.0, 0.0, 0.0, 0.0, 0.0, 0.0, 0.0, 0.0, 0.0], [0.44621357321739197, 0.056242119520902634, 0.05040299892425537, 0.0708429366350174, 0.09360905736684799, 0.11472617089748383, 0.16796310245990753, 0.0, 0.0, 0.0, 0.0, 0.0, 0.0, 0.0, 0.0, 0.0, 0.0, 0.0, 0.0, 0.0, 0.0, 0.0, 0.0, 0.0, 0.0, 0.0, 0.0, 0.0, 0.0, 0.0, 0.0, 0.0, 0.0], [0.3609194755554199, 0.07294464856386185, 0.05191003903746605, 0.07159049808979034, 0.09321669489145279, 0.09543664008378983, 0.14539925754070282, 0.1085827425122261, 0.0, 0.0, 0.0, 0.0, 0.0, 0.0, 0.0, 0.0, 0.0, 0.0, 0.0, 0.0, 0.0, 0.0, 0.0, 0.0, 0.0, 0.0, 0.0, 0.0, 0.0, 0.0, 0.0, 0.0, 0.0], [0.31714069843292236, 0.07683128118515015, 0.0555228516459465, 0.06445363909006119, 0.08586593717336655, 0.10643254965543747, 0.1452113538980484, 0.09439334273338318, 0.054148342460393906, 0.0, 0.0, 0.0, 0.0, 0.0, 0.0, 0.0, 0.0, 0.0, 0.0, 0.0, 0.0, 0.0, 0.0, 0.0, 0.0, 0.0, 0.0, 0.0, 0.0, 0.0, 0.0, 0.0, 0.0], [0.19288600981235504, 0.11343874782323837, 0.045305073261260986, 0.08361206203699112, 0.05763271823525429, 0.11914195120334625, 0.11441227048635483, 0.12364509701728821, 0.07640955597162247, 0.07351643592119217, 0.0, 0.0, 0.0, 0.0, 0.0, 0.0, 0.0, 0.0, 0.0, 0.0, 0.0, 0.0, 0.0, 0.0, 0.0, 0.0, 0.0, 0.0, 0.0, 0.0, 0.0, 0.0, 0.0], [0.25174087285995483, 0.060194142162799835, 0.049302127212285995, 0.0592232346534729, 0.08453334867954254, 0.07307681441307068, 0.12308555096387863, 0.08293969184160233, 0.06380269676446915, 0.07185833901166916, 0.08024313300848007, 0.0, 0.0, 0.0, 0.0, 0.0, 0.0, 0.0, 0.0, 0.0, 0.0, 0.0, 0.0, 0.0, 0.0, 0.0, 0.0, 0.0, 0.0, 0.0, 0.0, 0.0, 0.0], [0.24793602526187897, 0.04855771362781525, 0.0617169588804245, 0.06616784632205963, 0.0878860205411911, 0.059203825891017914, 0.09128591418266296, 0.06866812705993652, 0.06062868982553482, 0.08399355411529541, 0.0656941831111908, 0.05826115608215332, 0.0, 0.0, 0.0, 0.0, 0.0, 0.0, 0.0, 0.0, 0.0, 0.0, 0.0, 0.0, 0.0, 0.0, 0.0, 0.0, 0.0, 0.0, 0.0, 0.0, 0.0], [0.15039603412151337, 0.07072301208972931, 0.0361880287528038, 0.038128845393657684, 0.0549657829105854, 0.09552796185016632, 0.1278020441532135, 0.09101752191781998, 0.04133947566151619, 0.06619425117969513, 0.11493083089590073, 0.0352681428194046, 0.07751806080341339, 0.0, 0.0, 0.0, 0.0, 0.0, 0.0, 0.0, 0.0, 0.0, 0.0, 0.0, 0.0, 0.0, 0.0, 0.0, 0.0, 0.0, 0.0, 0.0, 0.0], [0.21730749309062958, 0.052248768508434296, 0.04279685020446777, 0.05130990967154503, 0.07021073251962662, 0.060848649591207504, 0.1009417176246643, 0.06729136407375336, 0.053472720086574554, 0.05803244560956955, 0.0638660341501236, 0.041436828672885895, 0.054298125207424164, 0.06593839824199677, 0.0, 0.0, 0.0, 0.0, 0.0, 0.0, 0.0, 0.0, 0.0, 0.0, 0.0, 0.0, 0.0, 0.0, 0.0, 0.0, 0.0, 0.0, 0.0], [0.14158986508846283, 0.08735616505146027, 0.041096288710832596, 0.07771318405866623, 0.0664159283041954, 0.06084612011909485, 0.07890867441892624, 0.0646718218922615, 0.04156755656003952, 0.05314024165272713, 0.06033195182681084, 0.04990345239639282, 0.061476901173591614, 0.06152055785059929, 0.05346130579710007, 0.0, 0.0, 0.0, 0.0, 0.0, 0.0, 0.0, 0.0, 0.0, 0.0, 0.0, 0.0, 0.0, 0.0, 0.0, 0.0, 0.0, 0.0], [0.11277396976947784, 0.051402702927589417, 0.03480074182152748, 0.04410993680357933, 0.04927105829119682, 0.08066020160913467, 0.09371132403612137, 0.07634276896715164, 0.03460071608424187, 0.05556502193212509, 0.09000375121831894, 0.027950908988714218, 0.05808689445257187, 0.09759874641895294, 0.0585305280983448, 0.03459075838327408, 0.0, 0.0, 0.0, 0.0, 0.0, 0.0, 0.0, 0.0, 0.0, 0.0, 0.0, 0.0, 0.0, 0.0, 0.0, 0.0, 0.0], [0.19136783480644226, 0.0458880178630352, 0.03718419373035431, 0.044788483530282974, 0.05845540761947632, 0.05162312090396881, 0.08451797813177109, 0.05661727488040924, 0.04477924108505249, 0.046815864741802216, 0.051775235682725906, 0.03474309295415878, 0.04365592449903488, 0.05257754027843475, 0.04571913182735443, 0.05523937568068504, 0.0542522594332695, 0.0, 0.0, 0.0, 0.0, 0.0, 0.0, 0.0, 0.0, 0.0, 0.0, 0.0, 0.0, 0.0, 0.0, 0.0, 0.0], [0.1780986338853836, 0.036513157188892365, 0.035378023982048035, 0.046600595116615295, 0.05606749653816223, 0.055425308644771576, 0.06580903381109238, 0.05869591236114502, 0.044602103531360626, 0.03845332935452461, 0.05522070452570915, 0.028129279613494873, 0.03887631371617317, 0.05635207146406174, 0.04307203367352486, 0.04859212040901184, 0.05801304802298546, 0.05610081925988197, 0.0, 0.0, 0.0, 0.0, 0.0, 0.0, 0.0, 0.0, 0.0, 0.0, 0.0, 0.0, 0.0, 0.0, 0.0], [0.11277122050523758, 0.04416342079639435, 0.016790850088000298, 0.03922899439930916, 0.030570238828659058, 0.08429381996393204, 0.05829834192991257, 0.07985574752092361, 0.0277402326464653, 0.024607928469777107, 0.08568025380373001, 0.012135534547269344, 0.02122361958026886, 0.08979950100183487, 0.024395618587732315, 0.018000077456235886, 0.09797869622707367, 0.08564860373735428, 0.046817269176244736, 0.0, 0.0, 0.0, 0.0, 0.0, 0.0, 0.0, 0.0, 0.0, 0.0, 0.0, 0.0, 0.0, 0.0], [0.15648676455020905, 0.04359336569905281, 0.029469123110175133, 0.023382794111967087, 0.039893943816423416, 0.06601442396640778, 0.07239897549152374, 0.049598757177591324, 0.025720084086060524, 0.02872989885509014, 0.072687529027462, 0.02010437287390232, 0.03894995152950287, 0.07793485373258591, 0.0318501777946949, 0.029572593048214912, 0.08162933588027954, 0.04983031377196312, 0.04757082462310791, 0.014582015573978424, 0.0, 0.0, 0.0, 0.0, 0.0, 0.0, 0.0, 0.0, 0.0, 0.0, 0.0, 0.0, 0.0], [0.16675150394439697, 0.04021673649549484, 0.03194626793265343, 0.039155542850494385, 0.04867978021502495, 0.043519336730241776, 0.07027733325958252, 0.04676979035139084, 0.037370480597019196, 0.03785953298211098, 0.041853513568639755, 0.029438771307468414, 0.03496701642870903, 0.04187152534723282, 0.0366595983505249, 0.04418947920203209, 0.042447008192539215, 0.04308998957276344, 0.05540823936462402, 0.024029964581131935, 0.04349851235747337, 0.0, 0.0, 0.0, 0.0, 0.0, 0.0, 0.0, 0.0, 0.0, 0.0, 0.0, 0.0], [0.2131170630455017, 0.03452149033546448, 0.026512041687965393, 0.03728464990854263, 0.04200230538845062, 0.053780727088451385, 0.06410718709230423, 0.040195904672145844, 0.029513956978917122, 0.030562086030840874, 0.04814052954316139, 0.019645746797323227, 0.023855995386838913, 0.04712359234690666, 0.027805248275399208, 0.02563280612230301, 0.04690323770046234, 0.042115021497011185, 0.04245338216423988, 0.016209963709115982, 0.047201577574014664, 0.04131557047367096, 0.0, 0.0, 0.0, 0.0, 0.0, 0.0, 0.0, 0.0, 0.0, 0.0, 0.0], [0.16099104285240173, 0.031492140144109726, 0.02550600655376911, 0.03203628957271576, 0.038119375705718994, 0.05386460945010185, 0.05289202556014061, 0.06297369301319122, 0.03872942551970482, 0.030703024938702583, 0.0486149825155735, 0.016964131966233253, 0.020984867587685585, 0.04743489250540733, 0.026178570464253426, 0.032817017287015915, 0.04874100908637047, 0.037023045122623444, 0.050284452736377716, 0.014425929635763168, 0.04926920682191849, 0.027485135942697525, 0.052469104528427124, 0.0, 0.0, 0.0, 0.0, 0.0, 0.0, 0.0, 0.0, 0.0, 0.0], [0.13924194872379303, 0.04732195660471916, 0.022920064628124237, 0.03782675042748451, 0.03733158856630325, 0.056281961500644684, 0.06773106753826141, 0.06383748352527618, 0.028824562206864357, 0.028368622064590454, 0.05008406192064285, 0.014775182120501995, 0.021058904007077217, 0.04819711297750473, 0.017685120925307274, 0.015456218272447586, 0.04842803254723549, 0.03709951788187027, 0.04247325658798218, 0.018426815047860146, 0.04861331358551979, 0.022673944011330605, 0.05998959392309189, 0.025352949276566505, 0.0, 0.0, 0.0, 0.0, 0.0, 0.0, 0.0, 0.0, 0.0], [0.1956234872341156, 0.03233328461647034, 0.02287408895790577, 0.038390759378671646, 0.03449878841638565, 0.046169035136699677, 0.05553751066327095, 0.03960668295621872, 0.023098403587937355, 0.02424929477274418, 0.04043306037783623, 0.016078542917966843, 0.02162495255470276, 0.039030540734529495, 0.026520878076553345, 0.02811342291533947, 0.0382363460958004, 0.03542612865567207, 0.041745755821466446, 0.02109713852405548, 0.03767954558134079, 0.0372869148850441, 0.04423920810222626, 0.02292150817811489, 0.0371846966445446, 0.0, 0.0, 0.0, 0.0, 0.0, 0.0, 0.0, 0.0], [0.0581965297460556, 0.038897402584552765, 0.026005247607827187, 0.023567883297801018, 0.022979989647865295, 0.053841497749090195, 0.058061063289642334, 0.06858772039413452, 0.03745982423424721, 0.029159117490053177, 0.05474672466516495, 0.013592935167253017, 0.027647055685520172, 0.05575402453541756, 0.030779872089624405, 0.016137350350618362, 0.05745430663228035, 0.039687298238277435, 0.03406552970409393, 0.013110971078276634, 0.059776563197374344, 0.016043761745095253, 0.0296992938965559, 0.020566528663039207, 0.08347287029027939, 0.03070860542356968, 0.0, 0.0, 0.0, 0.0, 0.0, 0.0, 0.0], [0.15561480820178986, 0.030323179438710213, 0.021067576482892036, 0.03860040754079819, 0.025089262053370476, 0.0471951961517334, 0.042556509375572205, 0.05166256055235863, 0.030368110164999962, 0.02013363502919674, 0.04255697503685951, 0.018511774018406868, 0.01867171935737133, 0.0414302758872509, 0.022022126242518425, 0.02106103114783764, 0.041666194796562195, 0.027249205857515335, 0.0404815711081028, 0.01553641352802515, 0.04219621419906616, 0.01700734533369541, 0.06220947578549385, 0.015703151002526283, 0.05443185567855835, 0.040924087166786194, 0.015729248523712158, 0.0, 0.0, 0.0, 0.0, 0.0, 0.0], [0.1521887183189392, 0.032320473343133926, 0.02627762407064438, 0.03215135633945465, 0.037080563604831696, 0.03843332827091217, 0.0421852208673954, 0.034409213811159134, 0.02929617278277874, 0.02475227415561676, 0.03461233526468277, 0.021795077249407768, 0.023419689387083054, 0.033866435289382935, 0.028580613434314728, 0.034403249621391296, 0.03315696865320206, 0.02671039290726185, 0.04213566705584526, 0.019021358340978622, 0.0327858068048954, 0.026839980855584145, 0.033044565469026566, 0.023302629590034485, 0.03390035033226013, 0.039449259638786316, 0.02133425697684288, 0.042546432465314865, 0.0, 0.0, 0.0, 0.0, 0.0], [0.10210391134023666, 0.04830533638596535, 0.027957912534475327, 0.02813485451042652, 0.04368894547224045, 0.037659596651792526, 0.04012181982398033, 0.03589580953121185, 0.024491775780916214, 0.019768046215176582, 0.03467409685254097, 0.01543145626783371, 0.032616570591926575, 0.03414337709546089, 0.02746138721704483, 0.020323215052485466, 0.034458424896001816, 0.015827570110559464, 0.030705854296684265, 0.020360929891467094, 0.035580456256866455, 0.0347902737557888, 0.03518150374293327, 0.028572576120495796, 0.04333386942744255, 0.03896387293934822, 0.017587702721357346, 0.045533761382102966, 0.04632510989904404, 0.0, 0.0, 0.0, 0.0], [0.1184174120426178, 0.026689790189266205, 0.02854764647781849, 0.03516456112265587, 0.03519095852971077, 0.030704857781529427, 0.04254690557718277, 0.023103507235646248, 0.025463111698627472, 0.029678557068109512, 0.028395213186740875, 0.019178256392478943, 0.02383357845246792, 0.027640020474791527, 0.033817537128925323, 0.03964013233780861, 0.027574429288506508, 0.021856164559721947, 0.03966764733195305, 0.03941831737756729, 0.027115626260638237, 0.030498048290610313, 0.03493284806609154, 0.0323205292224884, 0.027840537950396538, 0.03877580538392067, 0.021124791353940964, 0.038611434400081635, 0.032771822065114975, 0.019479986280202866, 0.0, 0.0, 0.0], [0.05433790758252144, 0.019247835502028465, 0.011686470359563828, 0.014118614606559277, 0.013909783214330673, 0.05736802518367767, 0.034546393901109695, 0.046650584787130356, 0.013026444241404533, 0.013271301984786987, 0.05952775850892067, 0.00906313955783844, 0.017364203929901123, 0.06135562062263489, 0.012634649872779846, 0.015145530924201012, 0.06425535678863525, 0.04627061262726784, 0.019556371495127678, 0.012543444521725178, 0.06913556903600693, 0.03482367470860481, 0.030005982145667076, 0.012261815369129181, 0.07985589653253555, 0.01899644173681736, 0.010722932405769825, 0.08654540032148361, 0.017174091190099716, 0.02214416302740574, 0.02245398424565792, 0.0, 0.0], [0.05849645659327507, 0.03437737002968788, 0.013603090308606625, 0.02417042851448059, 0.019005870446562767, 0.06546404957771301, 0.03062298148870468, 0.035732071846723557, 0.01885945536196232, 0.012241479009389877, 0.0628218948841095, 0.01183574739843607, 0.009552357718348503, 0.06431795656681061, 0.02158959023654461, 0.01091296412050724, 0.06665915250778198, 0.023997453972697258, 0.026596734300255775, 0.00615355372428894, 0.06984328478574753, 0.037238676100969315, 0.03004671446979046, 0.021686799824237823, 0.043640609830617905, 0.02120961807668209, 0.013490457087755203, 0.04632722958922386, 0.020434502512216568, 0.01336226798593998, 0.018568990752100945, 0.04714022949337959, 0.0], [0.1352868378162384, 0.02973336912691593, 0.02611132711172104, 0.03753575310111046, 0.0388815701007843, 0.033166784793138504, 0.048243921250104904, 0.030468309298157692, 0.02603822574019432, 0.02412371151149273, 0.02789275161921978, 0.022709941491484642, 0.0241852980107069, 0.026114553213119507, 0.023209670558571815, 0.02517528086900711, 0.02461479790508747, 0.02112315408885479, 0.02968505583703518, 0.018167467787861824, 0.02306438237428665, 0.02059805579483509, 0.034411415457725525, 0.021083395928144455, 0.02253883332014084, 0.032281555235385895, 0.013987252488732338, 0.024144919589161873, 0.027002308517694473, 0.012929446063935757, 0.03616539388895035, 0.026840241625905037, 0.03248501941561699]]], \"headLabels\": [\"L0H0\", \"L0H1\", \"L0H2\", \"L0H3\", \"L0H4\", \"L0H5\", \"L0H6\", \"L0H7\", \"L0H8\", \"L0H9\", \"L0H10\", \"L0H11\"]}\n",
              "    )\n",
              "    </script>"
            ]
          },
          "metadata": {}
        }
      ],
      "source": [
        "print(type(gpt2_cache))\n",
        "attention_pattern = gpt2_cache[\"pattern\", 0]\n",
        "print(attention_pattern.shape)\n",
        "gpt2_str_tokens = gpt2_small.to_str_tokens(gpt2_text)\n",
        "\n",
        "print(\"Layer 0 Head Attention Patterns:\")\n",
        "display(\n",
        "    cv.attention.attention_patterns(\n",
        "        tokens=gpt2_str_tokens,\n",
        "        attention=attention_pattern,\n",
        "        attention_head_names=[f\"L0H{i}\" for i in range(12)],\n",
        "    )\n",
        ")"
      ]
    },
    {
      "cell_type": "markdown",
      "metadata": {
        "id": "eXcluTPIRp6s"
      },
      "source": [
        "Hover over heads to see the attention patterns; click on a head to lock it. Hover over each token to see which other tokens it attends to (or which other tokens attend to it - you can see this by changing the dropdown to `Destination <- Source`)."
      ]
    },
    {
      "cell_type": "markdown",
      "metadata": {
        "id": "tgPehd4yRp6s"
      },
      "source": [
        "<details>\n",
        "<summary>Other circuitsvis functions - neuron activations</summary>\n",
        "\n",
        "The `circuitsvis` library also has a number of cool visualisations for **neuron activations**. Here are some more of them (you don't have to understand them all now, but you can come back to them later).\n",
        "\n",
        "The function below visualises neuron activations. The example shows just one sequence, but it can also show multiple sequences (if `tokens` is a list of lists of strings, and `activations` is a list of tensors).\n",
        "\n",
        "```python\n",
        "neuron_activations_for_all_layers = t.stack([\n",
        "    gpt2_cache[\"post\", layer] for layer in range(gpt2_small.cfg.n_layers)\n",
        "], dim=1)\n",
        "# shape = (seq_pos, layers, neurons)\n",
        "\n",
        "cv.activations.text_neuron_activations(\n",
        "    tokens=gpt2_str_tokens,\n",
        "    activations=neuron_activations_for_all_layers\n",
        ")\n",
        "```\n",
        "\n",
        "The next function shows which words each of the neurons activates most / least on (note that it requires some weird indexing to work correctly).\n",
        "\n",
        "```python\n",
        "neuron_activations_for_all_layers_rearranged = utils.to_numpy(einops.rearrange(neuron_activations_for_all_layers, \"seq layers neurons -> 1 layers seq neurons\"))\n",
        "\n",
        "cv.topk_tokens.topk_tokens(\n",
        "    # Some weird indexing required here ¯\\_(ツ)_/¯\n",
        "    tokens=[gpt2_str_tokens],\n",
        "    activations=neuron_activations_for_all_layers_rearranged,\n",
        "    max_k=7,\n",
        "    first_dimension_name=\"Layer\",\n",
        "    third_dimension_name=\"Neuron\",\n",
        "    first_dimension_labels=list(range(12))\n",
        ")\n",
        "```\n",
        "</details>"
      ]
    },
    {
      "cell_type": "markdown",
      "metadata": {
        "id": "kbQuSUzFRp6s"
      },
      "source": [
        "# 2️⃣ Finding induction heads\n",
        "\n",
        "> ##### Learning Objectives\n",
        ">\n",
        "> - Understand what induction heads are, and the algorithm they are implementing\n",
        "> - Inspect activation patterns to identify basic attention head patterns, and write your own functions to detect attention heads for you\n",
        "> - Identify induction heads by looking at the attention patterns produced from a repeating random sequence"
      ]
    },
    {
      "cell_type": "markdown",
      "metadata": {
        "id": "4caOWePlRp6s"
      },
      "source": [
        "## Introducing Our Toy Attention-Only Model\n",
        "\n",
        "Here we introduce a toy 2L attention-only transformer trained specifically for today. Some changes to make them easier to interpret:\n",
        "- It has only attention blocks.\n",
        "- The positional embeddings are only added to the residual stream before each key and query vector in the attention layers as opposed to the token embeddings - i.e. we compute queries as `Q = (resid + pos_embed) @ W_Q + b_Q` and same for keys, but values as `V = resid @ W_V + b_V`. This means that **the residual stream can't directly encode positional information**.\n",
        "    - This turns out to make it *way* easier for induction heads to form, it happens 2-3x times earlier - [see the comparison of two training runs](https://wandb.ai/mechanistic-interpretability/attn-only/reports/loss_ewma-22-08-24-11-08-83---VmlldzoyNTI0MDMz?accessToken=8ap8ir6y072uqa4f9uinotdtrwmoa8d8k2je4ec0lyasf1jcm3mtdh37ouijgdbm) here. (The bump in each curve is the formation of induction heads.)\n",
        "    - The argument that does this below is `positional_embedding_type=\"shortformer\"`.\n",
        "- It has no MLP layers, no LayerNorms, and no biases.\n",
        "- There are separate embed and unembed matrices (i.e. the weights are not tied).\n",
        "\n",
        "We now define our model with a `HookedTransformerConfig` object. This is similar to the `Config` object we used in the previous set of exercises, although it has a lot more features. You can look at the documentation page (Right-click, \"Go to Definition\" in VSCode) to seee what the different arguments do."
      ]
    },
    {
      "cell_type": "code",
      "execution_count": null,
      "metadata": {
        "id": "BwDS-ZwORp6s"
      },
      "outputs": [],
      "source": [
        "cfg = HookedTransformerConfig(\n",
        "    d_model=768,\n",
        "    d_head=64,\n",
        "    n_heads=12,\n",
        "    n_layers=2,\n",
        "    n_ctx=2048,\n",
        "    d_vocab=50278,\n",
        "    attention_dir=\"causal\",\n",
        "    attn_only=True,  # defaults to False\n",
        "    tokenizer_name=\"EleutherAI/gpt-neox-20b\",\n",
        "    seed=398,\n",
        "    use_attn_result=True,\n",
        "    normalization_type=None,  # defaults to \"LN\", i.e. layernorm with weights & biases\n",
        "    positional_embedding_type=\"shortformer\",\n",
        ")"
      ]
    },
    {
      "cell_type": "markdown",
      "metadata": {
        "id": "pda5tLGrRp6t"
      },
      "source": [
        "Note that in the last section we had to define a tokenizer explicitly, and passed it into our model. But here, we just pass a tokenizer name, and the model will automatically create a tokenizer for us (under the hood, it calls `AutoTokenizer.from_pretrained(tokenizer_name)`).\n",
        "\n",
        "Below, you'll load in your weights, with some boilerplate code to download your state dict from HuggingFace (you can do this for any model you've uploaded to HuggingFace yourself):"
      ]
    },
    {
      "cell_type": "code",
      "execution_count": null,
      "metadata": {
        "id": "TXbfaJ2KRp6t"
      },
      "outputs": [],
      "source": [
        "from huggingface_hub import hf_hub_download\n",
        "\n",
        "REPO_ID = \"callummcdougall/attn_only_2L_half\"\n",
        "FILENAME = \"attn_only_2L_half.pth\"\n",
        "\n",
        "weights_path = hf_hub_download(repo_id=REPO_ID, filename=FILENAME)"
      ]
    },
    {
      "cell_type": "markdown",
      "metadata": {
        "id": "UpmHvhEsRp6t"
      },
      "source": [
        "Finally, we'll create our model and load in the weights:"
      ]
    },
    {
      "cell_type": "code",
      "execution_count": null,
      "metadata": {
        "id": "QG1Qgt6wRp6t"
      },
      "outputs": [],
      "source": [
        "model = HookedTransformer(cfg)\n",
        "pretrained_weights = t.load(weights_path, map_location=device, weights_only=True)\n",
        "model.load_state_dict(pretrained_weights)"
      ]
    },
    {
      "cell_type": "markdown",
      "metadata": {
        "id": "Gk5kueMXRp6t"
      },
      "source": [
        "Use the [diagram at this link](https://raw.githubusercontent.com/info-arena/ARENA_img/main/misc/small-merm.svg) to remind yourself of the relevant hook names."
      ]
    },
    {
      "cell_type": "markdown",
      "metadata": {
        "id": "NtkUFQn-Rp6t"
      },
      "source": [
        "### Exercise - visualise & inspect attention patterns\n",
        "\n",
        "> ```yaml\n",
        "> Difficulty: 🔴🔴⚪⚪⚪\n",
        "> Importance: 🔵🔵🔵⚪⚪\n",
        ">\n",
        "> You should spend up to ~10 minutes on this exercise.\n",
        ">\n",
        "> It's important to be comfortable using circuitsvis, and the cache object.\n",
        "> ```\n",
        "\n",
        "*This exercise should be very quick - you can reuse code from the previous section. You should look at the solution if you're still stuck after 5-10 minutes.*\n",
        "\n",
        "Visualise the attention patterns for both layers of your model, on the following prompt:"
      ]
    },
    {
      "cell_type": "code",
      "execution_count": null,
      "metadata": {
        "id": "0CCh60cwRp6t"
      },
      "outputs": [],
      "source": [
        "text = \"We think that powerful, significantly superhuman machine intelligence is more likely than not to be created this century. If current machine learning techniques were scaled up to this level, we think they would by default produce systems that are deceptive or manipulative, and that no solid plans are known for how to avoid this.\"\n",
        "\n",
        "logits, cache = model.run_with_cache(text, remove_batch_dim=True)"
      ]
    },
    {
      "cell_type": "markdown",
      "metadata": {
        "id": "-H2weO3MRp6t"
      },
      "source": [
        "*(Note that we've run the model on the string `text`, rather than on tokens like we did previously when creating a cache - this is something that `HookedTransformer` allows.)*\n",
        "\n",
        "Inspect the attention patterns. What do you notice about the attention heads?\n",
        "\n",
        "You should spot three relatively distinctive basic patterns, which occur in multiple heads. What are these patterns, and can you guess why they might be present?"
      ]
    },
    {
      "cell_type": "code",
      "execution_count": null,
      "metadata": {
        "id": "3bl-5DpNRp6t"
      },
      "outputs": [],
      "source": [
        "# YOUR CODE HERE - visualize attention"
      ]
    },
    {
      "cell_type": "markdown",
      "metadata": {
        "id": "cYyioSqPRp6t"
      },
      "source": [
        "<details>\n",
        "<summary>Aside - what to do if your plots won't show up</summary>\n",
        "\n",
        "A common mistake is to fail to pass the tokens in as arguments. If you do this, your attention patterns won't render.\n",
        "\n",
        "If this isn't the problem, then it might be an issue with the Circuitsvis library.Rather than plotting inline, you can do the following, and then open in your browser from the left-hand file explorer menu of VSCode:\n",
        "</details>\n",
        "\n",
        "<details>\n",
        "<summary>Discussion of results </summary>\n",
        "\n",
        "We notice that there are three basic patterns which repeat quite frequently:\n",
        "\n",
        "* `prev_token_heads`, which attend mainly to the previous token (e.g. head `0.7`)\n",
        "* `current_token_heads`, which attend mainly to the current token (e.g. head `1.6`)\n",
        "* `first_token_heads`, which attend mainly to the first token (e.g. heads `0.3` or `1.4`, although these are a bit less clear-cut than the other two)\n",
        "\n",
        "The `prev_token_heads` and `current_token_heads` are perhaps unsurprising, because words that are close together in a sequence probably have a lot more mutual information (i.e. we could get quite far using bigram or trigram prediction).\n",
        "\n",
        "The `first_token_heads` are a bit more surprising. The basic intuition here is that the first token in a sequence is often used as a resting or null position for heads that only sometimes activate (since our attention probabilities always have to add up to 1).\n",
        "</details>\n",
        "\n",
        "\n",
        "<details><summary>Solution</summary>\n",
        "\n",
        "```python\n",
        "str_tokens = model.to_str_tokens(text)\n",
        "for layer in range(model.cfg.n_layers):\n",
        "    attention_pattern = cache[\"pattern\", layer]\n",
        "    display(cv.attention.attention_patterns(tokens=str_tokens, attention=attention_pattern))\n",
        "```\n",
        "</details>"
      ]
    },
    {
      "cell_type": "markdown",
      "metadata": {
        "id": "Cr77VbiaRp6t"
      },
      "source": [
        "Now that we've observed our three basic attention patterns, it's time to make detectors for those patterns!"
      ]
    },
    {
      "cell_type": "markdown",
      "metadata": {
        "id": "AAoYF7YQRp6t"
      },
      "source": [
        "### Exercise - write your own detectors\n",
        "\n",
        "> ```yaml\n",
        "> Difficulty: 🔴🔴⚪⚪⚪\n",
        "> Importance: 🔵🔵🔵⚪⚪\n",
        ">\n",
        "> You shouldn't spend more than 10-25 minutes on these exercises.\n",
        "> These exercises aren't mean to be too challenging, just to get you thinking about how to characterize head behaviour.\n",
        "> Use the hints if you're stuck.\n",
        "> ```\n",
        "\n",
        "You should fill in the functions below, which act as detectors for particular types of heads. Validate your detectors by comparing these results to the visual attention patterns above - summary statistics on their own can be dodgy, but are much more reliable if you can validate it by directly playing with the data.\n",
        "\n",
        "Tasks like this are useful, because we need to be able to take our observations / intuitions about what a model is doing, and translate these into quantitative measures. As the exercises proceed, we'll be creating some much more interesting tools and detectors!\n",
        "\n",
        "Note - there's no objectively correct answer for which heads are doing which tasks, and which detectors can spot them. You should just try and come up with something plausible-seeming, which identifies the kind of behaviour you're looking for. **Don't spend too much time here!**"
      ]
    },
    {
      "cell_type": "code",
      "execution_count": null,
      "metadata": {
        "id": "tW3Be2itRp6t"
      },
      "outputs": [],
      "source": [
        "def current_attn_detector(cache: ActivationCache) -> list[str]:\n",
        "    \"\"\"\n",
        "    Returns a list e.g. [\"0.2\", \"1.4\", \"1.9\"] of \"layer.head\" which you judge to be current-token heads\n",
        "    \"\"\"\n",
        "    raise NotImplementedError()\n",
        "\n",
        "\n",
        "def prev_attn_detector(cache: ActivationCache) -> list[str]:\n",
        "    \"\"\"\n",
        "    Returns a list e.g. [\"0.2\", \"1.4\", \"1.9\"] of \"layer.head\" which you judge to be prev-token heads\n",
        "    \"\"\"\n",
        "    raise NotImplementedError()\n",
        "\n",
        "\n",
        "def first_attn_detector(cache: ActivationCache) -> list[str]:\n",
        "    \"\"\"\n",
        "    Returns a list e.g. [\"0.2\", \"1.4\", \"1.9\"] of \"layer.head\" which you judge to be first-token heads\n",
        "    \"\"\"\n",
        "    raise NotImplementedError()\n",
        "\n",
        "\n",
        "print(\"Heads attending to current token  = \", \", \".join(current_attn_detector(cache)))\n",
        "print(\"Heads attending to previous token = \", \", \".join(prev_attn_detector(cache)))\n",
        "print(\"Heads attending to first token    = \", \", \".join(first_attn_detector(cache)))"
      ]
    },
    {
      "cell_type": "markdown",
      "metadata": {
        "id": "F7omUE37Rp6u"
      },
      "source": [
        "<details>\n",
        "<summary>Hint</summary>\n",
        "\n",
        "Try and compute the average attention probability along the relevant tokens. For instance, you can get the tokens just below the diagonal by using `t.diagonal` with appropriate `offset` parameter:\n",
        "\n",
        "```python\n",
        ">>> arr = t.arange(9).reshape(3, 3)\n",
        ">>> arr\n",
        "tensor([[0, 1, 2],\n",
        "        [3, 4, 5],\n",
        "        [6, 7, 8]])\n",
        "\n",
        ">>> arr.diagonal()\n",
        "tensor([0, 4, 8])\n",
        "\n",
        ">>> arr.diagonal(-1)\n",
        "tensor([3, 7])\n",
        "```\n",
        "\n",
        "Remember that you should be using `cache[\"pattern\", layer]` to get all the attention probabilities for a given layer, and then indexing on the 0th dimension to get the correct head.\n",
        "</details>\n",
        "\n",
        "<details>\n",
        "<summary>Expected output (yours might vary slightly depending on method)</summary>\n",
        "\n",
        "<pre style=\"white-space:pre;overflow-x:auto;line-height:normal;font-family:Menlo,'DejaVu Sans Mono',consolas,'Courier New',monospace\">Heads attending to current token  =  0.9\n",
        "Heads attending to previous token =  0.7\n",
        "Heads attending to first token    =  0.3, 1.4, 1.10\n",
        "</pre>\n",
        "\n",
        "</details>\n",
        "\n",
        "<details>\n",
        "<summary>Solution (one possible method)</summary>\n",
        "\n",
        "Note - choosing `score=0.4` as a threshold in the code below is a bit arbitrary, but it seems to work well enough. In this particular case, a threshold of `0.5` results in no head being classified as a current-token head.\n",
        "\n",
        "```python\n",
        "def current_attn_detector(cache: ActivationCache) -> list[str]:\n",
        "    \"\"\"\n",
        "    Returns a list e.g. [\"0.2\", \"1.4\", \"1.9\"] of \"layer.head\" which you judge to be current-token heads\n",
        "    \"\"\"\n",
        "    attn_heads = []\n",
        "    for layer in range(model.cfg.n_layers):\n",
        "        for head in range(model.cfg.n_heads):\n",
        "            attention_pattern = cache[\"pattern\", layer][head]\n",
        "            # take avg of diagonal elements\n",
        "            score = attention_pattern.diagonal().mean()\n",
        "            if score > 0.4:\n",
        "                attn_heads.append(f\"{layer}.{head}\")\n",
        "    return attn_heads\n",
        "\n",
        "\n",
        "def prev_attn_detector(cache: ActivationCache) -> list[str]:\n",
        "    \"\"\"\n",
        "    Returns a list e.g. [\"0.2\", \"1.4\", \"1.9\"] of \"layer.head\" which you judge to be prev-token heads\n",
        "    \"\"\"\n",
        "    attn_heads = []\n",
        "    for layer in range(model.cfg.n_layers):\n",
        "        for head in range(model.cfg.n_heads):\n",
        "            attention_pattern = cache[\"pattern\", layer][head]\n",
        "            # take avg of sub-diagonal elements\n",
        "            score = attention_pattern.diagonal(-1).mean()\n",
        "            if score > 0.4:\n",
        "                attn_heads.append(f\"{layer}.{head}\")\n",
        "    return attn_heads\n",
        "\n",
        "\n",
        "def first_attn_detector(cache: ActivationCache) -> list[str]:\n",
        "    \"\"\"\n",
        "    Returns a list e.g. [\"0.2\", \"1.4\", \"1.9\"] of \"layer.head\" which you judge to be first-token heads\n",
        "    \"\"\"\n",
        "    attn_heads = []\n",
        "    for layer in range(model.cfg.n_layers):\n",
        "        for head in range(model.cfg.n_heads):\n",
        "            attention_pattern = cache[\"pattern\", layer][head]\n",
        "            # take avg of 0th elements\n",
        "            score = attention_pattern[:, 0].mean()\n",
        "            if score > 0.4:\n",
        "                attn_heads.append(f\"{layer}.{head}\")\n",
        "    return attn_heads\n",
        "```\n",
        "\n",
        "</details>"
      ]
    },
    {
      "cell_type": "markdown",
      "metadata": {
        "id": "X3fKgjc_Rp6u"
      },
      "source": [
        "Compare the printouts to your attention visualisations above. Do they seem to make sense? As a bonus exercise, try inputting different text, and see how stable your results are. Do certain heads always get classified the same way?"
      ]
    },
    {
      "cell_type": "markdown",
      "metadata": {
        "id": "0mlnk4unRp6u"
      },
      "source": [
        "Now, it's time to turn our attention to induction heads.\n",
        "\n",
        "## What are induction heads?\n",
        "\n",
        "(Note: I use induction **head** to refer to the head in the second layer which attends to the 'token immediately after the copy of the current token', and induction **circuit** to refer to the circuit consisting of the composition of a **previous token head** in layer 0 and an **induction head** in layer 1)\n",
        "\n",
        "[Induction heads](https://transformer-circuits.pub/2021/framework/index.html#induction-heads) are the first sophisticated circuit we see in transformers! And are sufficiently interesting that we wrote [another paper just about them](https://transformer-circuits.pub/2022/in-context-learning-and-induction-heads/index.html).\n",
        "\n",
        "<details>\n",
        "<summary>An aside on why induction heads are a big deal</summary>\n",
        "\n",
        "There's a few particularly striking things about induction heads:\n",
        "\n",
        "* They develop fairly suddenly in a phase change - from about 2B to 4B tokens we go from no induction heads to pretty well developed ones. This is a striking divergence from a 1L model [see the comparison of in context learning performance curves curves for models with different layers](https://transformer-circuits.pub/2022/in-context-learning-and-induction-heads/index.html#:~:text=Our%20first%20observation) and can be observed in much larger models (eg a 13B one)\n",
        "    * Phase changes are particularly interesting (and depressing) from an alignment perspective, because the prospect of a sharp left turn, or emergent capabilities like deception or situational awareness seems like worlds where alignment may be harder, and we get caught by surprise without warning shots or simpler but analogous models to test our techniques on.\n",
        "* They are responsible for a significant loss decrease - so much so that there's a visible bump in the loss curve when they develop (this change in loss can be pretty comparable to the increase in loss from major increases in model size, though this is hard to make an apples-to-apples comparison)\n",
        "* They seem to be responsible for the vast majority of in-context learning - the ability to use far back tokens in the context to predict the next token. This is a significant way in which transformers outperform older architectures like RNNs or LSTMs, and induction heads seem to be a big part of this.\n",
        "* The same core circuit seems to be used in a bunch of more sophisticated settings, such as translation or few-shot learning - there are heads that seem clearly responsible for those *and* which double as induction heads.\n",
        "\n",
        "</details>\n",
        "\n",
        "Again, you are strongly recommended to read the [corresponding section of the glossary](https://dynalist.io/d/n2ZWtnoYHrU1s4vnFSAQ519J#z=_Jzi6YHRHKP1JziwdE02qdYZ), before continuing (or [this LessWrong post](https://www.lesswrong.com/posts/TvrfY4c9eaGLeyDkE/induction-heads-illustrated)). In brief, however, the induction circuit consists of a previous token head in layer 0 and an induction head in layer 1, where the induction head learns to attend to the token immediately *after* copies of the current token via K-Composition with the previous token head.\n",
        "\n",
        "##### Question - why couldn't an induction head form in a 1L model?\n",
        "\n",
        "<details>\n",
        "<summary>Answer</summary>\n",
        "\n",
        "Because this would require a head which attends a key position based on the *value of the token before it*. Attention scores are just a function of the key token and the query token, and are not a function of other tokens.\n",
        "\n",
        "(The attention pattern *does* in fact include effects from other tokens because of softmax - if another key token has a high attention score, softmax inhibits this pair. But this inhibition is symmetric across positions, so can't systematically favour the token *next* to the relevant one.)\n",
        "\n",
        "Note that a key detail is that the value of adjacent tokens are (approximately) unrelated - if the model wanted to attend based on relative *position* this is easy.\n",
        "</details>"
      ]
    },
    {
      "cell_type": "markdown",
      "metadata": {
        "id": "oksRnY6YRp6u"
      },
      "source": [
        "## Checking for the induction capability\n",
        "\n",
        "A striking thing about models with induction heads is that, given a repeated sequence of random tokens, they can predict the repeated half of the sequence. This is nothing like it's training data, so this is kind of wild! The ability to predict this kind of out of distribution generalisation is a strong point of evidence that you've really understood a circuit.\n",
        "\n",
        "To check that this model has induction heads, we're going to run it on exactly that, and compare performance on the two halves - you should see a striking difference in the per token losses.\n",
        "\n",
        "Note - we're using small sequences (and just one sequence), since the results are very obvious and this makes it easier to visualise. In practice we'd obviously use larger ones on more subtle tasks. But it's often easiest to iterate and debug on small tasks."
      ]
    },
    {
      "cell_type": "markdown",
      "metadata": {
        "id": "IcfXsBNjRp6u"
      },
      "source": [
        "### Exercise - plot per-token loss on repeated sequence\n",
        "\n",
        "> ```yaml\n",
        "> Difficulty: 🔴🔴⚪⚪⚪\n",
        "> Importance: 🔵🔵⚪⚪⚪\n",
        ">\n",
        "> You shouldn't spend more than 10-15 minutes on these exercises.\n",
        "> ```\n",
        "\n",
        "You should fill in the functions below. We've given you the first line of the first function, which defines a prefix (remember we need the BOS token for GPT-2, since it was trained to have one). We've also given you the `get_log_probs` function from the previous set of exercises."
      ]
    },
    {
      "cell_type": "code",
      "execution_count": null,
      "metadata": {
        "id": "m6cFqvg7Rp6u"
      },
      "outputs": [],
      "source": [
        "def generate_repeated_tokens(\n",
        "    model: HookedTransformer, seq_len: int, batch_size: int = 1\n",
        ") -> Int[Tensor, \"batch_size full_seq_len\"]:\n",
        "    \"\"\"\n",
        "    Generates a sequence of repeated random tokens\n",
        "\n",
        "    Outputs are:\n",
        "        rep_tokens: [batch_size, 1+2*seq_len]\n",
        "    \"\"\"\n",
        "    prefix = (t.ones(batch_size, 1) * model.tokenizer.bos_token_id).long()\n",
        "\n",
        "\n",
        "def run_and_cache_model_repeated_tokens(\n",
        "    model: HookedTransformer, seq_len: int, batch_size: int = 1\n",
        ") -> tuple[Tensor, Tensor, ActivationCache]:\n",
        "    \"\"\"\n",
        "    Generates a sequence of repeated random tokens, and runs the model on it, returning (tokens, logits, cache). This\n",
        "    function should use the `generate_repeated_tokens` function above\n",
        "\n",
        "    Outputs are:\n",
        "        rep_tokens: [batch_size, 1+2*seq_len]\n",
        "        rep_logits: [batch_size, 1+2*seq_len, d_vocab]\n",
        "        rep_cache: The cache of the model run on rep_tokens\n",
        "    \"\"\"\n",
        "    raise NotImplementedError()\n",
        "\n",
        "\n",
        "def get_log_probs(\n",
        "    logits: Float[Tensor, \"batch posn d_vocab\"], tokens: Int[Tensor, \"batch posn\"]\n",
        ") -> Float[Tensor, \"batch posn-1\"]:\n",
        "    logprobs = logits.log_softmax(dim=-1)\n",
        "    # We want to get logprobs[b, s, tokens[b, s+1]], in eindex syntax this looks like:\n",
        "    correct_logprobs = eindex(logprobs, tokens, \"b s [b s+1]\")\n",
        "    return correct_logprobs\n",
        "\n",
        "\n",
        "seq_len = 50\n",
        "batch_size = 1\n",
        "(rep_tokens, rep_logits, rep_cache) = run_and_cache_model_repeated_tokens(model, seq_len, batch_size)\n",
        "rep_cache.remove_batch_dim()\n",
        "rep_str = model.to_str_tokens(rep_tokens)\n",
        "model.reset_hooks()\n",
        "log_probs = get_log_probs(rep_logits, rep_tokens).squeeze()\n",
        "\n",
        "print(f\"Performance on the first half: {log_probs[:seq_len].mean():.3f}\")\n",
        "print(f\"Performance on the second half: {log_probs[seq_len:].mean():.3f}\")\n",
        "\n",
        "plot_loss_difference(log_probs, rep_str, seq_len)"
      ]
    },
    {
      "cell_type": "markdown",
      "metadata": {
        "id": "YVmEvCyXRp6u"
      },
      "source": [
        "<details>\n",
        "<summary>Hint</summary>\n",
        "\n",
        "You can define the first half of the repeated tokens using `t.randint(low, high, shape)`. Also remember to specify `dtype=t.long`.\n",
        "\n",
        "Then you can concatenate together your prefix and two copies of the repeated tokens, using `t.concat`.\n",
        "</details>\n",
        "\n",
        "\n",
        "<details><summary>Solution</summary>\n",
        "\n",
        "```python\n",
        "def generate_repeated_tokens(\n",
        "    model: HookedTransformer, seq_len: int, batch_size: int = 1\n",
        ") -> Int[Tensor, \"batch_size full_seq_len\"]:\n",
        "    \"\"\"\n",
        "    Generates a sequence of repeated random tokens\n",
        "\n",
        "    Outputs are:\n",
        "        rep_tokens: [batch_size, 1+2*seq_len]\n",
        "    \"\"\"\n",
        "    prefix = (t.ones(batch_size, 1) * model.tokenizer.bos_token_id).long()\n",
        "    rep_tokens_half = t.randint(0, model.cfg.d_vocab, (batch_size, seq_len), dtype=t.int64)\n",
        "    rep_tokens = t.cat([prefix, rep_tokens_half, rep_tokens_half], dim=-1).to(device)\n",
        "    return rep_tokens\n",
        "\n",
        "\n",
        "def run_and_cache_model_repeated_tokens(\n",
        "    model: HookedTransformer, seq_len: int, batch_size: int = 1\n",
        ") -> tuple[Tensor, Tensor, ActivationCache]:\n",
        "    \"\"\"\n",
        "    Generates a sequence of repeated random tokens, and runs the model on it, returning (tokens, logits, cache). This\n",
        "    function should use the `generate_repeated_tokens` function above\n",
        "\n",
        "    Outputs are:\n",
        "        rep_tokens: [batch_size, 1+2*seq_len]\n",
        "        rep_logits: [batch_size, 1+2*seq_len, d_vocab]\n",
        "        rep_cache: The cache of the model run on rep_tokens\n",
        "    \"\"\"\n",
        "    rep_tokens = generate_repeated_tokens(model, seq_len, batch_size)\n",
        "    rep_logits, rep_cache = model.run_with_cache(rep_tokens)\n",
        "    return rep_tokens, rep_logits, rep_cache\n",
        "```\n",
        "</details>"
      ]
    },
    {
      "cell_type": "markdown",
      "metadata": {
        "id": "42crMEfzRp6v"
      },
      "source": [
        "### Looking for Induction Attention Patterns\n",
        "\n",
        "The next natural thing to check for is the induction attention pattern.\n",
        "\n",
        "First, go back to the attention patterns visualisation code from earlier (i.e. `cv.attention.attention_heads` or `attention_patterns`) and manually check for likely heads in the second layer. Which ones do you think might be serving as induction heads?\n",
        "\n",
        "Note - above, we defined the `rep_str` object for you, so you can use it in your `circuitsvis` functions."
      ]
    },
    {
      "cell_type": "code",
      "execution_count": null,
      "metadata": {
        "id": "nlwamHETRp6v"
      },
      "outputs": [],
      "source": [
        "# YOUR CODE HERE - display the attention patterns stored in `rep_cache`, for each layer\n",
        "for layer in range(model.cfg.n_layers):\n",
        "    attention_pattern = rep_cache[\"pattern\", layer]\n",
        "    display(cv.attention.attention_patterns(tokens=rep_str, attention=attention_pattern))"
      ]
    },
    {
      "cell_type": "markdown",
      "metadata": {
        "id": "oUVWmkJPRp6v"
      },
      "source": [
        "<details>\n",
        "<summary>Some observations</summary>\n",
        "\n",
        "The characteristic pattern of attention heads is a diagonal stripe, with the diagonal offset as `seq_len-1` (because the destination token attends to the token *after* the destimation token's previous occurrence).\n",
        "\n",
        "You should see that heads 4 and 10 are strongly induction-y, head 6 is very weakly induction-y, and the rest aren't.\n",
        "\n",
        "</details>"
      ]
    },
    {
      "cell_type": "markdown",
      "metadata": {
        "id": "cGY-t2XyRp6v"
      },
      "source": [
        "### Exercise - make an induction-head detector\n",
        "\n",
        "> ```yaml\n",
        "> Difficulty: 🔴🔴⚪⚪⚪\n",
        "> Importance: 🔵🔵⚪⚪⚪\n",
        ">\n",
        "> You shouldn't spend more than 5-15 minutes on this exercise.\n",
        "> This exercise should be very similar to the earlier detector exercises (the only difference being how you index attention).\n",
        "> ```"
      ]
    },
    {
      "cell_type": "markdown",
      "metadata": {
        "id": "dzEkXW1tRp6v"
      },
      "source": [
        "Now, you should make an induction pattern score function, which looks for the average attention paid to the offset diagonal. Do this in the same style as our earlier head scorers, just with a different kind of indexing that is appropriate for detecting the characteristic attention head pattern."
      ]
    },
    {
      "cell_type": "code",
      "execution_count": null,
      "metadata": {
        "id": "T4SOOVZ3Rp6v"
      },
      "outputs": [],
      "source": [
        "def induction_attn_detector(cache: ActivationCache) -> list[str]:\n",
        "    \"\"\"\n",
        "    Returns a list e.g. [\"0.2\", \"1.4\", \"1.9\"] of \"layer.head\" which you judge to be induction heads\n",
        "\n",
        "    Remember - the tokens used to generate rep_cache are (bos_token, *rand_tokens, *rand_tokens)\n",
        "    \"\"\"\n",
        "    raise NotImplementedError()\n",
        "\n",
        "\n",
        "print(\"Induction heads = \", \", \".join(induction_attn_detector(rep_cache)))"
      ]
    },
    {
      "cell_type": "markdown",
      "metadata": {
        "id": "hPippgvhRp6v"
      },
      "source": [
        "<details>\n",
        "<summary>Help - I'm not sure what offset to use.</summary>\n",
        "\n",
        "The offset in your diagonal should be `-(seq_len-1)` (where `seq_len` is the length of the random tokens which you repeat twice), because the second instance of random token `T` will attend to the token **after** the first instance of `T`.\n",
        "</details>\n",
        "\n",
        "\n",
        "<details><summary>Solution</summary>\n",
        "\n",
        "```python\n",
        "def induction_attn_detector(cache: ActivationCache) -> list[str]:\n",
        "    \"\"\"\n",
        "    Returns a list e.g. [\"0.2\", \"1.4\", \"1.9\"] of \"layer.head\" which you judge to be induction heads\n",
        "\n",
        "    Remember - the tokens used to generate rep_cache are (bos_token, *rand_tokens, *rand_tokens)\n",
        "    \"\"\"\n",
        "    attn_heads = []\n",
        "    for layer in range(model.cfg.n_layers):\n",
        "        for head in range(model.cfg.n_heads):\n",
        "            attention_pattern = cache[\"pattern\", layer][head]\n",
        "            # take avg of (-seq_len+1)-offset elements\n",
        "            seq_len = (attention_pattern.shape[-1] - 1) // 2\n",
        "            score = attention_pattern.diagonal(-seq_len + 1).mean()\n",
        "            if score > 0.4:\n",
        "                attn_heads.append(f\"{layer}.{head}\")\n",
        "    return attn_heads\n",
        "```\n",
        "</details>"
      ]
    },
    {
      "cell_type": "markdown",
      "metadata": {
        "id": "nE3RYlMlRp6v"
      },
      "source": [
        "If this function works as expected, then you should see output that matches your observations from `circuitsvis` (i.e. the heads which you observed to be induction heads are being classified as induction heads by your function here)."
      ]
    },
    {
      "cell_type": "markdown",
      "metadata": {
        "id": "OacQ4jORRp6v"
      },
      "source": [
        "# 3️⃣ TransformerLens: Hooks\n",
        "\n",
        "> ##### Learning Objectives\n",
        ">\n",
        "> - Understand what hooks are, and how they are used in TransformerLens\n",
        "> - Use hooks to access activations, process the results, and write them to an external tensor\n",
        "> - Build tools to perform attribution, i.e. detecting which components of your model are responsible for performance on a given task\n",
        "> - Understand how hooks can be used to perform basic interventions like **ablation**"
      ]
    },
    {
      "cell_type": "markdown",
      "metadata": {
        "id": "5s2MBiaiRp6v"
      },
      "source": [
        "## What are hooks?\n",
        "\n",
        "One of the great things about interpreting neural networks is that we have *full control* over our system. From a computational perspective, we know exactly what operations are going on inside (even if we don't know what they mean!). And we can make precise, surgical edits and see how the model's behaviour and other internals change. This is an extremely powerful tool, because it can let us e.g. set up careful counterfactuals and causal intervention to easily understand model behaviour.\n",
        "\n",
        "Accordingly, being able to do this is a pretty core operation, and this is one of the main things TransformerLens supports! The key feature here is **hook points**. Every activation inside the transformer is surrounded by a hook point, which allows us to edit or intervene on it.\n",
        "\n",
        "We do this by adding a **hook function** to that activation, and then calling `model.run_with_hooks`.\n",
        "\n",
        "*(Terminology note - because basically all the activations in our model have an associated hook point, we'll sometimes use the terms \"hook\" and \"activation\" interchangeably.)*"
      ]
    },
    {
      "cell_type": "markdown",
      "metadata": {
        "id": "rM0JJnBTRp6v"
      },
      "source": [
        "### Hook functions\n",
        "\n",
        "Hook functions take two arguments: `activation_value` and `hook_point`. The `activation_value` is a tensor representing some activation in the model, just like the values in our `ActivationCache`. The `hook_point` is an object which gives us methods like `hook.layer()` or attributes like `hook.name` that are sometimes useful to call within the function.\n",
        "\n",
        "If we're using hooks to edit activations, then the hook function should return a tensor of the same shape as the activation value. But we can also just have our hook function access the activation, do some processing, and write the results to some external variable (in which case our hook function should just not return anything).\n",
        "\n",
        "An example hook function for changing the attention patterns at a particular layer might look like:"
      ]
    },
    {
      "cell_type": "markdown",
      "metadata": {
        "id": "oBp8YgpQRp6v"
      },
      "source": [
        "```python\n",
        "def hook_function(\n",
        "    attn_pattern: Float[Tensor, \"batch heads seq_len seq_len\"],\n",
        "    hook: HookPoint\n",
        ") -> TT[\"batch\", \"heads\", \"seq_len\", \"seq_len\"]:\n",
        "\n",
        "    # modify attn_pattern (can be inplace)\n",
        "    return attn_pattern\n",
        "```"
      ]
    },
    {
      "cell_type": "markdown",
      "metadata": {
        "id": "sxhUYBu8Rp6v"
      },
      "source": [
        "### Running with hooks\n",
        "\n",
        "Once you've defined a hook function (or functions), you should call `model.run_with_hooks`. A typical call to this function might look like:"
      ]
    },
    {
      "cell_type": "markdown",
      "metadata": {
        "id": "z-LS09pxRp6w"
      },
      "source": [
        "```python\n",
        "loss = model.run_with_hooks(\n",
        "    tokens,\n",
        "    return_type=\"loss\",\n",
        "    fwd_hooks=[\n",
        "        ('blocks.1.attn.hook_pattern', hook_function)\n",
        "    ]\n",
        ")\n",
        "```"
      ]
    },
    {
      "cell_type": "markdown",
      "metadata": {
        "id": "R7DXbwtdRp6w"
      },
      "source": [
        "Let's break this code down.\n",
        "\n",
        "* `tokens` represents our model's input.\n",
        "* `return_type=\"loss\"` is used here because we're modifying our activations and seeing how this affects the loss.\n",
        "    * We could also return the logits, or just use `return_type=None` if we only want to access the intermediate activations and we don't care about the output.\n",
        "* `fwd_hooks` is a list of 2-tuples of (hook name, hook function).\n",
        "    * The hook name is a string that specifies which activation we want to hook.\n",
        "    * The hook function gets run with the corresponding activation as its first argument.\n",
        "\n",
        "### A bit more about hooks\n",
        "\n",
        "Here are a few extra notes for how to squeeze even more functionality out of hooks. If you'd prefer, you can [jump ahead](#hooks-accessing-activations) to see an actual example of hooks being used, and come back to this section later.\n",
        "\n",
        "<details>\n",
        "<summary>Resetting hooks</summary>\n",
        "\n",
        "`model.run_with_hooks` has the default parameter `reset_hooks_end=True` which resets all hooks at the end of the run (including both those that were added before and during the run). Despite this, it's possible to shoot yourself in the foot with hooks, e.g. if there's an error in one of your hooks so the function never finishes. In this case, you can use `model.reset_hooks()` to reset all hooks.\n",
        "\n",
        "If you don't want to reset hooks (i.e. you want to keep them between forward passes), you can either set `reset_hooks_end=False` in the `run_with_hooks` function, or just add the hooks directly using the `add_hook` method before your forward passes (this way they won't reset automatically).\n",
        "\n",
        "</details>\n",
        "<details>\n",
        "<summary>Adding multiple hooks at once</summary>\n",
        "\n",
        "Including more than one tuple in the `fwd_hooks` list is one way to add multiple hooks:\n",
        "\n",
        "```python\n",
        "loss = model.run_with_hooks(\n",
        "    tokens,\n",
        "    return_type=\"loss\",\n",
        "    fwd_hooks=[\n",
        "        ('blocks.0.attn.hook_pattern', hook_function),\n",
        "        ('blocks.1.attn.hook_pattern', hook_function)\n",
        "    ]\n",
        ")\n",
        "```\n",
        "\n",
        "Another way is to use a **name filter** rather than a single name:\n",
        "\n",
        "```python\n",
        "loss = model.run_with_hooks(\n",
        "    tokens,\n",
        "    return_type=\"loss\",\n",
        "    fwd_hooks=[\n",
        "        (lambda name: name.endswith(\"pattern\"), hook_function)\n",
        "    ]\n",
        ")\n",
        "```\n",
        "</details>\n",
        "<details>\n",
        "<summary><code>utils.get_act_name</code></summary>\n",
        "\n",
        "When we were indexing the cache in the previous section, we found we could use strings like `cache['blocks.0.attn.hook_pattern']`, or use the shorthand of `cache['pattern', 0]`. The reason the second one works is that it calls the function `utils.get_act_name` under the hood, i.e. we have:\n",
        "\n",
        "```python\n",
        "utils.get_act_name('pattern', 0) == 'blocks.0.attn.hook_pattern'\n",
        "```\n",
        "\n",
        "Using `utils.get_act_name` in your forward hooks is often easier than using the full string, since the only thing you need to remember is the activation name (you can refer back to the diagram in the previous section for this).\n",
        "</details>\n",
        "<details>\n",
        "<summary>Using <code>functools.partial</code> to create variations on hooks</summary>\n",
        "\n",
        "A useful trick is to define a hook function with more arguments than it needs, and then use `functools.partial` to fill in the extra arguments. For instance, if you want a hook function which only modifies a particular head, but you want to run it on all heads separately (rather than just adding all the hooks and having them all run on the next forward pass), then you can do something like:\n",
        "\n",
        "```python\n",
        "def hook_all_attention_patterns(\n",
        "    attn_pattern: TT[\"batch\", \"heads\", \"seq_len\", \"seq_len\"],\n",
        "    hook: HookPoint,\n",
        "    head_idx: int\n",
        ") -> TT[\"batch\", \"heads\", \"seq_len\", \"seq_len\"]:\n",
        "    # modify attn_pattern inplace, at head_idx\n",
        "    return attn_pattern\n",
        "\n",
        "for head_idx in range(12):\n",
        "    temp_hook_fn = functools.partial(hook_all_attention_patterns, head_idx=head_idx)\n",
        "    model.run_with_hooks(tokens, fwd_hooks=[('blocks.1.attn.hook_pattern', temp_hook_fn)])\n",
        "```\n",
        "</details>\n",
        "\n",
        "And here are some points of interest, which aren't vital to understand:\n",
        "\n",
        "<details>\n",
        "<summary>Relationship to PyTorch hooks</summary>\n",
        "\n",
        "[PyTorch hooks](https://blog.paperspace.com/pytorch-hooks-gradient-clipping-debugging/) are a great and underrated, yet incredibly janky, feature. They can act on a layer, and edit the input or output of that layer, or the gradient when applying autodiff. The key difference is that **Hook points** act on *activations* not layers. This means that you can intervene within a layer on each activation, and don't need to care about the precise layer structure of the transformer. And it's immediately clear exactly how the hook's effect is applied. This adjustment was shamelessly inspired by [Garcon's use of ProbePoints](https://transformer-circuits.pub/2021/garcon/index.html).\n",
        "\n",
        "They also come with a range of other quality of life improvements. PyTorch's hooks are global state, which can be a massive pain if you accidentally leave a hook on a model. TransformerLens hooks are also global state, but `run_with_hooks` tries to create an abstraction where these are local state by removing all hooks at the end of the function (and they come with a helpful `model.reset_hooks()` method to remove all hooks).\n",
        "</details>\n",
        "\n",
        "<details>\n",
        "<summary>How are TransformerLens hooks actually implemented?</summary>\n",
        "\n",
        "They are implemented as modules with the identity function as their forward method:\n",
        "\n",
        "```python\n",
        "class HookPoint(nn.Module):\n",
        "    ...\n",
        "    def forward(self, x):\n",
        "        return x\n",
        "```\n",
        "\n",
        "but also with special features for adding and removing hook functions. This is why you see hooks when you print a HookedTransformer model, because all its modules are recursively printed.\n",
        "\n",
        "When you run the model normally, hook modules won't change the model's behaviour (since applying the identity function does nothing). It's only once you add functions to the hook modules (e.g. a function which ablates any inputs into the hook module) that the model's behaviour changes.\n",
        "\n",
        "</details>"
      ]
    },
    {
      "cell_type": "markdown",
      "metadata": {
        "id": "ZbORWTcRRp6w"
      },
      "source": [
        "## Hooks: Accessing Activations\n",
        "\n",
        "In later sections, we'll write some code to intervene on hooks, which is really the core feature that makes them so useful for interpretability. But for now, let's just look at how to access them without changing their value. This can be achieved by having the hook function write to a global variable, and return nothing (rather than modifying the activation in place).\n",
        "\n",
        "Why might we want to do this? It turns out to be useful for things like:\n",
        "\n",
        "* Extracting activations for a specific task\n",
        "* Doing some long-running calculation across many inputs, e.g. finding the text that most activates a specific neuron\n",
        "\n",
        "Note that, in theory, this could all be done using the `run_with_cache` function we used in the previous section, combined with post-processing of the cache result. But using hooks can be more intuitive and memory efficient."
      ]
    },
    {
      "cell_type": "markdown",
      "metadata": {
        "id": "SDS2ZAFeRp6w"
      },
      "source": [
        "### Exercise - calculate induction scores with hooks\n",
        "\n",
        "> ```yaml\n",
        "> Difficulty: 🔴🔴🔴⚪⚪\n",
        "> Importance: 🔵🔵🔵🔵⚪\n",
        ">\n",
        "> You shouldn't spend more than 15-20 minutes on this exercise.\n",
        "> This is our first exercise with hooks, which are an absolutely vital TransformerLens tool. Use the hints if you're stuck.\n",
        "> ```\n",
        "\n",
        "To start with, we'll look at how hooks can be used to get the same results as from the previous section (where we ran our induction head detector functions on the values in the cache).\n",
        "\n",
        "Most of the code has already been provided for you below; the only thing you need to do is **implement the `induction_score_hook` function**. As mentioned, this function takes two arguments: the activation value (which in this case will be our attention pattern) and the hook object (which gives us some useful methods and attributes that we can access in the function, e.g. `hook.layer()` to return the layer, or `hook.name` to return the name, which is the same as the name in the cache).\n",
        "\n",
        "Your function should do the following:\n",
        "\n",
        "* Calculate the induction score for the attention pattern `pattern`, using the same methodology as you used in the previous section when you wrote your induction head detectors.\n",
        "    * Note that this time, the batch dimension is greater than 1, so you should compute the average attention score over the batch dimension.\n",
        "    * Also note that you are computing the induction score for all heads at once, rather than one at a time. You might find the arguments `dim1` and `dim2` of the `torch.diagonal` function useful.\n",
        "* Write this score to the tensor `induction_score_store`, which is a global variable that we've provided for you. The `[i, j]`th element of this tensor should be the induction score for the `j`th head in the `i`th layer."
      ]
    },
    {
      "cell_type": "code",
      "execution_count": null,
      "metadata": {
        "id": "-9IH6LFYRp6w"
      },
      "outputs": [],
      "source": [
        "seq_len = 50\n",
        "batch_size = 10\n",
        "rep_tokens_10 = generate_repeated_tokens(model, seq_len, batch_size)\n",
        "\n",
        "# We make a tensor to store the induction score for each head.\n",
        "# We put it on the model's device to avoid needing to move things between the GPU and CPU, which can be slow.\n",
        "induction_score_store = t.zeros((model.cfg.n_layers, model.cfg.n_heads), device=model.cfg.device)\n",
        "\n",
        "\n",
        "def induction_score_hook(pattern: Float[Tensor, \"batch head_index dest_pos source_pos\"], hook: HookPoint):\n",
        "    \"\"\"\n",
        "    Calculates the induction score, and stores it in the [layer, head] position of the `induction_score_store` tensor.\n",
        "    \"\"\"\n",
        "    raise NotImplementedError()\n",
        "\n",
        "\n",
        "# We make a boolean filter on activation names, that's true only on attention pattern names\n",
        "pattern_hook_names_filter = lambda name: name.endswith(\"pattern\")\n",
        "\n",
        "# Run with hooks (this is where we write to the `induction_score_store` tensor`)\n",
        "model.run_with_hooks(\n",
        "    rep_tokens_10,\n",
        "    return_type=None,  # For efficiency, we don't need to calculate the logits\n",
        "    fwd_hooks=[(pattern_hook_names_filter, induction_score_hook)],\n",
        ")\n",
        "\n",
        "# Plot the induction scores for each head in each layer\n",
        "imshow(\n",
        "    induction_score_store,\n",
        "    labels={\"x\": \"Head\", \"y\": \"Layer\"},\n",
        "    title=\"Induction Score by Head\",\n",
        "    text_auto=\".2f\",\n",
        "    width=900,\n",
        "    height=350,\n",
        ")"
      ]
    },
    {
      "cell_type": "markdown",
      "metadata": {
        "id": "RQGBx977Rp6x"
      },
      "source": [
        "<details>\n",
        "<summary>Help - I'm not sure how to implement this function.</summary>\n",
        "\n",
        "To get the induction stripe, you can use:\n",
        "\n",
        "```python\n",
        "torch.diagonal(pattern, dim1=-2, dim2=-1, offset=1-seq_len)\n",
        "```\n",
        "\n",
        "since this returns the diagonal of each attention scores matrix, for every element in the batch and every attention head.\n",
        "\n",
        "Once you have this, you can then take the mean over the batch and diagonal dimensions, giving you a tensor of length `n_heads`. You can then write this to the global `induction_score_store` tensor, using the `hook.layer()` method to get the correct row number.\n",
        "</details>\n",
        "\n",
        "<details>\n",
        "<summary>Solution</summary>\n",
        "\n",
        "```python\n",
        "def induction_score_hook(pattern: Float[Tensor, \"batch head_index dest_pos source_pos\"], hook: HookPoint):\n",
        "    \"\"\"\n",
        "    Calculates the induction score, and stores it in the [layer, head] position of the `induction_score_store` tensor.\n",
        "    \"\"\"\n",
        "    # Take the diagonal of attn paid from each dest posn to src posns (seq_len-1) tokens back\n",
        "    # (This only has entries for tokens with index>=seq_len)\n",
        "    induction_stripe = pattern.diagonal(dim1=-2, dim2=-1, offset=1 - seq_len)\n",
        "    # Get an average score per head\n",
        "    induction_score = einops.reduce(induction_stripe, \"batch head_index position -> head_index\", \"mean\")\n",
        "    # Store the result.\n",
        "    induction_score_store[hook.layer(), :] = induction_score\n",
        "```\n",
        "\n",
        "</details>"
      ]
    },
    {
      "cell_type": "markdown",
      "metadata": {
        "id": "WIH6CHG4Rp6x"
      },
      "source": [
        "If this function has been implemented correctly, you should see a result matching your observations from the previous section: a high induction score (>0.6) for all the heads which you identified as induction heads, and a low score (close to 0) for all others."
      ]
    },
    {
      "cell_type": "markdown",
      "metadata": {
        "id": "lteSV7mYRp6x"
      },
      "source": [
        "### Exercise - find induction heads in GPT2-small\n",
        "\n",
        "> ```yaml\n",
        "> Difficulty: 🔴🔴🔴⚪⚪\n",
        "> Importance: 🔵🔵🔵🔵⚪\n",
        ">\n",
        "> You shouldn't spend more than 10-20 minutes on this exercise.\n",
        "> Here, you mostly just need to use previously defined functions and interpret the results, rather than writing new code.\n",
        "> ```\n",
        "\n",
        "*This is your first opportunity to investigate a larger and more extensively trained model, rather than the simple 2-layer model we've been using so far. None of the code required is new (you can copy most of it from previous sections), so these exercises shouldn't take very long.*"
      ]
    },
    {
      "cell_type": "markdown",
      "metadata": {
        "id": "DGQwBS2uRp6x"
      },
      "source": [
        "Perform the same analysis on your `gpt2_small`. You should observe that some heads, particularly in a couple of the middle layers, have high induction scores. Use CircuitsVis to plot the attention patterns for these heads when run on the repeated token sequences, and verify that they look like induction heads.\n",
        "\n",
        "Note - you can make CircuitsVis plots (and other visualisations) using hooks rather than plotting directly from the cache. For example, we've given you a hook function which will display the attention patterns at a given hook when you include it in a call to `model.run_with_hooks`."
      ]
    },
    {
      "cell_type": "code",
      "execution_count": null,
      "metadata": {
        "id": "IT6UlVDQRp6x"
      },
      "outputs": [],
      "source": [
        "def visualize_pattern_hook(\n",
        "    pattern: Float[Tensor, \"batch head_index dest_pos source_pos\"],\n",
        "    hook: HookPoint,\n",
        "):\n",
        "    print(\"Layer: \", hook.layer())\n",
        "    display(cv.attention.attention_patterns(tokens=gpt2_small.to_str_tokens(rep_tokens[0]), attention=pattern.mean(0)))\n",
        "\n",
        "\n",
        "# YOUR CODE HERE - find induction heads in gpt2_small"
      ]
    },
    {
      "cell_type": "markdown",
      "metadata": {
        "id": "e9_pyO-dRp6x"
      },
      "source": [
        "<details><summary>Solution</summary>\n",
        "\n",
        "```python\n",
        "seq_len = 50\n",
        "batch_size = 10\n",
        "rep_tokens_batch = generate_repeated_tokens(gpt2_small, seq_len, batch_size)\n",
        "\n",
        "induction_score_store = t.zeros((gpt2_small.cfg.n_layers, gpt2_small.cfg.n_heads), device=gpt2_small.cfg.device)\n",
        "\n",
        "gpt2_small.run_with_hooks(\n",
        "    rep_tokens_batch,\n",
        "    return_type=None,  # For efficiency, we don't need to calculate the logits\n",
        "    fwd_hooks=[(pattern_hook_names_filter, induction_score_hook)],\n",
        ")\n",
        "\n",
        "imshow(\n",
        "    induction_score_store,\n",
        "    labels={\"x\": \"Head\", \"y\": \"Layer\"},\n",
        "    title=\"Induction Score by Head\",\n",
        "    text_auto=\".1f\",\n",
        "    width=700,\n",
        "    height=500,\n",
        ")\n",
        "\n",
        "# Observation: heads 5.1, 5.5, 6.9, 7.2, 7.10 are all strongly induction-y.\n",
        "# Confirm observation by visualizing attn patterns for layers 5 through 7:\n",
        "\n",
        "induction_head_layers = [5, 6, 7]\n",
        "fwd_hooks = [\n",
        "    (utils.get_act_name(\"pattern\", induction_head_layer), visualize_pattern_hook)\n",
        "    for induction_head_layer in induction_head_layers\n",
        "]\n",
        "gpt2_small.run_with_hooks(\n",
        "    rep_tokens,\n",
        "    return_type=None,\n",
        "    fwd_hooks=fwd_hooks,\n",
        ")\n",
        "```\n",
        "</details>"
      ]
    },
    {
      "cell_type": "markdown",
      "metadata": {
        "id": "6a4sfmTLRp6z"
      },
      "source": [
        "## Building interpretability tools\n",
        "\n",
        "In order to develop a mechanistic understanding for how transformers perform certain tasks, we need to be able to answer questions like:\n",
        "\n",
        "> *How much of the model's performance on some particular task is attributable to each component of the model?*\n",
        "\n",
        "where \"component\" here might mean, for example, a specific head in a layer.\n",
        "\n",
        "There are many ways to approach a question like this. For example, we might look at how a head interacts with other heads in different layers, or we might perform a causal intervention by seeing how well the model performs if we remove the effect of this head. However, we'll keep things simple for now, and ask the question: **what are the direct contributions of this head to the output logits?**\n",
        "\n",
        "### Direct Logit attribution\n",
        "\n",
        "A consequence of the residual stream is that the output logits are the sum of the contributions of each layer, and thus the sum of the results of each head. This means we can decompose the output logits into a term coming from each head and directly do attribution like this!\n",
        "\n",
        "<details>\n",
        "<summary>A concrete example</summary>\n",
        "\n",
        "Let's say that our model knows that the token Harry is followed by the token Potter, and we want to figure out how it does this. The logits on Harry are `residual @ W_U`. But this is a linear map, and the residual stream is the sum of all previous layers `residual = embed + attn_out_0 + attn_out_1`. So `logits = (embed @ W_U) + (attn_out @ W_U) + (attn_out_1 @ W_U)`\n",
        "\n",
        "We can be even more specific, and *just* look at the logit of the Potter token - this corresponds to a column of `W_U`, and so a direction in the residual stream - our logit is now a single number that is the sum of `(embed @ potter_U) + (attn_out_0 @ potter_U) + (attn_out_1 @ potter_U)`. Even better, we can decompose each attention layer output into the sum of the result of each head, and use this to get many terms.\n",
        "</details>\n",
        "\n",
        "Your mission here is to write a function to look at how much each component contributes to the correct logit. Your components are:\n",
        "\n",
        "* The direct path (i.e. the residual connections from the embedding to unembedding),\n",
        "* Each layer 0 head (via the residual connection and skipping layer 1)\n",
        "* Each layer 1 head\n",
        "\n",
        "To emphasise, these are not paths from the start to the end of the model, these are paths from the output of some component directly to the logits - we make no assumptions about how each path was calculated!\n",
        "\n",
        "A few important notes for this exercise:\n",
        "\n",
        "* Here we are just looking at the DIRECT effect on the logits, i.e. the thing that this component writes / embeds into the residual stream - if heads compose with other heads and affect logits like that, or inhibit logits for other tokens to boost the correct one we will not pick up on this!\n",
        "* By looking at just the logits corresponding to the correct token, our data is much lower dimensional because we can ignore all other tokens other than the correct next one (Dealing with a 50K vocab size is a pain!). But this comes at the cost of missing out on more subtle effects, like a head suppressing other plausible logits, to increase the log prob of the correct one.\n",
        "    * There are other situations where our job might be easier. For instance, in the IOI task (which we'll discuss shortly) we're just comparing the logits of the indirect object to the logits of the direct object, meaning we can use the **difference between these logits**, and ignore all the other logits.\n",
        "* When calculating correct output logits, we will get tensors with a dimension `(position - 1,)`, not `(position,)` - we remove the final element of the output (logits), and the first element of labels (tokens). This is because we're predicting the *next* token, and we don't know the token after the final token, so we ignore it.\n",
        "\n",
        "<details>\n",
        "<summary>Aside - centering <code>W_U</code></summary>\n",
        "\n",
        "While we won't worry about this for this exercise, logit attribution is often more meaningful if we first center `W_U` - i.e. ensure the mean of each row writing to the output logits is zero. Log softmax is invariant when we add a constant to all the logits, so we want to control for a head that just increases all logits by the same amount. We won't do this here for ease of testing.\n",
        "</details>\n",
        "\n",
        "<details>\n",
        "<summary>Question - why don't we do this to the log probs instead?</summary>\n",
        "\n",
        "Because log probs aren't linear, they go through `log_softmax`, a non-linear function.\n",
        "</details>"
      ]
    },
    {
      "cell_type": "markdown",
      "metadata": {
        "id": "wPAoAU7oRp6z"
      },
      "source": [
        "### Exercise - build logit attribution tool\n",
        "\n",
        "> ```yaml\n",
        "> Difficulty: 🔴🔴🔴⚪⚪\n",
        "> Importance: 🔵🔵🔵🔵⚪\n",
        ">\n",
        "> You shouldn't spend more than 10-15 minutes on this exercise.\n",
        "> This exercise is important, but has quite a few messy einsums, so you might get more value from reading the solution than doing the exercises.\n",
        "> ```\n",
        "\n",
        "You should implement the `logit_attribution` function below. This should return the contribution of each component in the \"correct direction\". We've already given you the unembedding vectors for the correct direction, `W_U_correct_tokens` (note that we take the `[1:]` slice of tokens, for reasons discussed above).\n",
        "\n",
        "The code below this function will check your logit attribution function is working correctly, by taking the sum of logit attributions and comparing it to the actual values in the residual stream at the end of your model."
      ]
    },
    {
      "cell_type": "code",
      "execution_count": null,
      "metadata": {
        "id": "g7n_3vzNRp6z"
      },
      "outputs": [],
      "source": [
        "def logit_attribution(\n",
        "    embed: Float[Tensor, \"seq d_model\"],\n",
        "    l1_results: Float[Tensor, \"seq nheads d_model\"],\n",
        "    l2_results: Float[Tensor, \"seq nheads d_model\"],\n",
        "    W_U: Float[Tensor, \"d_model d_vocab\"],\n",
        "    tokens: Int[Tensor, \"seq\"],\n",
        ") -> Float[Tensor, \"seq-1 n_components\"]:\n",
        "    \"\"\"\n",
        "    Inputs:\n",
        "        embed: the embeddings of the tokens (i.e. token + position embeddings)\n",
        "        l1_results: the outputs of the attention heads at layer 1 (with head as one of the dimensions)\n",
        "        l2_results: the outputs of the attention heads at layer 2 (with head as one of the dimensions)\n",
        "        W_U: the unembedding matrix\n",
        "        tokens: the token ids of the sequence\n",
        "\n",
        "    Returns:\n",
        "        Tensor of shape (seq_len-1, n_components)\n",
        "        represents the concatenation (along dim=-1) of logit attributions from:\n",
        "            the direct path (seq-1,1)\n",
        "            layer 0 logits (seq-1, n_heads)\n",
        "            layer 1 logits (seq-1, n_heads)\n",
        "        so n_components = 1 + 2*n_heads\n",
        "    \"\"\"\n",
        "    W_U_correct_tokens = W_U[:, tokens[1:]]\n",
        "\n",
        "    raise NotImplementedError()\n",
        "\n",
        "\n",
        "text = \"We think that powerful, significantly superhuman machine intelligence is more likely than not to be created this century. If current machine learning techniques were scaled up to this level, we think they would by default produce systems that are deceptive or manipulative, and that no solid plans are known for how to avoid this.\"\n",
        "logits, cache = model.run_with_cache(text, remove_batch_dim=True)\n",
        "str_tokens = model.to_str_tokens(text)\n",
        "tokens = model.to_tokens(text)\n",
        "\n",
        "with t.inference_mode():\n",
        "    embed = cache[\"embed\"]\n",
        "    l1_results = cache[\"result\", 0]\n",
        "    l2_results = cache[\"result\", 1]\n",
        "    logit_attr = logit_attribution(embed, l1_results, l2_results, model.W_U, tokens[0])\n",
        "    # Uses fancy indexing to get a len(tokens[0])-1 length tensor, where the kth entry is the predicted logit for the correct k+1th token\n",
        "    correct_token_logits = logits[0, t.arange(len(tokens[0]) - 1), tokens[0, 1:]]\n",
        "    t.testing.assert_close(logit_attr.sum(1), correct_token_logits, atol=1e-3, rtol=0)\n",
        "    print(\"Tests passed!\")"
      ]
    },
    {
      "cell_type": "markdown",
      "metadata": {
        "id": "FGTwkKn0Rp60"
      },
      "source": [
        "<details><summary>Solution</summary>\n",
        "\n",
        "```python\n",
        "def logit_attribution(\n",
        "    embed: Float[Tensor, \"seq d_model\"],\n",
        "    l1_results: Float[Tensor, \"seq nheads d_model\"],\n",
        "    l2_results: Float[Tensor, \"seq nheads d_model\"],\n",
        "    W_U: Float[Tensor, \"d_model d_vocab\"],\n",
        "    tokens: Int[Tensor, \"seq\"],\n",
        ") -> Float[Tensor, \"seq-1 n_components\"]:\n",
        "    \"\"\"\n",
        "    Inputs:\n",
        "        embed: the embeddings of the tokens (i.e. token + position embeddings)\n",
        "        l1_results: the outputs of the attention heads at layer 1 (with head as one of the dimensions)\n",
        "        l2_results: the outputs of the attention heads at layer 2 (with head as one of the dimensions)\n",
        "        W_U: the unembedding matrix\n",
        "        tokens: the token ids of the sequence\n",
        "\n",
        "    Returns:\n",
        "        Tensor of shape (seq_len-1, n_components)\n",
        "        represents the concatenation (along dim=-1) of logit attributions from:\n",
        "            the direct path (seq-1,1)\n",
        "            layer 0 logits (seq-1, n_heads)\n",
        "            layer 1 logits (seq-1, n_heads)\n",
        "        so n_components = 1 + 2*n_heads\n",
        "    \"\"\"\n",
        "    W_U_correct_tokens = W_U[:, tokens[1:]]\n",
        "\n",
        "    direct_attributions = einops.einsum(W_U_correct_tokens, embed[:-1], \"emb seq, seq emb -> seq\")\n",
        "    l1_attributions = einops.einsum(W_U_correct_tokens, l1_results[:-1], \"emb seq, seq nhead emb -> seq nhead\")\n",
        "    l2_attributions = einops.einsum(W_U_correct_tokens, l2_results[:-1], \"emb seq, seq nhead emb -> seq nhead\")\n",
        "    return t.concat([direct_attributions.unsqueeze(-1), l1_attributions, l2_attributions], dim=-1)\n",
        "```\n",
        "</details>"
      ]
    },
    {
      "cell_type": "markdown",
      "metadata": {
        "id": "kaJtcopERp60"
      },
      "source": [
        "Once you've got the tests working, you can visualise the logit attributions for each path through the model. We've provided you with the helper function `plot_logit_attribution`, which presents the results in a nice way."
      ]
    },
    {
      "cell_type": "code",
      "execution_count": null,
      "metadata": {
        "id": "LGJBOIatRp60"
      },
      "outputs": [],
      "source": [
        "embed = cache[\"embed\"]\n",
        "l1_results = cache[\"result\", 0]\n",
        "l2_results = cache[\"result\", 1]\n",
        "logit_attr = logit_attribution(embed, l1_results, l2_results, model.W_U, tokens.squeeze())\n",
        "\n",
        "plot_logit_attribution(model, logit_attr, tokens, title=\"Logit attribution (demo prompt)\")"
      ]
    },
    {
      "cell_type": "markdown",
      "metadata": {
        "id": "gGISBSSaRp60"
      },
      "source": [
        "#### Question - what is the interpretation of this plot?\n",
        "\n",
        "You should find that the most variation in the logit attribution comes from the direct path. In particular, some of the tokens in the direct path have a very high logit attribution (e.g. tokens 7, 12, 24, 38, 46, 58). Can you guess what gives them in particular such a high logit attribution?\n",
        "\n",
        "<details>\n",
        "<summary>Answer - what is special about these tokens?</summary>\n",
        "\n",
        "The tokens with very high logit attribution are the ones which are the first token in common bigrams. For instance, the highest contribution on the direct path comes from `| manip|`, because this is very likely to be followed by `|ulative|` (or presumably a different stem like `| ulation|`). `| super| -> |human|` is another example of a bigram formed when the tokenizer splits one word into multiple tokens.\n",
        "\n",
        "There are also examples that come from two different words, rather than a single word split by the tokenizer. These include:\n",
        "\n",
        "* `| more| -> | likely|` (12)\n",
        "* `| machine| -> | learning|` (24)\n",
        "* `| by| -> | default|` (38)\n",
        "* `| how| -> | to|` (58)\n",
        "\n",
        "See later for a discussion of all the ~infuriating~ fun quirks of tokenization!\n",
        "</details>\n",
        "\n",
        "Another feature of the plot - the heads in layer 1 seem to have much higher contributions than the heads in layer 0. Why do you think this might be?\n",
        "\n",
        "<details>\n",
        "<summary>Hint</summary>\n",
        "\n",
        "Think about what this graph actually represents, in terms of paths through the transformer.\n",
        "</details>\n",
        "\n",
        "<details>\n",
        "<summary>Answer - why might layer-1 heads have higher contributions?</summary>\n",
        "\n",
        "This is because of a point we discussed earlier - this plot doesn't pick up on things like a head's effect in composition with another head. So the attribution for layer-0 heads won't involve any composition, whereas the attributions for layer-1 heads will involve not only the single-head paths through those attention heads, but also the 2-layer compositional paths through heads in layer 0 and layer 1.\n",
        "</details>"
      ]
    },
    {
      "cell_type": "markdown",
      "metadata": {
        "id": "Mjtp36KfRp60"
      },
      "source": [
        "### Exercise - interpret logit attribution for the induction heads\n",
        "\n",
        "> ```yaml\n",
        "> Difficulty: 🔴🔴🔴⚪⚪\n",
        "> Importance: 🔵🔵🔵🔵⚪\n",
        ">\n",
        "> You shouldn't spend more than 10-15 minutes on this exercise.\n",
        "> ```\n",
        "\n",
        "*This exercise just involves calling `logit_attribution` and `plot_logit_attribution` with appropriate arguments - the important part is interpreting the results. Please do look at the solutions if you're stuck on the code; this part isn't important.*\n",
        "\n",
        "Perform logit attribution for your attention-only model `model`, on the `rep_cache`. What do you expect to see?\n",
        "\n",
        "<!-- Remember, you'll need to split the sequence in two, with one overlapping token (since predicting the next token involves removing the final token with no label) - your `logit_attr` should both have shape `[seq_len, 2*n_heads + 1]` (ie `[50, 25]` here). -->\n",
        "<!--\n",
        "<details>\n",
        "<summary>Note - the first plot will be pretty meaningless. Can you see why?</summary>\n",
        "\n",
        "Because the first plot shows the logit attribution for the first half of the sequence, i.e. the first occurrence of each of the tokens. Since there is no structure to this sequence (it is purely random), there is no reason to expect the heads to be doing meaningful computation. The structure lies in the second half of the sequence, when the tokens are repeated, and the heads with high logit attributions will be the ones that can perform induction.\n",
        "</details> -->"
      ]
    },
    {
      "cell_type": "code",
      "execution_count": null,
      "metadata": {
        "id": "_RCT8yiFRp60"
      },
      "outputs": [],
      "source": [
        "# YOUR CODE HERE - plot logit attribution for the induction sequence (i.e. using `rep_tokens` and `rep_cache`), and\n",
        "# interpret the results."
      ]
    },
    {
      "cell_type": "markdown",
      "metadata": {
        "id": "4qSe1H3hRp60"
      },
      "source": [
        "<details><summary>Solution</summary>\n",
        "\n",
        "```python\n",
        "seq_len = 50\n",
        "\n",
        "embed = rep_cache[\"embed\"]\n",
        "l1_results = rep_cache[\"result\", 0]\n",
        "l2_results = rep_cache[\"result\", 1]\n",
        "first_half_tokens = rep_tokens[0, : 1 + seq_len]\n",
        "second_half_tokens = rep_tokens[0, seq_len:]\n",
        "\n",
        "logit_attr = logit_attribution(embed, l1_results, l2_results, model.W_U, rep_tokens.squeeze())\n",
        "plot_logit_attribution(model, logit_attr, rep_tokens.squeeze(), title=\"Logit attribution (random induction prompt)\")\n",
        "```\n",
        "</details>"
      ]
    },
    {
      "cell_type": "markdown",
      "metadata": {
        "id": "wxgBYkzYRp60"
      },
      "source": [
        "What is the interpretation of this plot, in the context of our induction head circuit?\n",
        "\n",
        "<details>\n",
        "<summary>Answer</summary>\n",
        "\n",
        "The first half of the plot is mostly meaningless, because the sequences here are random and carry no predictable pattern, and so there can't be any part of the model that is doing meaningful computation to make predictions.\n",
        "\n",
        "In the second half, we see that heads `1.4` and `1.10` have a large logit attribution score. This makes sense given our previous observation that these heads seemed to be performing induction (since they both exhibited the characteristic induction pattern), however it's worth emphasizing that this plot gives us a different kind of evidence than looking at attention patterns does, because just observing some head is attending to a particular token doesn't mean it's necessarily using that information to make a concrete prediction. Note that we see head `1.10` has a larger direct effect than `1.4`, which agrees with our attention scores result (where `1.10` also scored higher than `1.4`).\n",
        "\n",
        "</details>"
      ]
    },
    {
      "cell_type": "markdown",
      "metadata": {
        "id": "YMFt1-2TRp60"
      },
      "source": [
        "## Hooks: Intervening on Activations\n",
        "\n",
        "Now that we've built some tools to decompose our model's output, it's time to start making causal interventions.\n",
        "\n",
        "### Ablations\n",
        "\n",
        "Let's start with a simple example: **ablation**. An ablation is a simple causal intervention on a model - we pick some part of it and set it to zero. This is a crude proxy for how much that part matters. Further, if we have some story about how a specific circuit in the model enables some capability, showing that ablating *other* parts does nothing can be strong evidence of this.\n",
        "\n",
        "As mentioned in [the glossary](https://dynalist.io/d/n2ZWtnoYHrU1s4vnFSAQ519J#z=fh-HJyz1CgUVrXuoiban6bYx), there are many ways to do ablation. We'll focus on the simplest: zero-ablation (even though it's somewhat unprincipled)."
      ]
    },
    {
      "cell_type": "markdown",
      "metadata": {
        "id": "SGuu5HdqRp61"
      },
      "source": [
        "### Exercise - induction head ablation\n",
        "\n",
        "> ```yaml\n",
        "> Difficulty: 🔴🔴⚪⚪⚪\n",
        "> Importance: 🔵🔵🔵🔵⚪\n",
        ">\n",
        "> You should aim to spend 20-35 mins on this exercise.\n",
        "> ```\n",
        "\n",
        "The code below provides a template for performing zero-ablation on the output vectors at a particular head (i.e. the vectors we get when taking a weighted sum of the value vectors according to the attention probabilities, before projecting them up & adding them back to the residual stream). If you're confused about what different activations mean, you can refer back to [the diagram](https://raw.githubusercontent.com/info-arena/ARENA_img/main/misc/small-merm.svg).\n",
        "\n",
        "You need to do 2 things:\n",
        "\n",
        "1. Fill in `head_zero_ablation_hook` so that it performs zero-ablation on the head given by `head_index_to_ablate`.\n",
        "2. Fill in the missing code in the `get_ablation_scores` function (i.e. where you see the `raise NotImplementedError()` line), so that `loss_with_ablation` is computed as the loss of the model after ablating head `head` in layer `layer`.\n",
        "\n",
        "The rest of the `get_ablation_scores` function is designed to return a tensor of shape `(n_layers, n_heads)` containing the increase in loss from ablating each of these heads.\n",
        "\n",
        "A few notes about this function / tips on how to implement it:\n",
        "\n",
        "- You can create a temporary hook function by applying `functools.partial` to the `ablation_function`, fixing the head index to a particular value.\n",
        "- You can use `utils.get_act_name(\"z\", layer)` to get the name of the hook point (to see the full diagram of named hook points and how to get the names, you can refer to the streamlit reference page, which can be found on the left hand sidebar after you navigate to the [homepage](https://arena-chapter1-transformer-interp.streamlit.app/)).\n",
        "- See that `loss_no_ablation` is computed with the `get_log_probs` function, and that we only take the last `seq_len - 1` tokens - this is because we're dealing with sequences of length `2 * seq_len + 1` (a BOS token plus 2 repeated random sequences), and we only care about the loss on the second half of the sequence.\n",
        "- Note that we call `model.reset_hooks()` at the start of the function - this is a useful practice in general, to make sure you've not accidentally left in any hooks that might change your model's behaviour."
      ]
    },
    {
      "cell_type": "code",
      "execution_count": null,
      "metadata": {
        "id": "AQZXEhz3Rp61"
      },
      "outputs": [],
      "source": [
        "def head_zero_ablation_hook(\n",
        "    z: Float[Tensor, \"batch seq n_heads d_head\"],\n",
        "    hook: HookPoint,\n",
        "    head_index_to_ablate: int,\n",
        ") -> None:\n",
        "    raise NotImplementedError()\n",
        "\n",
        "\n",
        "def get_ablation_scores(\n",
        "    model: HookedTransformer,\n",
        "    tokens: Int[Tensor, \"batch seq\"],\n",
        "    ablation_function: Callable = head_zero_ablation_hook,\n",
        ") -> Float[Tensor, \"n_layers n_heads\"]:\n",
        "    \"\"\"\n",
        "    Returns a tensor of shape (n_layers, n_heads) containing the increase in cross entropy loss from ablating the output\n",
        "    of each head.\n",
        "    \"\"\"\n",
        "    # Initialize an object to store the ablation scores\n",
        "    ablation_scores = t.zeros((model.cfg.n_layers, model.cfg.n_heads), device=model.cfg.device)\n",
        "\n",
        "    # Calculating loss without any ablation, to act as a baseline\n",
        "    model.reset_hooks()\n",
        "    seq_len = (tokens.shape[1] - 1) // 2\n",
        "    logits = model(tokens, return_type=\"logits\")\n",
        "    loss_no_ablation = -get_log_probs(logits, tokens)[:, -(seq_len - 1) :].mean()\n",
        "\n",
        "    for layer in tqdm(range(model.cfg.n_layers)):\n",
        "        for head in range(model.cfg.n_heads):\n",
        "            raise NotImplementedError()\n",
        "\n",
        "    return ablation_scores\n",
        "\n",
        "\n",
        "ablation_scores = get_ablation_scores(model, rep_tokens)\n",
        "tests.test_get_ablation_scores(ablation_scores, model, rep_tokens)"
      ]
    },
    {
      "cell_type": "markdown",
      "metadata": {
        "id": "32JUVkcnRp61"
      },
      "source": [
        "<details><summary>Solution</summary>\n",
        "\n",
        "```python\n",
        "def head_zero_ablation_hook(\n",
        "    z: Float[Tensor, \"batch seq n_heads d_head\"],\n",
        "    hook: HookPoint,\n",
        "    head_index_to_ablate: int,\n",
        ") -> None:\n",
        "    z[:, :, head_index_to_ablate, :] = 0.0\n",
        "\n",
        "\n",
        "def get_ablation_scores(\n",
        "    model: HookedTransformer,\n",
        "    tokens: Int[Tensor, \"batch seq\"],\n",
        "    ablation_function: Callable = head_zero_ablation_hook,\n",
        ") -> Float[Tensor, \"n_layers n_heads\"]:\n",
        "    \"\"\"\n",
        "    Returns a tensor of shape (n_layers, n_heads) containing the increase in cross entropy loss from ablating the output\n",
        "    of each head.\n",
        "    \"\"\"\n",
        "    # Initialize an object to store the ablation scores\n",
        "    ablation_scores = t.zeros((model.cfg.n_layers, model.cfg.n_heads), device=model.cfg.device)\n",
        "\n",
        "    # Calculating loss without any ablation, to act as a baseline\n",
        "    model.reset_hooks()\n",
        "    seq_len = (tokens.shape[1] - 1) // 2\n",
        "    logits = model(tokens, return_type=\"logits\")\n",
        "    loss_no_ablation = -get_log_probs(logits, tokens)[:, -(seq_len - 1) :].mean()\n",
        "\n",
        "    for layer in tqdm(range(model.cfg.n_layers)):\n",
        "        for head in range(model.cfg.n_heads):\n",
        "            # Use functools.partial to create a temporary hook function with the head number fixed\n",
        "            temp_hook_fn = functools.partial(ablation_function, head_index_to_ablate=head)\n",
        "            # Run the model with the ablation hook\n",
        "            ablated_logits = model.run_with_hooks(tokens, fwd_hooks=[(utils.get_act_name(\"z\", layer), temp_hook_fn)])\n",
        "            # Calculate the loss difference (= negative correct logprobs), only on the last `seq_len` tokens\n",
        "            loss = -get_log_probs(ablated_logits.log_softmax(-1), tokens)[:, -(seq_len - 1) :].mean()\n",
        "            # Store the result, subtracting the clean loss so that a value of zero means no change in loss\n",
        "            ablation_scores[layer, head] = loss - loss_no_ablation\n",
        "\n",
        "    return ablation_scores\n",
        "```\n",
        "</details>"
      ]
    },
    {
      "cell_type": "markdown",
      "metadata": {
        "id": "lblCrjngRp61"
      },
      "source": [
        "Once you've passed the tests, you can plot the results:"
      ]
    },
    {
      "cell_type": "code",
      "execution_count": null,
      "metadata": {
        "id": "36FuOk2aRp63"
      },
      "outputs": [],
      "source": [
        "imshow(\n",
        "    ablation_scores,\n",
        "    labels={\"x\": \"Head\", \"y\": \"Layer\", \"color\": \"Logit diff\"},\n",
        "    title=\"Loss Difference After Ablating Heads\",\n",
        "    text_auto=\".2f\",\n",
        "    width=900,\n",
        "    height=350,\n",
        ")"
      ]
    },
    {
      "cell_type": "markdown",
      "metadata": {
        "id": "6B3XR5gFRp63"
      },
      "source": [
        "What is your interpretation of these results?\n",
        "\n",
        "<details>\n",
        "<summary>Interpretation</summary>\n",
        "\n",
        "This tells us not just which heads are responsible for writing output to the residual stream that gets us the correct result, but **which heads play an important role in the induction circuit**.\n",
        "\n",
        "This chart tells us that - for sequences of repeated tokens - head `0.7` is by far the most important in layer 0 (which makes sense, since we observed it to be the strongest \"previous token head\"), and heads `1.4`, `1.10` are the most important in layer 1 (which makes sense, since we observed these to be the most induction-y).\n",
        "\n",
        "This is a good illustration of the kind of result which we can get from ablation, but **wouldn't be able to get from something like direct logit attribution**, because it isn't a causal intervention.\n",
        "</details>"
      ]
    },
    {
      "cell_type": "markdown",
      "metadata": {
        "id": "MPuSErNYRp63"
      },
      "source": [
        "### Exercise - mean ablation\n",
        "\n",
        "> ```yaml\n",
        "> Difficulty: 🔴⚪⚪⚪⚪\n",
        "> Importance: 🔵🔵🔵⚪⚪\n",
        ">\n",
        "> You should aim to spend 5-15 mins on this exercise.\n",
        "> ```\n",
        "\n",
        "An alternative to zero-ablation is **mean-ablation**, where rather than setting values to zero, we set them to be their mean across some suitable distribution (commonly we'll use the mean over some batch dimension). This can be more informative, because zero-ablation takes a model out of its normal distribution, and so the results from it aren't necessarily representative of what you'd get if you \"switched off\" the effect from some particular component. Mean ablation on the other hand works slightly better (although it does come with its own set of risks). You can read more [here](https://www.neelnanda.io/mechanistic-interpretability/glossary#:~:text=Ablation%20aka%20Knockout) or [here](https://arxiv.org/html/2404.15255v1).\n",
        "\n",
        "You should fill in the `head_mean_ablation_hook` function below, and run the code (also make sure in your previous `get_ablation_scores` function that you were actually using the `ablation_function` rather than hardcoding the zero ablation function, otherwise your code won't work here). You should see that the results are slightly cleaner, with the unimportant heads having values much closer to zero relative to the important heads."
      ]
    },
    {
      "cell_type": "code",
      "execution_count": null,
      "metadata": {
        "id": "wwTizrrVRp63"
      },
      "outputs": [],
      "source": [
        "def head_mean_ablation_hook(\n",
        "    z: Float[Tensor, \"batch seq n_heads d_head\"],\n",
        "    hook: HookPoint,\n",
        "    head_index_to_ablate: int,\n",
        ") -> None:\n",
        "    raise NotImplementedError()\n",
        "\n",
        "\n",
        "rep_tokens_batch = run_and_cache_model_repeated_tokens(model, seq_len=50, batch_size=50)[0]\n",
        "mean_ablation_scores = get_ablation_scores(model, rep_tokens_batch, ablation_function=head_mean_ablation_hook)\n",
        "\n",
        "imshow(\n",
        "    mean_ablation_scores,\n",
        "    labels={\"x\": \"Head\", \"y\": \"Layer\", \"color\": \"Logit diff\"},\n",
        "    title=\"Loss Difference After Ablating Heads\",\n",
        "    text_auto=\".2f\",\n",
        "    width=900,\n",
        "    height=350,\n",
        ")"
      ]
    },
    {
      "cell_type": "markdown",
      "metadata": {
        "id": "Ofz9d4AlRp63"
      },
      "source": [
        "<details><summary>Solution</summary>\n",
        "\n",
        "```python\n",
        "def head_mean_ablation_hook(\n",
        "    z: Float[Tensor, \"batch seq n_heads d_head\"],\n",
        "    hook: HookPoint,\n",
        "    head_index_to_ablate: int,\n",
        ") -> None:\n",
        "    z[:, :, head_index_to_ablate, :] = z[:, :, head_index_to_ablate, :].mean(0)\n",
        "\n",
        "\n",
        "rep_tokens_batch = run_and_cache_model_repeated_tokens(model, seq_len=50, batch_size=50)[0]\n",
        "mean_ablation_scores = get_ablation_scores(model, rep_tokens_batch, ablation_function=head_mean_ablation_hook)\n",
        "\n",
        "imshow(\n",
        "    mean_ablation_scores,\n",
        "    labels={\"x\": \"Head\", \"y\": \"Layer\", \"color\": \"Logit diff\"},\n",
        "    title=\"Loss Difference After Ablating Heads\",\n",
        "    text_auto=\".2f\",\n",
        "    width=900,\n",
        "    height=350,\n",
        ")\n",
        "```\n",
        "</details>"
      ]
    },
    {
      "cell_type": "markdown",
      "metadata": {
        "id": "_nK_6Nm9Rp64"
      },
      "source": [
        "## Bonus - understand heads 0.4 & 0.11 (very hard!)\n",
        "\n",
        "There are 2 heads which appeared strongly in our induction ablation experiments, but haven't stood out as much in the other analysis we've done in this section `0.4` and `0.11`. Can you construct causal experiments (i.e. targeted ablations) to try and figure out what these heads are doing?\n",
        "\n",
        "> Note - you might want to attempt this once you've made some headway into the next section, as this will give you a more mechanistic understanding of the induction circuit. Even once you've done that, you might still find this bonus exercise challenging, because it ventures outside of the well-defined induction circuit we've been working with and into potentially more ambiguous results. **To restate - the material here is very challenging!**\n",
        "\n",
        "<details>\n",
        "<summary>Here's a hint to get you started</summary>\n",
        "\n",
        "Look at the positions that heads `0.4` and `0.11` are attending to. Can you figure out which source positions are important to attend to for the model to perform well?\n",
        "\n",
        "</details>\n",
        "\n",
        "<details>\n",
        "<summary>Partial answer (and some sample code)</summary>\n",
        "\n",
        "Below is some sample code which plots the effect of ablating the inputs to heads `0.4` and `0.11` at all offset positions minus a few (e.g. the first row shows the effect on loss of mean ablating all inputs to the heads except for those that come from self-attention, and the second row shows the effect when we ablate all inputs except for those that come from the token immediately before it in the sequence).\n",
        "\n",
        "```python\n",
        "def head_z_ablation_hook(\n",
        "    z: Float[Tensor, \"batch seq n_heads d_head\"],\n",
        "    hook: HookPoint,\n",
        "    head_index_to_ablate: int,\n",
        "    seq_posns: list[int],\n",
        "    cache: ActivationCache,\n",
        ") -> None:\n",
        "    \"\"\"\n",
        "    We perform ablation at the z vector, by doing the equivalent of mean ablating all the inputs to this attention head\n",
        "    except for those which come from the tokens `n` positions back, where `n` is in the `seq_posns` list.\n",
        "    \"\"\"\n",
        "    batch, seq = z.shape[:2]\n",
        "    v = cache[\"v\", hook.layer()][:, :, head_index_to_ablate]  # shape [batch seq_K d_head]\n",
        "    pattern = cache[\"pattern\", hook.layer()][:, head_index_to_ablate]  # shape [batch seq_Q seq_K]\n",
        "\n",
        "    # Get a repeated version of v, and mean ablate all but the previous token values\n",
        "    v_repeated = einops.repeat(v, \"b sK h -> b sQ sK h\", sQ=seq)\n",
        "    v_ablated = einops.repeat(v_repeated.mean(0), \"sQ sK h -> b sQ sK h\", b=batch).clone()\n",
        "    for offset in seq_posns:\n",
        "        seqQ_slice = t.arange(offset, seq)\n",
        "        v_ablated[:, seqQ_slice, seqQ_slice - offset] = v_repeated[:, seqQ_slice, seqQ_slice - offset]\n",
        "\n",
        "    # Take weighted sum of this new v, and use it to edit `z` inplace.\n",
        "    z[:, :, head_index_to_ablate] = einops.einsum(v_ablated, pattern, \"b sQ sK h, b sQ sK -> b sQ h\")\n",
        "\n",
        "\n",
        "def get_ablation_scores_cache_assisted(\n",
        "    model: HookedTransformer,\n",
        "    tokens: Int[Tensor, \"batch seq\"],\n",
        "    ablation_function: Callable = head_zero_ablation_hook,\n",
        "    seq_posns: list[int] = [0],\n",
        "    layers: list[int] = [0],\n",
        ") -> Float[Tensor, \"n_layers n_heads\"]:\n",
        "    \"\"\"\n",
        "    Version of `get_ablation_scores` which can use the cache to assist with the ablation.\n",
        "    \"\"\"\n",
        "    ablation_scores = t.zeros((len(layers), model.cfg.n_heads), device=model.cfg.device)\n",
        "\n",
        "    model.reset_hooks()\n",
        "    seq_len = (tokens.shape[1] - 1) // 2\n",
        "    logits, cache = model.run_with_cache(tokens, return_type=\"logits\")\n",
        "    loss_no_ablation = -get_log_probs(logits, tokens)[:, -(seq_len - 1) :].mean()\n",
        "\n",
        "    for layer in layers:\n",
        "        for head in range(model.cfg.n_heads):\n",
        "            temp_hook_fn = functools.partial(ablation_function, head_index_to_ablate=head, cache=cache, seq_posns=seq_posns)\n",
        "            ablated_logits = model.run_with_hooks(tokens, fwd_hooks=[(utils.get_act_name(\"z\", layer), temp_hook_fn)])\n",
        "            loss = -get_log_probs(ablated_logits.log_softmax(-1), tokens)[:, -(seq_len - 1) :].mean()\n",
        "            ablation_scores[layer, head] = loss - loss_no_ablation\n",
        "\n",
        "    return ablation_scores\n",
        "\n",
        "\n",
        "rep_tokens_batch = run_and_cache_model_repeated_tokens(model, seq_len=50, batch_size=50)[0]\n",
        "\n",
        "offsets = [[0], [1], [2], [3], [1, 2], [1, 2, 3]]\n",
        "z_ablation_scores = [\n",
        "    get_ablation_scores_cache_assisted(model, rep_tokens_batch, head_z_ablation_hook, offset).squeeze()\n",
        "    for offset in tqdm(offsets)\n",
        "]\n",
        "\n",
        "imshow(\n",
        "    t.stack(z_ablation_scores),\n",
        "    labels={\"x\": \"Head\", \"y\": \"Position offset\", \"color\": \"Logit diff\"},\n",
        "    title=\"Loss Difference (ablating heads everywhere except for certain offset positions)\",\n",
        "    text_auto=\".2f\",\n",
        "    y=[str(offset) for offset in offsets],\n",
        "    width=900,\n",
        "    height=400,\n",
        ")\n",
        "```\n",
        "\n",
        "\n",
        "Some observations from the result of this code:\n",
        "\n",
        "- **Head `0.7` is truly a previous token head.** The second row shows that mean ablating all its inputs except for those that come from the previous token has no effect on loss, so this is all the information it's using.\n",
        "- **Head `0.11` is only a current token head.** The first row shows that mean ablating all its inputs except for those that come from self-attending (i.e. to the current token) has no effect on loss, so this is all the information it's using.\n",
        "- **Head `0.4` is only using information from positions 1, 2 or 3 tokens back.** This is shown from the 5th row of the plot above - the effect of ablating all inputs except for those that come from tokens 1 or 2 positions back is very small. Note that it's important we draw this conclusion from an ablation experiment, not just from looking at attention patterns - because attending to a token doesn't tell you whether that token is being used for a way that's important in the context of this particular distribution (induction).\n",
        "\n",
        "Starting with `0.11` - we know that there are heads in layer 1 whose job it is to copy tokens - i.e. in sequences `[A][B]...[A][B]`, they attend from the second `[A]` back to the first `[B]` and copy its value to use as a prediction. And if head `0.11` always self-attends, then it actually makes sense to consider `(embedding of B) + (output of head 0.11 when it attends to token B)` as the \"true embedding of `B`\", since this is always the thing that the layer 1 head will be learning to copy. This idea of an **extended embedding** or **effective embedding** will come up again later in the course, when we look at GPT2-Small. As for whether the output of `0.11` is more important in the QK circuit of the layer-1 copying head, or the OV copying head, we'll leave as an exercise to the reader!\n",
        "\n",
        "Next, `0.4` - it's using information from both 1 and 2 tokens back. Using the previous token makes sense, since induction circuits contain previous token heads. But what could it be doing with the information 2 positions back? One theory we might have is that it's also creating an induction circuit, but using 3 tokens rather than 2 tokens! In other words, rather than having sequences like `[A][B]...[A][B]` where the second `[A]` attends back to \"token that came immediately after the value of this token\", we might have sequences like `[Z][A][B]...[Z][A][B]` where the second `[A]` attends back to \"token that came 2 positions after the value of the previous token\". One way to test this would be to construct random induction sequences which have a maximum of 2 repetitions, i.e. they're constructed with the first half being random sequences and the second half being pairs of randomly chosen tokens which appear in the first half adjacent to each other. To illustrate, for vocab size of 10 and half seq len of 10, we might have a sequence like:\n",
        "\n",
        "<pre style=\"white-space:pre;overflow-x:auto;line-height:normal;font-family:Menlo,'DejaVu Sans Mono',consolas,'Courier New',monospace\">0 5 8 3 1 8 2 2 4 6 (5 8) (4 6) (3 1) (2 4) (0 5)</pre>\n",
        "\n",
        "Based on our theory about head `0.4`, we should expect that mean ablating it in this kind of sequence should have nearly zero effect on loss (because it's designed to support induction sequences of length at least 3), even though all the other heads which were identified as important in the induction experiment (`0.7`, `0.11`, `1.4`, `1.10`) should still be important. This is in fact what we find - you can try this for yourself with the code below.\n",
        "\n",
        "```python\n",
        "def generate_repeated_tokens_maxrep(\n",
        "    model: HookedTransformer,\n",
        "    seq_len: int,\n",
        "    batch_size: int = 1,\n",
        "    maxrep: int = 2,\n",
        ") -> Int[Tensor, \"batch_size full_seq_len\"]:\n",
        "    \"\"\"\n",
        "    Same as previous function, but contains a max number of allowed repetitions. For example, maxrep=2 means we can have\n",
        "    sequences like `[A][B]...[A][B]`, but not `[A][B][C]...[A][B][C]`.\n",
        "    \"\"\"\n",
        "    prefix = (t.ones(batch_size, 1) * model.tokenizer.bos_token_id).long()\n",
        "    rep_tokens_half = t.randint(0, model.cfg.d_vocab, (batch_size, seq_len), dtype=t.int64)\n",
        "    rep_tokens = t.cat([prefix, rep_tokens_half], dim=-1)\n",
        "    for _ in range(seq_len // maxrep + 1):\n",
        "        random_start_posn = t.randint(0, seq_len - 2, (batch_size,)).tolist()\n",
        "        rep_tokens_repeated = t.stack([rep_tokens_half[b, s : s + maxrep] for b, s in enumerate(random_start_posn)])\n",
        "        rep_tokens = t.cat([rep_tokens, rep_tokens_repeated], dim=-1)\n",
        "\n",
        "    return rep_tokens[:, : 2 * seq_len + 1].to(device)\n",
        "\n",
        "\n",
        "rep_tokens_max2 = generate_repeated_tokens_maxrep(model, seq_len=50, batch_size=50, maxrep=2)\n",
        "\n",
        "mean_ablation_scores = get_ablation_scores(model, rep_tokens_max2, ablation_fn=head_mean_ablation_hook)\n",
        "\n",
        "imshow(\n",
        "    mean_ablation_scores,\n",
        "    labels={\"x\": \"Head\", \"y\": \"Layer\", \"color\": \"Logit diff\"},\n",
        "    title=\"Loss Difference After Ablating Heads\",\n",
        "    text_auto=\".2f\",\n",
        "    width=900,\n",
        "    height=350,\n",
        ")\n",
        "```\n",
        "\n",
        "\n",
        "</details>"
      ]
    },
    {
      "cell_type": "markdown",
      "metadata": {
        "id": "xYsqPXCNRp64"
      },
      "source": [
        "# 4️⃣ Reverse-engineering induction circuits\n",
        "\n",
        "> ##### Learning Objectives\n",
        ">\n",
        "> - Understand the difference between investigating a circuit by looking at activtion patterns, and reverse-engineering a circuit by looking directly at the weights\n",
        "> - Use the factored matrix class to inspect the QK and OV circuits within an induction circuit\n",
        "> - Perform further exploration of induction circuits: composition scores, and targeted ablations"
      ]
    },
    {
      "cell_type": "markdown",
      "metadata": {
        "id": "DMCl7xPPRp64"
      },
      "source": [
        "In previous exercises, we looked at the attention patterns and attributions of attention heads to try and identify which ones were important in the induction circuit. This might be a good way to get a feel for the circuit, but it's not a very rigorous way to understand it. It would be better described as **feature analysis**, where we observe *that* a particular head seems to be performing some task on a certain class of inputs, without identifying *why* it does so.\n",
        "\n",
        "Now we're going to do some more rigorous mechanistic analysis - digging into the weights and using them to reverse engineer the induction head algorithm and verify that it is really doing what we think it is."
      ]
    },
    {
      "cell_type": "markdown",
      "metadata": {
        "id": "QvmawexnRp64"
      },
      "source": [
        "## Refresher - the induction circuit\n",
        "\n",
        "Before we get into the meat of this section, let's refresh the results we've gotten so far from investigating induction heads. We've found:\n",
        "\n",
        "* When fed repeated sequences of tokens, heads `1.4` and `1.10` have the characteristic induction head attention pattern of a diagonal stripe with offset `seq_len - 1`.\n",
        "    * We saw this both from the CircuitsVis results, and from the fact that these heads had high induction scores by our chosen metric (with all other heads having much lower scores).\n",
        "* We also saw that head `0.7` strongly attends to the previous token in the sequence (even on non-repeated sequences).\n",
        "* We performed **logit attribution** on the model, and found that the values written to the residual stream by heads `1.4` and `1.10` were both important for getting us correct predictions in the second half of the sequence.\n",
        "* We performed **zero-ablation** on the model, and found that heads `0.7`, `1.4` and `1.10` all resulted in a large accuracy degradation on the repeated sequence task when they were ablated.\n",
        "\n",
        "Based on all these observations, try and summarise the induction circuit and how it works, in your own words. You should try and link your explanation to the QK and OV circuits for particular heads, and describe what type (or types) of attention head composition are taking place.\n",
        "\n",
        "You can use the dropdown below to check your understanding.\n",
        "\n",
        "<details>\n",
        "<summary>My summary of the algorithm</summary>\n",
        "\n",
        "* Head `0.7` is a previous token head (the QK-circuit ensures it always attends to the previous token).\n",
        "* The OV circuit of head `0.7` writes a copy of the previous token in a *different* subspace to the one used by the embedding.\n",
        "* The output of head `0.7` is used by the *key* input of head `1.10` via K-Composition to attend to 'the source token whose previous token is the destination token'.\n",
        "* The OV-circuit of head `1.10` copies the *value* of the source token to the same output logit.\n",
        "    * Note that this is copying from the embedding subspace, *not* the `0.7` output subspace - it is not using V-Composition at all.\n",
        "* `1.4` is also performing the same role as `1.10` (so together they can be more accurate - we'll see exactly how later).\n",
        "\n",
        "To emphasise - the sophisticated hard part is computing the *attention* pattern of the induction head - this takes careful composition. The previous token and copying parts are fairly easy. This is a good illustrative example of how the QK circuits and OV circuits act semi-independently, and are often best thought of somewhat separately. And that computing the attention patterns can involve real and sophisticated computation!\n",
        "\n",
        "Below is a diagram of the induction circuit, with the heads indicated in the weight matrices.\n",
        "\n",
        "![kcomp_diagram_3.png](https://raw.githubusercontent.com/info-arena/ARENA_img/main/misc/kcomp_diagram_described_3.png)\n",
        "</details>"
      ]
    },
    {
      "cell_type": "markdown",
      "metadata": {
        "id": "MxTrdrukRp64"
      },
      "source": [
        "## Refresher - QK and OV circuits\n",
        "\n",
        "Before we start, a brief terminology note. I'll refer to weight matrices for a particular layer and head using superscript notation, e.g. $W_Q^{1.4}$ is the query matrix for the 4th head in layer 1, and it has shape `[d_model, d_head]` (remember that we multiply with weight matrices on the right). Similarly, attention patterns will be denoted $A^{1.4}$ (remember that these are **activations**, not parameters, since they're given by the formula $A^h = x W_{QK}^h x^T$, where $x$ is the residual stream (with shape `[seq_len, d_model]`).\n",
        "\n",
        "As a shorthand, I'll often have $A$ denote the one-hot encoding of token `A` (i.e. the vector with zeros everywhere except a one at the index of `A`), so $A^T W_E$ is the embedding vector for `A`.\n",
        "\n",
        "Lastly, I'll refer to special matrix products as follows:\n",
        "\n",
        "* $W_{OV}^{h} := W_V^{h}W_O^{h}$ is the **OV circuit** for head $h$, and $W_E W_{OV}^h W_U$ is the **full OV circuit**.\n",
        "* $W_{QK}^h := W_Q^h (W_K^h)^T$ is the **QK circuit** for head $h$, and $W_E W_{QK}^h W_E^T$ is the **full QK circuit**.\n",
        "\n",
        "Note that the order of these matrices are slightly different from the **Mathematical Frameworks** paper - this is a consequence of the way TransformerLens stores its weight matrices."
      ]
    },
    {
      "cell_type": "markdown",
      "metadata": {
        "id": "nmtrZGw-Rp64"
      },
      "source": [
        "#### Question - what is the interpretation of each of the following matrices?\n",
        "\n",
        "*There are quite a lot of questions here, but they are conceptually important. If you're confused, you might want to read the answers to the first few questions and then try the later ones.*\n",
        "\n",
        "In your answers, you should describe the type of input it takes, and what the outputs represent.\n",
        "\n",
        "#### $W_{OV}^{h}$\n",
        "\n",
        "<details>\n",
        "<summary>Answer</summary>\n",
        "\n",
        "$W_{OV}^{h}$ has size $(d_\\text{model}, d_\\text{model})$, it is a linear map describing **what information gets moved from source to destination, in the residual stream.**\n",
        "\n",
        "In other words, if $x$ is a vector in the residual stream, then $x^T W_{OV}^{h}$ is the vector written to the residual stream at the destination position, if the destination token only pays attention to the source token at the position of the vector $x$.\n",
        "</details>\n",
        "\n",
        "#### $W_E W_{OV}^h W_U$\n",
        "\n",
        "<details>\n",
        "<summary>Hint</summary>\n",
        "\n",
        "If $A$ is the one-hot encoding for token `A` (i.e. the vector with zeros everywhere except for a one in the position corresponding to token `A`), then think about what $A^T W_E W_{OV}^h W_U$ represents. You can evaluate this expression from left to right (e.g. start with thinking about what $A^T W_E$ represents, then multiply by the other two matrices).\n",
        "</details>\n",
        "<details>\n",
        "<summary>Answer</summary>\n",
        "\n",
        "$W_E W_{OV}^h W_U$ has size $(d_\\text{vocab}, d_\\text{vocab})$, it is a linear map describing **what information gets moved from source to destination, in a start-to-end sense.**\n",
        "\n",
        "If $A$ is the one-hot encoding for token `A`, then:\n",
        "\n",
        "* $A^T W_E$ is the embedding vector for `A`.\n",
        "* $A^T W_E W_{OV}^h$ is the vector which would get written to the residual stream at the destination position, if the destination token only pays attention to `A`.\n",
        "* $A^T W_E W_{OV}^h W_U$ is the unembedding of this vector, i.e. the thing which gets added to the final logits.\n",
        "\n",
        "</details>\n",
        "\n",
        "#### $W_{QK}^{h}$\n",
        "\n",
        "<details>\n",
        "<summary>Answer</summary>\n",
        "\n",
        "$W_{QK}^{h}$ has size $(d_\\text{model}, d_\\text{model})$, it is a bilinear form describing **where information is moved to and from** in the residual stream (i.e. which residual stream vectors attend to which others).\n",
        "\n",
        "$x_i^T W_{QK}^h x_j = (x_i^T W_Q^h) (x_j^T W_K^h)^T$ is the attention score paid by token $i$ to token $j$.\n",
        "</details>\n",
        "\n",
        "#### $W_E W_{QK}^h W_E^T$\n",
        "\n",
        "<details>\n",
        "<summary>Answer</summary>\n",
        "\n",
        "$W_E W_{QK}^h W_E^T$ has size $(d_\\text{vocab}, d_\\text{vocab})$, it is a bilinear form describing **where information is moved to and from**, among words in our vocabulary (i.e. which tokens pay attention to which others).\n",
        "\n",
        "If $A$ and $B$ are one-hot encodings for tokens `A` and `B`, then $A^T W_E W_{QK}^h W_E^T B$ is the attention score paid by token `A` to token `B`:\n",
        "\n",
        "$$\n",
        "A^T \\, W_E\\, W_{QK}^{h}\\, W_E^T \\, B = \\underbrace{(A^T W_E W_Q^{h})}_{\\text{query for token } A}  \\underbrace{(B^T W_E W_K^{h})^T}_{\\text{key for token }B}\n",
        "$$\n",
        "</details>\n",
        "\n",
        "#### $W_{pos} W_{QK}^h W_{pos}^T$\n",
        "\n",
        "<details>\n",
        "<summary>Answer</summary>\n",
        "\n",
        "$W_{pos} W_{QK}^h W_{pos}^T$ has size $(n_\\text{ctx}, n_\\text{ctx})$, it is a bilinear form describing **where information is moved to and from**, among tokens in our context (i.e. which token positions pay attention to other positions).\n",
        "\n",
        "If $i$ and $j$ are one-hot encodings for positions `i` and `j` (in other words they are just the ith and jth basis vectors), then $i^T W_{pos} W_{QK}^h W_{pos}^T j$ is the attention score paid by the token with position `i` to the token with position `j`:\n",
        "\n",
        "$$\n",
        "i^T \\, W_{pos}\\, W_{QK}^{h}\\, W_{pos}^T \\, j = \\underbrace{(i^T W_{pos} W_Q^{h})}_{\\text{query for i-th token}}  \\underbrace{(j^T W_{pos} W_K^{h})^T}_{\\text{key for j-th token}}\n",
        "$$\n",
        "\n",
        "</details>\n",
        "\n",
        "#### $W_E W_{OV}^{h_1} W_{QK}^{h_2} W_E^T$\n",
        "\n",
        "where $h_1$ is in an earlier layer than $h_2$.\n",
        "\n",
        "<details>\n",
        "<summary>Hint</summary>\n",
        "\n",
        "This matrix is best seen as a bilinear form of size $(d_\\text{vocab}, d_\\text{vocab})$. The $(A, B)$-th element is:\n",
        "\n",
        "$$\n",
        "(A^T W_E W_{OV}^{h_1}) W_{QK}^{h_2} (B^T W_E)^T\n",
        "$$\n",
        "</details>\n",
        "\n",
        "<details>\n",
        "<summary>Answer</summary>\n",
        "\n",
        "$W_E W_{OV}^{h_1} W_{QK}^{h_2} W_E^T$ has size $(d_\\text{vocab}, d_\\text{vocab})$, it is a bilinear form describing where information is moved to and from in head $h_2$, given that the **query-side vector** is formed from the output of head $h_1$. In other words, this is an instance of **Q-composition**.\n",
        "\n",
        "If $A$ and $B$ are one-hot encodings for tokens `A` and `B`, then $A^T W_E W_{OV}^{h_1} W_{QK}^{h_2} W_E^T B$ is the attention score paid **to** token `B`, **by** any token which attended strongly to an `A`-token in head $h_1$.\n",
        "\n",
        "---\n",
        "\n",
        "To further break this down, if it still seems confusing:\n",
        "\n",
        "$$\n",
        "\\begin{aligned}\n",
        "A^T \\, W_E\\, W_{OV}^{h_1} W_{QK}^{h_2}\\, W_E^T \\, B &= \\underbrace{(A^T W_E W_{OV}^{h_1}W_Q^{h_2})}_{\\text{query of token which attended to A}}  \\underbrace{(B^T W_E W_K^{h_2})^T}_\\text{key of token B} \\\\\n",
        "\\end{aligned}\n",
        "$$\n",
        "\n",
        "---\n",
        "\n",
        "Note that the actual attention score will be a sum of multiple terms, not just this one (in fact, we'd have a different term for every combination of query and key input). But this term describes the **particular contribution** to the attention score from this combination of query and key input, and it might be the case that this term is the only one that matters (i.e. all other terms don't much affect the final probabilities). We'll see something exactly like this later on.\n",
        "</details>"
      ]
    },
    {
      "cell_type": "markdown",
      "metadata": {
        "id": "kyDToQt6Rp64"
      },
      "source": [
        "Before we start, there's a problem that we might run into when calculating all these matrices. Some of them are massive, and might not fit on our GPU. For instance, both full circuit matrices have shape $(d_\\text{vocab}, d_\\text{vocab})$, which in our case means $50278\\times 50278 \\approx 2.5\\times 10^{9}$ elements. Even if your GPU can handle this, it still seems inefficient. Is there any way we can meaningfully analyse these matrices, without actually having to calculate them?\n",
        "\n",
        "## Factored Matrix class\n",
        "\n",
        "In transformer interpretability, we often need to analyse low rank factorized matrices - a matrix $M = AB$, where M is `[large, large]`, but A is `[large, small]` and B is `[small, large]`. This is a common structure in transformers.\n",
        "\n",
        "For instance, we can factorise the OV circuit above as $W_{OV}^h = W_V^h W_O^h$, where $W_V^h$ has shape `[768, 64]` and $W_O^h$ has shape `[64, 768]`. For an even more extreme example, the full OV circuit can be written as $(W_E W_V^h) (W_O^h W_U)$, where these two matrices have shape `[50278, 64]` and `[64, 50278]` respectively. Similarly, we can write the full QK circuit as $(W_E W_Q^h) (W_E W_K^h)^T$.\n",
        "\n",
        "The `FactoredMatrix` class is a convenient way to work with these. It implements efficient algorithms for various operations on these, such as computing the trace, eigenvalues, Frobenius norm, singular value decomposition, and products with other matrices. It can (approximately) act as a drop-in replacement for the original matrix.\n",
        "\n",
        "This is all possible because knowing the factorisation of a matrix gives us a much easier way of computing its important properties. Intuitively, since $M=AB$ is a very large matrix that operates on very small subspaces, we shouldn't expect knowing the actual values $M_{ij}$ to be the most efficient way of storing it!"
      ]
    },
    {
      "cell_type": "markdown",
      "metadata": {
        "id": "s2HdFWQ_Rp64"
      },
      "source": [
        "### Exercise - deriving properties of a factored matrix\n",
        "\n",
        "> ```yaml\n",
        "> Difficulty: 🔴🔴🔴🔴⚪\n",
        "> Importance: 🔵🔵⚪⚪⚪\n",
        ">\n",
        "> You shouldn't spend more than 10-25 minutes on this exercise.\n",
        ">\n",
        "> If you're less interested in the maths, you can skip these exercises.\n",
        "> ```\n",
        "\n",
        "To give you an idea of what kinds of properties you can easily compute if you have a factored matrix, let's try and derive some ourselves.\n",
        "\n",
        "Suppose we have $M=AB$, where $A$ has shape $(m, n)$, $B$ has shape $(n, m)$, and $m > n$. So $M$ is a size-$(m, m)$ matrix with rank at most $n$.\n",
        "\n",
        "**Question - how can you easily compute the trace of $M$?**\n",
        "\n",
        "<details>\n",
        "<summary>Answer</summary>\n",
        "\n",
        "We have:\n",
        "\n",
        "$$\n",
        "\\text{Tr}(M) = \\text{Tr}(AB)\n",
        "= \\sum_{i=1}^m \\sum_{j=1}^n A_{ij} B_{ji}\n",
        "$$\n",
        "\n",
        "so evaluation of the trace is $O(mn)$.\n",
        "\n",
        "Note that, by cyclicity of the trace, we can also show that $\\text{Tr}(M) = \\text{Tr}(BA)$ (although we don't even need to calculate the product $AB$ to evaluate the trace).\n",
        "</details>\n",
        "\n",
        "**Question - how can you easily compute the eigenvalues of $M$?**\n",
        "\n",
        "(As you'll see in later exercises, eigenvalues are very important for evaluating matrices, for instance we can assess the [copying scores](https://transformer-circuits.pub/2021/framework/index.html#copying-matrix) of an OV circuit by looking at the eigenvalues of $W_{OV}$.)\n",
        "\n",
        "<details>\n",
        "<summary>Hint</summary>\n",
        "\n",
        "It's computationally cheaper to find the eigenvalues of $BA$ rather than $AB$.\n",
        "\n",
        "How are the eigenvalues of $AB$ and $BA$ related?\n",
        "</details>\n",
        "<details>\n",
        "<summary>Answer</summary>\n",
        "\n",
        "The eigenvalues of $AB$ and $BA$ are related as follows: if $\\mathbf{v}$ is an eigenvector of $AB$ with $ABv = \\lambda \\mathbf{v}$, then $B\\mathbf{v}$ is an eigenvector of $BA$ with the same eigenvalue:\n",
        "\n",
        "$$\n",
        "BA(B\\mathbf{v}) = B (AB\\mathbf{v}) = B (\\lambda \\mathbf{v}) = \\lambda (B\\mathbf{v})\n",
        "$$\n",
        "\n",
        "This only fails when $B\\mathbf{v} = \\mathbf{0}$, but in this case $AB\\mathbf{v} = \\mathbf{0}$ so $\\lambda = 0$. Thus, we can conclude that any non-zero eigenvalues of $AB$ are also eigenvalues of $BA$.\n",
        "\n",
        "It's much computationally cheaper to compute the eigenvalues of $BA$ (since it's a much smaller matrix), and this gives us all the non-zero eigenvalues of $AB$.\n",
        "</details>\n",
        "\n",
        "**Question (hard) - how can you easily compute the SVD of $M$?**\n",
        "\n",
        "<details>\n",
        "<summary>Hint</summary>\n",
        "\n",
        "For a size-$(m, n)$ matrix with $m > n$, the [algorithmic complexity of finding SVD](https://en.wikipedia.org/wiki/Singular_value_decomposition#Numerical_approach) is $O(mn^2)$. So it's relatively cheap to find the SVD of $A$ and $B$ (complexity $mn^2$ vs $m^3$). Can you use that to find the SVD of $M$?\n",
        "</details>\n",
        "\n",
        "\n",
        "<details>\n",
        "<summary>Answer</summary>\n",
        "\n",
        "It's much cheaper to compute the SVD of the small matrices $A$ and $B$. Denote these SVDs by:\n",
        "\n",
        "$$\n",
        "\\begin{aligned}\n",
        "A &= U_A S_A V_A^T \\\\\n",
        "B &= U_B S_B V_B^T\n",
        "\\end{aligned}\n",
        "$$\n",
        "\n",
        "where $U_A$ and $V_B$ are $(m, n)$, and the other matrices are $(n, n)$.\n",
        "\n",
        "Then we have:\n",
        "\n",
        "$$\n",
        "\\begin{aligned}\n",
        "\\quad\\quad\\quad\\quad M &= AB \\\\\n",
        "&= U_A (S_A V_A^T U_B S_B) V_B^T\n",
        "\\end{aligned}\n",
        "$$\n",
        "\n",
        "Note that the matrix in the middle has size $(n, n)$ (i.e. small), so we can compute its SVD cheaply:\n",
        "\n",
        "$$\n",
        "\\begin{aligned}\n",
        "\\; S_A V_A^T U_B S_B &= U' S' {V'}^T \\quad\\quad\\quad\\quad\\quad\n",
        "\\end{aligned}\n",
        "$$\n",
        "\n",
        "and finally, this gives us the SVD of $M$:\n",
        "\n",
        "$$\n",
        "\\begin{aligned}\n",
        "\\quad\\quad M &= U_A U' S' {V'}^T V_B^T \\\\\n",
        "&= U S {V'}^T\n",
        "\\end{aligned}\n",
        "$$\n",
        "\n",
        "where $U = U_A U'$, $V = V_B V'$, and $S = S'$.\n",
        "\n",
        "All our SVD calculations and matrix multiplications had complexity at most $O(mn^2)$, which is much better than $O(m^3)$ (remember that we don't need to compute all the values of $U = U_A U'$, only the ones which correspond to non-zero singular values).\n",
        "</details>\n",
        "\n",
        "If you're curious, you can go to the `FactoredMatrix` documentation to see the implementation of the SVD calculation, as well as other properties and operations."
      ]
    },
    {
      "cell_type": "markdown",
      "metadata": {
        "id": "xzIBjq0ZRp64"
      },
      "source": [
        "Now that we've discussed some of the motivations behind having a `FactoredMatrix` class, let's see it in action.\n",
        "\n",
        "### Basic Examples\n",
        "\n",
        "We can use the basic class directly - let's make a factored matrix directly and look at the basic operations:"
      ]
    },
    {
      "cell_type": "code",
      "execution_count": null,
      "metadata": {
        "id": "Duf6Ow_JRp64"
      },
      "outputs": [],
      "source": [
        "A = t.randn(5, 2)\n",
        "B = t.randn(2, 5)\n",
        "AB = A @ B\n",
        "AB_factor = FactoredMatrix(A, B)\n",
        "print(\"Norms:\")\n",
        "print(AB.norm())\n",
        "print(AB_factor.norm())\n",
        "\n",
        "print(f\"Right dimension: {AB_factor.rdim}, Left dimension: {AB_factor.ldim}, Hidden dimension: {AB_factor.mdim}\")"
      ]
    },
    {
      "cell_type": "markdown",
      "metadata": {
        "id": "53nhPs2BRp64"
      },
      "source": [
        "We can also look at the eigenvalues and singular values of the matrix. Note that, because the matrix is rank 2 but 5 by 5, the final 3 eigenvalues and singular values are zero - the factored class omits the zeros."
      ]
    },
    {
      "cell_type": "code",
      "execution_count": null,
      "metadata": {
        "id": "rWcVhU-FRp64"
      },
      "outputs": [],
      "source": [
        "print(\"Eigenvalues:\")\n",
        "print(t.linalg.eig(AB).eigenvalues)\n",
        "print(AB_factor.eigenvalues)\n",
        "\n",
        "print(\"\\nSingular Values:\")\n",
        "print(t.linalg.svd(AB).S)\n",
        "print(AB_factor.S)\n",
        "\n",
        "print(\"\\nFull SVD:\")\n",
        "print(AB_factor.svd())"
      ]
    },
    {
      "cell_type": "markdown",
      "metadata": {
        "id": "98mj2KH7Rp65"
      },
      "source": [
        "<details>\n",
        "<summary>Aside - the sizes of objects returned by the SVD method.</summary>\n",
        "\n",
        "If $M = USV^T$, and `M.shape = (m, n)` and the rank is `r`, then the SVD method returns the matrices $U, S, V$. They have shape `(m, r)`, `(r,)`, and `(n, r)` respectively, because:\n",
        "\n",
        "* We don't bother storing the off-diagonal entries of $S$, since they're all zero.\n",
        "* We don't bother storing the columns of $U$ and $V$ which correspond to zero singular values, since these won't affect the value of $USV^T$.\n",
        "</details>\n",
        "\n",
        "We can multiply a factored matrix with an unfactored matrix to get another factored matrix (as in example below). We can also multiply two factored matrices together to get another factored matrix."
      ]
    },
    {
      "cell_type": "code",
      "execution_count": null,
      "metadata": {
        "id": "UZf39r0gRp65"
      },
      "outputs": [],
      "source": [
        "C = t.randn(5, 300)\n",
        "ABC = AB @ C\n",
        "ABC_factor = AB_factor @ C\n",
        "\n",
        "print(f\"Unfactored: shape={ABC.shape}, norm={ABC.norm()}\")\n",
        "print(f\"Factored: shape={ABC_factor.shape}, norm={ABC_factor.norm()}\")\n",
        "print(f\"\\nRight dimension: {ABC_factor.rdim}, Left dimension: {ABC_factor.ldim}, Hidden dimension: {ABC_factor.mdim}\")"
      ]
    },
    {
      "cell_type": "markdown",
      "metadata": {
        "id": "2iL5SoINRp65"
      },
      "source": [
        "If we want to collapse this back to an unfactored matrix, we can use the `AB` property to get the product:"
      ]
    },
    {
      "cell_type": "code",
      "execution_count": null,
      "metadata": {
        "id": "i2aDlWHfRp65"
      },
      "outputs": [],
      "source": [
        "AB_unfactored = AB_factor.AB\n",
        "t.testing.assert_close(AB_unfactored, AB)"
      ]
    },
    {
      "cell_type": "markdown",
      "metadata": {
        "id": "hHe90kqxRp65"
      },
      "source": [
        "## Reverse-engineering circuits\n",
        "\n",
        "Within our induction circuit, we have four individual circuits: the OV and QK circuits in our previous token head, and the OV and QK circuits in our induction head. In the following sections of the exercise, we'll reverse-engineer each of these circuits in turn.\n",
        "\n",
        "* In the section **OV copying circuit**, we'll look at the layer-1 OV circuit.\n",
        "* In the section **QK prev-token circuit**, we'll look at the layer-0 QK circuit.\n",
        "* The third section (**K-composition**) is a bit trickier, because it involves looking at the composition of the layer-0 OV circuit **and** layer-1 QK circuit. We will have to do two things:\n",
        "    1. Show that these two circuits are composing (i.e. that the output of the layer-0 OV circuit is the main determinant of the key vectors in the layer-1 QK circuit).\n",
        "    2. Show that the joint operation of these two circuits is \"make the second instance of a token attend to the token *following* an earlier instance.\n",
        "\n",
        "The dropdown below contains a diagram explaining how the three sections relate to the different components of the induction circuit. You might have to open it in a new tab to see it clearly.\n",
        "\n",
        "<details>\n",
        "<summary>Diagram</summary>\n",
        "\n",
        "![kcomp](https://raw.githubusercontent.com/info-arena/ARENA_img/main/misc/kcomp_diagram_described_2_new.png)\n",
        "</details>\n",
        "\n",
        "After this, we'll have a look at composition scores, which are a more mathematically justified way of showing that two attention heads are composing (without having to look at their behaviour on any particular class of inputs, since it is a property of the actual model weights)."
      ]
    },
    {
      "cell_type": "markdown",
      "metadata": {
        "id": "8hz7WbEjRp65"
      },
      "source": [
        "## [1] OV copying circuit\n",
        "\n",
        "Let's start with an easy parts of the circuit - the copying OV circuit of `1.4` and `1.10`. Let's start with head 4. The only interpretable (read: **privileged basis**) things here are the input tokens and output logits, so we want to study the matrix:\n",
        "\n",
        "$$\n",
        "W_E W_{OV}^{1.4} W_U\n",
        "$$\n",
        "\n",
        "(and same for `1.10`). This is the $(d_\\text{vocab}, d_\\text{vocab})$-shape matrix that combines with the attention pattern to get us from input to output.\n",
        "\n",
        "We want to calculate this matrix, and inspect it. We should find that its diagonal values are very high, and its non-diagonal values are much lower.\n",
        "\n",
        "**Question - why should we expect this observation?** (you may find it helpful to refer back to the previous section, where you described what the interpretation of different matrices was.)\n",
        "\n",
        "<details>\n",
        "<summary>Hint</summary>\n",
        "\n",
        "Suppose our repeating sequence is `A B ... A B`. Let $A$, $B$ be the corresponding one-hot encoded tokens. The `B`-th row of this matrix is:\n",
        "\n",
        "$$\n",
        "B^T W_E W_{OV}^{1.4} W_U\n",
        "$$\n",
        "\n",
        "What is the interpretation of this expression, in the context of our attention head?\n",
        "</details>\n",
        "\n",
        "<!-- <details> -->\n",
        "<summary>Answer</summary>\n",
        "\n",
        "If our repeating sequence is `A B ... A B`, then:\n",
        "\n",
        "$$\n",
        "B^T W_E W_{OV}^{1.4} W_U\n",
        "$$\n",
        "\n",
        "is the **vector of logits which gets moved from the first `B` token to the second `A` token, to be used as the prediction for the token following the second `A` token**. It should result in a high prediction for `B`, and a low prediction for everything else. In other words, the `(B, X)`-th element of this matrix should be highest for `X=B`, which is exactly what we claimed.\n",
        "\n",
        "If this still seems confusing, the diagram below might help:\n",
        "\n",
        "<img src=\"https://raw.githubusercontent.com/info-arena/ARENA_img/main/misc/kcomp_diagram_described-OV-v3.png\" width=\"750\">\n",
        "\n",
        "</details>"
      ]
    },
    {
      "cell_type": "markdown",
      "metadata": {
        "id": "333RDisURp65"
      },
      "source": [
        "### Exercise - compute OV circuit for `1.4`\n",
        "\n",
        "> ```yaml\n",
        "> Difficulty: 🔴🔴⚪⚪⚪\n",
        "> Importance: 🔵🔵🔵⚪⚪\n",
        ">\n",
        "> You should spend up to ~10~ minutes on this exercise.\n",
        "> ```\n",
        "\n",
        "*This is the first of several similar exercises where you calculate a circuit by multiplying matrices. This exercise is pretty important (in particular, you should make sure you understand what this matrix represents and why we're interested in it), but the actual calculation shouldn't take very long.*"
      ]
    },
    {
      "cell_type": "markdown",
      "metadata": {
        "id": "X6wpetmTRp65"
      },
      "source": [
        "You should compute it as a `FactoredMatrix` object.\n",
        "\n",
        "Remember, you can access the model's weights directly e.g. using `model.W_E` or `model.W_Q` (the latter gives you all the `W_Q` matrices, indexed by layer and head)."
      ]
    },
    {
      "cell_type": "code",
      "execution_count": null,
      "metadata": {
        "id": "jCRe6IP4Rp65"
      },
      "outputs": [],
      "source": [
        "head_index = 4\n",
        "layer = 1\n",
        "\n",
        "# YOUR CODE HERE - compte the `full_OV_circuit` object\n",
        "\n",
        "tests.test_full_OV_circuit(full_OV_circuit, model, layer, head_index)"
      ]
    },
    {
      "cell_type": "markdown",
      "metadata": {
        "id": "jU6FMSJQRp65"
      },
      "source": [
        "<details>\n",
        "<summary>Help - I'm not sure how to use this class to compute a product of more than 2 matrices.</summary>\n",
        "\n",
        "You can compute it directly, as:\n",
        "\n",
        "```python\n",
        "full_OV_circuit = FactoredMatrix(W_E @ W_V, W_O @ W_U)\n",
        "```\n",
        "\n",
        "Alternatively, another nice feature about the `FactoredMatrix` class is that you can chain together matrix multiplications. The following code defines exactly the same `FactoredMatrix` object:\n",
        "\n",
        "```python\n",
        "OV_circuit = FactoredMatrix(W_V, W_O)\n",
        "full_OV_circuit = W_E @ OV_circuit @ W_U\n",
        "```\n",
        "</details>\n",
        "\n",
        "\n",
        "<details><summary>Solution</summary>\n",
        "\n",
        "```python\n",
        "head_index = 4\n",
        "layer = 1\n",
        "\n",
        "W_O = model.W_O[layer, head_index]\n",
        "W_V = model.W_V[layer, head_index]\n",
        "W_E = model.W_E\n",
        "W_U = model.W_U\n",
        "\n",
        "OV_circuit = FactoredMatrix(W_V, W_O)\n",
        "full_OV_circuit = W_E @ OV_circuit @ W_U\n",
        "```\n",
        "</details>"
      ]
    },
    {
      "cell_type": "markdown",
      "metadata": {
        "id": "R9ZCFWgTRp65"
      },
      "source": [
        "Now we want to check that this matrix is the identity. Since it's in factored matrix form, this is a bit tricky, but there are still things we can do.\n",
        "\n",
        "First, to validate that it looks diagonal-ish, let's pick 200 random rows and columns and visualise that - it should at least look identity-ish here! We're using the indexing method of the `FactoredMatrix` class - you can index into it before returning the actual `.AB` value, to avoid having to compute the whole thing (we take advantage of the fact that `A[left_indices, :] @ B[:, right_indices]` is the same as `(A @ B)[left_indices, right_indices]`)."
      ]
    },
    {
      "cell_type": "code",
      "execution_count": null,
      "metadata": {
        "id": "0Dk0Zko8Rp65"
      },
      "outputs": [],
      "source": [
        "indices = t.randint(0, model.cfg.d_vocab, (200,))\n",
        "full_OV_circuit_sample = full_OV_circuit[indices, indices].AB\n",
        "\n",
        "imshow(\n",
        "    full_OV_circuit_sample,\n",
        "    labels={\"x\": \"Logits on output token\", \"y\": \"Input token\"},\n",
        "    title=\"Full OV circuit for copying head\",\n",
        "    width=700,\n",
        "    height=600,\n",
        ")"
      ]
    },
    {
      "cell_type": "markdown",
      "metadata": {
        "id": "2JT8nFCMRp65"
      },
      "source": [
        "<details>\n",
        "<summary>Aside - indexing factored matrices</summary>\n",
        "\n",
        "Yet another nice thing about factored matrices is that you can evaluate small submatrices without having to compute the entire matrix. This is based on the fact that the `[i, j]`-th element of matrix `AB` is `A[i, :] @ B[:, j]`."
      ]
    },
    {
      "cell_type": "markdown",
      "metadata": {
        "id": "wDDOnL5oRp65"
      },
      "source": [
        "### Exercise - compute circuit accuracy\n",
        "\n",
        "> ```yaml\n",
        "> Difficulty: 🔴🔴⚪⚪⚪\n",
        "> Importance: 🔵🔵⚪⚪⚪\n",
        ">\n",
        "> You should spend approximately 10-15 minutes on this exercise.\n",
        "> ```\n",
        "\n",
        "When you index a factored matrix, you get back another factored matrix. So rather than explicitly calculating `A[left_indices, :] @ B[:, left_indices]`, we can just write `AB[left_indices, left_indices]`.\n",
        "</details>\n",
        "\n",
        "You should observe a pretty distinct diagonal pattern here, which is a good sign. However, the matrix is pretty noisy so it probably won't be exactly the identity. Instead, we should come up with a summary statistic to capture a rough sense of \"closeness to the identity\".\n",
        "\n",
        "**Accuracy** is a good summary statistic - what fraction of the time is the largest logit in a row on the diagonal? Even if there's lots of noise, you'd probably still expect the largest logit to be on the diagonal a good deal of the time.\n",
        "\n",
        "If you're on a Colab or have a powerful GPU, you should be able to compute the full matrix and perform this test. However, it's better practice to iterate through this matrix when we can, so that we avoid CUDA issues. We've given you a `batch_size` argument in the function below, and you should try to only explicitly calculate matrices of size `d_vocab * batch_size` rather than the massive matrix of `d_vocab * d_vocab`."
      ]
    },
    {
      "cell_type": "code",
      "execution_count": null,
      "metadata": {
        "id": "mCjcUPYNRp66"
      },
      "outputs": [],
      "source": [
        "def top_1_acc(full_OV_circuit: FactoredMatrix, batch_size: int = 1000) -> float:\n",
        "    \"\"\"\n",
        "    Compute the argmax of each column (ie over dim=0) and return the fraction of the time that the maximum value is on\n",
        "    the circuit diagonal.\n",
        "    \"\"\"\n",
        "    raise NotImplementedError()\n",
        "\n",
        "\n",
        "print(f\"Fraction of the time that the best logit is on the diagonal: {top_1_acc(full_OV_circuit):.4f}\")"
      ]
    },
    {
      "cell_type": "markdown",
      "metadata": {
        "id": "eCch1hKxRp66"
      },
      "source": [
        "<details><summary>Solution</summary>\n",
        "\n",
        "```python\n",
        "def top_1_acc(full_OV_circuit: FactoredMatrix, batch_size: int = 1000) -> float:\n",
        "    \"\"\"\n",
        "    Compute the argmax of each column (ie over dim=0) and return the fraction of the time that the maximum value is on\n",
        "    the circuit diagonal.\n",
        "    \"\"\"\n",
        "    total = 0\n",
        "\n",
        "    for indices in t.split(t.arange(full_OV_circuit.shape[0], device=device), batch_size):\n",
        "        AB_slice = full_OV_circuit[indices].AB\n",
        "        total += (t.argmax(AB_slice, dim=1) == indices).float().sum().item()\n",
        "\n",
        "    return total / full_OV_circuit.shape[0]\n",
        "```\n",
        "</details>"
      ]
    },
    {
      "cell_type": "markdown",
      "metadata": {
        "id": "rRYpzSfjRp66"
      },
      "source": [
        "This should return about 30.79% - pretty underwhelming. It goes up to 47.73% for top-5, but still not great. What's up with that?"
      ]
    },
    {
      "cell_type": "markdown",
      "metadata": {
        "id": "Xg3NRAyNRp66"
      },
      "source": [
        "### Exercise - compute effective circuit\n",
        "\n",
        "> ```yaml\n",
        "> Difficulty: 🔴🔴⚪⚪⚪\n",
        "> Importance: 🔵🔵🔵⚪⚪\n",
        ">\n",
        "> You shouldn't spend more than 5-10 minutes on this exercise.\n",
        ">\n",
        "> This exercise should be very short; it only requires 2 lines of code. Understanding it conceptually is more important than the actual coding.\n",
        "> ```"
      ]
    },
    {
      "cell_type": "markdown",
      "metadata": {
        "id": "Q_nbSZEpRp66"
      },
      "source": [
        "Now we return to why we have *two* induction heads. If both have the same attention pattern, the effective OV circuit is actually $W_E(W_V^{1.4}W_O^{1.4}+W_V^{1.10}W_O^{1.10})W_U$, and this is what matters. So let's re-run our analysis on this!\n",
        "\n",
        "<img src=\"https://raw.githubusercontent.com/info-arena/ARENA_img/main/misc/effective_ov_circuit.png\" width=\"650\">"
      ]
    },
    {
      "cell_type": "markdown",
      "metadata": {
        "id": "NxKqfYGRRp66"
      },
      "source": [
        "<details>\n",
        "<summary>Question - why might the model want to split the circuit across two heads?</summary>\n",
        "\n",
        "Because $W_V W_O$ is a rank 64 matrix. The sum of two is a rank 128 matrix. This can be a significantly better approximation to the desired 50K x 50K matrix!\n",
        "</details>"
      ]
    },
    {
      "cell_type": "code",
      "execution_count": null,
      "metadata": {
        "id": "u39I7KTORp66"
      },
      "outputs": [],
      "source": [
        "# YOUR CODE HERE - compute the effective OV circuit, and run `top_1_acc` on it"
      ]
    },
    {
      "cell_type": "markdown",
      "metadata": {
        "id": "msfFDhj1Rp66"
      },
      "source": [
        "<details>\n",
        "<summary>Expected output</summary>\n",
        "\n",
        "You should get an accuracy of 95.6% for top-1, and 98% for top-5 - much better!\n",
        "</details>\n",
        "\n",
        "\n",
        "<details><summary>Solution</summary>\n",
        "\n",
        "```python\n",
        "W_O_both = einops.rearrange(model.W_O[1, [4, 10]], \"head d_head d_model -> (head d_head) d_model\")\n",
        "W_V_both = einops.rearrange(model.W_V[1, [4, 10]], \"head d_model d_head -> d_model (head d_head)\")\n",
        "\n",
        "W_OV_eff = W_E @ FactoredMatrix(W_V_both, W_O_both) @ W_U\n",
        "\n",
        "print(f\"Fraction of the time that the best logit is on the diagonal: {top_1_acc(W_OV_eff):.4f}\")\n",
        "```\n",
        "</details>"
      ]
    },
    {
      "cell_type": "markdown",
      "metadata": {
        "id": "ynovVpi-Rp66"
      },
      "source": [
        "## [2] QK prev-token circuit\n",
        "\n",
        "The other easy circuit is the QK-circuit of L0H7 - how does it know to be a previous token circuit?\n",
        "\n",
        "We can multiply out the full QK circuit via the positional embeddings:\n",
        "\n",
        "$$\n",
        "W_\\text{pos} W_Q^{0.7} (W_K^{0.7})^T W_\\text{pos}^T\n",
        "$$\n",
        "\n",
        "to get a matrix `pos_by_pos` of shape `[max_ctx, max_ctx]` (max ctx = max context length, i.e. maximum length of a sequence we're allowing, which is set by our choice of dimensions in $W_\\text{pos}$).\n",
        "\n",
        "Note that in this case, our max context window is 2048 (we can check this via `model.cfg.n_ctx`). This is much smaller than the 50k-size matrices we were working with in the previous section, so we shouldn't need to use the factored matrix class here."
      ]
    },
    {
      "cell_type": "markdown",
      "metadata": {
        "id": "FZEAeOr0Rp66"
      },
      "source": [
        "### Exercise - interpret full QK-circuit for `0.7`\n",
        "\n",
        "> ```yaml\n",
        "> Difficulty: 🔴🔴🔴⚪⚪\n",
        "> Importance: 🔵🔵🔵⚪⚪\n",
        ">\n",
        "> You shouldn't spend more than 10-15 minutes on this exercise.\n",
        "> ```\n",
        "\n",
        "The code below plots the full QK circuit for head `0.7` (including a scaling and softmax step, which is meant to mirror how the QK bilinear form will be used in actual attention layers). You should run the code, and interpret the results in the context of the induction circuit."
      ]
    },
    {
      "cell_type": "code",
      "execution_count": null,
      "metadata": {
        "id": "ipUzqAvoRp66"
      },
      "outputs": [],
      "source": [
        "layer = 0\n",
        "head_index = 7\n",
        "\n",
        "# Compute full QK matrix (for positional embeddings)\n",
        "W_pos = model.W_pos\n",
        "W_QK = model.W_Q[layer, head_index] @ model.W_K[layer, head_index].T\n",
        "pos_by_pos_scores = W_pos @ W_QK @ W_pos.T\n",
        "\n",
        "# Mask, scale and softmax the scores\n",
        "mask = t.tril(t.ones_like(pos_by_pos_scores)).bool()\n",
        "pos_by_pos_pattern = t.where(mask, pos_by_pos_scores / model.cfg.d_head**0.5, -1.0e6).softmax(-1)\n",
        "\n",
        "# Plot the results\n",
        "print(f\"Avg lower-diagonal value: {pos_by_pos_pattern.diag(-1).mean():.4f}\")\n",
        "imshow(\n",
        "    utils.to_numpy(pos_by_pos_pattern[:200, :200]),\n",
        "    labels={\"x\": \"Key\", \"y\": \"Query\"},\n",
        "    title=\"Attention patterns for prev-token QK circuit, first 100 indices\",\n",
        "    width=700,\n",
        "    height=600,\n",
        ")"
      ]
    },
    {
      "cell_type": "markdown",
      "metadata": {
        "id": "YeWo7h1HRp66"
      },
      "source": [
        "## [3] K-composition circuit\n",
        "\n",
        "We now dig into the hard part of the circuit - demonstrating the K-Composition between the previous token head and the induction head.\n",
        "\n",
        "#### Splitting activations\n",
        "\n",
        "We can repeat the trick from the logit attribution scores. The QK-input for layer 1 is the sum of 14 terms (2+n_heads) - the token embedding, the positional embedding, and the results of each layer 0 head. So for each head $\\text{H}$ in layer 1, the query tensor (ditto key) corresponding to sequence position $i$ is:\n",
        "\n",
        "$$\n",
        "\\begin{align*}\n",
        "x W^\\text{1.H}_Q &= (e + pe + \\sum_{h=0}^{11} x^\\text{0.h}) W^\\text{1.H}_Q \\\\\n",
        "&= e W^\\text{1.H}_Q + pe W^\\text{1.H}_Q + \\sum_{h=0}^{11} x^\\text{0.h} W^\\text{1.H}_Q\n",
        "\\end{align*}\n",
        "$$\n",
        "\n",
        "where $e$ stands for the token embedding, $pe$ for the positional embedding, and $x^\\text{0.h}$ for the output of head $h$ in layer 0 (and the sum of these tensors equals the residual stream $x$). All these tensors have shape `[seq, d_model]`. So we can treat the expression above as a sum of matrix multiplications `[seq, d_model] @ [d_model, d_head] -> [seq, d_head]`.\n",
        "\n",
        "For ease of notation, I'll refer to the 14 inputs as $(y_0, y_1, ..., y_{13})$ rather than $(e, pe, x^\\text{0.h}, ..., x^{h.11})$. So we have:\n",
        "\n",
        "$$\n",
        "x W^h_Q = \\sum_{i=0}^{13} y_i W^h_Q\n",
        "$$\n",
        "\n",
        "with each $y_i$ having shape `[seq, d_model]`, and the sum of $y_i$s being the full residual stream $x$. Here is a diagram to illustrate:\n",
        "\n",
        "<img src=\"https://raw.githubusercontent.com/info-arena/ARENA_img/main/misc/components.png\" width=\"520\">"
      ]
    },
    {
      "cell_type": "markdown",
      "metadata": {
        "id": "ijl5fOiQRp66"
      },
      "source": [
        "### Exercise - analyse the relative importance\n",
        "\n",
        "> ```yaml\n",
        "> Difficulty: 🔴🔴🔴🔴⚪\n",
        "> Importance: 🔵🔵🔵🔵⚪\n",
        ">\n",
        "> You shouldn't spend more than 15-25 minutes on these exercises.\n",
        "> Most of these functions just involve indexing and einsums, but conceptual understanding / figuring out exactly what the question is asking for is the hard part!\n",
        "> ```\n",
        "\n",
        "We can now analyse the relative importance of these 14 terms! A very crude measure is to take the norm of each term (by component and position).\n",
        "\n",
        "Note that this is a pretty dodgy metric - q and k are not inherently interpretable! But it can be a good and easy-to-compute proxy.\n",
        "\n",
        "<details>\n",
        "<summary>Question - why are Q and K not inherently interpretable? Why might the norm be a good metric in spite of this?</summary>\n",
        "\n",
        "They are not inherently interpretable because they operate on the residual stream, which doesn't have a **privileged basis**. You could stick a rotation matrix $R$ after all of the $Q$, $K$ and $V$ weights (and stick a rotation matrix before everything that writes to the residual stream), and the model would still behave exactly the same.\n",
        "\n",
        "The reason taking the norm is still a reasonable thing to do is that, despite the individual elements of these vectors not being inherently interpretable, it's still a safe bet that if they are larger than they will have a greater overall effect on the residual stream. So looking at the norm doesn't tell us how they work, but it does indicate which ones are more important.\n",
        "</details>\n",
        "\n",
        "Fill in the functions below:"
      ]
    },
    {
      "cell_type": "code",
      "execution_count": null,
      "metadata": {
        "id": "Mz-nFP3uRp66"
      },
      "outputs": [],
      "source": [
        "def decompose_qk_input(cache: ActivationCache) -> Float[Tensor, \"n_heads+2 posn d_model\"]:\n",
        "    \"\"\"\n",
        "    Retrieves all the input tensors to the first attention layer, and concatenates them along the 0th dim.\n",
        "\n",
        "    The [i, 0, 0]th element is y_i (from notation above). The sum of these tensors along the 0th dim should\n",
        "    be the input to the first attention layer.\n",
        "    \"\"\"\n",
        "    raise NotImplementedError()\n",
        "\n",
        "\n",
        "def decompose_q(\n",
        "    decomposed_qk_input: Float[Tensor, \"n_heads+2 posn d_model\"],\n",
        "    ind_head_index: int,\n",
        "    model: HookedTransformer,\n",
        ") -> Float[Tensor, \"n_heads+2 posn d_head\"]:\n",
        "    \"\"\"\n",
        "    Computes the tensor of query vectors for each decomposed QK input.\n",
        "\n",
        "    The [i, :, :]th element is y_i @ W_Q (so the sum along axis 0 is just the q-values).\n",
        "    \"\"\"\n",
        "    raise NotImplementedError()\n",
        "\n",
        "\n",
        "def decompose_k(\n",
        "    decomposed_qk_input: Float[Tensor, \"n_heads+2 posn d_model\"],\n",
        "    ind_head_index: int,\n",
        "    model: HookedTransformer,\n",
        ") -> Float[Tensor, \"n_heads+2 posn d_head\"]:\n",
        "    \"\"\"\n",
        "    Computes the tensor of key vectors for each decomposed QK input.\n",
        "\n",
        "    The [i, :, :]th element is y_i @ W_K(so the sum along axis 0 is just the k-values)\n",
        "    \"\"\"\n",
        "    raise NotImplementedError()\n",
        "\n",
        "\n",
        "# Recompute rep tokens/logits/cache, if we haven't already\n",
        "seq_len = 50\n",
        "batch_size = 1\n",
        "(rep_tokens, rep_logits, rep_cache) = run_and_cache_model_repeated_tokens(model, seq_len, batch_size)\n",
        "rep_cache.remove_batch_dim()\n",
        "\n",
        "ind_head_index = 4\n",
        "\n",
        "# First we get decomposed q and k input, and check they're what we expect\n",
        "decomposed_qk_input = decompose_qk_input(rep_cache)\n",
        "decomposed_q = decompose_q(decomposed_qk_input, ind_head_index, model)\n",
        "decomposed_k = decompose_k(decomposed_qk_input, ind_head_index, model)\n",
        "t.testing.assert_close(\n",
        "    decomposed_qk_input.sum(0), rep_cache[\"resid_pre\", 1] + rep_cache[\"pos_embed\"], rtol=0.01, atol=1e-05\n",
        ")\n",
        "t.testing.assert_close(decomposed_q.sum(0), rep_cache[\"q\", 1][:, ind_head_index], rtol=0.01, atol=0.001)\n",
        "t.testing.assert_close(decomposed_k.sum(0), rep_cache[\"k\", 1][:, ind_head_index], rtol=0.01, atol=0.01)\n",
        "\n",
        "# Second, we plot our results\n",
        "component_labels = [\"Embed\", \"PosEmbed\"] + [f\"0.{h}\" for h in range(model.cfg.n_heads)]\n",
        "for decomposed_input, name in [(decomposed_q, \"query\"), (decomposed_k, \"key\")]:\n",
        "    imshow(\n",
        "        utils.to_numpy(decomposed_input.pow(2).sum([-1])),\n",
        "        labels={\"x\": \"Position\", \"y\": \"Component\"},\n",
        "        title=f\"Norms of components of {name}\",\n",
        "        y=component_labels,\n",
        "        width=800,\n",
        "        height=400,\n",
        "    )"
      ]
    },
    {
      "cell_type": "markdown",
      "metadata": {
        "id": "PiyChaMCRp67"
      },
      "source": [
        "<details>\n",
        "<summary>What you should see</summary>\n",
        "\n",
        "\n",
        "You should see that the most important query components are the token and positional embeddings. The most important key components are those from $y_9$, which is $x_7$, i.e. from head `0.7`.\n",
        "\n",
        "</details>\n",
        "\n",
        "<details>\n",
        "<summary>A technical note on the positional embeddings - optional, feel free to skip this.</summary>\n",
        "\n",
        "You might be wondering why the tests compare the decomposed qk sum with the sum of the `resid_pre + pos_embed`, rather than just `resid_pre`. The answer lies in how we defined the transformer, specifically in this line from the config:\n",
        "\n",
        "```python\n",
        "positional_embedding_type=\"shortformer\"\n",
        "```\n",
        "\n",
        "The result of this is that the positional embedding isn't added to the residual stream. Instead, it's added as inputs to the Q and K calculation (i.e. we calculate `(resid_pre + pos_embed) @ W_Q` and same for `W_K`), but **not** as inputs to the V calculation (i.e. we just calculate `resid_pre @ W_V`). This isn't actually how attention works in general, but for our purposes it makes the analysis of induction heads cleaner because we don't have positional embeddings interfering with the OV circuit.\n",
        "\n",
        "**Question - this type of embedding actually makes it impossible for attention heads to form via Q-composition. Can you see why?**\n",
        "\n",
        "</details>\n",
        "\n",
        "\n",
        "<details><summary>Solution</summary>\n",
        "\n",
        "```python\n",
        "def decompose_qk_input(cache: ActivationCache) -> Float[Tensor, \"n_heads+2 posn d_model\"]:\n",
        "    \"\"\"\n",
        "    Retrieves all the input tensors to the first attention layer, and concatenates them along the 0th dim.\n",
        "\n",
        "    The [i, 0, 0]th element is y_i (from notation above). The sum of these tensors along the 0th dim should\n",
        "    be the input to the first attention layer.\n",
        "    \"\"\"\n",
        "    y0 = cache[\"embed\"].unsqueeze(0)  # shape (1, seq, d_model)\n",
        "    y1 = cache[\"pos_embed\"].unsqueeze(0)  # shape (1, seq, d_model)\n",
        "    y_rest = cache[\"result\", 0].transpose(0, 1)  # shape (12, seq, d_model)\n",
        "\n",
        "    return t.concat([y0, y1, y_rest], dim=0)\n",
        "\n",
        "\n",
        "def decompose_q(\n",
        "    decomposed_qk_input: Float[Tensor, \"n_heads+2 posn d_model\"],\n",
        "    ind_head_index: int,\n",
        "    model: HookedTransformer,\n",
        ") -> Float[Tensor, \"n_heads+2 posn d_head\"]:\n",
        "    \"\"\"\n",
        "    Computes the tensor of query vectors for each decomposed QK input.\n",
        "\n",
        "    The [i, :, :]th element is y_i @ W_Q (so the sum along axis 0 is just the q-values).\n",
        "    \"\"\"\n",
        "    W_Q = model.W_Q[1, ind_head_index]\n",
        "\n",
        "    return einops.einsum(decomposed_qk_input, W_Q, \"n seq d_model, d_model d_head -> n seq d_head\")\n",
        "\n",
        "\n",
        "def decompose_k(\n",
        "    decomposed_qk_input: Float[Tensor, \"n_heads+2 posn d_model\"],\n",
        "    ind_head_index: int,\n",
        "    model: HookedTransformer,\n",
        ") -> Float[Tensor, \"n_heads+2 posn d_head\"]:\n",
        "    \"\"\"\n",
        "    Computes the tensor of key vectors for each decomposed QK input.\n",
        "\n",
        "    The [i, :, :]th element is y_i @ W_K(so the sum along axis 0 is just the k-values)\n",
        "    \"\"\"\n",
        "    W_K = model.W_K[1, ind_head_index]\n",
        "\n",
        "    return einops.einsum(decomposed_qk_input, W_K, \"n seq d_model, d_model d_head -> n seq d_head\")\n",
        "\n",
        "\n",
        "# Recompute rep tokens/logits/cache, if we haven't already\n",
        "seq_len = 50\n",
        "batch_size = 1\n",
        "(rep_tokens, rep_logits, rep_cache) = run_and_cache_model_repeated_tokens(model, seq_len, batch_size)\n",
        "rep_cache.remove_batch_dim()\n",
        "\n",
        "ind_head_index = 4\n",
        "\n",
        "# First we get decomposed q and k input, and check they're what we expect\n",
        "decomposed_qk_input = decompose_qk_input(rep_cache)\n",
        "decomposed_q = decompose_q(decomposed_qk_input, ind_head_index, model)\n",
        "decomposed_k = decompose_k(decomposed_qk_input, ind_head_index, model)\n",
        "t.testing.assert_close(\n",
        "    decomposed_qk_input.sum(0), rep_cache[\"resid_pre\", 1] + rep_cache[\"pos_embed\"], rtol=0.01, atol=1e-05\n",
        ")\n",
        "t.testing.assert_close(decomposed_q.sum(0), rep_cache[\"q\", 1][:, ind_head_index], rtol=0.01, atol=0.001)\n",
        "t.testing.assert_close(decomposed_k.sum(0), rep_cache[\"k\", 1][:, ind_head_index], rtol=0.01, atol=0.01)\n",
        "\n",
        "# Second, we plot our results\n",
        "component_labels = [\"Embed\", \"PosEmbed\"] + [f\"0.{h}\" for h in range(model.cfg.n_heads)]\n",
        "for decomposed_input, name in [(decomposed_q, \"query\"), (decomposed_k, \"key\")]:\n",
        "    imshow(\n",
        "        utils.to_numpy(decomposed_input.pow(2).sum([-1])),\n",
        "        labels={\"x\": \"Position\", \"y\": \"Component\"},\n",
        "        title=f\"Norms of components of {name}\",\n",
        "        y=component_labels,\n",
        "        width=800,\n",
        "        height=400,\n",
        "    )\n",
        "```\n",
        "</details>"
      ]
    },
    {
      "cell_type": "markdown",
      "metadata": {
        "id": "kcz3jj17Rp69"
      },
      "source": [
        "This tells us which heads are probably important, but we can do better than that. Rather than looking at the query and key components separately, we can see how they combine together - i.e. take the decomposed attention scores.\n",
        "\n",
        "This is a bilinear function of q and k, and so we will end up with a `decomposed_scores` tensor with shape `[query_component, key_component, query_pos, key_pos]`, where summing along BOTH of the first axes will give us the original attention scores (pre-mask)."
      ]
    },
    {
      "cell_type": "markdown",
      "metadata": {
        "id": "uhUKI6ibRp69"
      },
      "source": [
        "### Exercise - decompose attention scores\n",
        "\n",
        "> ```yaml\n",
        "> Difficulty: 🔴🔴⚪⚪⚪\n",
        "> Importance: 🔵🔵🔵🔵⚪\n",
        ">\n",
        "> You shouldn't spend more than 5-10 minutes on this exercise.\n",
        "> Having already done the previous exercises, this one should be easier.\n",
        "> ```\n",
        "\n",
        "Implement the function giving the decomposed scores (remember to scale by `sqrt(d_head)`!) For now, don't mask it.\n",
        "\n",
        "<details>\n",
        "<summary>Question - why do I focus on the attention scores, not the attention pattern? (i.e. pre softmax not post softmax)</summary>\n",
        "\n",
        "Because the decomposition trick *only* works for things that are linear - softmax isn't linear and so we can no longer consider each component independently.\n",
        "</details>\n",
        "\n",
        "<details>\n",
        "<summary>Help - I'm confused about what we're doing / why we're doing it.</summary>\n",
        "\n",
        "Remember that each of our components writes to the residual stream separately. So after layer 1, we have:\n",
        "\n",
        "<img src=\"https://raw.githubusercontent.com/info-arena/ARENA_img/main/misc/components.png\" width=\"650\">\n",
        "\n",
        "We're particularly interested in the attention scores computed in head `1.4`, and how they depend on the inputs into that head. We've already decomposed the residual stream value $x$ into its terms $e$, $pe$, and $x^ 0$ through $x^{11}$ (which we've labelled $y_0, ..., y_{13}$ for simplicity), and we've done the same for key and query terms. We can picture these terms being passed into head `1.4` as:\n",
        "\n",
        "<img src=\"https://raw.githubusercontent.com/info-arena/ARENA_img/main/misc/components-2.png\" width=\"650\">\n",
        "\n",
        "So when we expand `attn_scores` out in full, they are a sum of $14^2 = 196$ terms - one for each combination of `(query_component, key_component)`.\n",
        "\n",
        "---\n",
        "\n",
        "#### Why is this decomposition useful?\n",
        "\n",
        "We have a theory about a particular circuit in our model. We think that head `1.4` is an induction head, and the most important components that feed into this head are the prev token head `0.7` (as key) and the token embedding (as query). This is already supported by the evidence of our magnitude plots above (because we saw that `0.7` as key and token embeddings as query were large), but we still don't know how this particular key and query work **together**; we've only looked at them separately.\n",
        "\n",
        "By decomposing `attn_scores` like this, we can check whether the contribution from combination `(query=tok_emb, key=0.7)` is indeed producing the characteristic induction head pattern which we've observed (and the other 195 terms don't really matter).\n",
        "</details>"
      ]
    },
    {
      "cell_type": "code",
      "execution_count": null,
      "metadata": {
        "id": "FMGx5CxwRp69"
      },
      "outputs": [],
      "source": [
        "def decompose_attn_scores(decomposed_q: t.Tensor, decomposed_k: t.Tensor) -> Tensor:\n",
        "    \"\"\"\n",
        "    Output is decomposed_scores with shape [query_component, key_component, query_pos, key_pos]\n",
        "\n",
        "    The [i, j, 0, 0]th element is y_i @ W_QK @ y_j^T (so the sum along both first axes are the attention scores)\n",
        "    \"\"\"\n",
        "    raise NotImplementedError()\n",
        "\n",
        "\n",
        "tests.test_decompose_attn_scores(decompose_attn_scores, decomposed_q, decomposed_k)"
      ]
    },
    {
      "cell_type": "markdown",
      "metadata": {
        "id": "eea86UHkRp6-"
      },
      "source": [
        "<details><summary>Solution</summary>\n",
        "\n",
        "```python\n",
        "def decompose_attn_scores(decomposed_q: t.Tensor, decomposed_k: t.Tensor) -> Tensor:\n",
        "    \"\"\"\n",
        "    Output is decomposed_scores with shape [query_component, key_component, query_pos, key_pos]\n",
        "\n",
        "    The [i, j, 0, 0]th element is y_i @ W_QK @ y_j^T (so the sum along both first axes are the attention scores)\n",
        "    \"\"\"\n",
        "    return einops.einsum(\n",
        "        decomposed_q,\n",
        "        decomposed_k,\n",
        "        \"q_comp q_pos d_model, k_comp k_pos d_model -> q_comp k_comp q_pos k_pos\",\n",
        "    )\n",
        "```\n",
        "</details>"
      ]
    },
    {
      "cell_type": "markdown",
      "metadata": {
        "id": "di32UWWQRp6-"
      },
      "source": [
        "Once these tests have passed, you can plot the results:"
      ]
    },
    {
      "cell_type": "code",
      "execution_count": null,
      "metadata": {
        "id": "XLddybCYRp6-"
      },
      "outputs": [],
      "source": [
        "decomposed_scores = decompose_attn_scores(decomposed_q, decomposed_k)\n",
        "decomposed_stds = einops.reduce(\n",
        "    decomposed_scores, \"query_decomp key_decomp query_pos key_pos -> query_decomp key_decomp\", t.std\n",
        ")\n",
        "\n",
        "# First plot: attention score contribution from (query_component, key_component) = (Embed, L0H7)\n",
        "imshow(\n",
        "    utils.to_numpy(t.tril(decomposed_scores[0, 9])),\n",
        "    title=\"Attention score contributions from query = embed, key = output of L0H7<br>(by query & key sequence positions)\",\n",
        "    width=700,\n",
        ")\n",
        "\n",
        "# Second plot: std dev over query and key positions, shown by component\n",
        "imshow(\n",
        "    utils.to_numpy(decomposed_stds),\n",
        "    labels={\"x\": \"Key Component\", \"y\": \"Query Component\"},\n",
        "    title=\"Std dev of attn score contributions across sequence positions<br>(by query & key component)\",\n",
        "    x=component_labels,\n",
        "    y=component_labels,\n",
        "    width=700,\n",
        ")"
      ]
    },
    {
      "cell_type": "markdown",
      "metadata": {
        "id": "ph6xQWgbRp6-"
      },
      "source": [
        "<details>\n",
        "<summary>Question - what is the interpretation of these plots?</summary>\n",
        "\n",
        "The first plot tells you that the term $e W_{QK}^{1.4} (x^{0.7})^T$ (i.e. the component of the attention scores for head `1.4` where the query is supplied by the token embeddings and the key is supplied by the output of head `0.7`) produces the distinctive attention pattern we see in the induction head: a strong diagonal stripe.\n",
        "\n",
        "Although this tells us that this this component would probably be sufficient to implement the induction mechanism, it doesn't tell us the whole story. Ideally, we'd like to show that the other 195 terms are unimportant. Taking the standard deviation across the attention scores for a particular pair of components is a decent proxy for how important this term is in the overall attention pattern. The second plot shows us that the standard deviation is very small for all the other components, so we can be confident that the other components are unimportant.\n",
        "\n",
        "To summarise:\n",
        "\n",
        "* The first plot tells us that the pair `(q_component=tok_emb, k_component=0.7)` produces the characteristic induction-head pattern we see in attention head `1.4`.\n",
        "* The second plot confirms that this pair is the only important one for influencing the attention pattern in `1.4`; all other pairs have very small contributions.\n",
        "</details>\n",
        "\n",
        "### Interpreting the full circuit\n",
        "\n",
        "Now we know that head `1.4` is composing with head `0.7` via K composition, we can multiply through to create a full circuit:\n",
        "\n",
        "$$\n",
        "W_E\\, W_{QK}^{1.4}\\, (W_{OV}^{0.7})^T\\, W_E^T\n",
        "$$\n",
        "\n",
        "and verify that it's the identity. (Note, when we say identity here, we're again thinking about it as a distribution over logits, so this should be taken to mean \"high diagonal values\", and we'll be using our previous metric of `top_1_acc`.)\n",
        "\n",
        "#### Question - why should this be the identity?\n",
        "\n",
        "<details>\n",
        "<summary>Answer</summary>\n",
        "\n",
        "This matrix is a bilinear form. Its diagonal elements $(A, A)$ are:\n",
        "\n",
        "$$\n",
        "A^T \\, W_E\\, W_{QK}^{1.4}\\, W_{OV}^{0.7}\\, W_E^T \\, A = \\underbrace{(A^T W_E W_Q^{1.4})}_{\\text{query}} \\underbrace{(A^T W_E W_{OV}^{0.7} W_K^{1.4})^T}_{\\text{key}}\n",
        "$$\n",
        "\n",
        "Intuitively, the query is saying **\"I'm looking for a token which followed $A$\"**, and the key is saying **\"I *am* a token which folllowed $A$\"** (recall that $A^T W_E W_{OV}^{0.7}$ is the vector which gets moved one position forward by our prev token head `0.7`).\n",
        "\n",
        "Now, consider the off-diagonal elements $(A, X)$ (for $X \\neq A$). We expect these to be small, because the key doesn't match the query:\n",
        "\n",
        "$$\n",
        "A^T \\, W_E\\, W_{QK}^{1.4}\\, W_{OV}^{0.7}\\, W_E^T \\, X = \\underbrace{(\\text{I'm looking for a token which followed A})}_\\text{query} \\boldsymbol{\\cdot} \\underbrace{(\\text{I am a token which followed X})}_{\\text{key}}\n",
        "$$\n",
        "\n",
        "\n",
        "Hence, we expect this to be the identity.\n",
        "\n",
        "An illustration:\n",
        "\n",
        "<img src=\"https://raw.githubusercontent.com/info-arena/ARENA_img/main/misc/kcomp_diagram_described-K-last.png\" width=\"700\">\n",
        "\n",
        "<!-- ![kcomp_diagram_described-K.png](https://raw.githubusercontent.com/info-arena/ARENA_img/main/misc/kcomp_diagram_described-K.png) -->\n",
        "</details>"
      ]
    },
    {
      "cell_type": "markdown",
      "metadata": {
        "id": "7qb7kPcMRp6-"
      },
      "source": [
        "### Exercise - compute the K-comp circuit\n",
        "\n",
        "> ```yaml\n",
        "> Difficulty: 🔴🔴🔴⚪⚪\n",
        "> Importance: 🔵🔵🔵🔵⚪\n",
        ">\n",
        "> You shouldn't spend more than 10-20 minutes on this exercise.\n",
        "> ```\n",
        "\n",
        "Calculate the matrix above, as a `FactoredMatrix` object.\n",
        "\n",
        "<details>\n",
        "<summary>Aside about multiplying FactoredMatrix objects together.</summary>\n",
        "\n",
        "If  `M1 = A1 @ B1` and `M2 = A2 @ B2` are factored matrices, then `M = M1 @ M2` returns a new factored matrix. This might be:\n",
        "\n",
        "```python\n",
        "FactoredMatrix(M1.AB @ M2.A, M2.B)\n",
        "```\n",
        "\n",
        "or it might be:\n",
        "\n",
        "```python\n",
        "FactoredMatrix(M1.A, M1.B @ M2.AB)\n",
        "```\n",
        "\n",
        "with these two objects corresponding to the factorisations $M = (A_1 B_1 A_2) (B_2)$ and $M = (A_1) (B_1 A_2 B_2)$ respectively.\n",
        "\n",
        "Which one gets returned depends on the size of the hidden dimension, e.g. `M1.mdim < M2.mdim` then the factorisation used will be $M = A_1 B_1 (A_2 B_2)$.\n",
        "\n",
        "Remember that both these factorisations are valid, and will give you the exact same SVD. The only reason to prefer one over the other is for computational efficiency (we prefer a smaller bottleneck dimension, because this determines the computational complexity of operations like finding SVD).\n",
        "</details>"
      ]
    },
    {
      "cell_type": "code",
      "execution_count": null,
      "metadata": {
        "id": "tMqM57LMRp6-"
      },
      "outputs": [],
      "source": [
        "def find_K_comp_full_circuit(\n",
        "    model: HookedTransformer, prev_token_head_index: int, ind_head_index: int\n",
        ") -> FactoredMatrix:\n",
        "    \"\"\"\n",
        "    Returns a (vocab, vocab)-size FactoredMatrix, with the first dimension being the query side (direct from token\n",
        "    embeddings) and the second dimension being the key side (going via the previous token head).\n",
        "    \"\"\"\n",
        "    raise NotImplementedError()\n",
        "\n",
        "\n",
        "prev_token_head_index = 7\n",
        "ind_head_index = 4\n",
        "K_comp_circuit = find_K_comp_full_circuit(model, prev_token_head_index, ind_head_index)\n",
        "\n",
        "tests.test_find_K_comp_full_circuit(find_K_comp_full_circuit, model)\n",
        "\n",
        "print(f\"Fraction of tokens where the highest activating key is the same token: {top_1_acc(K_comp_circuit.T):.4f}\")"
      ]
    },
    {
      "cell_type": "markdown",
      "metadata": {
        "id": "SI3hI4TYRp6-"
      },
      "source": [
        "<details><summary>Solution</summary>\n",
        "\n",
        "```python\n",
        "def find_K_comp_full_circuit(\n",
        "    model: HookedTransformer, prev_token_head_index: int, ind_head_index: int\n",
        ") -> FactoredMatrix:\n",
        "    \"\"\"\n",
        "    Returns a (vocab, vocab)-size FactoredMatrix, with the first dimension being the query side (direct from token\n",
        "    embeddings) and the second dimension being the key side (going via the previous token head).\n",
        "    \"\"\"\n",
        "    W_E = model.W_E\n",
        "    W_Q = model.W_Q[1, ind_head_index]\n",
        "    W_K = model.W_K[1, ind_head_index]\n",
        "    W_O = model.W_O[0, prev_token_head_index]\n",
        "    W_V = model.W_V[0, prev_token_head_index]\n",
        "\n",
        "    Q = W_E @ W_Q\n",
        "    K = W_E @ W_V @ W_O @ W_K\n",
        "    return FactoredMatrix(Q, K.T)\n",
        "```\n",
        "</details>"
      ]
    },
    {
      "cell_type": "markdown",
      "metadata": {
        "id": "2Ez8QiPrRp6-"
      },
      "source": [
        "You can also try this out for our other induction head `ind_head_index=10`, which should also return a relatively high result. Is it higher than for head `1.4` ?\n",
        "\n",
        "<details>\n",
        "<summary>Note - unlike last time, it doesn't make sense to consider the \"effective circuit\" formed by adding together the weight matrices for heads <code>1.4</code> and <code>1.10</code>. Can you see why?</summary>\n",
        "\n",
        "Because the weight matrices we're dealing with here are from the QK circuit, not the OV circuit. These don't get combined in a linear way; instead we take softmax over each head's QK-circuit output individually.\n",
        "</details>\n",
        "\n",
        "## Further Exploration of Induction Circuits\n",
        "\n",
        "I now consider us to have fully reverse engineered an induction circuit - by both interpreting the features and by reverse engineering the circuit from the weights. But there's a bunch more ideas that we can apply for finding circuits in networks that are fun to practice on induction heads, so here's some bonus content - feel free to skip to the later bonus ideas though.\n",
        "\n",
        "### Composition scores\n",
        "\n",
        "A particularly cool idea in the paper is the idea of [virtual weights](https://transformer-circuits.pub/2021/framework/index.html#residual-comms), or compositional scores. (Though I came up with it, so I'm deeply biased!). This is used [to identify induction heads](https://transformer-circuits.pub/2021/framework/index.html#analyzing-a-two-layer-model).\n",
        "\n",
        "The key idea of compositional scores is that the residual stream is a large space, and each head is reading and writing from small subspaces. By default, any two heads will have little overlap between their subspaces (in the same way that any two random vectors have almost zero dot product in a large vector space). But if two heads are deliberately composing, then they will likely want to ensure they write and read from similar subspaces, so that minimal information is lost. As a result, we can just directly look at \"how much overlap there is\" between the output space of the earlier head and the K, Q, or V input space of the later head.\n",
        "\n",
        "We represent the **output space** with $W_{OV}=W_V W_O$. Call matrices like this $W_A$.\n",
        "\n",
        "We represent the **input space** with $W_{QK}=W_Q W_K^T$ (for Q-composition), $W_{QK}^T=W_K  W_Q^T$ (for K-Composition) or $W_{OV}=W_V W_O$ (for V-Composition, of the later head). Call matrices like these $W_B$ (we've used this notation so that $W_B$ refers to a later head, and $W_A$ to an earlier head).\n",
        "\n",
        "<details>\n",
        "<summary>Help - I don't understand what motivates these definitions.</summary>\n",
        "\n",
        "Recall that we can view each head as having three input wires (keys, queries and values), and one output wire (the outputs). The different forms of composition come from the fact that keys, queries and values can all be supplied from the output of a different head.\n",
        "\n",
        "Here is an illustration which shows the three different cases, and should also explain why we use this terminology. You might have to open it in a new tab to see it clearly.\n",
        "\n",
        "![composition](https://raw.githubusercontent.com/info-arena/ARENA_img/main/misc/composition_new.png)\n",
        "\n",
        "</details>\n",
        "\n",
        "How do we formalise overlap? This is basically an open question, but a surprisingly good metric is $\\frac{\\|W_AW_B\\|_F}{\\|W_B\\|_F\\|W_A\\|_F}$ where $\\|W\\|_F=\\sum_{i,j}W_{i,j}^2$ is the Frobenius norm, the sum of squared elements. (If you're dying of curiosity as to what makes this a good metric, you can jump to the section immediately after the exercises below.)"
      ]
    },
    {
      "cell_type": "markdown",
      "metadata": {
        "id": "Bja2exsnRp6-"
      },
      "source": [
        "### Exercise - calculate composition scores\n",
        "\n",
        "> ```yaml\n",
        "> Difficulty: 🔴🔴🔴⚪⚪\n",
        "> Importance: 🔵🔵🔵⚪⚪\n",
        ">\n",
        "> You shouldn't spend more than 15-25 minutes on these exercises.\n",
        "> Writing a composition score function should be fairly easy. The harder part is getting the right weight matrices in the exercises that come after.\n",
        "> ```\n",
        "\n",
        "Let's calculate this metric for all pairs of heads in layer 0 and layer 1 for each of K, Q and V composition and plot it.\n",
        "\n",
        "We'll start by implementing this using plain old tensors (later on we'll see how this can be sped up using the `FactoredMatrix` class). We also won't worry about batching our calculations yet; we'll just do one matrix at a time.\n",
        "\n",
        "We've given you tensors `q_comp_scores` etc. to hold the composition scores for each of Q, K and V composition (i.e. the `[i, j]`th element of `q_comp_scores` is the Q-composition score between the output from the `i`th head in layer 0 and the input to the `j`th head in layer 1). You should complete the function `get_comp_score`, and then fill in each of these tensors."
      ]
    },
    {
      "cell_type": "code",
      "execution_count": null,
      "metadata": {
        "id": "_430yKcDRp6-"
      },
      "outputs": [],
      "source": [
        "def get_comp_score(W_A: Float[Tensor, \"in_A out_A\"], W_B: Float[Tensor, \"out_A out_B\"]) -> float:\n",
        "    \"\"\"\n",
        "    Return the composition score between W_A and W_B.\n",
        "    \"\"\"\n",
        "    raise NotImplementedError()\n",
        "\n",
        "\n",
        "tests.test_get_comp_score(get_comp_score)"
      ]
    },
    {
      "cell_type": "markdown",
      "metadata": {
        "id": "tc8mpom4Rp6_"
      },
      "source": [
        "<details><summary>Solution</summary>\n",
        "\n",
        "```python\n",
        "def get_comp_score(W_A: Float[Tensor, \"in_A out_A\"], W_B: Float[Tensor, \"out_A out_B\"]) -> float:\n",
        "    \"\"\"\n",
        "    Return the composition score between W_A and W_B.\n",
        "    \"\"\"\n",
        "    W_A_norm = W_A.pow(2).sum().sqrt()\n",
        "    W_B_norm = W_B.pow(2).sum().sqrt()\n",
        "    W_AB_norm = (W_A @ W_B).pow(2).sum().sqrt()\n",
        "\n",
        "    return (W_AB_norm / (W_A_norm * W_B_norm)).item()\n",
        "```\n",
        "</details>"
      ]
    },
    {
      "cell_type": "markdown",
      "metadata": {
        "id": "nMpnSyN-Rp6_"
      },
      "source": [
        "Once you've passed the tests, you can fill in all the composition scores. Here you should just use a for loop, iterating over all possible pairs of `W_A` in layer 0 and `W_B` in layer 1, for each type of composition. Later on, we'll look at ways to batch this computation."
      ]
    },
    {
      "cell_type": "code",
      "execution_count": null,
      "metadata": {
        "id": "Oe7p1wfqRp6_"
      },
      "outputs": [],
      "source": [
        "# Get all QK and OV matrices\n",
        "W_QK = model.W_Q @ model.W_K.transpose(-1, -2)\n",
        "W_OV = model.W_V @ model.W_O\n",
        "\n",
        "# Define tensors to hold the composition scores\n",
        "composition_scores = {\n",
        "    \"Q\": t.zeros(model.cfg.n_heads, model.cfg.n_heads).to(device),\n",
        "    \"K\": t.zeros(model.cfg.n_heads, model.cfg.n_heads).to(device),\n",
        "    \"V\": t.zeros(model.cfg.n_heads, model.cfg.n_heads).to(device),\n",
        "}\n",
        "\n",
        "# YOUR CODE HERE - fill in the values of the `composition_scores` dict, using the `get_comp_score` function\n",
        "\n",
        "# Plot the composition scores\n",
        "for comp_type in [\"Q\", \"K\", \"V\"]:\n",
        "    plot_comp_scores(model, composition_scores[comp_type], f\"{comp_type} Composition Scores\")"
      ]
    },
    {
      "cell_type": "markdown",
      "metadata": {
        "id": "Ba7veNerRp6_"
      },
      "source": [
        "<details><summary>Solution</summary>\n",
        "\n",
        "```python\n",
        "for i in tqdm(range(model.cfg.n_heads)):\n",
        "    for j in range(model.cfg.n_heads):\n",
        "        composition_scores[\"Q\"][i, j] = get_comp_score(W_OV[0, i], W_QK[1, j])\n",
        "        composition_scores[\"K\"][i, j] = get_comp_score(W_OV[0, i], W_QK[1, j].T)\n",
        "        composition_scores[\"V\"][i, j] = get_comp_score(W_OV[0, i], W_OV[1, j])\n",
        "```\n",
        "</details>"
      ]
    },
    {
      "cell_type": "markdown",
      "metadata": {
        "id": "GmkKO1_lRp6_"
      },
      "source": [
        "### Exercise - Setting a Baseline\n",
        "\n",
        "> ```yaml\n",
        "> Difficulty: 🔴🔴⚪⚪⚪\n",
        "> Importance: 🔵🔵⚪⚪⚪\n",
        ">\n",
        "> You shouldn't spend more than ~10 minutes on this exercise.\n",
        "> ```\n",
        "\n",
        "To interpret the above graphs we need a baseline! A good one is what the scores look like at initialisation. Make a function that randomly generates a composition score 200 times and tries this. Remember to generate 4 `[d_head, d_model]` matrices, not 2 `[d_model, d_model]` matrices! This model was initialised with **Kaiming Uniform Initialisation**:\n",
        "\n",
        "```python\n",
        "W = t.empty(shape)\n",
        "nn.init.kaiming_uniform_(W, a=np.sqrt(5))\n",
        "```\n",
        "\n",
        "(Ideally we'd do a more efficient generation involving batching, and more samples, but we won't worry about that yet.)"
      ]
    },
    {
      "cell_type": "code",
      "execution_count": null,
      "metadata": {
        "id": "hKqJlw4ORp6_"
      },
      "outputs": [],
      "source": [
        "def generate_single_random_comp_score() -> float:\n",
        "    \"\"\"\n",
        "    Write a function which generates a single composition score for random matrices\n",
        "    \"\"\"\n",
        "    raise NotImplementedError()\n",
        "\n",
        "\n",
        "n_samples = 300\n",
        "comp_scores_baseline = np.zeros(n_samples)\n",
        "for i in tqdm(range(n_samples)):\n",
        "    comp_scores_baseline[i] = generate_single_random_comp_score()\n",
        "\n",
        "print(\"\\nMean:\", comp_scores_baseline.mean())\n",
        "print(\"Std:\", comp_scores_baseline.std())\n",
        "\n",
        "hist(\n",
        "    comp_scores_baseline,\n",
        "    nbins=50,\n",
        "    width=800,\n",
        "    labels={\"x\": \"Composition score\"},\n",
        "    title=\"Random composition scores\",\n",
        ")"
      ]
    },
    {
      "cell_type": "markdown",
      "metadata": {
        "id": "vw-VyodGRp6_"
      },
      "source": [
        "<details><summary>Solution</summary>\n",
        "\n",
        "```python\n",
        "def generate_single_random_comp_score() -> float:\n",
        "    \"\"\"\n",
        "    Write a function which generates a single composition score for random matrices\n",
        "    \"\"\"\n",
        "    W_A_left = t.empty(model.cfg.d_model, model.cfg.d_head)\n",
        "    W_B_left = t.empty(model.cfg.d_model, model.cfg.d_head)\n",
        "    W_A_right = t.empty(model.cfg.d_model, model.cfg.d_head)\n",
        "    W_B_right = t.empty(model.cfg.d_model, model.cfg.d_head)\n",
        "\n",
        "    for W in [W_A_left, W_B_left, W_A_right, W_B_right]:\n",
        "        nn.init.kaiming_uniform_(W, a=np.sqrt(5))\n",
        "\n",
        "    W_A = W_A_left @ W_A_right.T\n",
        "    W_B = W_B_left @ W_B_right.T\n",
        "\n",
        "    return get_comp_score(W_A, W_B)\n",
        "```\n",
        "</details>"
      ]
    },
    {
      "cell_type": "markdown",
      "metadata": {
        "id": "dLyLba5bRp6_"
      },
      "source": [
        "We can re-plot our above graphs with this baseline set to white. Look for interesting things in this graph!"
      ]
    },
    {
      "cell_type": "code",
      "execution_count": null,
      "metadata": {
        "id": "rDEnvOOvRp6_"
      },
      "outputs": [],
      "source": [
        "baseline = comp_scores_baseline.mean()\n",
        "for comp_type, comp_scores in composition_scores.items():\n",
        "    plot_comp_scores(model, comp_scores, f\"{comp_type} Composition Scores\", baseline=baseline)"
      ]
    },
    {
      "cell_type": "markdown",
      "metadata": {
        "id": "0H4d3g-IRp7A"
      },
      "source": [
        "<details>\n",
        "<summary>Some interesting things to observe:</summary>\n",
        "\n",
        "The most obvious thing that jumps out (when considered in the context of all the analysis we've done so far) is the K-composition scores. `0.7` (the prev token head) is strongly composing with `1.4` and `1.10` (the two attention heads). This is what we expect, and is a good indication that our composition scores are working as intended.\n",
        "\n",
        "Another interesting thing to note is that the V-composition scores for heads `1.4` and `1.10` with all other heads in layer 0 are very low. In the context of the induction circuit, this is a good thing - the OV circuits of our induction heads should be operating on the **embeddings**, rather than the outputs of the layer-0 heads. (If our repeating sequence is `A B ... A B`, then it's the QK circuit's job to make sure the second `A` attends to the first `B`, and it's the OV circuit's job to project the residual vector at that position onto the **embedding space** in order to extract the `B`-information, while hopefully ignoring anything else that has been written to that position by the heads in layer 0). So once again, this is a good sign for our composition scores.\n",
        "\n",
        "<img src=\"https://raw.githubusercontent.com/info-arena/ARENA_img/main/misc/small_comp_diagram_last.png\" width=\"900\">\n",
        "\n",
        "</details>"
      ]
    },
    {
      "cell_type": "markdown",
      "metadata": {
        "id": "S1pcUDeXRp7A"
      },
      "source": [
        "#### Theory + Efficient Implementation\n",
        "\n",
        "So, what's up with that metric? The key is a cute linear algebra result that the squared Frobenius norm is equal to the sum of the squared singular values.\n",
        "\n",
        "<details>\n",
        "<summary>Proof</summary>\n",
        "\n",
        "We'll give three different proofs:\n",
        "\n",
        "---\n",
        "\n",
        "##### Short sketch of proof\n",
        "\n",
        "Clearly $\\|M\\|_F^2$ equals the sum of squared singular values when $M$ is diagonal. The singular values of $M$ don't change when we multiply it by an orthogonal matrix (only the matrices $U$ and $V$ will change, not $S$), so it remains to show that the Frobenius norm also won't change when we multiply $M$ by an orthogonal matrix. But this follows from the fact that the Frobenius norm is the sum of the squared $l_2$ norms of the column vectors of $M$, and orthogonal matrices preserve $l_2$ norms. (If we're right-multiplying $M$ by an orthogonal matrix, then we instead view this as performing orthogonal operations on the row vectors of $M$, and the same argument holds.)\n",
        "\n",
        "---\n",
        "\n",
        "##### Long proof\n",
        "\n",
        "$$\n",
        "\\begin{aligned}\n",
        "\\|M\\|_F^2 &= \\sum_{ij}M_{ij}^2 \\\\\n",
        "&= \\sum_{ij}((USV^T)_{ij})^2 \\\\\n",
        "&= \\sum_{ij}\\bigg(\\sum_k U_{ik}S_{kk}V_{jk}\\bigg)^2 \\\\\n",
        "&= \\sum_{ijk_1 k_2}S_{k_1 k_1} S_{k_2 k_2} U_{i k_1} U_{i k_2} V_{j k_2} V_{j k_2} \\\\\n",
        "&= \\sum_{k_1 k_2}S_{k_1 k_1} S_{k_2 k_2} \\bigg(\\sum_i U_{i k_1} U_{i k_2}\\bigg)\\bigg(\\sum_j V_{j k_2} V_{j k_2}\\bigg) \\\\\n",
        "\\end{aligned}\n",
        "$$\n",
        "\n",
        "Each of the terms in large brackets is actually the dot product of columns of $U$ and $V$ respectively. Since these are orthogonal matrices, these terms evaluate to 1 when $k_1=k_2$ and 0 otherwise. So we are left with:\n",
        "\n",
        "$$\n",
        "\\|M\\|_F^2 = \\sum_{k}S_{k k}^2\n",
        "$$\n",
        "\n",
        "---\n",
        "\n",
        "##### Cute proof which uses the fact that the squared Frobenius norm $|M|^2$ is the same as the trace of $MM^T$\n",
        "\n",
        "$$\n",
        "\\|M\\|_F^2 = \\text{Tr}(MM^T) = \\text{Tr}(USV^TVSU^T) = \\text{Tr}(US^2U^T) = \\text{Tr}(S^2 U^T U) = \\text{Tr}(S^2) = \\|S\\|_F^2\n",
        "$$\n",
        "\n",
        "where we used the cyclicity of trace, and the fact that $U$ is orthogonal so $U^TU=I$ (and same for $V$). We finish by observing that $\\|S\\|_F^2$ is precisely the sum of the squared singular values.\n",
        "</details>"
      ]
    },
    {
      "cell_type": "markdown",
      "metadata": {
        "id": "ppTnF7PlRp7A"
      },
      "source": [
        "So if $W_A=U_AS_AV_A^T$, $W_B=U_BS_BV_B^T$, then $\\|W_A\\|_F=\\|S_A\\|_F$, $\\|W_B\\|_F=\\|S_B\\|_F$ and $\\|W_AW_B\\|_F=\\|S_AV_A^TU_BS_B\\|_F$. In some sense, $V_A^TU_B$ represents how aligned the subspaces written to and read from are, and the $S_A$ and $S_B$ terms weights by the importance of those subspaces.\n",
        "\n",
        "<details>\n",
        "<summary>Click here, if this explanation still seems confusing.</summary>\n",
        "\n",
        "$U_B$ is a matrix of shape `[d_model, d_head]`. It represents **the subspace being read from**, i.e. our later head reads from the residual stream by projecting it onto the `d_head` columns of this matrix.\n",
        "\n",
        "$V_A$ is a matrix of shape `[d_model, d_head]`. It represents **the subspace being written to**, i.e. the thing written to the residual stream by our earlier head is a linear combination of the `d_head` column-vectors of $V_A$.\n",
        "\n",
        "$V_A^T U_B$ is a matrix of shape `[d_head, d_head]`. Each element of this matrix is formed by taking the dot product of two vectors of length `d_model`:\n",
        "\n",
        "* $v_i^A$, a column of $V_A$ (one of the vectors our earlier head embeds into the residual stream)\n",
        "* $u_j^B$, a column of $U_B$ (one of the vectors our later head projects the residual stream onto)\n",
        "\n",
        "Let the singular values of $S_A$ be $\\sigma_1^A, ..., \\sigma_k^A$ and similarly for $S_B$. Then:\n",
        "\n",
        "$$\n",
        "\\|S_A V_A^T U_B S_B\\|_F^2 = \\sum_{i,j=1}^k (\\sigma_i^A \\sigma_j^B)^2 \\|v^A_i \\cdot u^B_j\\|_F^2\n",
        "$$\n",
        "\n",
        "This is a weighted sum of the squared cosine similarity of the columns of $V_A$ and $U_B$ (i.e. the output directions of the earlier head and the input directions of the later head). The weights in this sum are given by the singular values of both $S_A$ and $S_B$ - i.e. if $v^A_i$ is an important output direction, **and** $u_B^i$ is an important input direction, then the composition score will be much higher when these two directions are aligned with each other.\n",
        "\n",
        "---\n",
        "\n",
        "To build intuition, let's consider a couple of extreme examples.\n",
        "\n",
        "* If there was no overlap between the spaces being written to and read from, then $V_A^T U_B$ would be a matrix of zeros (since every $v_i^A \\cdot u_j^B$ would be zero). This would mean that the composition score would be zero.\n",
        "* If there was perfect overlap, i.e. the span of the $v_i^A$ vectors and $u_j^B$ vectors is the same, then the composition score is large. It is as large as possible when the most important input directions and most important output directions line up (i.e. when the singular values $\\sigma_i^A$ and $\\sigma_j^B$ are in the same order).\n",
        "* If our matrices $W_A$ and $W_B$ were just rank 1 (i.e. $W_A = \\sigma_A u_A v_A^T$, and $W_B = \\sigma_B u_B v_B^T$), then the composition score is $|v_A^T u_B|$, in other words just the cosine similarity of the single output direction of $W_A$ and the single input direction of $W_B$.\n",
        "</details>"
      ]
    },
    {
      "cell_type": "markdown",
      "metadata": {
        "id": "pB0JJes8Rp7A"
      },
      "source": [
        "### Exercise - batching, and using the `FactoredMatrix` class\n",
        "\n",
        "> ```yaml\n",
        "> Difficulty: 🔴🔴🔴🔴⚪\n",
        "> Importance: 🔵⚪⚪⚪⚪\n",
        ">\n",
        "> This exercise is optional, and not a super important part of this section conceptually.\n",
        "> It's also quite messy to rearrange our tensors in the right way! You are invited to skip it if you want.\n",
        "> ```"
      ]
    },
    {
      "cell_type": "markdown",
      "metadata": {
        "id": "dHPtckcRRp7A"
      },
      "source": [
        "We can also use this insight to write a more efficient way to calculate composition scores - this is extremely useful if you want to do this analysis at scale! The key is that we know that our matrices have a low rank factorisation, and it's much cheaper to calculate the SVD of a narrow matrix than one that's large in both dimensions. See the [algorithm described at the end of the paper](https://transformer-circuits.pub/2021/framework/index.html#induction-heads:~:text=Working%20with%20Low%2DRank%20Matrices) (search for SVD).\n",
        "\n",
        "So we can work with the `FactoredMatrix` class. This also provides the method `.norm()` which returns the Frobenium norm. This is also a good opportunity to bring back baching - this will sometimes be useful in our analysis. In the function below, `W_As` and `W_Bs` are both >2D factored matrices (e.g. they might represent the OV circuits for all heads in a particular layer, or across multiple layers), and the function's output should be a tensor of composition scores for each pair of matrices `(W_A, W_B)` in the >2D tensors `(W_As, W_Bs)`."
      ]
    },
    {
      "cell_type": "code",
      "execution_count": null,
      "metadata": {
        "id": "n8vpV3GKRp7A"
      },
      "outputs": [],
      "source": [
        "def get_batched_comp_scores(W_As: FactoredMatrix, W_Bs: FactoredMatrix) -> Tensor:\n",
        "    \"\"\"\n",
        "    Computes the compositional scores from indexed factored matrices W_As and W_Bs.\n",
        "\n",
        "    Each of W_As and W_Bs is a FactoredMatrix object which is indexed by all but its last 2 dimensions, i.e.:\n",
        "        W_As.shape == (*A_idx, A_in, A_out)\n",
        "        W_Bs.shape == (*B_idx, B_in, B_out)\n",
        "        A_out == B_in\n",
        "\n",
        "    Return: tensor of shape (*A_idx, *B_idx) where the [*a_idx, *b_idx]th element is the compositional score from\n",
        "    W_As[*a_idx] to W_Bs[*b_idx].\n",
        "    \"\"\"\n",
        "    raise NotImplementedError()\n",
        "\n",
        "\n",
        "W_QK = FactoredMatrix(model.W_Q, model.W_K.transpose(-1, -2))\n",
        "W_OV = FactoredMatrix(model.W_V, model.W_O)\n",
        "\n",
        "composition_scores_batched = dict()\n",
        "composition_scores_batched[\"Q\"] = get_batched_comp_scores(W_OV[0], W_QK[1])\n",
        "composition_scores_batched[\"K\"] = get_batched_comp_scores(\n",
        "    W_OV[0], W_QK[1].T\n",
        ")  # Factored matrix: .T is interpreted as transpose of the last two axes\n",
        "composition_scores_batched[\"V\"] = get_batched_comp_scores(W_OV[0], W_OV[1])\n",
        "\n",
        "t.testing.assert_close(composition_scores_batched[\"Q\"], composition_scores[\"Q\"])\n",
        "t.testing.assert_close(composition_scores_batched[\"K\"], composition_scores[\"K\"])\n",
        "t.testing.assert_close(composition_scores_batched[\"V\"], composition_scores[\"V\"])\n",
        "print(\"Tests passed - your `get_batched_comp_scores` function is working!\")"
      ]
    },
    {
      "cell_type": "markdown",
      "metadata": {
        "id": "YnU7VC75Rp7A"
      },
      "source": [
        "<details>\n",
        "<summary>Hint</summary>\n",
        "\n",
        "Suppose `W_As` has shape `(A1, A2, ..., Am, A_in, A_out)` and `W_Bs` has shape `(B1, B2, ..., Bn, B_in, B_out)` (where `A_out == B_in`).\n",
        "\n",
        "It will be helpful to reshape these two tensors so that:\n",
        "\n",
        "```python\n",
        "W_As.shape == (A1*A2*...*Am, 1, A_in, A_out)\n",
        "W_Bs.shape == (1, B1*B2*...*Bn, B_in, B_out)\n",
        "```\n",
        "\n",
        "since we can then multiply them together as `W_As @ W_Bs` (broadcasting will take care of this for us!).\n",
        "\n",
        "To do the reshaping, the easiest way is to reshape `W_As.A` and `W_As.B`, and define a new `FactoredMatrix` from these reshaped tensors (and same for `W_Bs`).\n",
        "</details>\n",
        "\n",
        "\n",
        "<details><summary>Solution</summary>\n",
        "\n",
        "```python\n",
        "def get_batched_comp_scores(W_As: FactoredMatrix, W_Bs: FactoredMatrix) -> Tensor:\n",
        "    \"\"\"\n",
        "    Computes the compositional scores from indexed factored matrices W_As and W_Bs.\n",
        "\n",
        "    Each of W_As and W_Bs is a FactoredMatrix object which is indexed by all but its last 2 dimensions, i.e.:\n",
        "        W_As.shape == (*A_idx, A_in, A_out)\n",
        "        W_Bs.shape == (*B_idx, B_in, B_out)\n",
        "        A_out == B_in\n",
        "\n",
        "    Return: tensor of shape (*A_idx, *B_idx) where the [*a_idx, *b_idx]th element is the compositional score from\n",
        "    W_As[*a_idx] to W_Bs[*b_idx].\n",
        "    \"\"\"\n",
        "    # Flatten W_As into (single_A_idx, 1, A_in, A_out)\n",
        "    W_As = FactoredMatrix(\n",
        "        W_As.A.reshape(-1, 1, *W_As.A.shape[-2:]),\n",
        "        W_As.B.reshape(-1, 1, *W_As.B.shape[-2:]),\n",
        "    )\n",
        "    # Flatten W_Bs into (1, single_B_idx, B_in(=A_out), B_out)\n",
        "    W_Bs = FactoredMatrix(\n",
        "        W_Bs.A.reshape(1, -1, *W_Bs.A.shape[-2:]),\n",
        "        W_Bs.B.reshape(1, -1, *W_Bs.B.shape[-2:]),\n",
        "    )\n",
        "\n",
        "    # Compute the product, with shape (single_A_idx, single_B_idx, A_in, B_out)\n",
        "    W_ABs = W_As @ W_Bs\n",
        "\n",
        "    # Compute the norms, and return the metric\n",
        "    return W_ABs.norm() / (W_As.norm() * W_Bs.norm())\n",
        "```\n",
        "</details>"
      ]
    },
    {
      "cell_type": "markdown",
      "metadata": {
        "id": "dZ34eD9TRp7A"
      },
      "source": [
        "### Targeted Ablations\n",
        "\n",
        "We can refine the ablation technique to detect composition by looking at the effect of the ablation on the attention pattern of an induction head, rather than the loss. Let's implement this!\n",
        "\n",
        "Gotcha - by default, `run_with_hooks` removes any existing hooks when it runs. If you want to use caching, set the `reset_hooks_start` flag to False."
      ]
    },
    {
      "cell_type": "code",
      "execution_count": null,
      "metadata": {
        "id": "vnCe4M3aRp7A"
      },
      "outputs": [],
      "source": [
        "seq_len = 50\n",
        "\n",
        "\n",
        "def ablation_induction_score(prev_head_index: int | None, ind_head_index: int) -> float:\n",
        "    \"\"\"\n",
        "    Takes as input the index of the L0 head and the index of the L1 head, and then runs with the previous token head ablated and returns the induction score for the ind_head_index now.\n",
        "    \"\"\"\n",
        "\n",
        "    def ablation_hook(v, hook):\n",
        "        if prev_head_index is not None:\n",
        "            v[:, :, prev_head_index] = 0.0\n",
        "        return v\n",
        "\n",
        "    def induction_pattern_hook(attn, hook):\n",
        "        hook.ctx[prev_head_index] = attn[0, ind_head_index].diag(-(seq_len - 1)).mean()\n",
        "\n",
        "    model.run_with_hooks(\n",
        "        rep_tokens,\n",
        "        fwd_hooks=[\n",
        "            (utils.get_act_name(\"v\", 0), ablation_hook),\n",
        "            (utils.get_act_name(\"pattern\", 1), induction_pattern_hook),\n",
        "        ],\n",
        "    )\n",
        "    return model.blocks[1].attn.hook_pattern.ctx[prev_head_index].item()\n",
        "\n",
        "\n",
        "baseline_induction_score = ablation_induction_score(None, 4)\n",
        "print(f\"Induction score for no ablations: {baseline_induction_score:.5f}\\n\")\n",
        "for i in range(model.cfg.n_heads):\n",
        "    new_induction_score = ablation_induction_score(i, 4)\n",
        "    induction_score_change = new_induction_score - baseline_induction_score\n",
        "    print(f\"Ablation score change for head {i:02}: {induction_score_change:+.5f}\")"
      ]
    },
    {
      "cell_type": "markdown",
      "metadata": {
        "id": "5zLgzz-aRp7A"
      },
      "source": [
        "<details>\n",
        "<summary>Question - what is the interpretation of the results you're getting?</summary>\n",
        "\n",
        "You should have found that the induction score without any ablations is about 0.68, and that most other heads don't change the induction score by much when they are ablated, except for head 7 which reduces the induction score to nearly zero.\n",
        "\n",
        "This is another strong piece of evidence that head `0.7` is the prev token head in this induction circuit.\n",
        "</details>"
      ]
    },
    {
      "cell_type": "markdown",
      "metadata": {
        "id": "oitW76urRp7A"
      },
      "source": [
        "## Bonus\n",
        "\n",
        "### Looking for Circuits in Real LLMs\n",
        "\n",
        "A particularly cool application of these techniques is looking for real examples of circuits in large language models. Fortunately, there's a bunch of open source ones you can play around with in the `TransformerLens` library! Many of the techniques we've been using for our 2L transformer carry over to ones with more layers.\n",
        "\n",
        "This library should make it moderately easy to play around with these models - I recommend going wild and looking for interesting circuits!\n",
        "\n",
        "Some fun things you might want to try:\n",
        "\n",
        "- Look for induction heads - try repeating all of the steps from above. Do they follow the same algorithm?\n",
        "- Look for neurons that erase info\n",
        "    - i.e. having a high negative cosine similarity between the input and output weights\n",
        "- Try to interpret a position embedding.\n",
        "\n",
        "<details>\n",
        "<summary>Positional Embedding Hint</summary>\n",
        "\n",
        "Look at the singular value decomposition `t.svd` and plot the principal components over position space. High ones tend to be sine and cosine waves of different frequencies.\n",
        "</details>\n",
        "\n",
        "- Look for heads with interpretable attention patterns: e.g. heads that attend to the same word (or subsequent word) when given text in different languages, or the most recent proper noun, or the most recent full-stop, or the subject of the sentence, etc.\n",
        "    - Pick a head, ablate it, and run the model on a load of text with and without the head. Look for tokens with the largest difference in loss, and try to interpret what the head is doing.\n",
        "- Try replicating some of Kevin's work on indirect object identification.\n",
        "- Inspired by the [ROME paper](https://rome.baulab.info/), use the causal tracing technique of patching in the residual stream - can you analyse how the network answers different facts?\n",
        "\n",
        "Note: I apply several simplifications to the resulting transformer - these leave the model mathematically equivalent and doesn't change the output log probs, but does somewhat change the structure of the model and one change translates the output logits by a constant.\n",
        "\n",
        "<details>\n",
        "<summary>Model simplifications</summary>\n",
        "\n",
        "#### Centering $W_U$\n",
        "\n",
        "The output of $W_U$ is a $d_{vocab}$ vector (or tensor with that as the final dimension) which is fed into a softmax\n",
        "\n",
        "#### LayerNorm Folding\n",
        "\n",
        "LayerNorm is only applied at the start of a linear layer reading from the residual stream (eg query, key, value, mlp_in or unembed calculations)\n",
        "\n",
        "Each LayerNorm has the functional form $LN:\\mathbb{R}^n\\to\\mathbb{R}^n$,\n",
        "$LN(x)=s(x) * w_{ln} + b_{ln}$, where $*$ is element-wise multiply and $s(x)=\\frac{x-\\bar{x}}{|x-\\bar{x}|}$, and $w_{ln},b_{ln}$ are both vectors in $\\mathbb{R}^n$\n",
        "\n",
        "The linear layer has form $l:\\mathbb{R}^n\\to\\mathbb{R}^m$, $l(y)=Wy+b$ where $W\\in \\mathbb{R}^{m\\times n},b\\in \\mathbb{R}^m,y\\in\\mathbb{R}^n$\n",
        "\n",
        "So $f(LN(x))=W(w_{ln} * s(x)+b_{ln})+b=(W * w_{ln})s(x)+(Wb_{ln}+b)=W_{eff}s(x)+b_{eff}$, where $W_{eff}$ is the elementwise product of $W$ and $w_{ln}$ (showing that elementwise multiplication commutes like this is left as an exercise) and $b_{eff}=Wb_{ln}+b\\in \\mathbb{R}^m$.\n",
        "\n",
        "From the perspective of interpretability, it's much nicer to interpret the folded layer $W_{eff},b_{eff}$ - fundamentally, this is the computation being done, and there's no reason to expect $W$ or $w_{ln}$ to be meaningful on their own.\n",
        "</details>"
      ]
    },
    {
      "cell_type": "markdown",
      "metadata": {
        "id": "NeWiQu2RRp7B"
      },
      "source": [
        "### Training Your Own Toy Models\n",
        "\n",
        "A fun exercise is training models on the minimal task that'll produce induction heads - predicting the next token in a sequence of random tokens with repeated subsequences. You can get a small 2L Attention-Only model to do this.\n",
        "\n",
        "<details>\n",
        "<summary>Tips</summary>\n",
        "\n",
        "* Make sure to randomise the positions that are repeated! Otherwise the model can just learn the boring algorithm of attending to fixed positions\n",
        "* It works better if you *only* evaluate loss on the repeated tokens, this makes the task less noisy.\n",
        "* It works best with several repeats of the same sequence rather than just one.\n",
        "* If you do things right, and give it finite data + weight decay, you *should* be able to get it to grok - this may take some hyper-parameter tuning though.\n",
        "* When I've done this I get weird franken-induction heads, where each head has 1/3 of an induction stripe, and together cover all tokens.\n",
        "* It'll work better if you only let the queries and keys access the positional embeddings, but *should* work either way.\n",
        "</details>"
      ]
    },
    {
      "cell_type": "markdown",
      "metadata": {
        "id": "dSFfdxxJRp7B"
      },
      "source": [
        "### Interpreting Induction Heads During Training\n",
        "\n",
        "A particularly striking result about induction heads is that they consistently [form very abruptly in training as a phase change](https://transformer-circuits.pub/2022/in-context-learning-and-induction-heads/index.html#argument-phase-change), and are such an important capability that there is a [visible non-convex bump in the loss curve](https://wandb.ai/mechanistic-interpretability/attn-only/reports/loss_ewma-22-08-24-22-08-00---VmlldzoyNTI2MDM0?accessToken=r6v951q0e1l4q4o70wb2q67wopdyo3v69kz54siuw7lwb4jz6u732vo56h6dr7c2) (in this model, approx 2B to 4B tokens). I have a bunch of checkpoints for this model, you can try re-running the induction head detection techniques on intermediate checkpoints and see what happens. (Bonus points if you have good ideas for how to efficiently send a bunch of 300MB checkpoints from Wandb lol)"
      ]
    },
    {
      "cell_type": "markdown",
      "metadata": {
        "id": "I76i1W6JRp7B"
      },
      "source": [
        "### Further discussion / investigation\n",
        "\n",
        "Anthropic has written a post on [In-context Learning and Induction Heads](https://transformer-circuits.pub/2022/in-context-learning-and-induction-heads/index.html) which goes into much deeper discussion on induction heads. The post is structured around six different points of evidence for the hypothesis that **induction heads are the main source of in-context learning in transformer models**, even large ones. Briefly, these are:\n",
        "\n",
        "1. Transformers undergo a \"phase change\" where they suddenly become much better at in-context learning, and this is around the same time induction heads appear.\n",
        "2. When we change the transformer's architecture to make it easier for induction heads to form, we get a corresponding improvement in in-context learning.\n",
        "3. When we ablate induction heads at runtime, in-context learning gets worse.\n",
        "4. We have specific examples of induction heads performing more complex in-context learning algorithms (you'll have the opportunity to investigate one of these later - **indirect object identification**).\n",
        "5. We have a mechanistic explanation of induction heads, which suggests natural extensions to more general forms of in-context learning.\n",
        "6. In-context learning-related behaviour is generally smoothly continuous between small and large models, suggesting that the underlying mechanism is also the same.\n",
        "\n",
        "Here are a few questions for you:\n",
        "\n",
        "* How compelling do you find this evidence? Discuss with your partner.\n",
        "    * Which points do you find most compelling?\n",
        "    * Which do you find least compelling?\n",
        "    * Are there any subset of these which would be enough to convince you of the hypothesis, in the absence of others?\n",
        "* In point 3, the paper observes that in-context learning performance degrades when you ablate induction heads. While we measured this by testing the model's ability to copy a duplicated random sequence, the paper used **in-context learning score** (the loss of the 500th token in the context, minus the loss on the 50th token).\n",
        "    * Can you see why this is a reasonable metric?\n",
        "    * Can you replicate these results (maybe on a larger model than the 2-layer one we've been using)?\n",
        "* In point 4 (more complex forms of in-context learning), the paper suggests the natural extension of \"fuzzy induction heads\", which match patterns like `[A*][B*]...[A][B]` rather than `[A][B]...[A][B]` (where the `*` indicates some form of linguistic similarity, not necessarily being the same token).\n",
        "    * Can you think of any forms this might take, i.e. any kinds of similarity which induction heads might pick up on? Can you generate examples?"
      ]
    }
  ],
  "metadata": {
    "language_info": {
      "name": "python"
    },
    "colab": {
      "provenance": [],
      "include_colab_link": true
    },
    "kernelspec": {
      "name": "python3",
      "display_name": "Python 3"
    }
  },
  "nbformat": 4,
  "nbformat_minor": 0
}