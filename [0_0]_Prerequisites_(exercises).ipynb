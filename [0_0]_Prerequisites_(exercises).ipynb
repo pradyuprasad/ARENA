{
  "cells": [
    {
      "cell_type": "markdown",
      "metadata": {
        "id": "view-in-github",
        "colab_type": "text"
      },
      "source": [
        "<a href=\"https://colab.research.google.com/github/pradyuprasad/ARENA/blob/main/%5B0_0%5D_Prerequisites_(exercises).ipynb\" target=\"_parent\"><img src=\"https://colab.research.google.com/assets/colab-badge.svg\" alt=\"Open In Colab\"/></a>"
      ]
    },
    {
      "cell_type": "markdown",
      "metadata": {
        "id": "EXC4a3MyLSBU"
      },
      "source": [
        "# [0.0] - Prerequisites"
      ]
    },
    {
      "cell_type": "markdown",
      "metadata": {
        "id": "aBL8Mx_fLT3S"
      },
      "source": [
        "Colab: [exercises](https://colab.research.google.com/drive/1vuQOB2Gd7OcfzH2y9djXm9OdZA_DcxYz) | [solutions](https://colab.research.google.com/drive/1sUqHDcZUJl67hVEWWXVZoB0av7qwOvMw)\n",
        "\n",
        "ARENA 3.0 [Streamlit page](https://arena3-chapter0-fundamentals.streamlit.app/[0.0]_Prerequisites)\n",
        "\n",
        "Please send any problems / bugs on the `#errata` channel in the [Slack group](https://join.slack.com/t/arena-uk/shared_invite/zt-2noug8mpy-TRYbCnc3pzj7ITNrZIjKww), and ask any questions on the dedicated channels for this chapter of material.\n",
        "\n"
      ]
    },
    {
      "cell_type": "markdown",
      "metadata": {
        "id": "vhNgL4Qhw1bP"
      },
      "source": [
        "<img src=\"https://raw.githubusercontent.com/callummcdougall/computational-thread-art/master/example_images/misc/pres2.png\" width=\"350\">\n",
        "\n",
        "This notebook contains important prerequisites for the rest of the material in this chapter.\n",
        "\n",
        "The first section **1️⃣ Core Concepts / Knowledge** is a long list of important concepts and libraries that you should be familiar with before starting the rest of the material.\n",
        "\n",
        "The second section **2️⃣ Einops, Einsum & Tensor Manipulation** provides some coding exercises to help you get familiar with the `einops` and `einsum` libraries, as well as some exercises on indexing and other aspects of tensor manipulation. This section contains a large number of exercises. You should generally feel free to skim through them (skipping some or most) if you feel comfortable with the basic ideas."
      ]
    },
    {
      "cell_type": "markdown",
      "metadata": {
        "id": "niHe80GT0Sg3"
      },
      "source": [
        "# Setup (don't read, just run!)"
      ]
    },
    {
      "cell_type": "code",
      "execution_count": 34,
      "metadata": {
        "colab": {
          "base_uri": "https://localhost:8080/"
        },
        "id": "ETi8_F_BCWy2",
        "outputId": "c509bde3-1ffa-45d2-800c-e74637423f62"
      },
      "outputs": [
        {
          "output_type": "stream",
          "name": "stdout",
          "text": [
            "Imports & installations complete!\n"
          ]
        }
      ],
      "source": [
        "try:\n",
        "    import google.colab\n",
        "    IN_COLAB = True\n",
        "except:\n",
        "    IN_COLAB = False\n",
        "\n",
        "if IN_COLAB:\n",
        "    # Install packages\n",
        "    %pip install einops\n",
        "    %pip install jaxtyping\n",
        "\n",
        "    # Code to make sure output widgets display\n",
        "    from google.colab import output\n",
        "    output.enable_custom_widget_manager()\n",
        "\n",
        "    # Code to download the necessary files (e.g. solutions, test funcs)\n",
        "    import os, sys\n",
        "    if not os.path.exists(\"chapter0_fundamentals\"):\n",
        "        !wget https://github.com/callummcdougall/ARENA_3.0/archive/refs/heads/main.zip\n",
        "        !unzip /content/main.zip 'ARENA_3.0-main/chapter0_fundamentals/exercises/*'\n",
        "        os.remove(\"/content/main.zip\")\n",
        "        os.rename(\"ARENA_3.0-main/chapter0_fundamentals\", \"chapter0_fundamentals\")\n",
        "        os.rmdir(\"ARENA_3.0-main\")\n",
        "        sys.path.insert(0, \"chapter0_fundamentals/exercises\")\n",
        "\n",
        "    # Clear output\n",
        "    from IPython.display import clear_output\n",
        "    clear_output()\n",
        "    print(\"Imports & installations complete!\")\n",
        "\n",
        "else:\n",
        "    raise Exception(\"If running from VSCode, you should copy code from the Streamlit page, not the Colab.\")"
      ]
    },
    {
      "cell_type": "code",
      "execution_count": 35,
      "metadata": {
        "id": "W7StFfPWCWy3"
      },
      "outputs": [],
      "source": [
        "import sys\n",
        "from pathlib import Path\n",
        "\n",
        "import einops\n",
        "import numpy as np\n",
        "\n",
        "# Get file paths to this set of exercises\n",
        "exercises_dir = Path(\"chapter0_fundamentals/exercises\")\n",
        "section_dir = exercises_dir / \"part0_prereqs\"\n",
        "\n",
        "from plotly_utils import imshow, line, bar\n",
        "from part0_prereqs.utils import display_array_as_img, display_soln_array_as_img\n",
        "import part0_prereqs.tests as tests\n",
        "\n",
        "MAIN = __name__ == \"__main__\""
      ]
    },
    {
      "cell_type": "markdown",
      "metadata": {
        "id": "_K2bXFpPWkxU"
      },
      "source": [
        "# 1️⃣ Core Concepts / Knowledge"
      ]
    },
    {
      "cell_type": "markdown",
      "metadata": {
        "id": "AJ42g4P6SHA8"
      },
      "source": [
        "This is no longer hosted on Colab - see the [Streamlit page](https://arena3-chapter0-fundamentals.streamlit.app/[0.0]_Prerequisites) for a full list."
      ]
    },
    {
      "cell_type": "markdown",
      "metadata": {
        "id": "3o3xepIBUADS"
      },
      "source": [
        "# 2️⃣ Einops, Einsum & Tensor Manipulation"
      ]
    },
    {
      "cell_type": "markdown",
      "metadata": {
        "id": "d4IdlhvKUFc-"
      },
      "source": [
        "> ### Learning objectives\n",
        ">\n",
        "> - Understand the basics of Einstein summation convention\n",
        "> - Learn how to use `einops` to perform basic tensor rearrangement, and `einsum` to to perform standard linear algebra operations on tensors"
      ]
    },
    {
      "cell_type": "markdown",
      "metadata": {
        "id": "XeXRNSHzrkrH"
      },
      "source": [
        "Note - this section contains a large number of exercises. You should generally feel free to skim through them (skipping some or most) if you feel comfortable with the basic ideas."
      ]
    },
    {
      "cell_type": "markdown",
      "metadata": {
        "id": "gBNUr9WLUGmK"
      },
      "source": [
        "## Reading\n",
        "\n",
        "* Read about the benefits of the `einops` library [here](https://www.blopig.com/blog/2022/05/einops-powerful-library-for-tensor-operations-in-deep-learning/).\n",
        "* If you haven't already, then review the [Einops basics tutorial](https://einops.rocks/1-einops-basics/) (up to the \"fancy examples\" section).\n",
        "* Read [einsum is all you need](https://rockt.github.io/2018/04/30/einsum) (or [watch it](https://www.youtube.com/watch?v=pkVwUVEHmfI)) for a brief overview of the `einsum` function and how it works. (You don't need to read past section 2.10.)\n"
      ]
    },
    {
      "cell_type": "markdown",
      "metadata": {
        "id": "BHmMD47ssG91"
      },
      "source": [
        "## Einops\n"
      ]
    },
    {
      "cell_type": "code",
      "source": [
        "print(\"Testing\")"
      ],
      "metadata": {
        "id": "L71BkG3LNtna",
        "outputId": "eec803fd-f6cf-4ae7-e773-33fa721553ef",
        "colab": {
          "base_uri": "https://localhost:8080/"
        }
      },
      "execution_count": null,
      "outputs": [
        {
          "output_type": "stream",
          "name": "stdout",
          "text": [
            "Testing\n"
          ]
        }
      ]
    },
    {
      "cell_type": "code",
      "execution_count": 36,
      "metadata": {
        "id": "eYyXJURXz01t"
      },
      "outputs": [],
      "source": [
        "arr = np.load(section_dir / \"numbers.npy\")"
      ]
    },
    {
      "cell_type": "markdown",
      "metadata": {
        "id": "NEDDfJg_yJJc"
      },
      "source": [
        "`arr` is a 4D numpy array. The first axes corresponds to the number, and the next three axes are channels (i.e. RGB), height and width respectively. You have the function `utils.display_array_as_img` which takes in a numpy array and displays it as an image. There are two possible ways this function can be run:\n",
        "\n",
        "* If the input is three-dimensional, the dimensions are interpreted as `(channel, height, width)` - in other words, as an RGB image.\n",
        "* If the input is two-dimensional, the dimensions are interpreted as `(height, width)` - i.e. a monochrome image.\n",
        "\n",
        "For example:\n"
      ]
    },
    {
      "cell_type": "code",
      "execution_count": null,
      "metadata": {
        "id": "WbkwzqjWx-wx"
      },
      "outputs": [],
      "source": [
        "display_array_as_img(arr[0])"
      ]
    },
    {
      "cell_type": "markdown",
      "metadata": {
        "id": "kWTFzIq10uBQ"
      },
      "source": [
        "A series of images follow below, which have been created using `einops` functions performed on `arr`. You should work through these and try to produce each of the images yourself. This page also includes solutions, but you should only look at them after you've tried for at least five minutes.\n",
        "\n",
        "> *Note - if you find you're comfortable with the first ~half of these, you can skip to later sections if you'd prefer, since these aren't particularly conceptually important.*\n"
      ]
    },
    {
      "cell_type": "markdown",
      "metadata": {
        "id": "Wryvuge_0yCC"
      },
      "source": [
        "### Einops exercises - images\n",
        "\n",
        "```c\n",
        "Difficulty: 🔴🔴⚪⚪⚪\n",
        "Importance: 🔵🔵🔵⚪⚪\n",
        "\n",
        "You should spend up to ~45 minutes on these exercises collectively.\n",
        "\n",
        "If you think you get the general idea, then you can skip to the next section.\n",
        "```\n"
      ]
    },
    {
      "cell_type": "markdown",
      "metadata": {
        "id": "LMW37IBg06y_"
      },
      "source": [
        "#### Exercise 1\n"
      ]
    },
    {
      "cell_type": "code",
      "execution_count": 38,
      "metadata": {
        "id": "wL9oJTuJ0jJE",
        "outputId": "62eeda3b-9d81-4830-9d3c-acf8de2f2fb2",
        "colab": {
          "base_uri": "https://localhost:8080/",
          "height": 167
        }
      },
      "outputs": [
        {
          "output_type": "display_data",
          "data": {
            "text/html": [
              "<html>\n",
              "<head><meta charset=\"utf-8\" /></head>\n",
              "<body>\n",
              "    <div>            <script src=\"https://cdnjs.cloudflare.com/ajax/libs/mathjax/2.7.5/MathJax.js?config=TeX-AMS-MML_SVG\"></script><script type=\"text/javascript\">if (window.MathJax && window.MathJax.Hub && window.MathJax.Hub.Config) {window.MathJax.Hub.Config({SVG: {font: \"STIX-Web\"}});}</script>                <script type=\"text/javascript\">window.PlotlyConfig = {MathJaxConfig: 'local'};</script>\n",
              "        <script charset=\"utf-8\" src=\"https://cdn.plot.ly/plotly-2.35.2.min.js\"></script>                <div id=\"68419a0b-e410-41d3-a86b-f2c1ddfd1b9a\" class=\"plotly-graph-div\" style=\"height:150px; width:900px;\"></div>            <script type=\"text/javascript\">                                    window.PLOTLYENV=window.PLOTLYENV || {};                                    if (document.getElementById(\"68419a0b-e410-41d3-a86b-f2c1ddfd1b9a\")) {                    Plotly.newPlot(                        \"68419a0b-e410-41d3-a86b-f2c1ddfd1b9a\",                        [{\"name\":\"0\",\"source\":\"data:image\\u002fpng;base64,iVBORw0KGgoAAAANSUhEUgAAA4QAAACWCAIAAAAJ2tFhAAAqBUlEQVR4Xu3dZ1xUV\\u002fc24D1DH3q1AAqi2FDsir3FbuyJMepjb9GYWGOLvcbYNfbeYom9xa6oARtFRAUE6b0zwAAz7wf\\u002fkxdX5oyUgXNG7uvD8+FeSPjpM8OaffZeW6R4voeBVnvRhCagVV6Me0Ej0C57x9EEtApeg1oPvwe1nJgGAAAAAADlBc0oAAAAAPAGzSgAAAAA8AbNKAAAAADwBs0oAAAAAPAGzSgAAAAA8AbNKAAAAADwBs0oAAAAAPAGzSgAAAAA8AbNKAAAAADwBs0oAAAAAPAGzSgAAAAA8AbNKAAAAADwBs0oAAAAAPAGzSgAAAAA8AbNKAAAAADwBs0oAAAAAPAGzSgAAAAA8AbNKAAAAADwBs0oAAAAAPAGzSgAAAAA8AbNKAAAAADwBs0oAAAAAPAGzSgAAAAA8AbNKAAAAADwBs0oAAAAAPAGzSgAAAAA8AbNKAAAAADwBs0oAAAAAPAGzSgAAAAA8AbNKAAAAADwBs0oAAAAAPAGzSgAAAAA8AbNKAAAAADwBs0oAAAAAPAGzSgAAAAA8AbNKAAAAADwBs0oAAAAAPAGzSgAAAAA8EaXBlorV5b\\u002f8GWQp0+Q77vI91EJ0QmpWdm5srwCiaG+mYmhjYVpvRpV6jlX7dDUtbW7i44YXbj2+Xrbz5d8HxRO7s7a3bF208IJ8CgyJMH\\u002fn\\u002fdvXoaHvYlNiEpJiEnLkcpys2UikcjASF9iYmDnYFnZ0dLFzb5u0+qN2tQ0szKm3wL4I8vLeRn00P\\u002f9P28jfKITw+JTo6Q5GbK8HEN9iYmRuZmxlVOVOjWrutVzbt68did9PUP650F73PvjzLEpq2nK2LqIq5YOlWgKUPa+hGb0sW\\u002fIzrP3\\u002f7rzIis7l9YYy5DmZEhzouJTfd9FfEwszSQDOjX5aVjXBjXtP\\u002f1aEK6br71IJwoC8f519IX9j+5f8IkIjqc1pfy87Kz07ITo1ADv0NtnXzDGxDrihh41un3bvPcIDxNzI\\u002foHoLwoFAqv1zfPPdzj6X81RyalZcakuZnS3Mz41KjgKP9b7DRjzFBf0qreV1+3HdOuYR+xCB\\u002fstUx8UPjpWRtpCuXrxuHfzmyeQ9OyMWv33dpNO9JUYLS7GfV5GzFjw6m7z97Qglop6dL9Fzz3X\\u002fDs2cZt48xva1evTL8CBEYqy5l2Yi1NgW8vHrzbteTSs7vFewF+JC+Q+3gG+3gGb\\u002f3lr4ET2o9d0Mvc2oR+EZSxez4Xdl74NSjSjxbUypFJ7\\u002flcuOdzwcHWZUT3WQPbjReLdegXgSDJ8wv2jlgkk+bQApSv8LcvaVSxaeuH2vwC+YLt55oNX1HcTrSwa49euQ9dumzPJblcQWsgJNNOrHsb+4GmwJ+E6NTZg\\u002f4Y3+G3knWihWVn5R7beLNvjflnd92nNSgz8alRP23tO3N7\\u002f+J2ooVFJoSsPjp52PImL4Me0hoI0pWV+0K9XtEUyl34GzSjn9DKZjRTmtv9h42r9l8tkMtprZhyZfmLd17s89OWtMxsWgNhOO51fb\\u002fnBZoCfx5d9R9Sf\\u002fGdv17QQilkpWevmnT0x95bMtPwSixz3oG3hy1r\\u002fNDvMi2USFCk3\\u002fjfOuy6uEShwKd6QQt7GnB5xV6aQrnLzc6KC39H04pN+5rRtMzsbj9svPO0tOsxhV179Krd2LXJ6Vm0AHzzDPYZe2gpTYE\\u002fxzbe\\u002fKnv1oxUFZsLS+\\u002fRVf\\u002fRrdfEhifTAmjOde8T0zb3TMlIoIVSUCgUuy8t\\u002fXnb17I8PP8VqLzs3H0jFsnzC2gByl3kO19FqZfSvjBa1oxmZed2mfT7E78QWig1\\u002f+ConlM3Z0pVHIECvryOfv\\u002f11p9z8mS0ADw5sv7GhhmnynRby\\u002fvX0RM7r0+MSaMF0ISbz04t2js8vyCPFjThod\\u002flOTuHlNE3h1I6NWtj7FtsdhKED280+Vjpy6BlB5gmrjzyPPAzL6dqla16tW3QyNWxqq2FkYF+elZ2SGTCP\\u002f7vrz9+Jc1R19Z4B4SOXXbwzzUTaQH48C7uQ7eNP6RI02kBeHLrzPNNs8\\u002fQVBWX+lVbdK1r72xraWtiYWOSI5WlJmYmxqb7Pgp++TAoO+szH\\u002fkiQxKm9th08Mk8Q4k+rUEp+IU8+XXfSLniM0syZhLLprU7NqrZxtq8soWJjSw\\u002fNyUjISYx7OnbuwGh3up7zYd+l1cdnfTr\\u002f\\u002fbRAvAq4MaTeztO0xR4EoHTS\\u002f+hTc3orrP3j13zomkhzeo5LZvUr0fr+iKRiNYYy8rO3XX2weoDVxNTM2lN6dTNZ11a1J0wsD0tQPl6FRXSdcOkuHQ8rhWK8KD4JaMO0PRTxmZG3\\u002f\\u002fcdeCE9rZVLWhNKT+v4MEl370rrrx9GU5rhQT5RS4ff3jlsXG0ACWVIU2dv+c7Wb66TwIuVeuP6b2gW7NvVJ6On8xYWmbS0Zsb\\u002fry7LSub81PiBc\\u002f9HvW7f9XsG1oAnmQlpx8cg81OAoLTS\\u002f+lNc1oSGTC9PUnaaokFouWT+7\\u002fy6ieYrGKNvQjYyODGcO\\u002fGt6r1dhlBy8\\u002f5DxAOnPjqT7tGla1taAFKC\\u002feoQG9tkxLysSDWqFQKBQrxh9Sv6I5aGKHqasGfHaOva6eTueBTToPbHLj5NMVEw5LMzi3GF4\\u002f7tV1cNNOAxrTApTIpjOzY5I4HyuJReIJfReP7bNQ\\u002fdxQcxPrHwas\\u002fKbTD3N3DvENeUzLSquOTGpZt6uZsRUtAB+OTlqZGq3JLcJQGvl5suj3ATRljDHm3r7vV8Nn0LTUHF0b0Uh4tKYZnbvlTK4sn6aMMcZ0xOLjq8Z\\u002f81UzWlDFzsr0woapMzb8ufnEbVpjjDGWKc2ds\\u002fnM0RVYkuHHCe\\u002frYw4uxT5RQblx8unz+5xnP3V0xXO3DRs0sQMtqNV9aPM6jR1nDtgRGhhDa0q\\u002f\\u002fXiiTU83fUM9WoBieh327IIn56NzfV2DDVMveNTvTgscbC2q7p59b\\u002fH+\\u002f133PkFrjDHG0qUpB66tmT54HS1AuXty5Mqz07doCvyJfh+Qz\\u002fELzq1NT+FPpy8j6j4EC8cj3+Cztzk3\\u002fG6bO6yInehHYrFo06yhkwZz\\u002fu48ds3rsztTQeMUCsXC8zuG7VmATlRQ5HLF7qWXaFrIqhMTituJflS9duWdt2dWcuRcP4uLTDm3FwMsNWDXJc65SyKRaMmYg0XvRD\\u002fS1dFbMvpgE1fOHU1\\u002f3tmm2QP7UALJ4bEnpuEjgbCoeUbvVK85jSoM7WhGf9lylkZK33ZrrqatVGPrnGEdmrrSVGn1gas0grIUlRrfbeMPK69wLt4AXzyv+H14G0tTpZGzu3cd3JSmRWZTxXzLlR+NjA1oQenYRizqlFZIdICn3xWaKn3XZXr35kNpWgR6uvqrxp8w1JfQAmOMsdy87Bsc66ZQPhQKxYFRi7PTOM9IAC+4Ti\\u002fp6uk71GpI0wpDC5pRv6BIT59gmjLGGDORGPz+cwm3yevqiI8sHysxVH1c99zdl+8+xNEUysaZ57caLvn2VqC602nAl\\u002fPca5O1GjpMWz2QpsVUs4H9qLk9aKoU9T7B97HmR7lVKOcfcs45tzCxmdB3MU2LzNai6vBuM2mqdPWfozSCcnRzw7E3d5\\u002fRFPjGNdfJwdVdV091Q1IRaEEzuuss5yWBPw7tYm9nQdMic6xk9cvonjRljH18NPnXA5qCpkWnJny3e\\u002f6QnXOTszgP5wKPstKzH13jvDxwzPxeYh0NvIcMn9nNzt6CpkoPLvnSCIpMrpBf9zpOU6UxveabSixoWhwD242nkdLrD88ys3EMkR9Rr0LOLdhOU8bEujqVXKvTFMqLQi6PDFJ9ftq5fgsaVSQa+EVSpqQ5sqNXVS+Y6eqIpwzpRNNimvpNZyMD1ccjjl3zKv11o8AlX17w+99H6ywaePLpDVr7lMpBXVA+\\u002frkZmJ+n+soWx5p2XYcUY6+2GoYS\\u002fV7DW9FU6QX32Sn4rIBQ7+SMeJoyxhjT1dHr7TGCpsVUycrR1dGdpowxxhQKxeswrMzxIF+Wt2\\u002f4wvxcFZvvey8Ya9+gJk2hvMRFBOVKVW+ccKpfcTeMMuE3oxfu+aRnqb6ruk8799Isi35kaSb5rkdLmjLGGItNSvv7yWuaQqkpFIqPz+Vnnd6YkfOZWyXbuzaZ1GEQTaG8PL0TSCOlzgObqJmkVlzt+6puaBhjQX6RNIIiexLA+WGvtVsPCxMbmhafqwPnv11YrCbvbYYiurDojwhfFR\\u002fhqjet22chBsXwKTxQ9TN6VrFPLzEtaEbv+9BIaUAnzQwgHNSlCY2U1PzXoWQu+NxrvHzYkJ1zA2NCae0\\u002fBjbpfOOn7WaGJrQA5eX10zAaKTXtWJtGpdDAw0VHV\\u002fXbUXZWLm4HLTG\\u002fkCc0UmrToBeNSsTavDKNlNKzcG9FeQv29Lmx\\u002fghNGdMz1B9zeJlYV8V1BlBuwjlOLxlITKo41aFpRSLoOaMKheLvf1TPhtURi3u3a0DTEuncvI7EUF\\u002flTaFXPf1pBKUQmRLXfzvncYfCRCLR4r4Tfu0zHs\\u002foeSQvkHOtSorFosZtNfmwTywWWdqacjWdKQkZNlXMaQpF0KJuF31dg+Ao\\u002f+ikMDLdqYGz6odCxSUxNKWRUmYO9oKXq5wM6b6RvypUbTAbsGpq1Xo1aArli6sZrV63qUis+tN4BSHoZtQvKDIlXfVj3Ia1HKzNNbNgZqiv18a95k0vFU\\u002fkI+KS\\u002fYOjGtS0pwUoS5XMrA6OXtrDrTUtQPmKi0yR5aq+acLc2kRiakjT0rGuZMbVjEoz1V3+BGqM7D57ZPfZjDFpTkZw1KugSL\\u002fgKP+gSL\\u002fIhJCaDpr5PC\\u002fNyaCRkrEBZ58KZeHEj+sSQ6Noyphrh6ZdfxpGUyh3ERxDRp0r9jN6JvBm9JEv50iX1u4uNCqFFm7OKptRxtjDl0FoRstTn4bt9o361c7Uihag3EWHJdFIycJGMx8FCysoULGc85EGN6dWWBJD04YuHg1dPGih1KIS3tNICTeClqeX5+89PqjifgpDU8mYg0vwlIl3ybHhmWmq31Qr+OklJvBmVM01SK0aaPJxQ0s3Zxop\\u002feP\\u002ffsqQjjSFMmBjYrFp6KzvW6oetgXlr6FHjb\\u002ferkiMTo2PSo2PSkmITk2ISk2ITo2PSlUzianE4qNSaaRkbKbhVVjQoICwpzRSqmnvRiMoG+lxyUcmrKApY4yxbzfOtHaqSlMod7h7SQ1BN6M+b8NppOTmosnVyno1OF+oan4G0BSRSDSqdd91g6fbmFjQGvBHT1+3umul6q6VaKEMJMakpSdn0VTJupIZjUAY3oa\\u002fjElSvWogFuvUc6rov2LLzaFxyzISUmjKWMM+7dqO7U9T4EM4x7h7E3NrG3vOFbEKQtDN6FuOO5BEIpFrdU3+gnSqaq2nq5OXr2Ke4tsPcQVyuU7F3llcplo6u235bk4L5\\u002fq0ABXJs3tvaaRkYWNibq35XQGgEUdvbqCRUvM6nY0MjGkKZeDB7r\\u002f8Lqu4Kc3E2nzknkU0BZ5wnV7CM3om5GY0Kj41K1v1qQXHSpZc13iWjI5Y7Gxvo\\u002fL+T1lefnhMsrO9BqbxAVHTznHlgB++afYVLUDFc+fscxopubo70giE4WXQw2tex2iq1K\\u002ftGBpBGUgIiTw1Q\\u002fVHguE755tXtqYp8ISzGf3PM3ppekpY4LPQV95hr58mx4RnZaRI05Jzs7P0DSWGJmbWlavZOdasXq+Za+P2Dq7uX8ZuYOE2o6HRiTRSql5F868ux0pWKptRxlhYTCKaUc2qZVdtXq\\u002fRIzx664ox9A5Yclz6g0uqr8hjjDXvXKHH7wlWZELI3F3fkHFR\\u002f6pmV6tLE1xXUebkBfJ9IxblqroapuWwHk0Hd6Up8CQjJSElTvWkvH9XRnOlmS\\u002funvO6dizQ65ZcruJRbY40I0eakRofFeL35MmVI4wxq8rVWvT4rsPAidr+oF+4zWhELOe05Kq2FjQqtcrWnJvSImJVbMSBEhCJRJ3qNJva6dt+jTpi5wP86\\u002fjm23ky1TOkGGNteuIQjOD4Bj+as3NIUlosLShNH7xOV0f1TcugQddW7w95ouKDnIW93bBtc2kK\\u002fOFaFmWMOdVvnpYUe+3Amofn9sg+dyshkRwbfv3g2r+P\\u002fN6i+9D+U1ZYV6lOv0JLCLcZjVK1F\\u002fujsmlGOUdqxySqnn0IxWVvYXdn5i6aQsWWFJt2csttmirVqFe1duNqNAX+JKfH7b607OyDXSpXbj7q1Wp4x8b9aQqaFv7izaVle2jKGGNs1L5fJZacKyxQ\\u002frgmjEpMLW4e+f3u6R3FbUMLkxfk\\u002f3P16Is7f\\u002fUd\\u002f2v3kbO1cX6+cJvR+GTOQcqVrDT\\u002fGrOz4hzOnJiaSSMA0JBNs89kZ6neHc4Y6ze2LY2AJyHRAZceHzx7b6c0V91boquj+4IR+MxZ5vKyc\\u002fcOX1iQp+KRQsfJg+t31\\u002fxAWSiNDxxH6aUZqTeOrKdpichypGe3\\u002fvLa6+b4lcdNrexoWdiE24wmp3POeTE3MaJRqZkZc35PNT8JAJTGo6v+V4\\u002f+Q1MlMyvjgRPa0xTKWI5MqqujVyDPT89KSctKCo70Dwh7+vztvbcRPvRL\\u002f6NOtSbbf75hqC+hBdC0M3O3xASG0pQxWxeHwb\\u002f9RFPgm5rH9JoV6H175cgWM3bctKtWi9YETMDNaBpnC2hmovkJ2CYSAxoppavaGw4ApZQcl7507CGaFjJiZjeJCecLE8rI9nMLjt\\u002faRNMiaO\\u002fed\\u002fnYIyZGnFueQFMCb3nd3fYnTRkTicVjDy8z4F5bAV7kSDMSIoJpWmaSYj6sGdt25s7b9i5as+FeuM1oppTzyZ2aVcwSM5VwNrjpmTk0AoDSKciX\\u002f\\u002fLtrqRYzg3ZDi62w2dg7BcPYpOLfdOHxNB0+uB1gztMogUoA9KU9P2jlqicY9B99kiX1u40Bb5FvPVR+e\\u002fFxdbBpVajtg6u7pZ29obGZmIdnVxpZnJseEzYm2CfR1HB\\u002fvQP\\u002fEdGcvymqT3mHXxiVUk7RuMJtxmV5shopKRmFbPEjI04v2eOLI9GAFA6q6ccfX7\\u002fHU0LmbttmL4hjmPzoFjNqL6uwaAOk8b2XmBpaktrUDaOTlmTGhVPU8bsG9TstwyfB4SoiM\\u002fo9QyM2vYb02HQRPuaDWitkMSoUM+L+++e2i5N5zznzRhLjY\\u002faOr3P\\u002fMNeevqca23CIdwjV9m5nM2oro7mh1Pq6HCOjc3JRTMKoEn7Vl45t0fFhTH\\u002fGjy5Y+seWvOA6QvDdb2nSvkFea8\\u002fPLv8+FBkQgitQRnwOn796ckbNGVMV19v7JHluvr4\\u002fCZEam6l\\u002f1fLHsPWXA4dNneb+k6UMWZj79x\\u002f8vLVF993HDxZ\\u002fcT7yCC\\u002f0xtn0VSQhNuMqryc8yNdHc3\\u002f2GoaXDU\\u002fCQAU1+kd93YsPE\\u002fTQmrUqzrj929oCuVClpeTkpFAU25yhdw3+NGmM7P7L6g1a8fAdxG+9CtAc1Ii447\\u002fsIamjDHG+i6Z6OjuSlMQBq5b6T8ylJhO+f3cuJXHzKyKcc+5xNTi+3k7pqw\\u002fZyBRd1vy3VPbg308aSo8mu\\u002fqNKVAzrnBomyaUc7vKS\\u002fOVg8AUOPCfs+1U4\\u002fTtBBTC8n6c1MMjLDAw4+Y4jyjL0yhUNx9eW7Y8saLD4zKzuU8fgolplAoDoxaIk1VMfTQxaNhjzn\\u002foykIQ74sNyY0kKZKplZ28w4+adyxPy0UTaOO\\u002fWbsuGlkrG7e5YnfpivkcpoKDGcHxjs599+dmlXMElPzPQsKOH8SACi6C\\u002fs9l487rGYjv46ueO2pidVdi7E8AJpVrA2j\\u002f6VQKC4\\u002fPjR8RbOQqFe0BqVze\\u002fOJwNveNGVMX2I45tBSMfd6CvArJuyNvEDFOFjGmJGx2cw\\u002fblV1qU8LxVGjQauJa0+Jue\\u002fWDn\\u002fz4uW98zQVGOEeYFLXHXL3qSWWX8D5LF4HL3KAUju9497aqcfVdKKMsV+2f9\\u002fyq3o0hXIUk\\u002fTBQM+obvWmtas1qlbJtbKlo5GhiTQnIyUjISkt9mXQw5fBnrK8zwwYCYt9M2Zt2z2z77s64mS3ZkS\\u002ffv\\u002fXvK00ZYwxNnjddLtauKVMuBxd3Xc8zk6MDk2MCk2Iev9\\u002f\\u002fxsdmhgVOmLBrs\\u002fuEC2K+h7de\\u002fxvztUDq2lB6ebRDU06D6SpkAi3GdXX42xG88tgqVLN91TzBB8AiuLA6qvb5p+j6aemrhqAEfe869Sof+9WI\\u002fR09WlBKTcv+6Hv5d2XloZEB9BaIZnZaVM399g\\u002f19PB1oXWoJgK8vL3jViUp2rCTL2vWnacMoSmIDC6+gaVnepUdqpDC5rTd+ISr+vHk2JUnz4M9n0U++Ft5eq1aUEwhNtm6etxNspqVjFLTM33RDMKUGIKhWLDjFOf7UTH\\u002f9p39LxeNIVyZ25iraYTZYwZ6Bl1bTbk5BK\\u002fZWMOGxup26mWlBY7a8fAArnqB5RQdBcX7wx\\u002f8YamjEksTEftX6z+PDVUELp6+n3G\\u002f0rTQl7cPksjIRFum6Wny70yms+5illiBQWcTw+NDNS9NQMAl\\u002fy8goXf7z228SYtfGrcoj6Tln5NUxAwsUjc22PE4fle1SurW2sJivQ7+vcGmkJxhDz2vb5O9UVl322dY+mADdbwf1r2HGZsZkVTJX\\u002fPqzQSEuE2o2paQDXz8EssK5vzwic18\\u002fABgEtGqnRqj03XT6g4clHYDysHTF7Wj6agDZwq1zk07x+nyuoePu6+tDQhNZqmUDS5mdJ9IxbJVe0iazKwc6vheJgA\\u002f5+evmGjjpzvpR8Cn+fnab530hThNqNW5hIaKWVIP7N9vgTUfM+yuPAJ4MsW8yFpTJu1T++oeLb4L5FINHvz0DHz8QtVi5lKLDZNu2RmzLkekyOTnn+4l6ZQNCd\\u002f+j3hfRRNGTOrZDVi1wKaQoXn1qYnjZTyZDlFuUeUL8JtRq3NOee4ZmRxNo4lpqYZtTTjbIsB4L8CvENHtlz1\\u002frW69TAdXfHSQ6OH\\u002ftiFFkDbONrVXDBiF00LOee5Vy7n3JQPXHwvPfDcd56mjDHGRu5eaGJjQVOo8JzrNadRIQmRwr0mTSub0fSsbBqVmpoGV81PAgDE9RPe4zr8lhyXTguFGEr0N5z\\u002fofcID1oA7dS16eD6Tpy\\u002fBeOSI14Ga8EdMIKSkZByaNxymjLGGGsz+mv3rzvQFIAx66pOai5kSowOo5FgCLgZtTCmkVJ8soorKEopLpnzd6etpSmNAOA\\u002fFArFzsUXFwzbI8vJo7VCLGxMdt2Z1bZ3Q1oAbTax31IaFeIf8oRGoNahccsz4pNpyph19SrfbtKO28aBF5Z2DjRSykpX8f8ogeAcn8Q7e1tLGinFJqXRqNRiEzmbUXtbCxoBwKdys\\u002fMWj9p\\u002f89QzWviUg4vt1ms\\u002fVatlRwug5VrW7SoxNJXmqF4p8A\\u002f1ohFw89x33vfifZoyJhKJRh1YYmTGuVIDYGJuTSMlWbZw7+kVbjNaw8GGRkpqVjFLTE2D61CJsy0GAMZYYkzajH7bAp6G0cKn3Fo6b7o0zdIWjxq+QLo6ei3qdrn38jwtMMYYC4r0oxFw8z5xg0aMMcYUCsXvnSfSVHPmOHKeJnRu6Tb\\u002fH9UTpkBQ9AyNaKSE0\\u002fQl4eJgSyOl8FjNLzWr+Z417Dl\\u002fEgB46xMxovmKz3aiXQY12X13NjrRL1gD55Y0UkrP4nyDBQANUnDf4KNnwNmn8k64zaiZsZEVx8OIkIgEuZxzRn0J5BfIw6ITacoYY8zcxMjOCr8+AVR7eufN+A6\\u002fxUel0sKnRs7uvvb0JAMjPVqAL4ilKefui8zsNLlCxbBMANAsWS7nCW8DQ+GOBhJuM8oYq+9SlUaMMcZyZHkRcZr8nB0alch1N30dp8o0AgDGGGN\\u002f\\u002f\\u002fl0Ws\\u002fNWemc732MMV09nUV7Rk5fNxiXFn7xrM04bwNSKBRc20kBQIMykuNppGRmI9x+Rrh7RhljTetWf\\u002fgyiKaMMcYC3kdXr8K5S7e4AlRNFf6ocZ1qNAIAxk7vuLd26nGFQt0zClMLyW9nJzfvrO6GHvhi6OqoW\\u002fnW18XtIVDh5MtyM1ISMlLi05PjM5LjM1ITMpLj05PjM1MSWvUa3rz7UPoHSkehUKQkcPYzVpUcaSQYgm5Gm9d3opGS96vQXm0a0LSkvPxDaaTUpE51GgFUeMc33fr95z9p+il7Z5vNV350rluFFqAcFcjzY5PCIxPfRyW8j0p4H5kQEpnwPirx\\u002fZllr23MNfxPk5nDebRULNbR1zOkKcCXbt34DqGvVI+SMDa30ngzGhf+Ll\\u002fGebd5pWquNBIMYTej9ZxppOQdwNk+loCa79bG3YVGABXbkfU3Ns0+Q9NPubV03nhxmpUd9lvzaf7u7249P1Mgz6cFxnyCPLs2G0LT0olJDKORkp2FPY0AKgBbhxpczeiHwOc0KrUPrzmH6+kbSio7C\\u002fchlaD3jNaqZsc1VsnzZbAsT8U7bAlIc2RP\\u002fFTfkWVraVrXWcOLBwBa7c9tdz7biXbs33j33dnoRHlnaCBR2Ykyxp4EqB4eVBrvIn1ppFS9knCXZADKjprFyJiwN9mZnDMlSybgCefr2ql+c7FYh6aCIeiVUcZYDw+3vecf0pSxDGnOvedvu7WqTwvFd8srMDtX9YUx3T3q49QFwL\\u002f+\\u002fvPp+uknafqpIVM6ztk6TCzGC4d\\u002fNarUo5HSQ\\u002f8rcoVcLNLYeoRCoXj+9h5NlWo5utMIuM249QeNNOePwXNenL1NU8YYY+sirlo6cJ5CgxJwqs95Ta5CLve5d8Gjz0haKKl8Wa6\\u002f51WaKrm17kEjIdHYO1EZ6dWWc2Po6ZuaWeI+c5vz+\\u002fRtjzdQgP\\u002fz\\u002fP67X0fuVz9VbfLy\\u002fr9s\\u002fx6dqEA0cPGgkVJSWuzTQNUdScn4hTyOS4mkqVLz2p1oBFAB1HBrqWZJy\\u002fvGCRqVwvM7ZzPTkmiq5N6uL42EROjN6Fct6xkbqT6DeeKGd1qmupkyRZGYmnn6puo9FhamEjSjAB\\u002fFRab88s3OPJnqZ76MMZFI9Mv278ct7E0LwJ961ZtJDExoqnT6niaX347f2kQjJUN9SZPaHWgKUAGYWNg41W9BU6XXXrdSE6JpWiIKheLagTU0VXKq16yqiwaeJJcdoTejJhKDIV2b0pQxxlhWdu72U3dpWkxbTtzOkal+Rj+idysjA3WTSgAqiDxZ\\u002fpzBfyTHc86JFIlEC\\u002feMHDKlIy0Ar\\u002fR09ds25Px4cN\\u002fnQmhMIE1LJCDs6Z0Xf9FUqVPjAWp6YoAvW5NOA2ikJC\\u002fIv7hrCU1L5NHFA1HB\\u002fjRVajdgPI0ERujNKGNs\\u002fID2NFJatf9qVHwqTYssLDpp\\u002fRHO3b4TBnL+dwEqlL3LL7\\u002fy4pw4wRibumpA\\u002f7FtaQoC0KvVcBopyRXyzWfm0LT4ZPm5Kw9PUHPB0qAOZXidOoDAefQZKdbhPJ\\u002fz6ML+mNDSfiZMjY86vWkWTZUsbKu27vM\\u002fmgqMFjSjrd1dGtVWPak1Kzt3xKJ9BXLON0E18vILhi\\u002fcy3V0qX0TVzcXzCIBYG9ehB9Yc42mhfQb03bULz1pCsLQpkEvR7uaNFV66Hf5utdxmhbTmmNT3kb40FSpae2OjWu1oylAhWFuU6Vpl0E0VZLLCw4sHpUny6GFIsuT5eyYNVCankILSj1Hz9PVV73dUTi0oBlljC2d2I9GSnefvflp\\u002fWeGb6v0w5pjj3yDaaq0ZtpAGgFUPAqFYuXEIwX5nJ\\u002f3Gnq4zN\\u002fJufYGvBOLxKN7zqNpISuOTFDTSn7WlrNzL3jup6mSWCT+cRDnPjaACqLPuEUiMWe7FRrgfWjpWJoWTb4sd8esgaEB3rSgZF+zQcfBk2gqPJx\\u002fO4LydQf3lm6cA\\u002fC3\\u002fXln9qYz6q8lLEwuV0z\\u002f7eSecyomRn00pGszj4aYdQ\\u002fArh\\u002f3fv0sjKZKRsYGyw6P0dUT7uw6YIz1bTOqlkNDmipl52ZN2fCVX8gTWvgcWX7uskNjD11fRwuFDOk0xc25JU0BKpiqLvXb9B1F00K8rh8\\u002ftGxsfp6MFtTKTEvaOLX7q0ecT67EYp0R83eq2SQgHFrwI360adbQtmPWcj2RX3\\u002fkRmh0wu6FI63MjGntUwkpGWOXHbr0gHM4s6G+3mosiwIwVpAv37HwHE0L+eqbZvGRKfGRnI+HNMW5XlWM0C8xsUj86\\u002f\\u002f2jVrtwTUAPzUzcdy69lP6Lx\\u002fZY04RJ48GhHqvODLhXQTnGyljzMXebdpALIsCMMbYkJ\\u002fW+3teTUuKpQUlzwv7Y8LejF953LpKkS4hf\\u002fX4+uEV41PiOOepMcb6jF\\u002fk4t6apoKkNc1oqwY15o7qsWo\\u002f50DXs7dfeL4MXjS+z9j+bQ31VZyCz87N2\\u002f3Xg5X7riSkcB4KZoxtmfOdi4MtTQEqnttnn0eHcU6tY4xdPPDo4oFHNC0Dq05M6D6Uc3Y0fFY9p2aT+y3bdm4+LSgVyPO3\\u002fjXv8pPDo3rM7dFymK6OirdQxphCofANeXTi1ubbL86qfxhlKrH4fco5I4PPrA4AVBASM8vRyw5tntZTwbGmxhgL8X28cGDtDoMm9Rg528JO9akVhUIR6H3rxqHfXnvdpLVPubXu0XvcQpoKldY0o4yxJRO\\u002fvun1+mlAGC0oxSWnT117fP62c73bNWjpVsOpirWJxCBTmhsanfiP\\u002f\\u002furnv4Z0s\\u002fsER7R22P8AOy1B2CMsZNbNDkUHfg1ute8kOiAa17HaKGQ0JjAxQdGrT0+tUntDo1rtbMxr2Jpaqsr1s3KyYhJ+vA24uWzN3fVTLb\\u002fl8TAZMuPV9UcnAKogOq36jZo2pozm9WNsMiX5d4+sfnOyS3V6jSp79HdpqqTmVUlfUNJjjQjMTos4u3LQO\\u002fbRRlNWq1Ok0lrTwv5\\u002fk9Cm5pRPV2dS5umeYxaHRqVSGuFpGdln7jufeI6535eLs3rO\\u002f0x73uaAlRIEcHxvo9DaArabPGo\\u002fdm5mfd8LtDCp6S5mZ5+Vzz9rtBC0RgbmW2cerEh9+VPABVW95Gzs9KSrx38zPYVhULxIfD5h0DO6yHVs3dx+3HLFQOJNg33LdL2IOGoZGV2Y9vP1atY00KptXZ3ufXHDK7bngAqmvsX1W0HBG2kp6u\\u002fdtJpNZNHS6+SleP+uZ5NXXHfEoBqA6et\\u002fnriEppqTs1Gbefse2huXZkWhE3LmlHGWK1qdk8OzmtcuxotlELn5nX+3v6zmbERLQBUVH6POQefgfbS1dFbPvbIz0PW64g1\\u002f1isg\\u002fvXxxY+r2nfgBYAoJC+ExZPWH3SUKL5Q5mdh06b8cdNiakFLQie9jWjjLEqNuaPD\\u002f7y07CuIpGI1opJRyyeN7rXje0\\u002fY00UoLDQQM5Tn6DthnebeWTh09rVGtNCSVmbV14y+sCGqRcsTXH6E+Dzmnf7dsmffnVbdKGFkrKxd56+9dp3s7fo6RvSmjbQymaUMWaor7dx5rePD\\u002fzSoakrrRVZh6auT48uWDV1gK6Otv49AJSRhOhUGsEXpLZjo6MLny0dc8jBtlQzla3MKk3ut+z8yqC+rUfRGgBws67qNOOPW9M2XXKs3YjWisPMqtK3MzcuP\\u002fvGrXUPWtMemn9SU55aNahxb\\u002ffsBy\\u002fe7T3vefb2c2lOkQbGSgz1B3RqPHlIxzbuOOwJoJqM46Zc+GKIReI+HiN7tRr+JODGxUcHHr+6Ls1RN\\u002fauMH09w1b1vurW\\u002fNsuTQfr6+KxEkAJNWzXp2G7PsE+ng\\u002fP7fV7eDkzTd00vcL09A1rN+\\u002fU9usxjTr209FVPYtNi4gUz\\u002ffQTDvlyPIe+QTff\\u002f7udWh0UHh8bFJapjQ3R5anp6tjYmRY1da8hoNtw5oObRvXbN\\u002fEVeUgUm31oglNQKu8GPeCRqBd9o6jiRbKy5f5Bj96Feb9LtwnKjE0PiUyMyc9V5bNGDM0kJgYmtlZOtjbOLvYuzWo0crNueWXNEMUr0Gt90X8HpTLC8ICnoa+8vrw5kVC5PuUuAhpRqosR6pQKAyMjA0kJhY2Veyq1arsVKdmw9Y1G7fV0ifyKmn3ymhhhvp6XVrU7dKiLi0AAMDn6OnqN6vTqVmdTrQAAOVCLNap0aBVjQataKECwF5JAAAAAOANmlEAAAAA4A2aUQAAAADgDZpRAAAAAOANmlEAAAAA4A2aUQAAAADgDZpRAAAAAOANmlEAAAAA4A2aUQAAAADgDZpRAAAAAOANmlEAAAAA4A2aUQAAAADgDZpRAAAAAOANmlEAAAAA4A2aUQAAAADgDZpRAAAAAOANmlEAAAAA4A2aUQAAAADgDZpRAAAAAOANmlEAAAAA4A2aUQAAAADgDZpRAAAAAOANmlEAAAAA4A2aUQAAAADgDZpRAAAAAOANmlEAAAAA4A2aUQAAAADgDZpRAAAAAOANmlEAAAAA4A2aUQAAAADgDZpRAAAAAOANmlEAAAAA4A2aUQAAAADgDZpRAAAAAOANmlEAAAAA4A2aUQAAAADgzf8D4tYJrMUa3fEAAAAASUVORK5CYII=\",\"type\":\"image\",\"xaxis\":\"x\",\"yaxis\":\"y\",\"hovertemplate\":\"x: %{x}\\u003cbr\\u003ey: %{y}\\u003cbr\\u003ecolor: [%{z[0]}, %{z[1]}, %{z[2]}]\\u003cextra\\u003e\\u003c\\u002fextra\\u003e\"}],                        {\"template\":{\"data\":{\"histogram2dcontour\":[{\"type\":\"histogram2dcontour\",\"colorbar\":{\"outlinewidth\":0,\"ticks\":\"\"},\"colorscale\":[[0.0,\"#0d0887\"],[0.1111111111111111,\"#46039f\"],[0.2222222222222222,\"#7201a8\"],[0.3333333333333333,\"#9c179e\"],[0.4444444444444444,\"#bd3786\"],[0.5555555555555556,\"#d8576b\"],[0.6666666666666666,\"#ed7953\"],[0.7777777777777778,\"#fb9f3a\"],[0.8888888888888888,\"#fdca26\"],[1.0,\"#f0f921\"]]}],\"choropleth\":[{\"type\":\"choropleth\",\"colorbar\":{\"outlinewidth\":0,\"ticks\":\"\"}}],\"histogram2d\":[{\"type\":\"histogram2d\",\"colorbar\":{\"outlinewidth\":0,\"ticks\":\"\"},\"colorscale\":[[0.0,\"#0d0887\"],[0.1111111111111111,\"#46039f\"],[0.2222222222222222,\"#7201a8\"],[0.3333333333333333,\"#9c179e\"],[0.4444444444444444,\"#bd3786\"],[0.5555555555555556,\"#d8576b\"],[0.6666666666666666,\"#ed7953\"],[0.7777777777777778,\"#fb9f3a\"],[0.8888888888888888,\"#fdca26\"],[1.0,\"#f0f921\"]]}],\"heatmap\":[{\"type\":\"heatmap\",\"colorbar\":{\"outlinewidth\":0,\"ticks\":\"\"},\"colorscale\":[[0.0,\"#0d0887\"],[0.1111111111111111,\"#46039f\"],[0.2222222222222222,\"#7201a8\"],[0.3333333333333333,\"#9c179e\"],[0.4444444444444444,\"#bd3786\"],[0.5555555555555556,\"#d8576b\"],[0.6666666666666666,\"#ed7953\"],[0.7777777777777778,\"#fb9f3a\"],[0.8888888888888888,\"#fdca26\"],[1.0,\"#f0f921\"]]}],\"heatmapgl\":[{\"type\":\"heatmapgl\",\"colorbar\":{\"outlinewidth\":0,\"ticks\":\"\"},\"colorscale\":[[0.0,\"#0d0887\"],[0.1111111111111111,\"#46039f\"],[0.2222222222222222,\"#7201a8\"],[0.3333333333333333,\"#9c179e\"],[0.4444444444444444,\"#bd3786\"],[0.5555555555555556,\"#d8576b\"],[0.6666666666666666,\"#ed7953\"],[0.7777777777777778,\"#fb9f3a\"],[0.8888888888888888,\"#fdca26\"],[1.0,\"#f0f921\"]]}],\"contourcarpet\":[{\"type\":\"contourcarpet\",\"colorbar\":{\"outlinewidth\":0,\"ticks\":\"\"}}],\"contour\":[{\"type\":\"contour\",\"colorbar\":{\"outlinewidth\":0,\"ticks\":\"\"},\"colorscale\":[[0.0,\"#0d0887\"],[0.1111111111111111,\"#46039f\"],[0.2222222222222222,\"#7201a8\"],[0.3333333333333333,\"#9c179e\"],[0.4444444444444444,\"#bd3786\"],[0.5555555555555556,\"#d8576b\"],[0.6666666666666666,\"#ed7953\"],[0.7777777777777778,\"#fb9f3a\"],[0.8888888888888888,\"#fdca26\"],[1.0,\"#f0f921\"]]}],\"surface\":[{\"type\":\"surface\",\"colorbar\":{\"outlinewidth\":0,\"ticks\":\"\"},\"colorscale\":[[0.0,\"#0d0887\"],[0.1111111111111111,\"#46039f\"],[0.2222222222222222,\"#7201a8\"],[0.3333333333333333,\"#9c179e\"],[0.4444444444444444,\"#bd3786\"],[0.5555555555555556,\"#d8576b\"],[0.6666666666666666,\"#ed7953\"],[0.7777777777777778,\"#fb9f3a\"],[0.8888888888888888,\"#fdca26\"],[1.0,\"#f0f921\"]]}],\"mesh3d\":[{\"type\":\"mesh3d\",\"colorbar\":{\"outlinewidth\":0,\"ticks\":\"\"}}],\"scatter\":[{\"fillpattern\":{\"fillmode\":\"overlay\",\"size\":10,\"solidity\":0.2},\"type\":\"scatter\"}],\"parcoords\":[{\"type\":\"parcoords\",\"line\":{\"colorbar\":{\"outlinewidth\":0,\"ticks\":\"\"}}}],\"scatterpolargl\":[{\"type\":\"scatterpolargl\",\"marker\":{\"colorbar\":{\"outlinewidth\":0,\"ticks\":\"\"}}}],\"bar\":[{\"error_x\":{\"color\":\"#2a3f5f\"},\"error_y\":{\"color\":\"#2a3f5f\"},\"marker\":{\"line\":{\"color\":\"#E5ECF6\",\"width\":0.5},\"pattern\":{\"fillmode\":\"overlay\",\"size\":10,\"solidity\":0.2}},\"type\":\"bar\"}],\"scattergeo\":[{\"type\":\"scattergeo\",\"marker\":{\"colorbar\":{\"outlinewidth\":0,\"ticks\":\"\"}}}],\"scatterpolar\":[{\"type\":\"scatterpolar\",\"marker\":{\"colorbar\":{\"outlinewidth\":0,\"ticks\":\"\"}}}],\"histogram\":[{\"marker\":{\"pattern\":{\"fillmode\":\"overlay\",\"size\":10,\"solidity\":0.2}},\"type\":\"histogram\"}],\"scattergl\":[{\"type\":\"scattergl\",\"marker\":{\"colorbar\":{\"outlinewidth\":0,\"ticks\":\"\"}}}],\"scatter3d\":[{\"type\":\"scatter3d\",\"line\":{\"colorbar\":{\"outlinewidth\":0,\"ticks\":\"\"}},\"marker\":{\"colorbar\":{\"outlinewidth\":0,\"ticks\":\"\"}}}],\"scattermapbox\":[{\"type\":\"scattermapbox\",\"marker\":{\"colorbar\":{\"outlinewidth\":0,\"ticks\":\"\"}}}],\"scatterternary\":[{\"type\":\"scatterternary\",\"marker\":{\"colorbar\":{\"outlinewidth\":0,\"ticks\":\"\"}}}],\"scattercarpet\":[{\"type\":\"scattercarpet\",\"marker\":{\"colorbar\":{\"outlinewidth\":0,\"ticks\":\"\"}}}],\"carpet\":[{\"aaxis\":{\"endlinecolor\":\"#2a3f5f\",\"gridcolor\":\"white\",\"linecolor\":\"white\",\"minorgridcolor\":\"white\",\"startlinecolor\":\"#2a3f5f\"},\"baxis\":{\"endlinecolor\":\"#2a3f5f\",\"gridcolor\":\"white\",\"linecolor\":\"white\",\"minorgridcolor\":\"white\",\"startlinecolor\":\"#2a3f5f\"},\"type\":\"carpet\"}],\"table\":[{\"cells\":{\"fill\":{\"color\":\"#EBF0F8\"},\"line\":{\"color\":\"white\"}},\"header\":{\"fill\":{\"color\":\"#C8D4E3\"},\"line\":{\"color\":\"white\"}},\"type\":\"table\"}],\"barpolar\":[{\"marker\":{\"line\":{\"color\":\"#E5ECF6\",\"width\":0.5},\"pattern\":{\"fillmode\":\"overlay\",\"size\":10,\"solidity\":0.2}},\"type\":\"barpolar\"}],\"pie\":[{\"automargin\":true,\"type\":\"pie\"}]},\"layout\":{\"autotypenumbers\":\"strict\",\"colorway\":[\"#636efa\",\"#EF553B\",\"#00cc96\",\"#ab63fa\",\"#FFA15A\",\"#19d3f3\",\"#FF6692\",\"#B6E880\",\"#FF97FF\",\"#FECB52\"],\"font\":{\"color\":\"#2a3f5f\"},\"hovermode\":\"closest\",\"hoverlabel\":{\"align\":\"left\"},\"paper_bgcolor\":\"white\",\"plot_bgcolor\":\"#E5ECF6\",\"polar\":{\"bgcolor\":\"#E5ECF6\",\"angularaxis\":{\"gridcolor\":\"white\",\"linecolor\":\"white\",\"ticks\":\"\"},\"radialaxis\":{\"gridcolor\":\"white\",\"linecolor\":\"white\",\"ticks\":\"\"}},\"ternary\":{\"bgcolor\":\"#E5ECF6\",\"aaxis\":{\"gridcolor\":\"white\",\"linecolor\":\"white\",\"ticks\":\"\"},\"baxis\":{\"gridcolor\":\"white\",\"linecolor\":\"white\",\"ticks\":\"\"},\"caxis\":{\"gridcolor\":\"white\",\"linecolor\":\"white\",\"ticks\":\"\"}},\"coloraxis\":{\"colorbar\":{\"outlinewidth\":0,\"ticks\":\"\"}},\"colorscale\":{\"sequential\":[[0.0,\"#0d0887\"],[0.1111111111111111,\"#46039f\"],[0.2222222222222222,\"#7201a8\"],[0.3333333333333333,\"#9c179e\"],[0.4444444444444444,\"#bd3786\"],[0.5555555555555556,\"#d8576b\"],[0.6666666666666666,\"#ed7953\"],[0.7777777777777778,\"#fb9f3a\"],[0.8888888888888888,\"#fdca26\"],[1.0,\"#f0f921\"]],\"sequentialminus\":[[0.0,\"#0d0887\"],[0.1111111111111111,\"#46039f\"],[0.2222222222222222,\"#7201a8\"],[0.3333333333333333,\"#9c179e\"],[0.4444444444444444,\"#bd3786\"],[0.5555555555555556,\"#d8576b\"],[0.6666666666666666,\"#ed7953\"],[0.7777777777777778,\"#fb9f3a\"],[0.8888888888888888,\"#fdca26\"],[1.0,\"#f0f921\"]],\"diverging\":[[0,\"#8e0152\"],[0.1,\"#c51b7d\"],[0.2,\"#de77ae\"],[0.3,\"#f1b6da\"],[0.4,\"#fde0ef\"],[0.5,\"#f7f7f7\"],[0.6,\"#e6f5d0\"],[0.7,\"#b8e186\"],[0.8,\"#7fbc41\"],[0.9,\"#4d9221\"],[1,\"#276419\"]]},\"xaxis\":{\"gridcolor\":\"white\",\"linecolor\":\"white\",\"ticks\":\"\",\"title\":{\"standoff\":15},\"zerolinecolor\":\"white\",\"automargin\":true,\"zerolinewidth\":2},\"yaxis\":{\"gridcolor\":\"white\",\"linecolor\":\"white\",\"ticks\":\"\",\"title\":{\"standoff\":15},\"zerolinecolor\":\"white\",\"automargin\":true,\"zerolinewidth\":2},\"scene\":{\"xaxis\":{\"backgroundcolor\":\"#E5ECF6\",\"gridcolor\":\"white\",\"linecolor\":\"white\",\"showbackground\":true,\"ticks\":\"\",\"zerolinecolor\":\"white\",\"gridwidth\":2},\"yaxis\":{\"backgroundcolor\":\"#E5ECF6\",\"gridcolor\":\"white\",\"linecolor\":\"white\",\"showbackground\":true,\"ticks\":\"\",\"zerolinecolor\":\"white\",\"gridwidth\":2},\"zaxis\":{\"backgroundcolor\":\"#E5ECF6\",\"gridcolor\":\"white\",\"linecolor\":\"white\",\"showbackground\":true,\"ticks\":\"\",\"zerolinecolor\":\"white\",\"gridwidth\":2}},\"shapedefaults\":{\"line\":{\"color\":\"#2a3f5f\"}},\"annotationdefaults\":{\"arrowcolor\":\"#2a3f5f\",\"arrowhead\":0,\"arrowwidth\":1},\"geo\":{\"bgcolor\":\"white\",\"landcolor\":\"#E5ECF6\",\"subunitcolor\":\"white\",\"showland\":true,\"showlakes\":true,\"lakecolor\":\"white\"},\"title\":{\"x\":0.05},\"mapbox\":{\"style\":\"light\"}}},\"xaxis\":{\"anchor\":\"y\",\"domain\":[0.0,1.0],\"showticklabels\":false},\"yaxis\":{\"anchor\":\"x\",\"domain\":[0.0,1.0],\"showticklabels\":false},\"margin\":{\"t\":0,\"b\":0,\"l\":0,\"r\":0},\"coloraxis\":{\"showscale\":false},\"height\":150,\"width\":900},                        {\"displayModeBar\": false, \"responsive\": true}                    ).then(function(){\n",
              "                            \n",
              "var gd = document.getElementById('68419a0b-e410-41d3-a86b-f2c1ddfd1b9a');\n",
              "var x = new MutationObserver(function (mutations, observer) {{\n",
              "        var display = window.getComputedStyle(gd).display;\n",
              "        if (!display || display === 'none') {{\n",
              "            console.log([gd, 'removed!']);\n",
              "            Plotly.purge(gd);\n",
              "            observer.disconnect();\n",
              "        }}\n",
              "}});\n",
              "\n",
              "// Listen for the removal of the full notebook cells\n",
              "var notebookContainer = gd.closest('#notebook-container');\n",
              "if (notebookContainer) {{\n",
              "    x.observe(notebookContainer, {childList: true});\n",
              "}}\n",
              "\n",
              "// Listen for the clearing of the current output cell\n",
              "var outputEl = gd.closest('.output');\n",
              "if (outputEl) {{\n",
              "    x.observe(outputEl, {childList: true});\n",
              "}}\n",
              "\n",
              "                        })                };                            </script>        </div>\n",
              "</body>\n",
              "</html>"
            ]
          },
          "metadata": {}
        }
      ],
      "source": [
        "display_soln_array_as_img(1)"
      ]
    },
    {
      "cell_type": "code",
      "execution_count": null,
      "metadata": {
        "id": "jmpN9Tst038w"
      },
      "outputs": [],
      "source": [
        "# Your code here - define arr1\n",
        "display_array_as_img(arr1)"
      ]
    },
    {
      "cell_type": "markdown",
      "metadata": {
        "id": "Ls5yYmP231mU"
      },
      "source": [
        "# <details>\n",
        "<summary>Solution </summary>\n",
        "\n",
        "```python\n",
        "arr1 = einops.rearrange(arr, \"b c h w -> c h (b w)\")\n",
        "```\n",
        "</details>\n"
      ]
    },
    {
      "cell_type": "markdown",
      "metadata": {
        "id": "4wMsIkV0sG93"
      },
      "source": [
        "---\n"
      ]
    },
    {
      "cell_type": "markdown",
      "metadata": {
        "id": "WhPm7_c51any"
      },
      "source": [
        "#### Exercise 2\n"
      ]
    },
    {
      "cell_type": "code",
      "execution_count": 37,
      "metadata": {
        "id": "4NWidso_1anz",
        "outputId": "ae3e876e-9835-459c-9e15-25d1a91ed853",
        "colab": {
          "base_uri": "https://localhost:8080/",
          "height": 317
        }
      },
      "outputs": [
        {
          "output_type": "display_data",
          "data": {
            "text/html": [
              "<html>\n",
              "<head><meta charset=\"utf-8\" /></head>\n",
              "<body>\n",
              "    <div>            <script src=\"https://cdnjs.cloudflare.com/ajax/libs/mathjax/2.7.5/MathJax.js?config=TeX-AMS-MML_SVG\"></script><script type=\"text/javascript\">if (window.MathJax && window.MathJax.Hub && window.MathJax.Hub.Config) {window.MathJax.Hub.Config({SVG: {font: \"STIX-Web\"}});}</script>                <script type=\"text/javascript\">window.PlotlyConfig = {MathJaxConfig: 'local'};</script>\n",
              "        <script charset=\"utf-8\" src=\"https://cdn.plot.ly/plotly-2.35.2.min.js\"></script>                <div id=\"095d87f8-1d39-48b5-a66a-35e5f31b2537\" class=\"plotly-graph-div\" style=\"height:300px; width:150px;\"></div>            <script type=\"text/javascript\">                                    window.PLOTLYENV=window.PLOTLYENV || {};                                    if (document.getElementById(\"095d87f8-1d39-48b5-a66a-35e5f31b2537\")) {                    Plotly.newPlot(                        \"095d87f8-1d39-48b5-a66a-35e5f31b2537\",                        [{\"name\":\"0\",\"source\":\"data:image\\u002fpng;base64,iVBORw0KGgoAAAANSUhEUgAAAJYAAAEsCAIAAACuRd0SAAATl0lEQVR4Xu2deVBV1x3Hf7zH+nw8FkUUUBEUlUXiFnetS1KXtMakuE2dMTpV09jGrWoyaTI1rZppEpfoVJu0cWodoxFTpx2MGiQorhEFkSQIgoogCKJs7\\u002fFW+gdzO+ZXzhXve8\\u002f+fvZ8\\u002fvz+nOOZ+7nn3eWce\\u002fBpzf0YJJzR4UDCDamQPVIhe6RC9kiF7JEK2SMVskcqZI9UyB6pkD1SIXukQvZIheyRCtkjFbJHKmSPVMgeqZA9UiF7pEL2SIXskQrZIxWyRypkj1TIHqmQPVIhe6RC9kiF7JEK2SMVskcqZI9UyB6pkD1SIXukQvZIheyRCtkjFbLHFwdssdocpy4X5+QV51+7XVpRU1nzoNlitdmdhkB\\u002fkzGwS2hwYlz3xN5R44ckjEqN1+uennPX5ynYOuhM\\u002fvWd6dmHTlxqtlhxrT3CTIaZEwYvnzc5pU80rjGEt8K8ovKVHx7Iuvg9LnSMqaOTN6+a3a9XN1xgBVeFDqfrnZ2H39v9pdPlwrXHIcDf982F095a9IJO54NrTGCpsMlsnbFy+4lvNA6+\\u002f2bq6OR9GxaHGINwgQP8rur1TZbnX9vsQX8AcOT01bGL3qtraMYFDjBT2GyxTlr6wdkr13HBbQpKKqYu29pk7tANESmYPVQs+cOe3O9u4vSH9OwWPm1MyjMJPaIiQoMC\\u002fBuaLddv15wrKP3yzFVziw3\\u002f64e4UFi2aP3u\\u002fZuW4AJtOCnclZ6998h5nD7E0MTY9UtnTBmV5OPTzr1Js8W6K\\u002f3kxk8zah804ZrCgeMXJz07YPFL43CBMGxuZ67frklKe9tqc+ACAADodD7vvvriugVTH3ljebeucdH63f86dQUXFIyGgKJDv4+KCMUFqrC5Fq7ddlDkT6\\u002fT7duw+M2F0x7pDwC6hgcf\\u002fnDZ63Mn4YJCk9m6ZutBnBKGh8LT+SXpmZdwqrB97bxZzw3FqRidzmfL6jlLfzYeFxT2Hjn\\u002fyCsuHXgoXLctHUcKs58fpiJDhY\\u002fWzBs\\u002fJAGnChs\\u002fzcARVRgovFJ8OyevBKcAAGA0BHywYhZOO4avXrfn3UWGQH9cAACAL7IuX7tZjVOSMFC4Kz0bRwq\\u002fnjMpumsoTjtMj8jwda9MxSkAALhcrX8+dBKnJKGu0Nxi+3tG+w8SvnrdL9Mm4PQxWTZrYlCAH04BAGDvkfNuvoB9MlBXePjrvIZmC04BAOCFsanuDME2wkyGuVOG4xQAAKru1R87+y1O6UFeYXYejhRmThiEI028PGkwjhRU\\u002fnc6kFbY2tp67FwhTgEAQK\\u002fTTR+bglNNTBzWX3RTk5FTgCN6kFZ4pfj2\\u002fQYzTgEAYGDfmM4hRpxqItDfb3RqH5wCAEB5dV1BSQVOiUFa4el84YzEqNR4HLnBs8m9caRw6nIxjohBWqHKK5IRKXE4coPhYoXnCkpxRAzSCvOKbuFIITnekyuXEuOicKSg0gcikFZYJHg\\u002f4uPjk9ArEqduEBvV2c9Xj1MAACi6WU386ZCuwoq7D0SLCntEhonuIbWh1+l6R3fBKQAA2OyOW3fqcEoJugrLKmtxpNCre2ccuU2PyHAcKdy4I+wJBegqLK8SnvvemI\\u002ft1tmEI4Xyqvs4ogRdhRU1wgPnHYUhOFK4U1uPI0rQVXi3rhFHCpHhwhGjma7hwThSUFlrQwG6ClVWdXpjza6pk7BNlZ5QgLDCeuGBMxkDceQ2RkMAjhREUyVEoKtQZVWuyojRTLBBeFo0NLXgiBJ0Faos21UZMZrpFCRss8VmxxEl6Cq0WIUKffXtv0lxB71euICxxSoVasLucOJIwVfv+W6rnBYqPaGA54+Fp3C6WnGk4B2FwjZdrcKeUEDY7\\u002f85LvHLZZURoxmVNp1OYU8oQFeh2jEV29WMwyn8tdSLBygF6HbO30+o0OGFYaHSpspvLAXods7fT\\u002fjhnMqI0YxKm1KhRkRzsADgcAhHjGacTuE9S1CAJ+cmPQ5dhSoHTuWpXzOi6WVQfeqnAF2F4SEGHCk0mj3\\u002fxkulTW+8DPIgdBWqLBNtbBYebs2oKAwzCU8mCrBU6I2pA5XTQqUnFCCsMLQTjhRUZoM1U13XgCOFiDDhbDAF6CqMjgjDkULVPc+vhKiqFSqM9sI6Dw9CV2FcTPurAkF1xGhG5bSIiRSeTBSgqzA+JgJHCrfEi9s0o9JmXLSwJxSgq9DUKSjc1P7l8Hp5jUs8j6EBh9N1Q7BsNcQYpLIyigJ0FQJAUnz7nzq02Ozl1cJBo4GyilrRO9L+sdR3KyWtcMiAXjhSKCytxJEbFJYKPyIc1L8njohBWuGwpFgcKVy4WoYjNzhfIGxtcH\\u002fhaUQE2goThZ\\u002f9XSgUHnQNqLQ22qPfonoD0gr79uwquqHPuVxis7e\\u002fJdvjYm6xiTY4jQgLHtC7O06JQVohAEwZmYwjAABoNLd8nVuEU018df47i2CN2o9Htr8vJimoK5w2RritxefHc3GkiYOZwnZ+Mi4VR\\u002fSgrvC54Ymi6bp9Ry\\u002fUN7n7vrv2QdPnxy\\u002fiFAAAQoMNUqEHMBoC0iYPwSkAADRbrDsOZOH0Mdm2L1O0WHv+9BGivb1IQV0hAPxi5jgcKWz4a0bF3Qc47TA3Ku+9v+coThW4bO\\u002fMQOGo1Phn+vXAKQAANFus83\\u002f7F21rEu0O58\\u002ff+kR0IzNucIJnN9XwHgwUAsDvlszAkULWxe+Xv78fpx3gtU17T+e3v80pAGz61Us4ogoPhT8dn6qyu8\\u002f2\\u002fSd+s+Vga4eXzbtcra\\u002f\\u002f8bOPvziFCwppk4eOHEj9if4\\u002f8FAIAFtWz1H5i3Xv7zmatnZnRz7Hrbnf+OKqHds+y8QFhUB\\u002fv418hiAwUjgiJW7tgik4fYj0zEuJL7+940CW6A7TYrVv3ZeZlPbOP0\\u002fm49pDbFszV2WqkiBs\\u002fk4FANgdztELN31TeAMXfoipU9D0sSnDk+Niu3c2GgKazNayytpzBaUZOQUqy9TamD995N\\u002fWL8QpbTgpBIDquoaRCzaWVbQ\\u002fPesmw5Jis3atFr1JIAubH9I2IsNNR7ev8MbuT6NS47\\u002f600p2\\u002foCdQgDo27Pr2d1vDOrnyZnYicP6H9uxwhu7MDwB+CkEgO5dQs7sXrd83mT3pxH0Ot0br0w7umMFx\\u002fHXBrNrIeJcQem6j9Kzc6\\u002fhQscYPyRh86rZnh3QTx7eCts4eenaJ\\u002f\\u002fISc\\u002fM7eAXT4ZA\\u002f5kTBr2a9iPRlty8eBoUttFis5\\u002fOK8nOvfZtWWXxrbtV9+qbzNYWm93PV28MCoyKCImLiRjYJ2bMoD7jBicE+jOYguggT4\\u002fC\\u002f1tY3s5IHkYqZI9UyB6pkD1SIXukQvZIheyRCtkjFbJHKmSPVMgeqZA9UiF7pEL2SIXskQrZIxWyRypkj1TIHqmQPVIhe6RC9kiF7JEK2SMVskcqZI9UyB6pkD1SIXukQvZIheyRCtkjFbJHKmSPVMgeqZA9UiF7pEL2SIXskQrZIxWyRypkj1TIHqmQPVIhe6RC9kiF7JEK2SMVskcqZI9UyB6pkD1SIXukQvZIheyRCtkjFbJHKmSPVMgeqZA9UiF7pEL2SIXskQrZIxWyRypkj1TIHqmQPVIhe6RC9kiF7JEK2SMVskcqZI9UyB6pkD2+OGCL1eY4dbk4J684\\u002f9rt0oqaypoHzRarze40BPqbjIFdQoMT47on9o4aPyRhVGq8Xvf0nLs+rbkf44wbZ\\u002fKv70zPPnTiUrPFimvtEWYyzJwwePm8ySl9onGNIbwV5hWVr\\u002fzwQNbF73GhY0wdnbx51ex+vbrhAiu4KnQ4Xe\\u002fsPPze7i+dLheuPQ4B\\u002fr5vLpz21qIXdDofXGMCS4VNZuuMldtPfKNx8P03U0cn79uwOMQYhAsc4HdVr2+yPP\\u002faZg\\u002f6A4Ajp6+OXfReXUMzLnCAmcJmi3XS0g\\u002fOXrmOC25TUFIxddnWJnOHbohIweyhYskf9uR+dxOnP6Rnt\\u002fBpY1KeSegRFREaFODf0Gy5frvmXEHpl2eumlts+F8\\u002fxIXCskXrd+\\u002fftAQXaMNJ4a707L1HzuP0IYYmxq5fOmPKqCQfn3buTZot1l3pJzd+mlH7oAnXFA4cvzjp2QGLXxqHC4Rhcztz\\u002fXZNUtrbVpsDFwAAQKfzeffVF9ctmPrIG8u7dY2L1u\\u002f+16kruKBgNAQUHfp9VEQoLlCFzbVw7baDIn96nW7fhsVvLpz2SH8A0DU8+PCHy16fOwkXFJrM1jVbD+KUMDwUns4vSc+8hFOF7WvnzXpuKE7F6HQ+W1bPWfqz8bigsPfI+UdecenAQ+G6bek4Upj9\\u002fDAVGSp8tGbe+CEJOFXY+GkGjqjCQOGV4ts5eSU4BQAAoyHggxWzcNoxfPW6Pe8uMgT64wIAAHyRdfnazWqckoSBwl3p2ThS+PWcSdFdQ3HaYXpEhq97ZSpOAQDA5Wr986GTOCUJdYXmFtvfM9p\\u002fkPDV636ZNgGnj8myWRODAvxwCgAAe4+cd\\u002fMF7JOBusLDX+c1NFtwCgAAL4xNdWcIthFmMsydMhynAABQda\\u002f+2NlvcUoP8gqz83CkMHPCIBxp4uVJg3GkoPK\\u002f04G0wtbW1mPnCnEKAAB6nW762BScamLisP6im5qMnAIc0YO0wivFt+83mHEKAAAD+8Z0DjHiVBOB\\u002fn6jU\\u002fvgFAAAyqvrCkoqcEoM0gpP5wtnJEalxuPIDZ5N7o0jhVOXi3FEDNIKVV6RjEiJw5EbDBcrPFdQiiNikFaYV3QLRwrJ8Z5cuZQYF4UjBZU+EIG0wiLB+xEfH5+EXpE4dYPYqM5+vnqcAgBA0c1q4k+HdBVW3H0gWlTYIzJMdA+pDb1O1zu6C04BAMBmd9y6U4dTStBVWFZZiyOFXt0748htekSG40jhxh1hTyhAV2F5lfDc98Z8bLfOJhwplFfdxxEl6CqsqBEeOO8oDMGRwp3aehxRgq7Cu3WNOFKIDBeOGM10DQ\\u002fGkYLKWhsK0FWosqrTG2t2TZ2Ebar0hAKEFdYLD5zJGIgjtzEaAnCkIJoqIQJdhSqrclVGjGaCDcLToqGpBUeUoKtQZdmuyojRTKcgYZstNjuOKEFXocUqVOirb\\u002f9Nijvo9cIFjC1WqVATdocTRwq+es93W+W0UOkJBTx\\u002fLDyF09WKIwXvKBS26WoV9oQCwn7\\u002fz3GJXy6rjBjNqLTpdAp7QgG6CtWOqdiuZhxO4a+lXjxAKUC3c\\u002f5+QoUOLwwLlTZVfmMpQLdz\\u002fn7CD+dURoxmVNqUCjUimoMFAIdDOGI043QK71mCAjw5N+lx6CpUOXAqT\\u002f2aEU0vg+pTPwXoKgwPMeBIodHs+TdeKm1642WQB6GrUGWZaGOz8HBrRkVhmEl4MlGApUJvTB2onBYqPaEAYYWhnXCkoDIbrJnqugYcKUSECWeDKUBXYXREGI4Uqu55fiVEVa1QYbQX1nl4ELoK42LaXxUIqiNGMyqnRUyk8GSiAF2F8TEROFK4JV7cphmVNuOihT2hAF2Fpk5B4ab2L4fXy2tc4nkMDTicrhuCZashxiCVlVEUoKsQAJLi2\\u002f\\u002fUocVmL68WDhoNlFXUit6R9o+lvlspaYVDBvTCkUJhaSWO3KCwVPgR4aD+PXFEDNIKhyXF4kjhwtUyHLnB+QJha4P7C08jItBWmCj87O9CofCga0CltdEe\\u002fRbVG5BW2LdnV9ENfc7lEpu9\\u002fS3ZHhdzi020wWlEWPCA3t1xSgzSCgFgyshkHAEAQKO55evcIpxq4qvz31kEa9R+PLL9fTFJQV3htDHCbS0+P56LI00czBS285NxqTiiB3WFzw1PFE3X7Tt6ob7J3ffdtQ+aPj9+EacAABAabJAKPYDREJA2eQhOAQCg2WLdcSALp4\\u002fJtn2ZosXa86ePEO3tRQrqCgHgFzPH4Uhhw18zKu4+wGmHuVF57\\u002f09R3GqwGV7ZwYKR6XGP9OvB04BAKDZYp3\\u002f279oW5Nodzh\\u002f\\u002ftYnohuZcYMTPLuphvdgoBAAfrdkBo4Usi5+v\\u002fz9\\u002fTjtAK9t2ns6v\\u002f1tTgFg069ewhFVeCj86fhUld19tu8\\u002f8ZstB1s7vGze5Wp9\\u002fY+fffzFKVxQSJs8dORA6k\\u002f0\\u002f4GHQgDYsnqOyl+se3\\u002fP0bS1OzvyOW7N\\u002fcYXV+3Y9lkmLigE+vtt5DMEgZHCESlxaxdMwelDpGdeSnz57R0HskR3mBarfeu+zKS0d\\u002f55Mh\\u002fXHmLbmrkqU5UEYfN3KgDA7nCOXrjpm8IbuPBDTJ2Cpo9NGZ4cF9u9s9EQ0GS2llXWnisozcgpUFmm1sb86SP\\u002ftn4hTmnDSSEAVNc1jFywsayi\\u002felZNxmWFJu1a7XoTQJZ2PyQthEZbjq6fYU3dn8alRr\\u002f1Z9WsvMH7BQCQN+eXc\\u002fufmNQP0\\u002fOxE4c1v\\u002fYjhXe2IXhCcBPIQB07xJyZve65fMmuz+NoNfp3nhl2tEdKziOvzaYXQsR5wpK132Unp17DRc6xvghCZtXzfbsgH7y8FbYxslL1z75R056Zm4Hv3gyBPrPnDDo1bQfibbk5sXToLCNFpv9dF5Jdu61b8sqi2\\u002fdrbpX32S2ttjsfr56Y1BgVERIXEzEwD4xYwb1GTc4IdCfwRREB3l6FP7fwvJ2RvIwUiF7pEL2SIXskQrZIxWyRypkj1TIHqmQPVIhe6RC9kiF7JEK2SMVskcqZI9UyB6pkD1SIXukQvZIheyRCtkjFbJHKmSPVMgeqZA9UiF7pEL2SIXskQrZIxWyRypkj1TIHqmQPVIhe6RC9kiF7Pk3hxPmts5smm0AAAAASUVORK5CYII=\",\"type\":\"image\",\"xaxis\":\"x\",\"yaxis\":\"y\",\"hovertemplate\":\"x: %{x}\\u003cbr\\u003ey: %{y}\\u003cbr\\u003ecolor: [%{z[0]}, %{z[1]}, %{z[2]}]\\u003cextra\\u003e\\u003c\\u002fextra\\u003e\"}],                        {\"template\":{\"data\":{\"histogram2dcontour\":[{\"type\":\"histogram2dcontour\",\"colorbar\":{\"outlinewidth\":0,\"ticks\":\"\"},\"colorscale\":[[0.0,\"#0d0887\"],[0.1111111111111111,\"#46039f\"],[0.2222222222222222,\"#7201a8\"],[0.3333333333333333,\"#9c179e\"],[0.4444444444444444,\"#bd3786\"],[0.5555555555555556,\"#d8576b\"],[0.6666666666666666,\"#ed7953\"],[0.7777777777777778,\"#fb9f3a\"],[0.8888888888888888,\"#fdca26\"],[1.0,\"#f0f921\"]]}],\"choropleth\":[{\"type\":\"choropleth\",\"colorbar\":{\"outlinewidth\":0,\"ticks\":\"\"}}],\"histogram2d\":[{\"type\":\"histogram2d\",\"colorbar\":{\"outlinewidth\":0,\"ticks\":\"\"},\"colorscale\":[[0.0,\"#0d0887\"],[0.1111111111111111,\"#46039f\"],[0.2222222222222222,\"#7201a8\"],[0.3333333333333333,\"#9c179e\"],[0.4444444444444444,\"#bd3786\"],[0.5555555555555556,\"#d8576b\"],[0.6666666666666666,\"#ed7953\"],[0.7777777777777778,\"#fb9f3a\"],[0.8888888888888888,\"#fdca26\"],[1.0,\"#f0f921\"]]}],\"heatmap\":[{\"type\":\"heatmap\",\"colorbar\":{\"outlinewidth\":0,\"ticks\":\"\"},\"colorscale\":[[0.0,\"#0d0887\"],[0.1111111111111111,\"#46039f\"],[0.2222222222222222,\"#7201a8\"],[0.3333333333333333,\"#9c179e\"],[0.4444444444444444,\"#bd3786\"],[0.5555555555555556,\"#d8576b\"],[0.6666666666666666,\"#ed7953\"],[0.7777777777777778,\"#fb9f3a\"],[0.8888888888888888,\"#fdca26\"],[1.0,\"#f0f921\"]]}],\"heatmapgl\":[{\"type\":\"heatmapgl\",\"colorbar\":{\"outlinewidth\":0,\"ticks\":\"\"},\"colorscale\":[[0.0,\"#0d0887\"],[0.1111111111111111,\"#46039f\"],[0.2222222222222222,\"#7201a8\"],[0.3333333333333333,\"#9c179e\"],[0.4444444444444444,\"#bd3786\"],[0.5555555555555556,\"#d8576b\"],[0.6666666666666666,\"#ed7953\"],[0.7777777777777778,\"#fb9f3a\"],[0.8888888888888888,\"#fdca26\"],[1.0,\"#f0f921\"]]}],\"contourcarpet\":[{\"type\":\"contourcarpet\",\"colorbar\":{\"outlinewidth\":0,\"ticks\":\"\"}}],\"contour\":[{\"type\":\"contour\",\"colorbar\":{\"outlinewidth\":0,\"ticks\":\"\"},\"colorscale\":[[0.0,\"#0d0887\"],[0.1111111111111111,\"#46039f\"],[0.2222222222222222,\"#7201a8\"],[0.3333333333333333,\"#9c179e\"],[0.4444444444444444,\"#bd3786\"],[0.5555555555555556,\"#d8576b\"],[0.6666666666666666,\"#ed7953\"],[0.7777777777777778,\"#fb9f3a\"],[0.8888888888888888,\"#fdca26\"],[1.0,\"#f0f921\"]]}],\"surface\":[{\"type\":\"surface\",\"colorbar\":{\"outlinewidth\":0,\"ticks\":\"\"},\"colorscale\":[[0.0,\"#0d0887\"],[0.1111111111111111,\"#46039f\"],[0.2222222222222222,\"#7201a8\"],[0.3333333333333333,\"#9c179e\"],[0.4444444444444444,\"#bd3786\"],[0.5555555555555556,\"#d8576b\"],[0.6666666666666666,\"#ed7953\"],[0.7777777777777778,\"#fb9f3a\"],[0.8888888888888888,\"#fdca26\"],[1.0,\"#f0f921\"]]}],\"mesh3d\":[{\"type\":\"mesh3d\",\"colorbar\":{\"outlinewidth\":0,\"ticks\":\"\"}}],\"scatter\":[{\"fillpattern\":{\"fillmode\":\"overlay\",\"size\":10,\"solidity\":0.2},\"type\":\"scatter\"}],\"parcoords\":[{\"type\":\"parcoords\",\"line\":{\"colorbar\":{\"outlinewidth\":0,\"ticks\":\"\"}}}],\"scatterpolargl\":[{\"type\":\"scatterpolargl\",\"marker\":{\"colorbar\":{\"outlinewidth\":0,\"ticks\":\"\"}}}],\"bar\":[{\"error_x\":{\"color\":\"#2a3f5f\"},\"error_y\":{\"color\":\"#2a3f5f\"},\"marker\":{\"line\":{\"color\":\"#E5ECF6\",\"width\":0.5},\"pattern\":{\"fillmode\":\"overlay\",\"size\":10,\"solidity\":0.2}},\"type\":\"bar\"}],\"scattergeo\":[{\"type\":\"scattergeo\",\"marker\":{\"colorbar\":{\"outlinewidth\":0,\"ticks\":\"\"}}}],\"scatterpolar\":[{\"type\":\"scatterpolar\",\"marker\":{\"colorbar\":{\"outlinewidth\":0,\"ticks\":\"\"}}}],\"histogram\":[{\"marker\":{\"pattern\":{\"fillmode\":\"overlay\",\"size\":10,\"solidity\":0.2}},\"type\":\"histogram\"}],\"scattergl\":[{\"type\":\"scattergl\",\"marker\":{\"colorbar\":{\"outlinewidth\":0,\"ticks\":\"\"}}}],\"scatter3d\":[{\"type\":\"scatter3d\",\"line\":{\"colorbar\":{\"outlinewidth\":0,\"ticks\":\"\"}},\"marker\":{\"colorbar\":{\"outlinewidth\":0,\"ticks\":\"\"}}}],\"scattermapbox\":[{\"type\":\"scattermapbox\",\"marker\":{\"colorbar\":{\"outlinewidth\":0,\"ticks\":\"\"}}}],\"scatterternary\":[{\"type\":\"scatterternary\",\"marker\":{\"colorbar\":{\"outlinewidth\":0,\"ticks\":\"\"}}}],\"scattercarpet\":[{\"type\":\"scattercarpet\",\"marker\":{\"colorbar\":{\"outlinewidth\":0,\"ticks\":\"\"}}}],\"carpet\":[{\"aaxis\":{\"endlinecolor\":\"#2a3f5f\",\"gridcolor\":\"white\",\"linecolor\":\"white\",\"minorgridcolor\":\"white\",\"startlinecolor\":\"#2a3f5f\"},\"baxis\":{\"endlinecolor\":\"#2a3f5f\",\"gridcolor\":\"white\",\"linecolor\":\"white\",\"minorgridcolor\":\"white\",\"startlinecolor\":\"#2a3f5f\"},\"type\":\"carpet\"}],\"table\":[{\"cells\":{\"fill\":{\"color\":\"#EBF0F8\"},\"line\":{\"color\":\"white\"}},\"header\":{\"fill\":{\"color\":\"#C8D4E3\"},\"line\":{\"color\":\"white\"}},\"type\":\"table\"}],\"barpolar\":[{\"marker\":{\"line\":{\"color\":\"#E5ECF6\",\"width\":0.5},\"pattern\":{\"fillmode\":\"overlay\",\"size\":10,\"solidity\":0.2}},\"type\":\"barpolar\"}],\"pie\":[{\"automargin\":true,\"type\":\"pie\"}]},\"layout\":{\"autotypenumbers\":\"strict\",\"colorway\":[\"#636efa\",\"#EF553B\",\"#00cc96\",\"#ab63fa\",\"#FFA15A\",\"#19d3f3\",\"#FF6692\",\"#B6E880\",\"#FF97FF\",\"#FECB52\"],\"font\":{\"color\":\"#2a3f5f\"},\"hovermode\":\"closest\",\"hoverlabel\":{\"align\":\"left\"},\"paper_bgcolor\":\"white\",\"plot_bgcolor\":\"#E5ECF6\",\"polar\":{\"bgcolor\":\"#E5ECF6\",\"angularaxis\":{\"gridcolor\":\"white\",\"linecolor\":\"white\",\"ticks\":\"\"},\"radialaxis\":{\"gridcolor\":\"white\",\"linecolor\":\"white\",\"ticks\":\"\"}},\"ternary\":{\"bgcolor\":\"#E5ECF6\",\"aaxis\":{\"gridcolor\":\"white\",\"linecolor\":\"white\",\"ticks\":\"\"},\"baxis\":{\"gridcolor\":\"white\",\"linecolor\":\"white\",\"ticks\":\"\"},\"caxis\":{\"gridcolor\":\"white\",\"linecolor\":\"white\",\"ticks\":\"\"}},\"coloraxis\":{\"colorbar\":{\"outlinewidth\":0,\"ticks\":\"\"}},\"colorscale\":{\"sequential\":[[0.0,\"#0d0887\"],[0.1111111111111111,\"#46039f\"],[0.2222222222222222,\"#7201a8\"],[0.3333333333333333,\"#9c179e\"],[0.4444444444444444,\"#bd3786\"],[0.5555555555555556,\"#d8576b\"],[0.6666666666666666,\"#ed7953\"],[0.7777777777777778,\"#fb9f3a\"],[0.8888888888888888,\"#fdca26\"],[1.0,\"#f0f921\"]],\"sequentialminus\":[[0.0,\"#0d0887\"],[0.1111111111111111,\"#46039f\"],[0.2222222222222222,\"#7201a8\"],[0.3333333333333333,\"#9c179e\"],[0.4444444444444444,\"#bd3786\"],[0.5555555555555556,\"#d8576b\"],[0.6666666666666666,\"#ed7953\"],[0.7777777777777778,\"#fb9f3a\"],[0.8888888888888888,\"#fdca26\"],[1.0,\"#f0f921\"]],\"diverging\":[[0,\"#8e0152\"],[0.1,\"#c51b7d\"],[0.2,\"#de77ae\"],[0.3,\"#f1b6da\"],[0.4,\"#fde0ef\"],[0.5,\"#f7f7f7\"],[0.6,\"#e6f5d0\"],[0.7,\"#b8e186\"],[0.8,\"#7fbc41\"],[0.9,\"#4d9221\"],[1,\"#276419\"]]},\"xaxis\":{\"gridcolor\":\"white\",\"linecolor\":\"white\",\"ticks\":\"\",\"title\":{\"standoff\":15},\"zerolinecolor\":\"white\",\"automargin\":true,\"zerolinewidth\":2},\"yaxis\":{\"gridcolor\":\"white\",\"linecolor\":\"white\",\"ticks\":\"\",\"title\":{\"standoff\":15},\"zerolinecolor\":\"white\",\"automargin\":true,\"zerolinewidth\":2},\"scene\":{\"xaxis\":{\"backgroundcolor\":\"#E5ECF6\",\"gridcolor\":\"white\",\"linecolor\":\"white\",\"showbackground\":true,\"ticks\":\"\",\"zerolinecolor\":\"white\",\"gridwidth\":2},\"yaxis\":{\"backgroundcolor\":\"#E5ECF6\",\"gridcolor\":\"white\",\"linecolor\":\"white\",\"showbackground\":true,\"ticks\":\"\",\"zerolinecolor\":\"white\",\"gridwidth\":2},\"zaxis\":{\"backgroundcolor\":\"#E5ECF6\",\"gridcolor\":\"white\",\"linecolor\":\"white\",\"showbackground\":true,\"ticks\":\"\",\"zerolinecolor\":\"white\",\"gridwidth\":2}},\"shapedefaults\":{\"line\":{\"color\":\"#2a3f5f\"}},\"annotationdefaults\":{\"arrowcolor\":\"#2a3f5f\",\"arrowhead\":0,\"arrowwidth\":1},\"geo\":{\"bgcolor\":\"white\",\"landcolor\":\"#E5ECF6\",\"subunitcolor\":\"white\",\"showland\":true,\"showlakes\":true,\"lakecolor\":\"white\"},\"title\":{\"x\":0.05},\"mapbox\":{\"style\":\"light\"}}},\"xaxis\":{\"anchor\":\"y\",\"domain\":[0.0,1.0],\"showticklabels\":false},\"yaxis\":{\"anchor\":\"x\",\"domain\":[0.0,1.0],\"showticklabels\":false},\"margin\":{\"t\":0,\"b\":0,\"l\":0,\"r\":0},\"coloraxis\":{\"showscale\":false},\"height\":300,\"width\":150},                        {\"displayModeBar\": false, \"responsive\": true}                    ).then(function(){\n",
              "                            \n",
              "var gd = document.getElementById('095d87f8-1d39-48b5-a66a-35e5f31b2537');\n",
              "var x = new MutationObserver(function (mutations, observer) {{\n",
              "        var display = window.getComputedStyle(gd).display;\n",
              "        if (!display || display === 'none') {{\n",
              "            console.log([gd, 'removed!']);\n",
              "            Plotly.purge(gd);\n",
              "            observer.disconnect();\n",
              "        }}\n",
              "}});\n",
              "\n",
              "// Listen for the removal of the full notebook cells\n",
              "var notebookContainer = gd.closest('#notebook-container');\n",
              "if (notebookContainer) {{\n",
              "    x.observe(notebookContainer, {childList: true});\n",
              "}}\n",
              "\n",
              "// Listen for the clearing of the current output cell\n",
              "var outputEl = gd.closest('.output');\n",
              "if (outputEl) {{\n",
              "    x.observe(outputEl, {childList: true});\n",
              "}}\n",
              "\n",
              "                        })                };                            </script>        </div>\n",
              "</body>\n",
              "</html>"
            ]
          },
          "metadata": {}
        }
      ],
      "source": [
        "display_soln_array_as_img(2)"
      ]
    },
    {
      "cell_type": "code",
      "execution_count": null,
      "metadata": {
        "id": "viEgfHYb1anz"
      },
      "outputs": [],
      "source": [
        "# Your code here - define arr2\n",
        "display_array_as_img(arr2)"
      ]
    },
    {
      "cell_type": "markdown",
      "metadata": {
        "id": "i_5m6RaW34vB"
      },
      "source": [
        "<details>\n",
        "<summary>Solution </summary>\n",
        "\n",
        "```python\n",
        "arr2 = einops.repeat(arr[0], \"c h w -> c (2 h) w\")\n",
        "```\n",
        "</details>\n"
      ]
    },
    {
      "cell_type": "markdown",
      "metadata": {
        "id": "O5VhJIVcsG94"
      },
      "source": [
        "---\n"
      ]
    },
    {
      "cell_type": "markdown",
      "metadata": {
        "id": "j97j4EQU1bAp"
      },
      "source": [
        "#### Exercise 3\n"
      ]
    },
    {
      "cell_type": "code",
      "execution_count": null,
      "metadata": {
        "id": "Ej-uykqL1bAp"
      },
      "outputs": [],
      "source": [
        "display_soln_array_as_img(3)"
      ]
    },
    {
      "cell_type": "code",
      "execution_count": null,
      "metadata": {
        "id": "DVjczX6W1bAp"
      },
      "outputs": [],
      "source": [
        "# Your code here - define arr3\n",
        "display_array_as_img(arr3)"
      ]
    },
    {
      "cell_type": "markdown",
      "metadata": {
        "id": "RWQeyQHd37A3"
      },
      "source": [
        "<details>\n",
        "<summary>Solution </summary>\n",
        "\n",
        "```python\n",
        "arr3 = einops.repeat(arr[0:2], \"b c h w -> c (b h) (2 w)\")\n",
        "```\n",
        "</details>\n"
      ]
    },
    {
      "cell_type": "markdown",
      "metadata": {
        "id": "JQXLi1nLsG94"
      },
      "source": [
        "---\n"
      ]
    },
    {
      "cell_type": "markdown",
      "metadata": {
        "id": "Fy-yu3ru1bG6"
      },
      "source": [
        "#### Exercise 4\n"
      ]
    },
    {
      "cell_type": "code",
      "execution_count": null,
      "metadata": {
        "id": "XQAiW60R1bG6"
      },
      "outputs": [],
      "source": [
        "display_soln_array_as_img(4)"
      ]
    },
    {
      "cell_type": "code",
      "execution_count": null,
      "metadata": {
        "id": "N8hOMWwo1bG7"
      },
      "outputs": [],
      "source": [
        "# Your code here - define arr4\n",
        "display_array_as_img(arr4)"
      ]
    },
    {
      "cell_type": "markdown",
      "metadata": {
        "id": "1jwJJsVJ37VX"
      },
      "source": [
        "<details>\n",
        "<summary>Solution </summary>\n",
        "\n",
        "```python\n",
        "arr4 = einops.repeat(arr[0], \"c h w -> c (h 2) w\")\n",
        "```\n",
        "</details>\n"
      ]
    },
    {
      "cell_type": "markdown",
      "metadata": {
        "id": "RqnVqypIsG95"
      },
      "source": [
        "---\n"
      ]
    },
    {
      "cell_type": "markdown",
      "metadata": {
        "id": "Dtj8qQ5n1bLa"
      },
      "source": [
        "#### Exercise 5\n"
      ]
    },
    {
      "cell_type": "code",
      "execution_count": null,
      "metadata": {
        "id": "lMhdQ8Kd1bLb"
      },
      "outputs": [],
      "source": [
        "display_soln_array_as_img(5)"
      ]
    },
    {
      "cell_type": "code",
      "execution_count": null,
      "metadata": {
        "id": "oEXdWLyJ1bLb"
      },
      "outputs": [],
      "source": [
        "# Your code here - define arr5\n",
        "display_array_as_img(arr5)"
      ]
    },
    {
      "cell_type": "markdown",
      "metadata": {
        "id": "TniYTQgZ37vo"
      },
      "source": [
        "<details>\n",
        "<summary>Solution </summary>\n",
        "\n",
        "```python\n",
        "arr5 = einops.rearrange(arr[0], \"c h w -> h (c w)\")\n",
        "```\n",
        "</details>\n"
      ]
    },
    {
      "cell_type": "markdown",
      "metadata": {
        "id": "OjKie6REsG98"
      },
      "source": [
        "---\n"
      ]
    },
    {
      "cell_type": "markdown",
      "metadata": {
        "id": "6xhvnRs11bQa"
      },
      "source": [
        "#### Exercise 6\n"
      ]
    },
    {
      "cell_type": "code",
      "execution_count": null,
      "metadata": {
        "id": "h_-PJr_51bQa"
      },
      "outputs": [],
      "source": [
        "display_soln_array_as_img(6)"
      ]
    },
    {
      "cell_type": "code",
      "execution_count": null,
      "metadata": {
        "id": "ne8vyav81bQa"
      },
      "outputs": [],
      "source": [
        "# Your code here - define arr6\n",
        "display_array_as_img(arr6)"
      ]
    },
    {
      "cell_type": "markdown",
      "metadata": {
        "id": "mFzk3v-T38SY"
      },
      "source": [
        "<details>\n",
        "<summary>Solution </summary>\n",
        "\n",
        "```python\n",
        "arr6 = einops.rearrange(arr, \"(b1 b2) c h w -> c (b1 h) (b2 w)\", b1=2)\n",
        "```\n",
        "</details>\n"
      ]
    },
    {
      "cell_type": "markdown",
      "metadata": {
        "id": "lAsZu67gsG9-"
      },
      "source": [
        "---\n"
      ]
    },
    {
      "cell_type": "markdown",
      "metadata": {
        "id": "rZm5nSyn1bUK"
      },
      "source": [
        "#### Exercise 7\n"
      ]
    },
    {
      "cell_type": "code",
      "execution_count": null,
      "metadata": {
        "id": "W1--USgQ1bUK"
      },
      "outputs": [],
      "source": [
        "display_soln_array_as_img(7)"
      ]
    },
    {
      "cell_type": "code",
      "execution_count": null,
      "metadata": {
        "id": "y3QWuqFg1bUK"
      },
      "outputs": [],
      "source": [
        "# Your code here - define arr7\n",
        "display_array_as_img(arr7)"
      ]
    },
    {
      "cell_type": "markdown",
      "metadata": {
        "id": "fC8kq9lZ38nv"
      },
      "source": [
        "<details>\n",
        "<summary>Solution </summary>\n",
        "\n",
        "```python\n",
        "arr7 = einops.reduce(arr, \"b c h w -> h (b w)\", \"max\")\n",
        "```\n",
        "</details>\n"
      ]
    },
    {
      "cell_type": "markdown",
      "metadata": {
        "id": "i5gqyUHrsG9-"
      },
      "source": [
        "---\n"
      ]
    },
    {
      "cell_type": "markdown",
      "metadata": {
        "id": "2sCu3au71bXD"
      },
      "source": [
        "#### Exercise 8\n"
      ]
    },
    {
      "cell_type": "code",
      "execution_count": null,
      "metadata": {
        "id": "qILygswj1bXD"
      },
      "outputs": [],
      "source": [
        "display_soln_array_as_img(8)"
      ]
    },
    {
      "cell_type": "code",
      "execution_count": null,
      "metadata": {
        "id": "xbYNMeXz1bXD"
      },
      "outputs": [],
      "source": [
        "# Your code here - define arr8\n",
        "display_array_as_img(arr8)"
      ]
    },
    {
      "cell_type": "markdown",
      "metadata": {
        "id": "ua_kB6BM38-H"
      },
      "source": [
        "<details>\n",
        "<summary>Solution </summary>\n",
        "\n",
        "```python\n",
        "arr8 = einops.reduce(arr, \"b c h w -> h w\", \"min\")\n",
        "```\n",
        "</details>\n"
      ]
    },
    {
      "cell_type": "markdown",
      "metadata": {
        "id": "YLxgxEofsG9_"
      },
      "source": [
        "---\n"
      ]
    },
    {
      "cell_type": "markdown",
      "metadata": {
        "id": "iHhx47ru1bcu"
      },
      "source": [
        "#### Exercise 9\n"
      ]
    },
    {
      "cell_type": "code",
      "execution_count": null,
      "metadata": {
        "id": "FwUMwVpU1bcu"
      },
      "outputs": [],
      "source": [
        "display_soln_array_as_img(9)"
      ]
    },
    {
      "cell_type": "code",
      "execution_count": null,
      "metadata": {
        "id": "p9OpZD791bcv"
      },
      "outputs": [],
      "source": [
        "# Your code here - define arr9\n",
        "display_array_as_img(arr9)"
      ]
    },
    {
      "cell_type": "markdown",
      "metadata": {
        "id": "xTdrSwn339rJ"
      },
      "source": [
        "<details>\n",
        "<summary>Solution </summary>\n",
        "\n",
        "```python\n",
        "arr9 = einops.rearrange(arr[1], \"c h w -> c w h\")\n",
        "```\n",
        "</details>\n"
      ]
    },
    {
      "cell_type": "markdown",
      "metadata": {
        "id": "c3kyivursG9_"
      },
      "source": [
        "---\n"
      ]
    },
    {
      "cell_type": "markdown",
      "metadata": {
        "id": "X2rZzoIB1v9k"
      },
      "source": [
        "#### Exercise 10\n"
      ]
    },
    {
      "cell_type": "code",
      "execution_count": null,
      "metadata": {
        "id": "YX-nJk_Y1v9l"
      },
      "outputs": [],
      "source": [
        "display_soln_array_as_img(10)"
      ]
    },
    {
      "cell_type": "code",
      "execution_count": null,
      "metadata": {
        "id": "IPo0AuXc1v9l"
      },
      "outputs": [],
      "source": [
        "# Your code here - define arr10\n",
        "display_array_as_img(arr10)"
      ]
    },
    {
      "cell_type": "markdown",
      "metadata": {
        "id": "n9SpnOg53-uQ"
      },
      "source": [
        "<details>\n",
        "<summary>Solution </summary>\n",
        "\n",
        "```python\n",
        "arr10 = einops.reduce(arr, \"(b1 b2) c (h h2) (w w2) -> c (b1 h) (b2 w)\", \"max\", h2=2, w2=2, b1=2)\n",
        "```\n",
        "</details>\n"
      ]
    },
    {
      "cell_type": "markdown",
      "metadata": {
        "id": "KXOmr6H8U0wQ"
      },
      "source": [
        "### Einops exercises - operations"
      ]
    },
    {
      "cell_type": "markdown",
      "metadata": {
        "id": "M34mISHgU2Bq"
      },
      "source": [
        "Next, we have a series of functions which you should implement using `einops`. In the dropdown below these exercises, you can find solutions to all of them.\n",
        "\n",
        "First, let's define some functions to help us test our solutions:"
      ]
    },
    {
      "cell_type": "code",
      "execution_count": null,
      "metadata": {
        "id": "R1n8imMyU2SS"
      },
      "outputs": [],
      "source": [
        "def assert_all_equal(actual: t.Tensor, expected: t.Tensor) -> None:\n",
        "    assert actual.shape == expected.shape, f\"Shape mismatch, got: {actual.shape}\"\n",
        "    assert (actual == expected).all(), f\"Value mismatch, got: {actual}\"\n",
        "    print(\"Passed!\")\n",
        "\n",
        "def assert_all_close(actual: t.Tensor, expected: t.Tensor, rtol=1e-05, atol=0.0001) -> None:\n",
        "    assert actual.shape == expected.shape, f\"Shape mismatch, got: {actual.shape}\"\n",
        "    assert t.allclose(actual, expected, rtol=rtol, atol=atol)\n",
        "    print(\"Passed!\")"
      ]
    },
    {
      "cell_type": "markdown",
      "metadata": {
        "id": "7ObUvworU3YY"
      },
      "source": [
        "#### Exercise A.1 - rearrange (1)"
      ]
    },
    {
      "cell_type": "code",
      "execution_count": null,
      "metadata": {
        "id": "dB8phTA0U4ak"
      },
      "outputs": [],
      "source": [
        "def rearrange_1() -> t.Tensor:\n",
        "    '''Return the following tensor using only torch.arange and einops.rearrange:\n",
        "\n",
        "    [[3, 4],\n",
        "     [5, 6],\n",
        "     [7, 8]]\n",
        "    '''\n",
        "    pass\n",
        "\n",
        "\n",
        "expected = t.tensor([[3, 4], [5, 6], [7, 8]])\n",
        "assert_all_equal(rearrange_1(), expected)"
      ]
    },
    {
      "cell_type": "markdown",
      "metadata": {
        "id": "TIOkBSMKU7H7"
      },
      "source": [
        "<details>\n",
        "<summary>Solution</summary>\n",
        "\n",
        "```python\n",
        "def rearrange_1() -> t.Tensor:\n",
        "    '''Return the following tensor using only torch.arange and einops.rearrange:\n",
        "\n",
        "    [[3, 4],\n",
        "     [5, 6],\n",
        "     [7, 8]]\n",
        "    '''\n",
        "    return einops.rearrange(t.arange(3, 9), \"(h w) -> h w\", h=3, w=2)\n",
        "```\n",
        "</details>\n",
        "\n",
        "---"
      ]
    },
    {
      "cell_type": "markdown",
      "metadata": {
        "id": "_mQ1ue6EU8h1"
      },
      "source": [
        "#### Exercise A.2 - rearrange (2)"
      ]
    },
    {
      "cell_type": "code",
      "execution_count": null,
      "metadata": {
        "id": "dGKHZresVA4y"
      },
      "outputs": [],
      "source": [
        "def rearrange_2() -> t.Tensor:\n",
        "    '''Return the following tensor using only torch.arange and einops.rearrange:\n",
        "\n",
        "    [[1, 2, 3],\n",
        "     [4, 5, 6]]\n",
        "    '''\n",
        "    pass\n",
        "\n",
        "\n",
        "assert_all_equal(rearrange_2(), t.tensor([[1, 2, 3], [4, 5, 6]]))"
      ]
    },
    {
      "cell_type": "markdown",
      "metadata": {
        "id": "xPNb-T3aVB4k"
      },
      "source": [
        "<details>\n",
        "<summary>Solution</summary>\n",
        "\n",
        "```python\n",
        "def rearrange_2() -> t.Tensor:\n",
        "    '''Return the following tensor using only torch.arange and einops.rearrange:\n",
        "\n",
        "    [[1, 2, 3],\n",
        "     [4, 5, 6]]\n",
        "    '''\n",
        "    return einops.rearrange(t.arange(1, 7), \"(h w) -> h w\", h=2, w=3)\n",
        "```\n",
        "</details>\n",
        "\n",
        "---"
      ]
    },
    {
      "cell_type": "markdown",
      "metadata": {
        "id": "NteYCSxgVC15"
      },
      "source": [
        "#### Exercise A.3 - rearrange (3)"
      ]
    },
    {
      "cell_type": "code",
      "execution_count": null,
      "metadata": {
        "id": "Huge4EFCVEHa"
      },
      "outputs": [],
      "source": [
        "def rearrange_3() -> t.Tensor:\n",
        "    '''Return the following tensor using only torch.arange and einops.rearrange:\n",
        "\n",
        "    [[[1], [2], [3], [4], [5], [6]]]\n",
        "    '''\n",
        "    pass\n",
        "\n",
        "\n",
        "assert_all_equal(rearrange_3(), t.tensor([[[1], [2], [3], [4], [5], [6]]]))"
      ]
    },
    {
      "cell_type": "markdown",
      "metadata": {
        "id": "EH66LKGJU3WU"
      },
      "source": [
        "<details>\n",
        "<summary>Solution</summary>\n",
        "\n",
        "```python\n",
        "def rearrange_3() -> t.Tensor:\n",
        "    '''Return the following tensor using only torch.arange and einops.rearrange:\n",
        "\n",
        "    [[[1], [2], [3], [4], [5], [6]]]\n",
        "    '''\n",
        "    return einops.rearrange(t.arange(1, 7), \"a -> 1 a 1\")\n",
        "```\n",
        "\n",
        "</details>\n",
        "\n",
        "---"
      ]
    },
    {
      "cell_type": "markdown",
      "metadata": {
        "id": "yMwmQ5YfVGSz"
      },
      "source": [
        "#### Exercise B.1 - temperature average\n"
      ]
    },
    {
      "cell_type": "code",
      "execution_count": null,
      "metadata": {
        "id": "KhQp-eStVHEx"
      },
      "outputs": [],
      "source": [
        "def temperatures_average(temps: t.Tensor) -> t.Tensor:\n",
        "    '''Return the average temperature for each week.\n",
        "\n",
        "    temps: a 1D temperature containing temperatures for each day.\n",
        "    Length will be a multiple of 7 and the first 7 days are for the first week, second 7 days for the second week, etc.\n",
        "\n",
        "    You can do this with a single call to reduce.\n",
        "    '''\n",
        "    assert len(temps) % 7 == 0\n",
        "    pass\n",
        "\n",
        "\n",
        "temps = t.Tensor([71, 72, 70, 75, 71, 72, 70, 68, 65, 60, 68, 60, 55, 59, 75, 80, 85, 80, 78, 72, 83])\n",
        "expected = t.tensor([71.5714, 62.1429, 79.0])\n",
        "assert_all_close(temperatures_average(temps), expected)"
      ]
    },
    {
      "cell_type": "markdown",
      "metadata": {
        "id": "jgWdLSauVHjV"
      },
      "source": [
        "<details>\n",
        "<summary>Solution</summary>\n",
        "\n",
        "```python\n",
        "def temperatures_average(temps: t.Tensor) -> t.Tensor:\n",
        "    '''Return the average temperature for each week.\n",
        "\n",
        "    temps: a 1D temperature containing temperatures for each day.\n",
        "    Length will be a multiple of 7 and the first 7 days are for the first week, second 7 days for the second week, etc.\n",
        "\n",
        "    You can do this with a single call to reduce.\n",
        "    '''\n",
        "    assert len(temps) % 7 == 0\n",
        "    return einops.reduce(temps, \"(h 7) -> h\", \"mean\")\n",
        "```\n",
        "\n",
        "</details>\n",
        "\n",
        "---"
      ]
    },
    {
      "cell_type": "markdown",
      "metadata": {
        "id": "kTYf0EEwVJb7"
      },
      "source": [
        "#### Exercise B.2 - temperature difference"
      ]
    },
    {
      "cell_type": "code",
      "execution_count": null,
      "metadata": {
        "id": "6aZcC3TcVKx9"
      },
      "outputs": [],
      "source": [
        "def temperatures_differences(temps: t.Tensor) -> t.Tensor:\n",
        "    '''For each day, subtract the average for the week the day belongs to.\n",
        "\n",
        "    temps: as above\n",
        "    '''\n",
        "    assert len(temps) % 7 == 0\n",
        "    pass\n",
        "\n",
        "\n",
        "expected = t.tensor(\n",
        "    [\n",
        "        -0.5714,\n",
        "        0.4286,\n",
        "        -1.5714,\n",
        "        3.4286,\n",
        "        -0.5714,\n",
        "        0.4286,\n",
        "        -1.5714,\n",
        "        5.8571,\n",
        "        2.8571,\n",
        "        -2.1429,\n",
        "        5.8571,\n",
        "        -2.1429,\n",
        "        -7.1429,\n",
        "        -3.1429,\n",
        "        -4.0,\n",
        "        1.0,\n",
        "        6.0,\n",
        "        1.0,\n",
        "        -1.0,\n",
        "        -7.0,\n",
        "        4.0,\n",
        "    ]\n",
        ")\n",
        "actual = temperatures_differences(temps)\n",
        "assert_all_close(actual, expected)"
      ]
    },
    {
      "cell_type": "markdown",
      "metadata": {
        "id": "NVMAkwy5VMCD"
      },
      "source": [
        "<details>\n",
        "<summary>Solution</summary>\n",
        "\n",
        "```python\n",
        "def temperatures_differences(temps: t.Tensor) -> t.Tensor:\n",
        "    '''For each day, subtract the average for the week the day belongs to.\n",
        "\n",
        "    temps: as above\n",
        "    '''\n",
        "    assert len(temps) % 7 == 0\n",
        "    avg = einops.repeat(temperatures_average(temps), \"w -> (w 7)\")\n",
        "\treturn temps - avg\n",
        "```\n",
        "</details>\n",
        "\n",
        "---"
      ]
    },
    {
      "cell_type": "markdown",
      "metadata": {
        "id": "k7ua7XbfVL82"
      },
      "source": [
        "#### Exercise B.3 - temperature normalized"
      ]
    },
    {
      "cell_type": "code",
      "execution_count": null,
      "metadata": {
        "id": "dy4MunUvVOPC"
      },
      "outputs": [],
      "source": [
        "def temperatures_normalized(temps: t.Tensor) -> t.Tensor:\n",
        "    '''For each day, subtract the weekly average and divide by the weekly standard deviation.\n",
        "\n",
        "    temps: as above\n",
        "\n",
        "    Pass torch.std to reduce.\n",
        "    '''\n",
        "    pass\n",
        "\n",
        "\n",
        "expected = t.tensor(\n",
        "    [\n",
        "        -0.3326,\n",
        "        0.2494,\n",
        "        -0.9146,\n",
        "        1.9954,\n",
        "        -0.3326,\n",
        "        0.2494,\n",
        "        -0.9146,\n",
        "        1.1839,\n",
        "        0.5775,\n",
        "        -0.4331,\n",
        "        1.1839,\n",
        "        -0.4331,\n",
        "        -1.4438,\n",
        "        -0.6353,\n",
        "        -0.8944,\n",
        "        0.2236,\n",
        "        1.3416,\n",
        "        0.2236,\n",
        "        -0.2236,\n",
        "        -1.5652,\n",
        "        0.8944,\n",
        "    ]\n",
        ")\n",
        "actual = temperatures_normalized(temps)\n",
        "assert_all_close(actual, expected)"
      ]
    },
    {
      "cell_type": "markdown",
      "metadata": {
        "id": "WVT-fiOuVPUh"
      },
      "source": [
        "<details>\n",
        "<summary>Solution</summary>\n",
        "\n",
        "```python\n",
        "def temperatures_normalized(temps: t.Tensor) -> t.Tensor:\n",
        "    '''For each day, subtract the weekly average and divide by the weekly standard deviation.\n",
        "\n",
        "    temps: as above\n",
        "\n",
        "    Pass torch.std to reduce.\n",
        "    '''\n",
        "\tavg = einops.repeat(temperatures_average(temps), \"w -> (w 7)\")\n",
        "\tstd = einops.repeat(einops.reduce(temps, \"(h 7) -> h\", t.std), \"w -> (w 7)\")\n",
        "\treturn (temps - avg) / std\n",
        "```\n",
        "</details>\n",
        "\n",
        "---"
      ]
    },
    {
      "cell_type": "markdown",
      "metadata": {
        "id": "9GC3sHoLVTJi"
      },
      "source": [
        "#### Exercise C - identity matrix"
      ]
    },
    {
      "cell_type": "code",
      "execution_count": null,
      "metadata": {
        "id": "UqolET3XVUG8"
      },
      "outputs": [],
      "source": [
        "def identity_matrix(n: int) -> t.Tensor:\n",
        "    '''Return the identity matrix of size nxn.\n",
        "\n",
        "    Don't use torch.eye or similar.\n",
        "\n",
        "    Hint: you can do it with arange, rearrange, and ==.\n",
        "    Bonus: find a different way to do it.\n",
        "    '''\n",
        "    assert n >= 0\n",
        "    pass\n",
        "\n",
        "\n",
        "assert_all_equal(identity_matrix(3), t.Tensor([[1, 0, 0], [0, 1, 0], [0, 0, 1]]))\n",
        "assert_all_equal(identity_matrix(0), t.zeros((0, 0)))"
      ]
    },
    {
      "cell_type": "markdown",
      "metadata": {
        "id": "QandmWgtVWAf"
      },
      "source": [
        "<details>\n",
        "<summary>Solution</summary>\n",
        "\n",
        "```python\n",
        "def identity_matrix(n: int) -> t.Tensor:\n",
        "    '''Return the identity matrix of size nxn.\n",
        "\n",
        "    Don't use torch.eye or similar.\n",
        "\n",
        "    Hint: you can do it with arange, rearrange, and ==.\n",
        "    Bonus: find a different way to do it.\n",
        "    '''\n",
        "    assert n >= 0\n",
        "    return (einops.rearrange(t.arange(n), \"i->i 1\") == t.arange(n)).float()\n",
        "```\n",
        "\n",
        "</details>\n",
        "\n",
        "---"
      ]
    },
    {
      "cell_type": "markdown",
      "metadata": {
        "id": "uSEEIwaAVXEM"
      },
      "source": [
        "#### Exercise D - sample distribution"
      ]
    },
    {
      "cell_type": "code",
      "execution_count": null,
      "metadata": {
        "id": "m3TtIb-1VX-5"
      },
      "outputs": [],
      "source": [
        "def sample_distribution(probs: t.Tensor, n: int) -> t.Tensor:\n",
        "    '''Return n random samples from probs, where probs is a normalized probability distribution.\n",
        "\n",
        "    probs: shape (k,) where probs[i] is the probability of event i occurring.\n",
        "    n: number of random samples\n",
        "\n",
        "    Return: shape (n,) where out[i] is an integer indicating which event was sampled.\n",
        "\n",
        "    Use torch.rand and torch.cumsum to do this without any explicit loops.\n",
        "\n",
        "    Note: if you think your solution is correct but the test is failing, try increasing the value of n.\n",
        "    '''\n",
        "    assert abs(probs.sum() - 1.0) < 0.001\n",
        "    assert (probs >= 0).all()\n",
        "    pass\n",
        "\n",
        "\n",
        "n = 10000000\n",
        "probs = t.tensor([0.05, 0.1, 0.1, 0.2, 0.15, 0.4])\n",
        "freqs = t.bincount(sample_distribution(probs, n)) / n\n",
        "assert_all_close(freqs, probs, rtol=0.001, atol=0.001)"
      ]
    },
    {
      "cell_type": "markdown",
      "metadata": {
        "id": "axNihJNaVZJE"
      },
      "source": [
        "<details>\n",
        "<summary>Solution</summary>\n",
        "\n",
        "```python\n",
        "def sample_distribution(probs: t.Tensor, n: int) -> t.Tensor:\n",
        "    '''Return n random samples from probs, where probs is a normalized probability distribution.\n",
        "\n",
        "    probs: shape (k,) where probs[i] is the probability of event i occurring.\n",
        "    n: number of random samples\n",
        "\n",
        "    Return: shape (n,) where out[i] is an integer indicating which event was sampled.\n",
        "\n",
        "    Use torch.rand and torch.cumsum to do this without any explicit loops.\n",
        "\n",
        "    Note: if you think your solution is correct but the test is failing, try increasing the value of n.\n",
        "    '''\n",
        "    assert abs(probs.sum() - 1.0) < 0.001\n",
        "    assert (probs >= 0).all()\n",
        "    return (t.rand(n, 1) > t.cumsum(probs, dim=0)).sum(dim=-1)\n",
        "```\n",
        "</details>\n",
        "\n",
        "---"
      ]
    },
    {
      "cell_type": "markdown",
      "metadata": {
        "id": "o1SCkRHUVaaS"
      },
      "source": [
        "\n",
        "#### Exercise E - classifier accuracy"
      ]
    },
    {
      "cell_type": "code",
      "execution_count": null,
      "metadata": {
        "id": "7LXN9FoVVbhR"
      },
      "outputs": [],
      "source": [
        "def classifier_accuracy(scores: t.Tensor, true_classes: t.Tensor) -> t.Tensor:\n",
        "    '''Return the fraction of inputs for which the maximum score corresponds to the true class for that input.\n",
        "\n",
        "    scores: shape (batch, n_classes). A higher score[b, i] means that the classifier thinks class i is more likely.\n",
        "    true_classes: shape (batch, ). true_classes[b] is an integer from [0...n_classes).\n",
        "\n",
        "    Use torch.argmax.\n",
        "    '''\n",
        "    assert true_classes.max() < scores.shape[1]\n",
        "    pass\n",
        "\n",
        "\n",
        "scores = t.tensor([[0.75, 0.5, 0.25], [0.1, 0.5, 0.4], [0.1, 0.7, 0.2]])\n",
        "true_classes = t.tensor([0, 1, 0])\n",
        "expected = 2.0 / 3.0\n",
        "assert classifier_accuracy(scores, true_classes) == expected"
      ]
    },
    {
      "cell_type": "markdown",
      "metadata": {
        "id": "NxPkC2-VVHg4"
      },
      "source": [
        "<details>\n",
        "<summary>Solution</summary>\n",
        "\n",
        "```python\n",
        "def classifier_accuracy(scores: t.Tensor, true_classes: t.Tensor) -> t.Tensor:\n",
        "    '''Return the fraction of inputs for which the maximum score corresponds to the true class for that input.\n",
        "\n",
        "    scores: shape (batch, n_classes). A higher score[b, i] means that the classifier thinks class i is more likely.\n",
        "    true_classes: shape (batch, ). true_classes[b] is an integer from [0...n_classes).\n",
        "\n",
        "    Use torch.argmax.\n",
        "    '''\n",
        "    assert true_classes.max() < scores.shape[1]\n",
        "    return (scores.argmax(dim=1) == true_classes).float().mean()\n",
        "```\n",
        "</details>\n",
        "\n",
        "---"
      ]
    },
    {
      "cell_type": "markdown",
      "metadata": {
        "id": "RXy1t3obVHel"
      },
      "source": [
        "#### Exercise F.1 - total price indexing"
      ]
    },
    {
      "cell_type": "code",
      "execution_count": null,
      "metadata": {
        "id": "2uuvAo3jVe_A"
      },
      "outputs": [],
      "source": [
        "def total_price_indexing(prices: t.Tensor, items: t.Tensor) -> float:\n",
        "    '''Given prices for each kind of item and a tensor of items purchased, return the total price.\n",
        "\n",
        "    prices: shape (k, ). prices[i] is the price of the ith item.\n",
        "    items: shape (n, ). A 1D tensor where each value is an item index from [0..k).\n",
        "\n",
        "    Use integer array indexing. The below document describes this for NumPy but it's the same in PyTorch:\n",
        "\n",
        "    https://numpy.org/doc/stable/user/basics.indexing.html#integer-array-indexing\n",
        "    '''\n",
        "    assert items.max() < prices.shape[0]\n",
        "    pass\n",
        "\n",
        "\n",
        "prices = t.tensor([0.5, 1, 1.5, 2, 2.5])\n",
        "items = t.tensor([0, 0, 1, 1, 4, 3, 2])\n",
        "assert total_price_indexing(prices, items) == 9.0"
      ]
    },
    {
      "cell_type": "markdown",
      "metadata": {
        "id": "A85ZcCzZVHcX"
      },
      "source": [
        "<details>\n",
        "<summary>Solution</summary>\n",
        "\n",
        "```python\n",
        "def total_price_indexing(prices: t.Tensor, items: t.Tensor) -> float:\n",
        "    '''Given prices for each kind of item and a tensor of items purchased, return the total price.\n",
        "\n",
        "    prices: shape (k, ). prices[i] is the price of the ith item.\n",
        "    items: shape (n, ). A 1D tensor where each value is an item index from [0..k).\n",
        "\n",
        "    Use integer array indexing. The below document describes this for NumPy but it's the same in PyTorch:\n",
        "\n",
        "    https://numpy.org/doc/stable/user/basics.indexing.html#integer-array-indexing\n",
        "    '''\n",
        "    assert items.max() < prices.shape[0]\n",
        "    return prices[items].sum().item()\n",
        "```\n",
        "</details>\n",
        "\n",
        "---"
      ]
    },
    {
      "cell_type": "markdown",
      "metadata": {
        "id": "LkxCaaoHVhWD"
      },
      "source": [
        "#### Exercise F.2 - gather 2D"
      ]
    },
    {
      "cell_type": "code",
      "execution_count": null,
      "metadata": {
        "id": "V9aUSlIzVilB"
      },
      "outputs": [],
      "source": [
        "def gather_2d(matrix: t.Tensor, indexes: t.Tensor) -> t.Tensor:\n",
        "    '''Perform a gather operation along the second dimension.\n",
        "\n",
        "    matrix: shape (m, n)\n",
        "    indexes: shape (m, k)\n",
        "\n",
        "    Return: shape (m, k). out[i][j] = matrix[i][indexes[i][j]]\n",
        "\n",
        "    For this problem, the test already passes and it's your job to write at least three asserts relating the arguments and the output. This is a tricky function and worth spending some time to wrap your head around its behavior.\n",
        "\n",
        "    See: https://pytorch.org/docs/stable/generated/torch.gather.html?highlight=gather#torch.gather\n",
        "    '''\n",
        "    \"TODO: YOUR CODE HERE\"\n",
        "    out = matrix.gather(1, indexes)\n",
        "    \"TODO: YOUR CODE HERE\"\n",
        "    return out\n",
        "\n",
        "\n",
        "matrix = t.arange(15).view(3, 5)\n",
        "indexes = t.tensor([[4], [3], [2]])\n",
        "expected = t.tensor([[4], [8], [12]])\n",
        "assert_all_equal(gather_2d(matrix, indexes), expected)\n",
        "indexes2 = t.tensor([[2, 4], [1, 3], [0, 2]])\n",
        "expected2 = t.tensor([[2, 4], [6, 8], [10, 12]])\n",
        "assert_all_equal(gather_2d(matrix, indexes2), expected2)"
      ]
    },
    {
      "cell_type": "markdown",
      "metadata": {
        "id": "CbvPpnbdVHZu"
      },
      "source": [
        "<details>\n",
        "<summary>Solution</summary>\n",
        "\n",
        "```python\n",
        "def gather_2d(matrix: t.Tensor, indexes: t.Tensor) -> t.Tensor:\n",
        "    '''Perform a gather operation along the second dimension.\n",
        "\n",
        "    matrix: shape (m, n)\n",
        "    indexes: shape (m, k)\n",
        "\n",
        "    Return: shape (m, k). out[i][j] = matrix[i][indexes[i][j]]\n",
        "\n",
        "    For this problem, the test already passes and it's your job to write at least three asserts relating the arguments and the output. This is a tricky function and worth spending some time to wrap your head around its behavior.\n",
        "\n",
        "    See: https://pytorch.org/docs/stable/generated/torch.gather.html?highlight=gather#torch.gather\n",
        "    '''\n",
        "\tassert matrix.ndim == indexes.ndim\n",
        "\tassert indexes.shape[0] <= matrix.shape[0]\n",
        "\tout = matrix.gather(1, indexes)\n",
        "\tassert out.shape == indexes.shape\n",
        "\treturn out\n",
        "```\n",
        "</details>\n",
        "\n",
        "---"
      ]
    },
    {
      "cell_type": "markdown",
      "metadata": {
        "id": "6-0maufqU3UH"
      },
      "source": [
        "#### Exercise F.3 - total price gather"
      ]
    },
    {
      "cell_type": "code",
      "execution_count": null,
      "metadata": {
        "id": "7XC6lkemVl-s"
      },
      "outputs": [],
      "source": [
        "def total_price_gather(prices: t.Tensor, items: t.Tensor) -> float:\n",
        "    '''Compute the same as total_price_indexing, but use torch.gather.'''\n",
        "    assert items.max() < prices.shape[0]\n",
        "    pass\n",
        "\n",
        "\n",
        "prices = t.tensor([0.5, 1, 1.5, 2, 2.5])\n",
        "items = t.tensor([0, 0, 1, 1, 4, 3, 2])\n",
        "assert total_price_gather(prices, items) == 9.0"
      ]
    },
    {
      "cell_type": "markdown",
      "metadata": {
        "id": "fpMWwQE2U3R3"
      },
      "source": [
        "<details>\n",
        "<summary>Solution</summary>\n",
        "\n",
        "```python\n",
        "def total_price_gather(prices: t.Tensor, items: t.Tensor) -> float:\n",
        "    '''Compute the same as total_price_indexing, but use torch.gather.'''\n",
        "    assert items.max() < prices.shape[0]\n",
        "    return prices.gather(0, items).sum().item()\n",
        "```\n",
        "</details>\n",
        "\n",
        "---"
      ]
    },
    {
      "cell_type": "markdown",
      "metadata": {
        "id": "FOA_k1orVn7u"
      },
      "source": [
        "#### Exercise G - indexing"
      ]
    },
    {
      "cell_type": "code",
      "execution_count": null,
      "metadata": {
        "id": "VsVyc4qfVo1T"
      },
      "outputs": [],
      "source": [
        "def integer_array_indexing(matrix: t.Tensor, coords: t.Tensor) -> t.Tensor:\n",
        "    '''Return the values at each coordinate using integer array indexing.\n",
        "\n",
        "    For details on integer array indexing, see:\n",
        "    https://numpy.org/doc/stable/user/basics.indexing.html#integer-array-indexing\n",
        "\n",
        "    matrix: shape (d_0, d_1, ..., d_n)\n",
        "    coords: shape (batch, n)\n",
        "\n",
        "    Return: (batch, )\n",
        "    '''\n",
        "    pass\n",
        "\n",
        "\n",
        "mat_2d = t.arange(15).view(3, 5)\n",
        "coords_2d = t.tensor([[0, 1], [0, 4], [1, 4]])\n",
        "actual = integer_array_indexing(mat_2d, coords_2d)\n",
        "assert_all_equal(actual, t.tensor([1, 4, 9]))\n",
        "mat_3d = t.arange(2 * 3 * 4).view((2, 3, 4))\n",
        "coords_3d = t.tensor([[0, 0, 0], [0, 1, 1], [0, 2, 2], [1, 0, 3], [1, 2, 0]])\n",
        "actual = integer_array_indexing(mat_3d, coords_3d)\n",
        "assert_all_equal(actual, t.tensor([0, 5, 10, 15, 20]))"
      ]
    },
    {
      "cell_type": "markdown",
      "metadata": {
        "id": "b2AANOngVqBd"
      },
      "source": [
        "<details>\n",
        "<summary>Solution</summary>\n",
        "\n",
        "```python\n",
        "def integer_array_indexing(matrix: t.Tensor, coords: t.Tensor) -> t.Tensor:\n",
        "    '''Return the values at each coordinate using integer array indexing.\n",
        "\n",
        "    For details on integer array indexing, see:\n",
        "    https://numpy.org/doc/stable/user/basics.indexing.html#integer-array-indexing\n",
        "\n",
        "    matrix: shape (d_0, d_1, ..., d_n)\n",
        "    coords: shape (batch, n)\n",
        "\n",
        "    Return: (batch, )\n",
        "    '''\n",
        "    return matrix[tuple(coords.T)]\n",
        "```\n",
        "\n",
        "</details>\n",
        "\n",
        "---"
      ]
    },
    {
      "cell_type": "markdown",
      "metadata": {
        "id": "m1WSgAkkVrNC"
      },
      "source": [
        "#### Exercise H.1 - batched logsumexp"
      ]
    },
    {
      "cell_type": "code",
      "execution_count": null,
      "metadata": {
        "id": "8B0_Lb-RVsK4"
      },
      "outputs": [],
      "source": [
        "def batched_logsumexp(matrix: t.Tensor) -> t.Tensor:\n",
        "    '''For each row of the matrix, compute log(sum(exp(row))) in a numerically stable way.\n",
        "\n",
        "    matrix: shape (batch, n)\n",
        "\n",
        "    Return: (batch, ). For each i, out[i] = log(sum(exp(matrix[i]))).\n",
        "\n",
        "    Do this without using PyTorch's logsumexp function.\n",
        "\n",
        "    A couple useful blogs about this function:\n",
        "    - https://leimao.github.io/blog/LogSumExp/\n",
        "    - https://gregorygundersen.com/blog/2020/02/09/log-sum-exp/\n",
        "    '''\n",
        "    pass\n",
        "\n",
        "\n",
        "matrix = t.tensor([[-1000, -1000, -1000, -1000], [1000, 1000, 1000, 1000]])\n",
        "expected = t.tensor([-1000 + math.log(4), 1000 + math.log(4)])\n",
        "actual = batched_logsumexp(matrix)\n",
        "assert_all_close(actual, expected)\n",
        "matrix2 = t.randn((10, 20))\n",
        "expected2 = t.logsumexp(matrix2, dim=-1)\n",
        "actual2 = batched_logsumexp(matrix2)\n",
        "assert_all_close(actual2, expected2)"
      ]
    },
    {
      "cell_type": "markdown",
      "metadata": {
        "id": "QG7Qi9-7U3Ps"
      },
      "source": [
        "<details>\n",
        "<summary>Solution</summary>\n",
        "\n",
        "```python\n",
        "def batched_logsumexp(matrix: t.Tensor) -> t.Tensor:\n",
        "    '''For each row of the matrix, compute log(sum(exp(row))) in a numerically stable way.\n",
        "\n",
        "    matrix: shape (batch, n)\n",
        "\n",
        "    Return: (batch, ). For each i, out[i] = log(sum(exp(matrix[i]))).\n",
        "\n",
        "    Do this without using PyTorch's logsumexp function.\n",
        "\n",
        "    A couple useful blogs about this function:\n",
        "    - https://leimao.github.io/blog/LogSumExp/\n",
        "    - https://gregorygundersen.com/blog/2020/02/09/log-sum-exp/\n",
        "    '''\n",
        "    C = matrix.max(dim=-1).values\n",
        "\texps = t.exp(matrix - einops.rearrange(C, \"n -> n 1\"))\n",
        "\treturn C + t.log(t.sum(exps, dim=-1))\n",
        "```\n",
        "</details>\n",
        "\n",
        "---"
      ]
    },
    {
      "cell_type": "markdown",
      "metadata": {
        "id": "Lg1uMJNBVvFf"
      },
      "source": [
        "#### Exercise H.2 - batched softmax"
      ]
    },
    {
      "cell_type": "code",
      "execution_count": null,
      "metadata": {
        "id": "xb4cnBHhVwEU"
      },
      "outputs": [],
      "source": [
        "def batched_softmax(matrix: t.Tensor) -> t.Tensor:\n",
        "    '''For each row of the matrix, compute softmax(row).\n",
        "\n",
        "    Do this without using PyTorch's softmax function.\n",
        "    Instead, use the definition of softmax: https://en.wikipedia.org/wiki/Softmax_function\n",
        "\n",
        "    matrix: shape (batch, n)\n",
        "\n",
        "    Return: (batch, n). For each i, out[i] should sum to 1.\n",
        "    '''\n",
        "    pass\n",
        "\n",
        "\n",
        "matrix = t.arange(1, 6).view((1, 5)).float().log()\n",
        "expected = t.arange(1, 6).view((1, 5)) / 15.0\n",
        "actual = batched_softmax(matrix)\n",
        "assert_all_close(actual, expected)\n",
        "for i in [0.12, 3.4, -5, 6.7]:\n",
        "    assert_all_close(actual, batched_softmax(matrix + i))\n",
        "matrix2 = t.rand((10, 20))\n",
        "actual2 = batched_softmax(matrix2)\n",
        "assert actual2.min() >= 0.0\n",
        "assert actual2.max() <= 1.0\n",
        "assert_all_equal(actual2.argsort(), matrix2.argsort())\n",
        "assert_all_close(actual2.sum(dim=-1), t.ones(matrix2.shape[:-1]))"
      ]
    },
    {
      "cell_type": "markdown",
      "metadata": {
        "id": "9exMvMXJVxCz"
      },
      "source": [
        "<details>\n",
        "<summary>Solution</summary>\n",
        "\n",
        "```python\n",
        "def batched_softmax(matrix: t.Tensor) -> t.Tensor:\n",
        "    '''For each row of the matrix, compute softmax(row).\n",
        "\n",
        "    Do this without using PyTorch's softmax function.\n",
        "    Instead, use the definition of softmax: https://en.wikipedia.org/wiki/Softmax_function\n",
        "\n",
        "    matrix: shape (batch, n)\n",
        "\n",
        "    Return: (batch, n). For each i, out[i] should sum to 1.\n",
        "    '''\n",
        "    exp = matrix.exp()\n",
        "\treturn exp / exp.sum(dim=-1, keepdim=True)\n",
        "```\n",
        "</details>\n",
        "\n",
        "---"
      ]
    },
    {
      "cell_type": "markdown",
      "metadata": {
        "id": "E0aT5evsVx3J"
      },
      "source": [
        "#### Exercise H.3 - batched logsoftmax"
      ]
    },
    {
      "cell_type": "code",
      "execution_count": null,
      "metadata": {
        "id": "upqvtkCNVy6m"
      },
      "outputs": [],
      "source": [
        "def batched_logsoftmax(matrix: t.Tensor) -> t.Tensor:\n",
        "    '''Compute log(softmax(row)) for each row of the matrix.\n",
        "\n",
        "    matrix: shape (batch, n)\n",
        "\n",
        "    Return: (batch, n). For each i, out[i] should sum to 1.\n",
        "\n",
        "    Do this without using PyTorch's logsoftmax function.\n",
        "    For each row, subtract the maximum first to avoid overflow if the row contains large values.\n",
        "    '''\n",
        "    pass\n",
        "\n",
        "\n",
        "matrix = t.arange(1, 6).view((1, 5)).float()\n",
        "start = 1000\n",
        "matrix2 = t.arange(start + 1, start + 6).view((1, 5)).float()\n",
        "actual = batched_logsoftmax(matrix2)\n",
        "expected = t.tensor([[-4.4519, -3.4519, -2.4519, -1.4519, -0.4519]])\n",
        "assert_all_close(actual, expected)"
      ]
    },
    {
      "cell_type": "markdown",
      "metadata": {
        "id": "U9JHpMStV0lN"
      },
      "source": [
        "<details>\n",
        "<summary>Solution</summary>\n",
        "\n",
        "```python\n",
        "def batched_logsoftmax(matrix: t.Tensor) -> t.Tensor:\n",
        "    '''Compute log(softmax(row)) for each row of the matrix.\n",
        "\n",
        "    matrix: shape (batch, n)\n",
        "\n",
        "    Return: (batch, n). For each i, out[i] should sum to 1.\n",
        "\n",
        "    Do this without using PyTorch's logsoftmax function.\n",
        "    For each row, subtract the maximum first to avoid overflow if the row contains large values.\n",
        "    '''\n",
        "    C = matrix.max(dim=1, keepdim=True).values\n",
        "\treturn matrix - C - (matrix - C).exp().sum(dim=1, keepdim=True).log()\n",
        "```\n",
        "</details>\n",
        "\n",
        "---"
      ]
    },
    {
      "cell_type": "markdown",
      "metadata": {
        "id": "ailcViXBU3M1"
      },
      "source": [
        "#### Exercise H.4 - batched cross entropy loss"
      ]
    },
    {
      "cell_type": "code",
      "execution_count": null,
      "metadata": {
        "id": "F4CqIAB0V4RG"
      },
      "outputs": [],
      "source": [
        "def batched_cross_entropy_loss(logits: t.Tensor, true_labels: t.Tensor) -> t.Tensor:\n",
        "    '''Compute the cross entropy loss for each example in the batch.\n",
        "\n",
        "    logits: shape (batch, classes). logits[i][j] is the unnormalized prediction for example i and class j.\n",
        "    true_labels: shape (batch, ). true_labels[i] is an integer index representing the true class for example i.\n",
        "\n",
        "    Return: shape (batch, ). out[i] is the loss for example i.\n",
        "\n",
        "    Hint: convert the logits to log-probabilities using your batched_logsoftmax from above.\n",
        "    Then the loss for an example is just the negative of the log-probability that the model assigned to the true class. Use torch.gather to perform the indexing.\n",
        "    '''\n",
        "    pass\n",
        "\n",
        "\n",
        "logits = t.tensor([[float(\"-inf\"), float(\"-inf\"), 0], [1 / 3, 1 / 3, 1 / 3], [float(\"-inf\"), 0, 0]])\n",
        "true_labels = t.tensor([2, 0, 0])\n",
        "expected = t.tensor([0.0, math.log(3), float(\"inf\")])\n",
        "actual = batched_cross_entropy_loss(logits, true_labels)\n",
        "assert_all_close(actual, expected)"
      ]
    },
    {
      "cell_type": "markdown",
      "metadata": {
        "id": "wfZeCIQ8V5jK"
      },
      "source": [
        "<details>\n",
        "<summary>Solution</summary>\n",
        "\n",
        "```python\n",
        "def batched_cross_entropy_loss(logits: t.Tensor, true_labels: t.Tensor) -> t.Tensor:\n",
        "    '''Compute the cross entropy loss for each example in the batch.\n",
        "\n",
        "    logits: shape (batch, classes). logits[i][j] is the unnormalized prediction for example i and class j.\n",
        "    true_labels: shape (batch, ). true_labels[i] is an integer index representing the true class for example i.\n",
        "\n",
        "    Return: shape (batch, ). out[i] is the loss for example i.\n",
        "\n",
        "    Hint: convert the logits to log-probabilities using your batched_logsoftmax from above.\n",
        "    Then the loss for an example is just the negative of the log-probability that the model assigned to the true class. Use torch.gather to perform the indexing.\n",
        "    '''\n",
        "\tassert logits.shape[0] == true_labels.shape[0]\n",
        "\tassert true_labels.max() < logits.shape[1]\n",
        "\n",
        "    logprobs = batched_logsoftmax(logits)\n",
        "    indices = einops.rearrange(true_labels, \"n -> n 1\")\n",
        "    pred_at_index = logprobs.gather(1, indices)\n",
        "    return - einops.rearrange(pred_at_index, \"n 1 -> n\")\n",
        "```\n",
        "</details>\n",
        "\n",
        "---"
      ]
    },
    {
      "cell_type": "markdown",
      "metadata": {
        "id": "B21Lu2PrV6me"
      },
      "source": [
        "#### Exercise I.1 - collect rows"
      ]
    },
    {
      "cell_type": "code",
      "execution_count": null,
      "metadata": {
        "id": "-MuMFYPCV7jQ"
      },
      "outputs": [],
      "source": [
        "def collect_rows(matrix: t.Tensor, row_indexes: t.Tensor) -> t.Tensor:\n",
        "    '''Return a 2D matrix whose rows are taken from the input matrix in order according to row_indexes.\n",
        "\n",
        "    matrix: shape (m, n)\n",
        "    row_indexes: shape (k,). Each value is an integer in [0..m).\n",
        "\n",
        "    Return: shape (k, n). out[i] is matrix[row_indexes[i]].\n",
        "    '''\n",
        "    assert row_indexes.max() < matrix.shape[0]\n",
        "    pass\n",
        "\n",
        "\n",
        "matrix = t.arange(15).view((5, 3))\n",
        "row_indexes = t.tensor([0, 2, 1, 0])\n",
        "actual = collect_rows(matrix, row_indexes)\n",
        "expected = t.tensor([[0, 1, 2], [6, 7, 8], [3, 4, 5], [0, 1, 2]])\n",
        "assert_all_equal(actual, expected)"
      ]
    },
    {
      "cell_type": "markdown",
      "metadata": {
        "id": "lNeadsTiV7-8"
      },
      "source": [
        "<details>\n",
        "<summary>Solution</summary>\n",
        "\n",
        "```python\n",
        "def collect_rows(matrix: t.Tensor, row_indexes: t.Tensor) -> t.Tensor:\n",
        "    '''Return a 2D matrix whose rows are taken from the input matrix in order according to row_indexes.\n",
        "\n",
        "    matrix: shape (m, n)\n",
        "    row_indexes: shape (k,). Each value is an integer in [0..m).\n",
        "\n",
        "    Return: shape (k, n). out[i] is matrix[row_indexes[i]].\n",
        "    '''\n",
        "    assert row_indexes.max() < matrix.shape[0]\n",
        "    return matrix[row_indexes]\n",
        "```\n",
        "</details>\n",
        "\n",
        "---"
      ]
    },
    {
      "cell_type": "markdown",
      "metadata": {
        "id": "UR28aqbjV78Q"
      },
      "source": [
        "#### Exercise I.2 - collect columns"
      ]
    },
    {
      "cell_type": "code",
      "execution_count": null,
      "metadata": {
        "id": "K2Apu97NWMgI"
      },
      "outputs": [],
      "source": [
        "def collect_columns(matrix: t.Tensor, column_indexes: t.Tensor) -> t.Tensor:\n",
        "    '''Return a 2D matrix whose columns are taken from the input matrix in order according to column_indexes.\n",
        "\n",
        "    matrix: shape (m, n)\n",
        "    column_indexes: shape (k,). Each value is an integer in [0..n).\n",
        "\n",
        "    Return: shape (m, k). out[:, i] is matrix[:, column_indexes[i]].\n",
        "    '''\n",
        "    assert column_indexes.max() < matrix.shape[1]\n",
        "    pass\n",
        "\n",
        "\n",
        "matrix = t.arange(15).view((5, 3))\n",
        "column_indexes = t.tensor([0, 2, 1, 0])\n",
        "actual = collect_columns(matrix, column_indexes)\n",
        "expected = t.tensor([[0, 2, 1, 0], [3, 5, 4, 3], [6, 8, 7, 6], [9, 11, 10, 9], [12, 14, 13, 12]])\n",
        "assert_all_equal(actual, expected)"
      ]
    },
    {
      "cell_type": "markdown",
      "metadata": {
        "id": "TOBCqw1oU3Iw"
      },
      "source": [
        "<details>\n",
        "<summary>Solution</summary>\n",
        "\n",
        "```python\n",
        "def collect_columns(matrix: t.Tensor, column_indexes: t.Tensor) -> t.Tensor:\n",
        "    '''Return a 2D matrix whose columns are taken from the input matrix in order according to column_indexes.\n",
        "\n",
        "    matrix: shape (m, n)\n",
        "    column_indexes: shape (k,). Each value is an integer in [0..n).\n",
        "\n",
        "    Return: shape (m, k). out[:, i] is matrix[:, column_indexes[i]].\n",
        "    '''\n",
        "    assert column_indexes.max() < matrix.shape[1]\n",
        "    return matrix[:, column_indexes]\n",
        "```\n",
        "</details>\n",
        "\n",
        "---"
      ]
    },
    {
      "cell_type": "markdown",
      "metadata": {
        "id": "oQqNaHZ05VAe"
      },
      "source": [
        "## Einsum\n",
        "\n",
        "Einsum is a very useful function for performing linear operations, which you'll probably be using a lot during this programme.\n",
        "\n",
        "> Note - we'll be using the `einops.einsum` version of the function, which works differently to the more conventional `torch.einsum`:\n",
        ">\n",
        "> * `einops.einsum` has the arrays as the first arguments, and uses spaces to separate dimensions in the string.\n",
        "> * `torch.einsum` has the string as its first argument, and doesn't use spaces to separate dimensions (each dim is represented by a single character).\n",
        ">\n",
        "> For instance, `torch.einsum(\"ij,i->j\", A, b)` is equivalent to `einops.einsum(A, b, \"i j, i -> j\")`. (Note, einops doesn't care whether there are spaces either side of `,` and `->`, so you don't need to match this syntax exactly.)\n",
        "\n",
        "Although there are many different kinds of operations you can perform, they are all derived from three key rules:\n",
        "\n",
        "1. Repeating letters in different inputs means those values will be multiplied, and those products will be in the output.\n",
        "    * For example, `M = einops.einsum(A, B, \"i j, i j -> i j\")` just corresponds to the elementwise product `M = A * B` (because $M_{ij}=A_{ij}B_{ij}$).\n",
        "2. Omitting a letter means that the axis will be summed over.\n",
        "    * For example, if `x` is a 2D array with shape `(I, J)`, then `einops.einsum(x, \"i j -> i\")` will be a 1D array of length `I` containing the row sums of `x` (we're summing along the `j`-index, i.e. across rows).\n",
        "3. We can return the unsummed axes in any order.\n",
        "    * For example, `einops.einsum(x, \"i j k -> k j i\")` does the same thing as `einops.rearrange(x, \"i j k -> k j i\")`.\n",
        "\n",
        "*Note - the einops creators supposedly have plans to support shape rearrangement, e.g. with operations like `einops.einsum(x, y, \"i j, j k l -> i (k l)\")` (i.e. combining the features of rearrange and einsum), so we can all look forward to that day!*\n"
      ]
    },
    {
      "cell_type": "markdown",
      "metadata": {
        "id": "DiUOQOJU5Yt5"
      },
      "source": [
        "### Einsum exercises\n",
        "\n",
        "```c\n",
        "Difficulty: 🔴🔴⚪⚪⚪\n",
        "Importance: 🔵🔵🔵🔵⚪\n",
        "\n",
        "You should spend up to 15-20 minutes on these exercises collectively.\n",
        "\n",
        "If you think you get the general idea, then you can skip to the next section.\n",
        "```\n",
        "\n",
        "In the following exercises, you'll write simple functions using `einsum` which replicate the functionality of standard NumPy functions: trace, matrix multiplication, inner and outer products. We've also included some test functions which you should run.\n",
        "\n",
        "Note - this version of einsum will require that you include `->`, even if you're summing to a scalar (i.e. the right hand side of your string expression is empty).\n"
      ]
    },
    {
      "cell_type": "code",
      "execution_count": null,
      "metadata": {
        "id": "aYhivTeT5apj"
      },
      "outputs": [],
      "source": [
        "def einsum_trace(mat: np.ndarray):\n",
        "    '''\n",
        "    Returns the same as `np.trace`.\n",
        "    '''\n",
        "    pass\n",
        "\n",
        "def einsum_mv(mat: np.ndarray, vec: np.ndarray):\n",
        "    '''\n",
        "    Returns the same as `np.matmul`, when `mat` is a 2D array and `vec` is 1D.\n",
        "    '''\n",
        "    pass\n",
        "\n",
        "def einsum_mm(mat1: np.ndarray, mat2: np.ndarray):\n",
        "    '''\n",
        "    Returns the same as `np.matmul`, when `mat1` and `mat2` are both 2D arrays.\n",
        "    '''\n",
        "    pass\n",
        "\n",
        "def einsum_inner(vec1: np.ndarray, vec2: np.ndarray):\n",
        "    '''\n",
        "    Returns the same as `np.inner`.\n",
        "    '''\n",
        "    pass\n",
        "\n",
        "def einsum_outer(vec1: np.ndarray, vec2: np.ndarray):\n",
        "    '''\n",
        "    Returns the same as `np.outer`.\n",
        "    '''\n",
        "    pass\n",
        "\n",
        "tests.test_einsum_trace(einsum_trace)\n",
        "tests.test_einsum_mv(einsum_mv)\n",
        "tests.test_einsum_mm(einsum_mm)\n",
        "tests.test_einsum_inner(einsum_inner)\n",
        "tests.test_einsum_outer(einsum_outer)"
      ]
    },
    {
      "cell_type": "markdown",
      "metadata": {
        "id": "1wCLABlc5euv"
      },
      "source": [
        "<details>\n",
        "<summary>Solution</summary>\n",
        "\n",
        "\n",
        "```python\n",
        "def einsum_trace(mat: np.ndarray):\n",
        "    '''\n",
        "    Returns the same as `np.trace`.\n",
        "    '''\n",
        "    # SOLUTION\n",
        "    return einops.einsum(mat, \"i i ->\")\n",
        "\n",
        "def einsum_mv(mat: np.ndarray, vec: np.ndarray):\n",
        "    '''\n",
        "    Returns the same as `np.matmul`, when `mat` is a 2D array and `vec` is 1D.\n",
        "    '''\n",
        "    # SOLUTION\n",
        "    return einops.einsum(mat, vec, \"i j, j -> i\")\n",
        "\n",
        "def einsum_mm(mat1: np.ndarray, mat2: np.ndarray):\n",
        "    '''\n",
        "    Returns the same as `np.matmul`, when `mat1` and `mat2` are both 2D arrays.\n",
        "    '''\n",
        "    # SOLUTION\n",
        "    return einops.einsum(mat1, mat2, \"i j, j k -> i k\")\n",
        "\n",
        "def einsum_inner(vec1: np.ndarray, vec2: np.ndarray):\n",
        "    '''\n",
        "    Returns the same as `np.inner`.\n",
        "    '''\n",
        "    # SOLUTION\n",
        "    return einops.einsum(vec1, vec2, \"i, i ->\")\n",
        "\n",
        "def einsum_outer(vec1: np.ndarray, vec2: np.ndarray):\n",
        "    '''\n",
        "    Returns the same as `np.outer`.\n",
        "    '''\n",
        "    # SOLUTION\n",
        "    return einops.einsum(vec1, vec2, \"i, j -> i j\")\n",
        "```\n",
        "</details>\n"
      ]
    }
  ],
  "metadata": {
    "colab": {
      "collapsed_sections": [
        "niHe80GT0Sg3",
        "_K2bXFpPWkxU",
        "3o3xepIBUADS"
      ],
      "provenance": [],
      "include_colab_link": true
    },
    "kernelspec": {
      "display_name": "Python 3",
      "name": "python3"
    },
    "language_info": {
      "codemirror_mode": {
        "name": "ipython",
        "version": 3
      },
      "file_extension": ".py",
      "mimetype": "text/x-python",
      "name": "python",
      "nbconvert_exporter": "python",
      "pygments_lexer": "ipython3",
      "version": "3.10.9"
    }
  },
  "nbformat": 4,
  "nbformat_minor": 0
}